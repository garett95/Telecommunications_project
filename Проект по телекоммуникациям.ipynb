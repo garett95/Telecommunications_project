{
 "cells": [
  {
   "cell_type": "markdown",
   "id": "a7bc6ad1",
   "metadata": {},
   "source": [
    "# Проект: телекоммуникации"
   ]
  },
  {
   "cell_type": "markdown",
   "id": "eefcb352",
   "metadata": {},
   "source": [
    "### Описание проекта"
   ]
  },
  {
   "cell_type": "markdown",
   "id": "6e9e8089",
   "metadata": {},
   "source": [
    "Оператор связи «ТелеДом» хочет бороться с оттоком клиентов. Для этого его сотрудники начнут предлагать промокоды и специальные условия всем, кто планирует отказаться от услуг связи. Чтобы заранее находить таких пользователей, «ТелеДому» нужна модель, которая будет предсказывать, разорвёт ли абонент договор. Команда оператора собрала персональные данные о некоторых клиентах, информацию об их тарифах и услугах. Задача — обучить на этих данных модель для прогноза оттока клиентов."
   ]
  },
  {
   "cell_type": "markdown",
   "id": "bd1bc179",
   "metadata": {},
   "source": [
    "#### Описание услуг"
   ]
  },
  {
   "cell_type": "markdown",
   "id": "cc26cbed",
   "metadata": {},
   "source": [
    "Оператор предоставляет два основных типа услуг: \n",
    "1. Стационарную телефонную связь. Телефон можно подключить к нескольким линиям одновременно.\n",
    "2. Интернет. Подключение может быть двух типов: через телефонную линию (DSL, от англ. digital subscriber line — «цифровая абонентская линия») или оптоволоконный кабель (Fiber optic).\n",
    "\n",
    "Также доступны такие услуги:\n",
    "- Интернет-безопасность: антивирус (DeviceProtection) и блокировка небезопасных сайтов (OnlineSecurity);\n",
    "- Выделенная линия технической поддержки (TechSupport);\n",
    "- Облачное хранилище файлов для резервного копирования данных (OnlineBackup);\n",
    "- Стриминговое телевидение (StreamingTV) и каталог фильмов (StreamingMovies).\n",
    "\n",
    "Клиенты могут платить за услуги каждый месяц или заключить договор на 1–2 года. Возможно оплатить счёт разными способами, а также получить электронный чек.\n",
    "\n",
    "Во всех файлах столбец customerID содержит код клиента. Информация о договорах актуальна на 1 февраля 2020 года. Данные также находятся в тренажёре, в папке /datasets/."
   ]
  },
  {
   "cell_type": "markdown",
   "id": "de9e057a",
   "metadata": {},
   "source": [
    "### Описание данных"
   ]
  },
  {
   "cell_type": "markdown",
   "id": "14075b96",
   "metadata": {},
   "source": [
    "Данные состоят из нескольких файлов, полученных из разных источников:\n",
    "\n",
    "contract_new.csv — информация о договоре;\n",
    "\n",
    "personal_new.csv — персональные данные клиента;\n",
    "\n",
    "internet_new.csv — информация об интернет-услугах;\n",
    "\n",
    "phone_new.csv — информация об услугах телефонии.\n",
    "\n",
    "Файл contract_new.csv\n",
    "\n",
    "customerID — идентификатор абонента;\n",
    "\n",
    "BeginDate — дата начала действия договора;\n",
    "\n",
    "EndDate — дата окончания действия договора;\n",
    "\n",
    "Type — тип оплаты: раз в год-два или ежемесячно;\n",
    "\n",
    "PaperlessBilling — электронный расчётный лист;\n",
    "\n",
    "PaymentMethod — тип платежа;\n",
    "\n",
    "MonthlyCharges — расходы за месяц;\n",
    "\n",
    "TotalCharges — общие расходы абонента.\n",
    "\n",
    "Файл personal_new.csv\n",
    "\n",
    "customerID — идентификатор пользователя;\n",
    "\n",
    "gender — пол;\n",
    "\n",
    "SeniorCitizen — является ли абонент пенсионером;\n",
    "\n",
    "Partner — есть ли у абонента супруг или супруга;\n",
    "\n",
    "Dependents — есть ли у абонента дети.\n",
    "\n",
    "Файл internet_new.csv\n",
    "\n",
    "customerID — идентификатор пользователя;\n",
    "\n",
    "InternetService — тип подключения;\n",
    "\n",
    "OnlineSecurity — блокировка опасных сайтов;\n",
    "\n",
    "OnlineBackup — облачное хранилище файлов для резервного копирования данных;\n",
    "\n",
    "DeviceProtection — антивирус;\n",
    "\n",
    "TechSupport — выделенная линия технической поддержки;\n",
    "\n",
    "StreamingTV — стриминговое телевидение;\n",
    "\n",
    "StreamingMovies — каталог фильмов.\n",
    "\n",
    "Файл phone_new.csv\n",
    "\n",
    "customerID — идентификатор пользователя;\n",
    "\n",
    "MultipleLines — подключение телефона к нескольким линиям одновременно."
   ]
  },
  {
   "cell_type": "code",
   "execution_count": 1,
   "id": "f6708870",
   "metadata": {},
   "outputs": [
    {
     "name": "stdout",
     "output_type": "stream",
     "text": [
      "Requirement already satisfied: phik in /opt/conda/lib/python3.9/site-packages (0.12.3)\n",
      "Requirement already satisfied: scipy>=1.5.2 in /opt/conda/lib/python3.9/site-packages (from phik) (1.9.1)\n",
      "Requirement already satisfied: matplotlib>=2.2.3 in /opt/conda/lib/python3.9/site-packages (from phik) (3.3.4)\n",
      "Requirement already satisfied: numpy>=1.18.0 in /opt/conda/lib/python3.9/site-packages (from phik) (1.21.1)\n",
      "Requirement already satisfied: joblib>=0.14.1 in /opt/conda/lib/python3.9/site-packages (from phik) (1.1.0)\n",
      "Requirement already satisfied: pandas>=0.25.1 in /opt/conda/lib/python3.9/site-packages (from phik) (1.2.4)\n",
      "Requirement already satisfied: kiwisolver>=1.0.1 in /opt/conda/lib/python3.9/site-packages (from matplotlib>=2.2.3->phik) (1.4.4)\n",
      "Requirement already satisfied: python-dateutil>=2.1 in /opt/conda/lib/python3.9/site-packages (from matplotlib>=2.2.3->phik) (2.8.1)\n",
      "Requirement already satisfied: pillow>=6.2.0 in /opt/conda/lib/python3.9/site-packages (from matplotlib>=2.2.3->phik) (8.4.0)\n",
      "Requirement already satisfied: cycler>=0.10 in /opt/conda/lib/python3.9/site-packages (from matplotlib>=2.2.3->phik) (0.11.0)\n",
      "Requirement already satisfied: pyparsing!=2.0.4,!=2.1.2,!=2.1.6,>=2.0.3 in /opt/conda/lib/python3.9/site-packages (from matplotlib>=2.2.3->phik) (2.4.7)\n",
      "Requirement already satisfied: pytz>=2017.3 in /opt/conda/lib/python3.9/site-packages (from pandas>=0.25.1->phik) (2021.1)\n",
      "Requirement already satisfied: six>=1.5 in /opt/conda/lib/python3.9/site-packages (from python-dateutil>=2.1->matplotlib>=2.2.3->phik) (1.16.0)\n"
     ]
    }
   ],
   "source": [
    "!pip3 install phik"
   ]
  },
  {
   "cell_type": "code",
   "execution_count": 2,
   "id": "49ac5b97",
   "metadata": {},
   "outputs": [],
   "source": [
    "import pandas as pd\n",
    "import numpy as np\n",
    "import matplotlib.pyplot as plt\n",
    "from functools import reduce\n",
    "from sklearn.model_selection import train_test_split\n",
    "from sklearn.preprocessing import OneHotEncoder\n",
    "from sklearn.preprocessing import MinMaxScaler\n",
    "from sklearn.metrics import roc_auc_score\n",
    "from sklearn.model_selection import GridSearchCV\n",
    "from sklearn.ensemble import RandomForestClassifier\n",
    "from catboost import CatBoostClassifier\n",
    "from sklearn.metrics import confusion_matrix\n",
    "from sklearn.metrics import ConfusionMatrixDisplay\n",
    "from sklearn.metrics import roc_curve\n",
    "from sklearn.preprocessing import LabelEncoder\n",
    "from sklearn.metrics import accuracy_score\n",
    "import phik"
   ]
  },
  {
   "cell_type": "markdown",
   "id": "14be1e97",
   "metadata": {},
   "source": [
    "### Загрузка данных"
   ]
  },
  {
   "cell_type": "code",
   "execution_count": 3,
   "id": "e615aa46",
   "metadata": {},
   "outputs": [],
   "source": [
    "contract = pd.read_csv('https://code.s3.yandex.net/datasets/contract_new.csv', dtype = {'TotalCharges':float}, na_values = ['',' '], parse_dates = [1,2])\n",
    "personal = pd.read_csv('https://code.s3.yandex.net/datasets/personal_new.csv')\n",
    "internet = pd.read_csv('https://code.s3.yandex.net/datasets/internet_new.csv')\n",
    "phone = pd.read_csv('https://code.s3.yandex.net/datasets/phone_new.csv')"
   ]
  },
  {
   "cell_type": "markdown",
   "id": "ab2b5817",
   "metadata": {},
   "source": [
    "Рассмотрим данные в таблице contract"
   ]
  },
  {
   "cell_type": "code",
   "execution_count": 4,
   "id": "86a33af9",
   "metadata": {},
   "outputs": [
    {
     "data": {
      "text/html": [
       "<div>\n",
       "<style scoped>\n",
       "    .dataframe tbody tr th:only-of-type {\n",
       "        vertical-align: middle;\n",
       "    }\n",
       "\n",
       "    .dataframe tbody tr th {\n",
       "        vertical-align: top;\n",
       "    }\n",
       "\n",
       "    .dataframe thead th {\n",
       "        text-align: right;\n",
       "    }\n",
       "</style>\n",
       "<table border=\"1\" class=\"dataframe\">\n",
       "  <thead>\n",
       "    <tr style=\"text-align: right;\">\n",
       "      <th></th>\n",
       "      <th>customerID</th>\n",
       "      <th>BeginDate</th>\n",
       "      <th>EndDate</th>\n",
       "      <th>Type</th>\n",
       "      <th>PaperlessBilling</th>\n",
       "      <th>PaymentMethod</th>\n",
       "      <th>MonthlyCharges</th>\n",
       "      <th>TotalCharges</th>\n",
       "    </tr>\n",
       "  </thead>\n",
       "  <tbody>\n",
       "    <tr>\n",
       "      <th>0</th>\n",
       "      <td>7590-VHVEG</td>\n",
       "      <td>2020-01-01</td>\n",
       "      <td>No</td>\n",
       "      <td>Month-to-month</td>\n",
       "      <td>Yes</td>\n",
       "      <td>Electronic check</td>\n",
       "      <td>29.85</td>\n",
       "      <td>31.04</td>\n",
       "    </tr>\n",
       "    <tr>\n",
       "      <th>1</th>\n",
       "      <td>5575-GNVDE</td>\n",
       "      <td>2017-04-01</td>\n",
       "      <td>No</td>\n",
       "      <td>One year</td>\n",
       "      <td>No</td>\n",
       "      <td>Mailed check</td>\n",
       "      <td>56.95</td>\n",
       "      <td>2071.84</td>\n",
       "    </tr>\n",
       "    <tr>\n",
       "      <th>2</th>\n",
       "      <td>3668-QPYBK</td>\n",
       "      <td>2019-10-01</td>\n",
       "      <td>No</td>\n",
       "      <td>Month-to-month</td>\n",
       "      <td>Yes</td>\n",
       "      <td>Mailed check</td>\n",
       "      <td>53.85</td>\n",
       "      <td>226.17</td>\n",
       "    </tr>\n",
       "    <tr>\n",
       "      <th>3</th>\n",
       "      <td>7795-CFOCW</td>\n",
       "      <td>2016-05-01</td>\n",
       "      <td>No</td>\n",
       "      <td>One year</td>\n",
       "      <td>No</td>\n",
       "      <td>Bank transfer (automatic)</td>\n",
       "      <td>42.30</td>\n",
       "      <td>1960.60</td>\n",
       "    </tr>\n",
       "    <tr>\n",
       "      <th>4</th>\n",
       "      <td>9237-HQITU</td>\n",
       "      <td>2019-09-01</td>\n",
       "      <td>No</td>\n",
       "      <td>Month-to-month</td>\n",
       "      <td>Yes</td>\n",
       "      <td>Electronic check</td>\n",
       "      <td>70.70</td>\n",
       "      <td>353.50</td>\n",
       "    </tr>\n",
       "  </tbody>\n",
       "</table>\n",
       "</div>"
      ],
      "text/plain": [
       "   customerID  BeginDate EndDate            Type PaperlessBilling  \\\n",
       "0  7590-VHVEG 2020-01-01      No  Month-to-month              Yes   \n",
       "1  5575-GNVDE 2017-04-01      No        One year               No   \n",
       "2  3668-QPYBK 2019-10-01      No  Month-to-month              Yes   \n",
       "3  7795-CFOCW 2016-05-01      No        One year               No   \n",
       "4  9237-HQITU 2019-09-01      No  Month-to-month              Yes   \n",
       "\n",
       "               PaymentMethod  MonthlyCharges  TotalCharges  \n",
       "0           Electronic check           29.85         31.04  \n",
       "1               Mailed check           56.95       2071.84  \n",
       "2               Mailed check           53.85        226.17  \n",
       "3  Bank transfer (automatic)           42.30       1960.60  \n",
       "4           Electronic check           70.70        353.50  "
      ]
     },
     "execution_count": 4,
     "metadata": {},
     "output_type": "execute_result"
    }
   ],
   "source": [
    "contract.head(5)"
   ]
  },
  {
   "cell_type": "code",
   "execution_count": 5,
   "id": "fc1bdf21",
   "metadata": {},
   "outputs": [
    {
     "name": "stdout",
     "output_type": "stream",
     "text": [
      "<class 'pandas.core.frame.DataFrame'>\n",
      "RangeIndex: 7043 entries, 0 to 7042\n",
      "Data columns (total 8 columns):\n",
      " #   Column            Non-Null Count  Dtype         \n",
      "---  ------            --------------  -----         \n",
      " 0   customerID        7043 non-null   object        \n",
      " 1   BeginDate         7043 non-null   datetime64[ns]\n",
      " 2   EndDate           7043 non-null   object        \n",
      " 3   Type              7043 non-null   object        \n",
      " 4   PaperlessBilling  7043 non-null   object        \n",
      " 5   PaymentMethod     7043 non-null   object        \n",
      " 6   MonthlyCharges    7043 non-null   float64       \n",
      " 7   TotalCharges      7032 non-null   float64       \n",
      "dtypes: datetime64[ns](1), float64(2), object(5)\n",
      "memory usage: 440.3+ KB\n"
     ]
    }
   ],
   "source": [
    "contract.info()"
   ]
  },
  {
   "cell_type": "markdown",
   "id": "e5c11f7f",
   "metadata": {},
   "source": [
    "В столбце TotalCharges есть пропуски, необходимо их просмотреть"
   ]
  },
  {
   "cell_type": "code",
   "execution_count": 6,
   "id": "87b7a4a8",
   "metadata": {},
   "outputs": [
    {
     "data": {
      "text/html": [
       "<div>\n",
       "<style scoped>\n",
       "    .dataframe tbody tr th:only-of-type {\n",
       "        vertical-align: middle;\n",
       "    }\n",
       "\n",
       "    .dataframe tbody tr th {\n",
       "        vertical-align: top;\n",
       "    }\n",
       "\n",
       "    .dataframe thead th {\n",
       "        text-align: right;\n",
       "    }\n",
       "</style>\n",
       "<table border=\"1\" class=\"dataframe\">\n",
       "  <thead>\n",
       "    <tr style=\"text-align: right;\">\n",
       "      <th></th>\n",
       "      <th>customerID</th>\n",
       "      <th>BeginDate</th>\n",
       "      <th>EndDate</th>\n",
       "      <th>Type</th>\n",
       "      <th>PaperlessBilling</th>\n",
       "      <th>PaymentMethod</th>\n",
       "      <th>MonthlyCharges</th>\n",
       "      <th>TotalCharges</th>\n",
       "    </tr>\n",
       "  </thead>\n",
       "  <tbody>\n",
       "    <tr>\n",
       "      <th>488</th>\n",
       "      <td>4472-LVYGI</td>\n",
       "      <td>2020-02-01</td>\n",
       "      <td>No</td>\n",
       "      <td>Two year</td>\n",
       "      <td>Yes</td>\n",
       "      <td>Bank transfer (automatic)</td>\n",
       "      <td>52.55</td>\n",
       "      <td>NaN</td>\n",
       "    </tr>\n",
       "    <tr>\n",
       "      <th>753</th>\n",
       "      <td>3115-CZMZD</td>\n",
       "      <td>2020-02-01</td>\n",
       "      <td>No</td>\n",
       "      <td>Two year</td>\n",
       "      <td>No</td>\n",
       "      <td>Mailed check</td>\n",
       "      <td>20.25</td>\n",
       "      <td>NaN</td>\n",
       "    </tr>\n",
       "    <tr>\n",
       "      <th>936</th>\n",
       "      <td>5709-LVOEQ</td>\n",
       "      <td>2020-02-01</td>\n",
       "      <td>No</td>\n",
       "      <td>Two year</td>\n",
       "      <td>No</td>\n",
       "      <td>Mailed check</td>\n",
       "      <td>80.85</td>\n",
       "      <td>NaN</td>\n",
       "    </tr>\n",
       "    <tr>\n",
       "      <th>1082</th>\n",
       "      <td>4367-NUYAO</td>\n",
       "      <td>2020-02-01</td>\n",
       "      <td>No</td>\n",
       "      <td>Two year</td>\n",
       "      <td>No</td>\n",
       "      <td>Mailed check</td>\n",
       "      <td>25.75</td>\n",
       "      <td>NaN</td>\n",
       "    </tr>\n",
       "    <tr>\n",
       "      <th>1340</th>\n",
       "      <td>1371-DWPAZ</td>\n",
       "      <td>2020-02-01</td>\n",
       "      <td>No</td>\n",
       "      <td>Two year</td>\n",
       "      <td>No</td>\n",
       "      <td>Credit card (automatic)</td>\n",
       "      <td>56.05</td>\n",
       "      <td>NaN</td>\n",
       "    </tr>\n",
       "    <tr>\n",
       "      <th>3331</th>\n",
       "      <td>7644-OMVMY</td>\n",
       "      <td>2020-02-01</td>\n",
       "      <td>No</td>\n",
       "      <td>Two year</td>\n",
       "      <td>No</td>\n",
       "      <td>Mailed check</td>\n",
       "      <td>19.85</td>\n",
       "      <td>NaN</td>\n",
       "    </tr>\n",
       "    <tr>\n",
       "      <th>3826</th>\n",
       "      <td>3213-VVOLG</td>\n",
       "      <td>2020-02-01</td>\n",
       "      <td>No</td>\n",
       "      <td>Two year</td>\n",
       "      <td>No</td>\n",
       "      <td>Mailed check</td>\n",
       "      <td>25.35</td>\n",
       "      <td>NaN</td>\n",
       "    </tr>\n",
       "    <tr>\n",
       "      <th>4380</th>\n",
       "      <td>2520-SGTTA</td>\n",
       "      <td>2020-02-01</td>\n",
       "      <td>No</td>\n",
       "      <td>Two year</td>\n",
       "      <td>No</td>\n",
       "      <td>Mailed check</td>\n",
       "      <td>20.00</td>\n",
       "      <td>NaN</td>\n",
       "    </tr>\n",
       "    <tr>\n",
       "      <th>5218</th>\n",
       "      <td>2923-ARZLG</td>\n",
       "      <td>2020-02-01</td>\n",
       "      <td>No</td>\n",
       "      <td>One year</td>\n",
       "      <td>Yes</td>\n",
       "      <td>Mailed check</td>\n",
       "      <td>19.70</td>\n",
       "      <td>NaN</td>\n",
       "    </tr>\n",
       "    <tr>\n",
       "      <th>6670</th>\n",
       "      <td>4075-WKNIU</td>\n",
       "      <td>2020-02-01</td>\n",
       "      <td>No</td>\n",
       "      <td>Two year</td>\n",
       "      <td>No</td>\n",
       "      <td>Mailed check</td>\n",
       "      <td>73.35</td>\n",
       "      <td>NaN</td>\n",
       "    </tr>\n",
       "    <tr>\n",
       "      <th>6754</th>\n",
       "      <td>2775-SEFEE</td>\n",
       "      <td>2020-02-01</td>\n",
       "      <td>No</td>\n",
       "      <td>Two year</td>\n",
       "      <td>Yes</td>\n",
       "      <td>Bank transfer (automatic)</td>\n",
       "      <td>61.90</td>\n",
       "      <td>NaN</td>\n",
       "    </tr>\n",
       "  </tbody>\n",
       "</table>\n",
       "</div>"
      ],
      "text/plain": [
       "      customerID  BeginDate EndDate      Type PaperlessBilling  \\\n",
       "488   4472-LVYGI 2020-02-01      No  Two year              Yes   \n",
       "753   3115-CZMZD 2020-02-01      No  Two year               No   \n",
       "936   5709-LVOEQ 2020-02-01      No  Two year               No   \n",
       "1082  4367-NUYAO 2020-02-01      No  Two year               No   \n",
       "1340  1371-DWPAZ 2020-02-01      No  Two year               No   \n",
       "3331  7644-OMVMY 2020-02-01      No  Two year               No   \n",
       "3826  3213-VVOLG 2020-02-01      No  Two year               No   \n",
       "4380  2520-SGTTA 2020-02-01      No  Two year               No   \n",
       "5218  2923-ARZLG 2020-02-01      No  One year              Yes   \n",
       "6670  4075-WKNIU 2020-02-01      No  Two year               No   \n",
       "6754  2775-SEFEE 2020-02-01      No  Two year              Yes   \n",
       "\n",
       "                  PaymentMethod  MonthlyCharges  TotalCharges  \n",
       "488   Bank transfer (automatic)           52.55           NaN  \n",
       "753                Mailed check           20.25           NaN  \n",
       "936                Mailed check           80.85           NaN  \n",
       "1082               Mailed check           25.75           NaN  \n",
       "1340    Credit card (automatic)           56.05           NaN  \n",
       "3331               Mailed check           19.85           NaN  \n",
       "3826               Mailed check           25.35           NaN  \n",
       "4380               Mailed check           20.00           NaN  \n",
       "5218               Mailed check           19.70           NaN  \n",
       "6670               Mailed check           73.35           NaN  \n",
       "6754  Bank transfer (automatic)           61.90           NaN  "
      ]
     },
     "execution_count": 6,
     "metadata": {},
     "output_type": "execute_result"
    }
   ],
   "source": [
    "contract[contract.TotalCharges.isna()]"
   ]
  },
  {
   "cell_type": "markdown",
   "id": "65a0c386",
   "metadata": {},
   "source": [
    "Вероятно это вновь подключенные пользователи, так как BeginDate совпадает с временем актуалтзации датасетов. Для дополнительной проверки можно выполнить уловие: у всех клиентов с BeginDate = 2020-02-01 колонка TotalCharges = NaN. Проработаем их позже."
   ]
  },
  {
   "cell_type": "markdown",
   "id": "bde36b20",
   "metadata": {},
   "source": [
    "Рассмотрим соотношение клиентов расторгнувших договор и продолжающих обслуживание"
   ]
  },
  {
   "cell_type": "code",
   "execution_count": 7,
   "id": "9a4f1a60",
   "metadata": {},
   "outputs": [
    {
     "data": {
      "image/png": "[encoded data removed]",
      "text/plain": [
       "<Figure size 432x288 with 1 Axes>"
      ]
     },
     "metadata": {},
     "output_type": "display_data"
    }
   ],
   "source": [
    "contract.EndDate.map(lambda x: 0 if x == \"No\" else 1).value_counts().plot(kind = 'pie', autopct = '%1.1f%%',\n",
    "                                                                        ylabel = 'Проценты',\n",
    "                                                                        title = 'Диаграмма распределения классов');"
   ]
  },
  {
   "cell_type": "code",
   "execution_count": 8,
   "id": "a9f98c29",
   "metadata": {},
   "outputs": [
    {
     "data": {
      "text/html": [
       "<div>\n",
       "<style scoped>\n",
       "    .dataframe tbody tr th:only-of-type {\n",
       "        vertical-align: middle;\n",
       "    }\n",
       "\n",
       "    .dataframe tbody tr th {\n",
       "        vertical-align: top;\n",
       "    }\n",
       "\n",
       "    .dataframe thead th {\n",
       "        text-align: right;\n",
       "    }\n",
       "</style>\n",
       "<table border=\"1\" class=\"dataframe\">\n",
       "  <thead>\n",
       "    <tr style=\"text-align: right;\">\n",
       "      <th></th>\n",
       "      <th>MonthlyCharges</th>\n",
       "      <th>TotalCharges</th>\n",
       "    </tr>\n",
       "  </thead>\n",
       "  <tbody>\n",
       "    <tr>\n",
       "      <th>count</th>\n",
       "      <td>7043.000000</td>\n",
       "      <td>7032.000000</td>\n",
       "    </tr>\n",
       "    <tr>\n",
       "      <th>mean</th>\n",
       "      <td>64.761692</td>\n",
       "      <td>2118.621822</td>\n",
       "    </tr>\n",
       "    <tr>\n",
       "      <th>std</th>\n",
       "      <td>30.090047</td>\n",
       "      <td>2112.736199</td>\n",
       "    </tr>\n",
       "    <tr>\n",
       "      <th>min</th>\n",
       "      <td>18.250000</td>\n",
       "      <td>19.050000</td>\n",
       "    </tr>\n",
       "    <tr>\n",
       "      <th>25%</th>\n",
       "      <td>35.500000</td>\n",
       "      <td>439.745000</td>\n",
       "    </tr>\n",
       "    <tr>\n",
       "      <th>50%</th>\n",
       "      <td>70.350000</td>\n",
       "      <td>1345.275000</td>\n",
       "    </tr>\n",
       "    <tr>\n",
       "      <th>75%</th>\n",
       "      <td>89.850000</td>\n",
       "      <td>3239.317500</td>\n",
       "    </tr>\n",
       "    <tr>\n",
       "      <th>max</th>\n",
       "      <td>118.750000</td>\n",
       "      <td>9221.380000</td>\n",
       "    </tr>\n",
       "  </tbody>\n",
       "</table>\n",
       "</div>"
      ],
      "text/plain": [
       "       MonthlyCharges  TotalCharges\n",
       "count     7043.000000   7032.000000\n",
       "mean        64.761692   2118.621822\n",
       "std         30.090047   2112.736199\n",
       "min         18.250000     19.050000\n",
       "25%         35.500000    439.745000\n",
       "50%         70.350000   1345.275000\n",
       "75%         89.850000   3239.317500\n",
       "max        118.750000   9221.380000"
      ]
     },
     "execution_count": 8,
     "metadata": {},
     "output_type": "execute_result"
    }
   ],
   "source": [
    "contract.describe()"
   ]
  },
  {
   "cell_type": "markdown",
   "id": "57519f78",
   "metadata": {},
   "source": [
    "Просмотрим данные в таблице personal"
   ]
  },
  {
   "cell_type": "code",
   "execution_count": 9,
   "id": "4c20149e",
   "metadata": {},
   "outputs": [
    {
     "data": {
      "text/html": [
       "<div>\n",
       "<style scoped>\n",
       "    .dataframe tbody tr th:only-of-type {\n",
       "        vertical-align: middle;\n",
       "    }\n",
       "\n",
       "    .dataframe tbody tr th {\n",
       "        vertical-align: top;\n",
       "    }\n",
       "\n",
       "    .dataframe thead th {\n",
       "        text-align: right;\n",
       "    }\n",
       "</style>\n",
       "<table border=\"1\" class=\"dataframe\">\n",
       "  <thead>\n",
       "    <tr style=\"text-align: right;\">\n",
       "      <th></th>\n",
       "      <th>SeniorCitizen</th>\n",
       "    </tr>\n",
       "  </thead>\n",
       "  <tbody>\n",
       "    <tr>\n",
       "      <th>count</th>\n",
       "      <td>7043.000000</td>\n",
       "    </tr>\n",
       "    <tr>\n",
       "      <th>mean</th>\n",
       "      <td>0.162147</td>\n",
       "    </tr>\n",
       "    <tr>\n",
       "      <th>std</th>\n",
       "      <td>0.368612</td>\n",
       "    </tr>\n",
       "    <tr>\n",
       "      <th>min</th>\n",
       "      <td>0.000000</td>\n",
       "    </tr>\n",
       "    <tr>\n",
       "      <th>25%</th>\n",
       "      <td>0.000000</td>\n",
       "    </tr>\n",
       "    <tr>\n",
       "      <th>50%</th>\n",
       "      <td>0.000000</td>\n",
       "    </tr>\n",
       "    <tr>\n",
       "      <th>75%</th>\n",
       "      <td>0.000000</td>\n",
       "    </tr>\n",
       "    <tr>\n",
       "      <th>max</th>\n",
       "      <td>1.000000</td>\n",
       "    </tr>\n",
       "  </tbody>\n",
       "</table>\n",
       "</div>"
      ],
      "text/plain": [
       "       SeniorCitizen\n",
       "count    7043.000000\n",
       "mean        0.162147\n",
       "std         0.368612\n",
       "min         0.000000\n",
       "25%         0.000000\n",
       "50%         0.000000\n",
       "75%         0.000000\n",
       "max         1.000000"
      ]
     },
     "execution_count": 9,
     "metadata": {},
     "output_type": "execute_result"
    }
   ],
   "source": [
    "personal.describe()"
   ]
  },
  {
   "cell_type": "code",
   "execution_count": 10,
   "id": "501471a9",
   "metadata": {},
   "outputs": [
    {
     "data": {
      "text/html": [
       "<div>\n",
       "<style scoped>\n",
       "    .dataframe tbody tr th:only-of-type {\n",
       "        vertical-align: middle;\n",
       "    }\n",
       "\n",
       "    .dataframe tbody tr th {\n",
       "        vertical-align: top;\n",
       "    }\n",
       "\n",
       "    .dataframe thead th {\n",
       "        text-align: right;\n",
       "    }\n",
       "</style>\n",
       "<table border=\"1\" class=\"dataframe\">\n",
       "  <thead>\n",
       "    <tr style=\"text-align: right;\">\n",
       "      <th></th>\n",
       "      <th>customerID</th>\n",
       "      <th>gender</th>\n",
       "      <th>SeniorCitizen</th>\n",
       "      <th>Partner</th>\n",
       "      <th>Dependents</th>\n",
       "    </tr>\n",
       "  </thead>\n",
       "  <tbody>\n",
       "    <tr>\n",
       "      <th>0</th>\n",
       "      <td>7590-VHVEG</td>\n",
       "      <td>Female</td>\n",
       "      <td>0</td>\n",
       "      <td>Yes</td>\n",
       "      <td>No</td>\n",
       "    </tr>\n",
       "    <tr>\n",
       "      <th>1</th>\n",
       "      <td>5575-GNVDE</td>\n",
       "      <td>Male</td>\n",
       "      <td>0</td>\n",
       "      <td>No</td>\n",
       "      <td>No</td>\n",
       "    </tr>\n",
       "    <tr>\n",
       "      <th>2</th>\n",
       "      <td>3668-QPYBK</td>\n",
       "      <td>Male</td>\n",
       "      <td>0</td>\n",
       "      <td>No</td>\n",
       "      <td>No</td>\n",
       "    </tr>\n",
       "    <tr>\n",
       "      <th>3</th>\n",
       "      <td>7795-CFOCW</td>\n",
       "      <td>Male</td>\n",
       "      <td>0</td>\n",
       "      <td>No</td>\n",
       "      <td>No</td>\n",
       "    </tr>\n",
       "    <tr>\n",
       "      <th>4</th>\n",
       "      <td>9237-HQITU</td>\n",
       "      <td>Female</td>\n",
       "      <td>0</td>\n",
       "      <td>No</td>\n",
       "      <td>No</td>\n",
       "    </tr>\n",
       "  </tbody>\n",
       "</table>\n",
       "</div>"
      ],
      "text/plain": [
       "   customerID  gender  SeniorCitizen Partner Dependents\n",
       "0  7590-VHVEG  Female              0     Yes         No\n",
       "1  5575-GNVDE    Male              0      No         No\n",
       "2  3668-QPYBK    Male              0      No         No\n",
       "3  7795-CFOCW    Male              0      No         No\n",
       "4  9237-HQITU  Female              0      No         No"
      ]
     },
     "execution_count": 10,
     "metadata": {},
     "output_type": "execute_result"
    }
   ],
   "source": [
    "personal.head()"
   ]
  },
  {
   "cell_type": "code",
   "execution_count": 11,
   "id": "54a5777d",
   "metadata": {},
   "outputs": [
    {
     "data": {
      "image/png": "[encoded data removed]",
      "text/plain": [
       "<Figure size 432x288 with 1 Axes>"
      ]
     },
     "metadata": {
      "needs_background": "light"
     },
     "output_type": "display_data"
    }
   ],
   "source": [
    "personal.SeniorCitizen.value_counts().plot(kind = 'bar', ylabel = 'Количество',\n",
    "                                           xlabel ='Пенсионер', title = 'Гистограмма распеределения стсуса пенсионер');"
   ]
  },
  {
   "cell_type": "markdown",
   "id": "0a3b4f4d",
   "metadata": {},
   "source": [
    "Статусом пенсионера обладает около 1000 пользователей"
   ]
  },
  {
   "cell_type": "code",
   "execution_count": 12,
   "id": "6be1767a",
   "metadata": {},
   "outputs": [
    {
     "data": {
      "image/png": "[encoded data removed]",
      "text/plain": [
       "<Figure size 432x288 with 1 Axes>"
      ]
     },
     "metadata": {
      "needs_background": "light"
     },
     "output_type": "display_data"
    }
   ],
   "source": [
    "personal.gender.value_counts().plot(kind = 'bar', ylabel = 'Количество', xlabel = 'Пол', \n",
    "                                    title = 'Гистограма распределения по полу клинета');"
   ]
  },
  {
   "cell_type": "markdown",
   "id": "885cd27e",
   "metadata": {},
   "source": [
    "Распределение пола пользователей равномерное"
   ]
  },
  {
   "cell_type": "markdown",
   "id": "00c0ed2a",
   "metadata": {},
   "source": [
    "Просмотрим данные в таблице internet"
   ]
  },
  {
   "cell_type": "code",
   "execution_count": 13,
   "id": "5363aeb2",
   "metadata": {},
   "outputs": [
    {
     "data": {
      "text/html": [
       "<div>\n",
       "<style scoped>\n",
       "    .dataframe tbody tr th:only-of-type {\n",
       "        vertical-align: middle;\n",
       "    }\n",
       "\n",
       "    .dataframe tbody tr th {\n",
       "        vertical-align: top;\n",
       "    }\n",
       "\n",
       "    .dataframe thead th {\n",
       "        text-align: right;\n",
       "    }\n",
       "</style>\n",
       "<table border=\"1\" class=\"dataframe\">\n",
       "  <thead>\n",
       "    <tr style=\"text-align: right;\">\n",
       "      <th></th>\n",
       "      <th>customerID</th>\n",
       "      <th>InternetService</th>\n",
       "      <th>OnlineSecurity</th>\n",
       "      <th>OnlineBackup</th>\n",
       "      <th>DeviceProtection</th>\n",
       "      <th>TechSupport</th>\n",
       "      <th>StreamingTV</th>\n",
       "      <th>StreamingMovies</th>\n",
       "    </tr>\n",
       "  </thead>\n",
       "  <tbody>\n",
       "    <tr>\n",
       "      <th>0</th>\n",
       "      <td>7590-VHVEG</td>\n",
       "      <td>DSL</td>\n",
       "      <td>No</td>\n",
       "      <td>Yes</td>\n",
       "      <td>No</td>\n",
       "      <td>No</td>\n",
       "      <td>No</td>\n",
       "      <td>No</td>\n",
       "    </tr>\n",
       "    <tr>\n",
       "      <th>1</th>\n",
       "      <td>5575-GNVDE</td>\n",
       "      <td>DSL</td>\n",
       "      <td>Yes</td>\n",
       "      <td>No</td>\n",
       "      <td>Yes</td>\n",
       "      <td>No</td>\n",
       "      <td>No</td>\n",
       "      <td>No</td>\n",
       "    </tr>\n",
       "    <tr>\n",
       "      <th>2</th>\n",
       "      <td>3668-QPYBK</td>\n",
       "      <td>DSL</td>\n",
       "      <td>Yes</td>\n",
       "      <td>Yes</td>\n",
       "      <td>No</td>\n",
       "      <td>No</td>\n",
       "      <td>No</td>\n",
       "      <td>No</td>\n",
       "    </tr>\n",
       "    <tr>\n",
       "      <th>3</th>\n",
       "      <td>7795-CFOCW</td>\n",
       "      <td>DSL</td>\n",
       "      <td>Yes</td>\n",
       "      <td>No</td>\n",
       "      <td>Yes</td>\n",
       "      <td>Yes</td>\n",
       "      <td>No</td>\n",
       "      <td>No</td>\n",
       "    </tr>\n",
       "    <tr>\n",
       "      <th>4</th>\n",
       "      <td>9237-HQITU</td>\n",
       "      <td>Fiber optic</td>\n",
       "      <td>No</td>\n",
       "      <td>No</td>\n",
       "      <td>No</td>\n",
       "      <td>No</td>\n",
       "      <td>No</td>\n",
       "      <td>No</td>\n",
       "    </tr>\n",
       "  </tbody>\n",
       "</table>\n",
       "</div>"
      ],
      "text/plain": [
       "   customerID InternetService OnlineSecurity OnlineBackup DeviceProtection  \\\n",
       "0  7590-VHVEG             DSL             No          Yes               No   \n",
       "1  5575-GNVDE             DSL            Yes           No              Yes   \n",
       "2  3668-QPYBK             DSL            Yes          Yes               No   \n",
       "3  7795-CFOCW             DSL            Yes           No              Yes   \n",
       "4  9237-HQITU     Fiber optic             No           No               No   \n",
       "\n",
       "  TechSupport StreamingTV StreamingMovies  \n",
       "0          No          No              No  \n",
       "1          No          No              No  \n",
       "2          No          No              No  \n",
       "3         Yes          No              No  \n",
       "4          No          No              No  "
      ]
     },
     "execution_count": 13,
     "metadata": {},
     "output_type": "execute_result"
    }
   ],
   "source": [
    "internet.head()"
   ]
  },
  {
   "cell_type": "code",
   "execution_count": 14,
   "id": "ac6309e9",
   "metadata": {},
   "outputs": [
    {
     "name": "stdout",
     "output_type": "stream",
     "text": [
      "<class 'pandas.core.frame.DataFrame'>\n",
      "RangeIndex: 5517 entries, 0 to 5516\n",
      "Data columns (total 8 columns):\n",
      " #   Column            Non-Null Count  Dtype \n",
      "---  ------            --------------  ----- \n",
      " 0   customerID        5517 non-null   object\n",
      " 1   InternetService   5517 non-null   object\n",
      " 2   OnlineSecurity    5517 non-null   object\n",
      " 3   OnlineBackup      5517 non-null   object\n",
      " 4   DeviceProtection  5517 non-null   object\n",
      " 5   TechSupport       5517 non-null   object\n",
      " 6   StreamingTV       5517 non-null   object\n",
      " 7   StreamingMovies   5517 non-null   object\n",
      "dtypes: object(8)\n",
      "memory usage: 344.9+ KB\n"
     ]
    }
   ],
   "source": [
    "internet.info()"
   ]
  },
  {
   "cell_type": "code",
   "execution_count": 15,
   "id": "685c26ab",
   "metadata": {},
   "outputs": [
    {
     "data": {
      "text/plain": [
       "customerID          5517\n",
       "InternetService        2\n",
       "OnlineSecurity         2\n",
       "OnlineBackup           2\n",
       "DeviceProtection       2\n",
       "TechSupport            2\n",
       "StreamingTV            2\n",
       "StreamingMovies        2\n",
       "dtype: int64"
      ]
     },
     "execution_count": 15,
     "metadata": {},
     "output_type": "execute_result"
    }
   ],
   "source": [
    "internet.nunique()"
   ]
  },
  {
   "cell_type": "markdown",
   "id": "f26ff8e8",
   "metadata": {},
   "source": [
    "Признаки бинарные, имют 2 вариации значения"
   ]
  },
  {
   "cell_type": "code",
   "execution_count": 16,
   "id": "099912ee",
   "metadata": {},
   "outputs": [
    {
     "data": {
      "image/png": "[encoded data removed]",
      "text/plain": [
       "<Figure size 432x288 with 1 Axes>"
      ]
     },
     "metadata": {
      "needs_background": "light"
     },
     "output_type": "display_data"
    }
   ],
   "source": [
    "internet.InternetService.value_counts().plot(kind = 'bar', ylabel = 'Количество', xlabel = 'Подключение', \n",
    "                                             title = 'Гистограмма распределения типов подключения');"
   ]
  },
  {
   "cell_type": "code",
   "execution_count": 17,
   "id": "812c229f",
   "metadata": {},
   "outputs": [
    {
     "data": {
      "image/png": "[encoded data removed]",
      "text/plain": [
       "<Figure size 432x288 with 1 Axes>"
      ]
     },
     "metadata": {
      "needs_background": "light"
     },
     "output_type": "display_data"
    }
   ],
   "source": [
    "internet.OnlineSecurity.value_counts().plot(kind = 'bar', ylabel = 'Количество', xlabel = 'Блокировка', \n",
    "                                            title = 'Гистограмма распределения блокировки небезопасных сайтов');"
   ]
  },
  {
   "cell_type": "code",
   "execution_count": 18,
   "id": "aa9d5935",
   "metadata": {
    "scrolled": true
   },
   "outputs": [
    {
     "data": {
      "image/png": "[encoded data removed]",
      "text/plain": [
       "<Figure size 432x288 with 1 Axes>"
      ]
     },
     "metadata": {
      "needs_background": "light"
     },
     "output_type": "display_data"
    }
   ],
   "source": [
    "internet.DeviceProtection.value_counts().plot(kind = 'bar', ylabel = 'Количество', xlabel = 'Антивирус', \n",
    "                                              title = 'Гистограмма распределения наличия антивируса');"
   ]
  },
  {
   "cell_type": "markdown",
   "id": "7cf8b106",
   "metadata": {},
   "source": [
    "Просмотрим данные в таблице phone"
   ]
  },
  {
   "cell_type": "code",
   "execution_count": 19,
   "id": "44b74e96",
   "metadata": {},
   "outputs": [
    {
     "data": {
      "text/html": [
       "<div>\n",
       "<style scoped>\n",
       "    .dataframe tbody tr th:only-of-type {\n",
       "        vertical-align: middle;\n",
       "    }\n",
       "\n",
       "    .dataframe tbody tr th {\n",
       "        vertical-align: top;\n",
       "    }\n",
       "\n",
       "    .dataframe thead th {\n",
       "        text-align: right;\n",
       "    }\n",
       "</style>\n",
       "<table border=\"1\" class=\"dataframe\">\n",
       "  <thead>\n",
       "    <tr style=\"text-align: right;\">\n",
       "      <th></th>\n",
       "      <th>customerID</th>\n",
       "      <th>MultipleLines</th>\n",
       "    </tr>\n",
       "  </thead>\n",
       "  <tbody>\n",
       "    <tr>\n",
       "      <th>0</th>\n",
       "      <td>5575-GNVDE</td>\n",
       "      <td>No</td>\n",
       "    </tr>\n",
       "    <tr>\n",
       "      <th>1</th>\n",
       "      <td>3668-QPYBK</td>\n",
       "      <td>No</td>\n",
       "    </tr>\n",
       "    <tr>\n",
       "      <th>2</th>\n",
       "      <td>9237-HQITU</td>\n",
       "      <td>No</td>\n",
       "    </tr>\n",
       "    <tr>\n",
       "      <th>3</th>\n",
       "      <td>9305-CDSKC</td>\n",
       "      <td>Yes</td>\n",
       "    </tr>\n",
       "    <tr>\n",
       "      <th>4</th>\n",
       "      <td>1452-KIOVK</td>\n",
       "      <td>Yes</td>\n",
       "    </tr>\n",
       "  </tbody>\n",
       "</table>\n",
       "</div>"
      ],
      "text/plain": [
       "   customerID MultipleLines\n",
       "0  5575-GNVDE            No\n",
       "1  3668-QPYBK            No\n",
       "2  9237-HQITU            No\n",
       "3  9305-CDSKC           Yes\n",
       "4  1452-KIOVK           Yes"
      ]
     },
     "execution_count": 19,
     "metadata": {},
     "output_type": "execute_result"
    }
   ],
   "source": [
    "phone.head()"
   ]
  },
  {
   "cell_type": "markdown",
   "id": "fd33939e",
   "metadata": {},
   "source": [
    "В таюлице одна колонка с признаком, указателем на подключение телефона к нескольким линиям одновременно, многоканальность"
   ]
  },
  {
   "cell_type": "code",
   "execution_count": 20,
   "id": "2aa14a52",
   "metadata": {},
   "outputs": [
    {
     "data": {
      "image/png": "[encoded data removed]",
      "text/plain": [
       "<Figure size 432x288 with 1 Axes>"
      ]
     },
     "metadata": {
      "needs_background": "light"
     },
     "output_type": "display_data"
    }
   ],
   "source": [
    "phone.MultipleLines.value_counts().plot(kind = 'bar', ylabel = 'Количество',\n",
    "                                           xlabel = 'Многоканальность', title = 'Гистограма распределение многоканальности');"
   ]
  },
  {
   "cell_type": "markdown",
   "id": "d10b4552",
   "metadata": {},
   "source": [
    "### Объединение и предобработка данных"
   ]
  },
  {
   "cell_type": "code",
   "execution_count": 21,
   "id": "ef7b3cd8",
   "metadata": {},
   "outputs": [],
   "source": [
    "RANDOM_STATE = 251223"
   ]
  },
  {
   "cell_type": "code",
   "execution_count": 22,
   "id": "f89ec7e4",
   "metadata": {},
   "outputs": [
    {
     "data": {
      "text/plain": [
       "(7043, 8)"
      ]
     },
     "metadata": {},
     "output_type": "display_data"
    },
    {
     "data": {
      "text/plain": [
       "Index(['customerID', 'BeginDate', 'EndDate', 'Type', 'PaperlessBilling',\n",
       "       'PaymentMethod', 'MonthlyCharges', 'TotalCharges'],\n",
       "      dtype='object')"
      ]
     },
     "metadata": {},
     "output_type": "display_data"
    },
    {
     "data": {
      "text/plain": [
       "(7043, 5)"
      ]
     },
     "metadata": {},
     "output_type": "display_data"
    },
    {
     "data": {
      "text/plain": [
       "Index(['customerID', 'gender', 'SeniorCitizen', 'Partner', 'Dependents'], dtype='object')"
      ]
     },
     "metadata": {},
     "output_type": "display_data"
    },
    {
     "data": {
      "text/plain": [
       "(5517, 8)"
      ]
     },
     "metadata": {},
     "output_type": "display_data"
    },
    {
     "data": {
      "text/plain": [
       "Index(['customerID', 'InternetService', 'OnlineSecurity', 'OnlineBackup',\n",
       "       'DeviceProtection', 'TechSupport', 'StreamingTV', 'StreamingMovies'],\n",
       "      dtype='object')"
      ]
     },
     "metadata": {},
     "output_type": "display_data"
    },
    {
     "data": {
      "text/plain": [
       "(6361, 2)"
      ]
     },
     "metadata": {},
     "output_type": "display_data"
    },
    {
     "data": {
      "text/plain": [
       "Index(['customerID', 'MultipleLines'], dtype='object')"
      ]
     },
     "metadata": {},
     "output_type": "display_data"
    }
   ],
   "source": [
    "data = [contract, personal, internet, phone]\n",
    "for datset in data:\n",
    "    display(datset.shape)\n",
    "    display(datset.columns)"
   ]
  },
  {
   "cell_type": "code",
   "execution_count": 23,
   "id": "e4edc2dc",
   "metadata": {},
   "outputs": [],
   "source": [
    "df = reduce(lambda left, right: pd.merge(left, right, on = 'customerID', how = 'left'), data)"
   ]
  },
  {
   "cell_type": "code",
   "execution_count": 24,
   "id": "f23d0874",
   "metadata": {},
   "outputs": [
    {
     "data": {
      "text/plain": [
       "(7043, 20)"
      ]
     },
     "execution_count": 24,
     "metadata": {},
     "output_type": "execute_result"
    }
   ],
   "source": [
    "df.shape"
   ]
  },
  {
   "cell_type": "code",
   "execution_count": 25,
   "id": "943ca2fb",
   "metadata": {},
   "outputs": [
    {
     "data": {
      "text/html": [
       "<div>\n",
       "<style scoped>\n",
       "    .dataframe tbody tr th:only-of-type {\n",
       "        vertical-align: middle;\n",
       "    }\n",
       "\n",
       "    .dataframe tbody tr th {\n",
       "        vertical-align: top;\n",
       "    }\n",
       "\n",
       "    .dataframe thead th {\n",
       "        text-align: right;\n",
       "    }\n",
       "</style>\n",
       "<table border=\"1\" class=\"dataframe\">\n",
       "  <thead>\n",
       "    <tr style=\"text-align: right;\">\n",
       "      <th></th>\n",
       "      <th>customerID</th>\n",
       "      <th>BeginDate</th>\n",
       "      <th>EndDate</th>\n",
       "      <th>Type</th>\n",
       "      <th>PaperlessBilling</th>\n",
       "      <th>PaymentMethod</th>\n",
       "      <th>MonthlyCharges</th>\n",
       "      <th>TotalCharges</th>\n",
       "      <th>gender</th>\n",
       "      <th>SeniorCitizen</th>\n",
       "      <th>Partner</th>\n",
       "      <th>Dependents</th>\n",
       "      <th>InternetService</th>\n",
       "      <th>OnlineSecurity</th>\n",
       "      <th>OnlineBackup</th>\n",
       "      <th>DeviceProtection</th>\n",
       "      <th>TechSupport</th>\n",
       "      <th>StreamingTV</th>\n",
       "      <th>StreamingMovies</th>\n",
       "      <th>MultipleLines</th>\n",
       "    </tr>\n",
       "  </thead>\n",
       "  <tbody>\n",
       "    <tr>\n",
       "      <th>0</th>\n",
       "      <td>7590-VHVEG</td>\n",
       "      <td>2020-01-01</td>\n",
       "      <td>No</td>\n",
       "      <td>Month-to-month</td>\n",
       "      <td>Yes</td>\n",
       "      <td>Electronic check</td>\n",
       "      <td>29.85</td>\n",
       "      <td>31.04</td>\n",
       "      <td>Female</td>\n",
       "      <td>0</td>\n",
       "      <td>Yes</td>\n",
       "      <td>No</td>\n",
       "      <td>DSL</td>\n",
       "      <td>No</td>\n",
       "      <td>Yes</td>\n",
       "      <td>No</td>\n",
       "      <td>No</td>\n",
       "      <td>No</td>\n",
       "      <td>No</td>\n",
       "      <td>NaN</td>\n",
       "    </tr>\n",
       "    <tr>\n",
       "      <th>1</th>\n",
       "      <td>5575-GNVDE</td>\n",
       "      <td>2017-04-01</td>\n",
       "      <td>No</td>\n",
       "      <td>One year</td>\n",
       "      <td>No</td>\n",
       "      <td>Mailed check</td>\n",
       "      <td>56.95</td>\n",
       "      <td>2071.84</td>\n",
       "      <td>Male</td>\n",
       "      <td>0</td>\n",
       "      <td>No</td>\n",
       "      <td>No</td>\n",
       "      <td>DSL</td>\n",
       "      <td>Yes</td>\n",
       "      <td>No</td>\n",
       "      <td>Yes</td>\n",
       "      <td>No</td>\n",
       "      <td>No</td>\n",
       "      <td>No</td>\n",
       "      <td>No</td>\n",
       "    </tr>\n",
       "    <tr>\n",
       "      <th>2</th>\n",
       "      <td>3668-QPYBK</td>\n",
       "      <td>2019-10-01</td>\n",
       "      <td>No</td>\n",
       "      <td>Month-to-month</td>\n",
       "      <td>Yes</td>\n",
       "      <td>Mailed check</td>\n",
       "      <td>53.85</td>\n",
       "      <td>226.17</td>\n",
       "      <td>Male</td>\n",
       "      <td>0</td>\n",
       "      <td>No</td>\n",
       "      <td>No</td>\n",
       "      <td>DSL</td>\n",
       "      <td>Yes</td>\n",
       "      <td>Yes</td>\n",
       "      <td>No</td>\n",
       "      <td>No</td>\n",
       "      <td>No</td>\n",
       "      <td>No</td>\n",
       "      <td>No</td>\n",
       "    </tr>\n",
       "    <tr>\n",
       "      <th>3</th>\n",
       "      <td>7795-CFOCW</td>\n",
       "      <td>2016-05-01</td>\n",
       "      <td>No</td>\n",
       "      <td>One year</td>\n",
       "      <td>No</td>\n",
       "      <td>Bank transfer (automatic)</td>\n",
       "      <td>42.30</td>\n",
       "      <td>1960.60</td>\n",
       "      <td>Male</td>\n",
       "      <td>0</td>\n",
       "      <td>No</td>\n",
       "      <td>No</td>\n",
       "      <td>DSL</td>\n",
       "      <td>Yes</td>\n",
       "      <td>No</td>\n",
       "      <td>Yes</td>\n",
       "      <td>Yes</td>\n",
       "      <td>No</td>\n",
       "      <td>No</td>\n",
       "      <td>NaN</td>\n",
       "    </tr>\n",
       "    <tr>\n",
       "      <th>4</th>\n",
       "      <td>9237-HQITU</td>\n",
       "      <td>2019-09-01</td>\n",
       "      <td>No</td>\n",
       "      <td>Month-to-month</td>\n",
       "      <td>Yes</td>\n",
       "      <td>Electronic check</td>\n",
       "      <td>70.70</td>\n",
       "      <td>353.50</td>\n",
       "      <td>Female</td>\n",
       "      <td>0</td>\n",
       "      <td>No</td>\n",
       "      <td>No</td>\n",
       "      <td>Fiber optic</td>\n",
       "      <td>No</td>\n",
       "      <td>No</td>\n",
       "      <td>No</td>\n",
       "      <td>No</td>\n",
       "      <td>No</td>\n",
       "      <td>No</td>\n",
       "      <td>No</td>\n",
       "    </tr>\n",
       "  </tbody>\n",
       "</table>\n",
       "</div>"
      ],
      "text/plain": [
       "   customerID  BeginDate EndDate            Type PaperlessBilling  \\\n",
       "0  7590-VHVEG 2020-01-01      No  Month-to-month              Yes   \n",
       "1  5575-GNVDE 2017-04-01      No        One year               No   \n",
       "2  3668-QPYBK 2019-10-01      No  Month-to-month              Yes   \n",
       "3  7795-CFOCW 2016-05-01      No        One year               No   \n",
       "4  9237-HQITU 2019-09-01      No  Month-to-month              Yes   \n",
       "\n",
       "               PaymentMethod  MonthlyCharges  TotalCharges  gender  \\\n",
       "0           Electronic check           29.85         31.04  Female   \n",
       "1               Mailed check           56.95       2071.84    Male   \n",
       "2               Mailed check           53.85        226.17    Male   \n",
       "3  Bank transfer (automatic)           42.30       1960.60    Male   \n",
       "4           Electronic check           70.70        353.50  Female   \n",
       "\n",
       "   SeniorCitizen Partner Dependents InternetService OnlineSecurity  \\\n",
       "0              0     Yes         No             DSL             No   \n",
       "1              0      No         No             DSL            Yes   \n",
       "2              0      No         No             DSL            Yes   \n",
       "3              0      No         No             DSL            Yes   \n",
       "4              0      No         No     Fiber optic             No   \n",
       "\n",
       "  OnlineBackup DeviceProtection TechSupport StreamingTV StreamingMovies  \\\n",
       "0          Yes               No          No          No              No   \n",
       "1           No              Yes          No          No              No   \n",
       "2          Yes               No          No          No              No   \n",
       "3           No              Yes         Yes          No              No   \n",
       "4           No               No          No          No              No   \n",
       "\n",
       "  MultipleLines  \n",
       "0           NaN  \n",
       "1            No  \n",
       "2            No  \n",
       "3           NaN  \n",
       "4            No  "
      ]
     },
     "execution_count": 25,
     "metadata": {},
     "output_type": "execute_result"
    }
   ],
   "source": [
    "df.head()"
   ]
  },
  {
   "cell_type": "markdown",
   "id": "7f96b4af",
   "metadata": {},
   "source": [
    "Заменим 'No' на '2020-02-01' и приведем столбец к формату datetime"
   ]
  },
  {
   "cell_type": "code",
   "execution_count": 26,
   "id": "dbd94892",
   "metadata": {},
   "outputs": [],
   "source": [
    "df['EndDate'] = df['EndDate'].replace('No', '2020-02-01')\n",
    "df.EndDate = pd.to_datetime(df.EndDate)"
   ]
  },
  {
   "cell_type": "markdown",
   "id": "7e1a4559",
   "metadata": {},
   "source": [
    "Удалим пользователей без информции по столцу TotalCharges"
   ]
  },
  {
   "cell_type": "code",
   "execution_count": 27,
   "id": "cfc5f79b",
   "metadata": {},
   "outputs": [],
   "source": [
    "df.drop((df.TotalCharges[df.TotalCharges.isna() == True]).index, inplace = True)\n",
    "df = df.reset_index(drop = True)"
   ]
  },
  {
   "cell_type": "code",
   "execution_count": 28,
   "id": "759b2a3f",
   "metadata": {},
   "outputs": [
    {
     "name": "stdout",
     "output_type": "stream",
     "text": [
      "<class 'pandas.core.frame.DataFrame'>\n",
      "RangeIndex: 7032 entries, 0 to 7031\n",
      "Data columns (total 20 columns):\n",
      " #   Column            Non-Null Count  Dtype         \n",
      "---  ------            --------------  -----         \n",
      " 0   customerID        7032 non-null   object        \n",
      " 1   BeginDate         7032 non-null   datetime64[ns]\n",
      " 2   EndDate           7032 non-null   datetime64[ns]\n",
      " 3   Type              7032 non-null   object        \n",
      " 4   PaperlessBilling  7032 non-null   object        \n",
      " 5   PaymentMethod     7032 non-null   object        \n",
      " 6   MonthlyCharges    7032 non-null   float64       \n",
      " 7   TotalCharges      7032 non-null   float64       \n",
      " 8   gender            7032 non-null   object        \n",
      " 9   SeniorCitizen     7032 non-null   int64         \n",
      " 10  Partner           7032 non-null   object        \n",
      " 11  Dependents        7032 non-null   object        \n",
      " 12  InternetService   5512 non-null   object        \n",
      " 13  OnlineSecurity    5512 non-null   object        \n",
      " 14  OnlineBackup      5512 non-null   object        \n",
      " 15  DeviceProtection  5512 non-null   object        \n",
      " 16  TechSupport       5512 non-null   object        \n",
      " 17  StreamingTV       5512 non-null   object        \n",
      " 18  StreamingMovies   5512 non-null   object        \n",
      " 19  MultipleLines     6352 non-null   object        \n",
      "dtypes: datetime64[ns](2), float64(2), int64(1), object(15)\n",
      "memory usage: 1.1+ MB\n"
     ]
    }
   ],
   "source": [
    "df.info()"
   ]
  },
  {
   "cell_type": "code",
   "execution_count": 29,
   "id": "0218295b",
   "metadata": {},
   "outputs": [
    {
     "data": {
      "text/plain": [
       "0"
      ]
     },
     "execution_count": 29,
     "metadata": {},
     "output_type": "execute_result"
    }
   ],
   "source": [
    "df.MonthlyCharges.isna().sum()"
   ]
  },
  {
   "cell_type": "code",
   "execution_count": 30,
   "id": "13568c4d",
   "metadata": {},
   "outputs": [],
   "source": [
    "df_train, df_test = train_test_split(df, test_size = 0.25, random_state = RANDOM_STATE)"
   ]
  },
  {
   "cell_type": "code",
   "execution_count": 31,
   "id": "736b5f6a",
   "metadata": {},
   "outputs": [
    {
     "data": {
      "text/plain": [
       "(5274, 20)"
      ]
     },
     "execution_count": 31,
     "metadata": {},
     "output_type": "execute_result"
    }
   ],
   "source": [
    "df_train.shape"
   ]
  },
  {
   "cell_type": "code",
   "execution_count": 32,
   "id": "ffa8503b",
   "metadata": {},
   "outputs": [
    {
     "data": {
      "text/plain": [
       "(1758, 20)"
      ]
     },
     "execution_count": 32,
     "metadata": {},
     "output_type": "execute_result"
    }
   ],
   "source": [
    "df_test.shape"
   ]
  },
  {
   "cell_type": "code",
   "execution_count": 33,
   "id": "b73f7032",
   "metadata": {},
   "outputs": [
    {
     "data": {
      "image/png": "[encoded data removed]",
      "text/plain": [
       "<Figure size 1152x576 with 1 Axes>"
      ]
     },
     "metadata": {
      "needs_background": "light"
     },
     "output_type": "display_data"
    }
   ],
   "source": [
    "df_train.MonthlyCharges.plot(kind = 'hist',bins = 400, figsize = (16, 8), title = 'Гистограма распределения месячной оплаты');"
   ]
  },
  {
   "cell_type": "markdown",
   "id": "49b8fa90",
   "metadata": {},
   "source": [
    "Вбросы отсутсвуют"
   ]
  },
  {
   "cell_type": "code",
   "execution_count": 34,
   "id": "c5f100fd",
   "metadata": {},
   "outputs": [
    {
     "data": {
      "image/png": "[encoded data removed]",
      "text/plain": [
       "<Figure size 1152x576 with 1 Axes>"
      ]
     },
     "metadata": {
      "needs_background": "light"
     },
     "output_type": "display_data"
    }
   ],
   "source": [
    "df_train.TotalCharges.plot(kind = 'hist',bins = 200, figsize = (16, 8), title = 'Гистограма суммарных затрат пользователей');"
   ]
  },
  {
   "cell_type": "markdown",
   "id": "dd5eba27",
   "metadata": {},
   "source": [
    "Вбросов нет, можно приступать к шагу кодирования признаков."
   ]
  },
  {
   "cell_type": "code",
   "execution_count": 35,
   "id": "ddb524c3",
   "metadata": {},
   "outputs": [
    {
     "name": "stdout",
     "output_type": "stream",
     "text": [
      "<class 'pandas.core.frame.DataFrame'>\n",
      "Int64Index: 5274 entries, 1255 to 2375\n",
      "Data columns (total 20 columns):\n",
      " #   Column            Non-Null Count  Dtype         \n",
      "---  ------            --------------  -----         \n",
      " 0   customerID        5274 non-null   object        \n",
      " 1   BeginDate         5274 non-null   datetime64[ns]\n",
      " 2   EndDate           5274 non-null   datetime64[ns]\n",
      " 3   Type              5274 non-null   object        \n",
      " 4   PaperlessBilling  5274 non-null   object        \n",
      " 5   PaymentMethod     5274 non-null   object        \n",
      " 6   MonthlyCharges    5274 non-null   float64       \n",
      " 7   TotalCharges      5274 non-null   float64       \n",
      " 8   gender            5274 non-null   object        \n",
      " 9   SeniorCitizen     5274 non-null   int64         \n",
      " 10  Partner           5274 non-null   object        \n",
      " 11  Dependents        5274 non-null   object        \n",
      " 12  InternetService   4127 non-null   object        \n",
      " 13  OnlineSecurity    4127 non-null   object        \n",
      " 14  OnlineBackup      4127 non-null   object        \n",
      " 15  DeviceProtection  4127 non-null   object        \n",
      " 16  TechSupport       4127 non-null   object        \n",
      " 17  StreamingTV       4127 non-null   object        \n",
      " 18  StreamingMovies   4127 non-null   object        \n",
      " 19  MultipleLines     4766 non-null   object        \n",
      "dtypes: datetime64[ns](2), float64(2), int64(1), object(15)\n",
      "memory usage: 865.3+ KB\n"
     ]
    }
   ],
   "source": [
    "df_train.info()"
   ]
  },
  {
   "cell_type": "markdown",
   "id": "26110bff",
   "metadata": {},
   "source": [
    "Убедимся в отсутсвии 0 значений в TotalCharges"
   ]
  },
  {
   "cell_type": "code",
   "execution_count": 36,
   "id": "a5654c46",
   "metadata": {},
   "outputs": [
    {
     "data": {
      "text/plain": [
       "0"
      ]
     },
     "execution_count": 36,
     "metadata": {},
     "output_type": "execute_result"
    }
   ],
   "source": [
    "df_train.TotalCharges.isna().sum()"
   ]
  },
  {
   "cell_type": "markdown",
   "id": "f54e347d",
   "metadata": {},
   "source": [
    "Делаем копию для кодирования признаков"
   ]
  },
  {
   "cell_type": "code",
   "execution_count": 37,
   "id": "9a60b6c1",
   "metadata": {},
   "outputs": [
    {
     "data": {
      "text/html": [
       "<div>\n",
       "<style scoped>\n",
       "    .dataframe tbody tr th:only-of-type {\n",
       "        vertical-align: middle;\n",
       "    }\n",
       "\n",
       "    .dataframe tbody tr th {\n",
       "        vertical-align: top;\n",
       "    }\n",
       "\n",
       "    .dataframe thead th {\n",
       "        text-align: right;\n",
       "    }\n",
       "</style>\n",
       "<table border=\"1\" class=\"dataframe\">\n",
       "  <thead>\n",
       "    <tr style=\"text-align: right;\">\n",
       "      <th></th>\n",
       "      <th>customerID</th>\n",
       "      <th>BeginDate</th>\n",
       "      <th>EndDate</th>\n",
       "      <th>Type</th>\n",
       "      <th>PaperlessBilling</th>\n",
       "      <th>PaymentMethod</th>\n",
       "      <th>MonthlyCharges</th>\n",
       "      <th>TotalCharges</th>\n",
       "      <th>gender</th>\n",
       "      <th>SeniorCitizen</th>\n",
       "      <th>Partner</th>\n",
       "      <th>Dependents</th>\n",
       "      <th>InternetService</th>\n",
       "      <th>OnlineSecurity</th>\n",
       "      <th>OnlineBackup</th>\n",
       "      <th>DeviceProtection</th>\n",
       "      <th>TechSupport</th>\n",
       "      <th>StreamingTV</th>\n",
       "      <th>StreamingMovies</th>\n",
       "      <th>MultipleLines</th>\n",
       "    </tr>\n",
       "  </thead>\n",
       "  <tbody>\n",
       "    <tr>\n",
       "      <th>1255</th>\n",
       "      <td>4187-CINZD</td>\n",
       "      <td>2016-02-01</td>\n",
       "      <td>2019-04-01</td>\n",
       "      <td>One year</td>\n",
       "      <td>No</td>\n",
       "      <td>Credit card (automatic)</td>\n",
       "      <td>95.25</td>\n",
       "      <td>3691.89</td>\n",
       "      <td>Female</td>\n",
       "      <td>1</td>\n",
       "      <td>No</td>\n",
       "      <td>No</td>\n",
       "      <td>Fiber optic</td>\n",
       "      <td>No</td>\n",
       "      <td>Yes</td>\n",
       "      <td>No</td>\n",
       "      <td>No</td>\n",
       "      <td>Yes</td>\n",
       "      <td>Yes</td>\n",
       "      <td>No</td>\n",
       "    </tr>\n",
       "    <tr>\n",
       "      <th>456</th>\n",
       "      <td>5149-CUZUJ</td>\n",
       "      <td>2017-10-01</td>\n",
       "      <td>2020-02-01</td>\n",
       "      <td>One year</td>\n",
       "      <td>No</td>\n",
       "      <td>Bank transfer (automatic)</td>\n",
       "      <td>92.90</td>\n",
       "      <td>2601.20</td>\n",
       "      <td>Male</td>\n",
       "      <td>0</td>\n",
       "      <td>Yes</td>\n",
       "      <td>Yes</td>\n",
       "      <td>Fiber optic</td>\n",
       "      <td>No</td>\n",
       "      <td>Yes</td>\n",
       "      <td>Yes</td>\n",
       "      <td>Yes</td>\n",
       "      <td>Yes</td>\n",
       "      <td>No</td>\n",
       "      <td>No</td>\n",
       "    </tr>\n",
       "    <tr>\n",
       "      <th>2136</th>\n",
       "      <td>6648-INWPS</td>\n",
       "      <td>2018-10-01</td>\n",
       "      <td>2020-02-01</td>\n",
       "      <td>Month-to-month</td>\n",
       "      <td>No</td>\n",
       "      <td>Electronic check</td>\n",
       "      <td>20.15</td>\n",
       "      <td>338.52</td>\n",
       "      <td>Male</td>\n",
       "      <td>0</td>\n",
       "      <td>Yes</td>\n",
       "      <td>Yes</td>\n",
       "      <td>NaN</td>\n",
       "      <td>NaN</td>\n",
       "      <td>NaN</td>\n",
       "      <td>NaN</td>\n",
       "      <td>NaN</td>\n",
       "      <td>NaN</td>\n",
       "      <td>NaN</td>\n",
       "      <td>No</td>\n",
       "    </tr>\n",
       "    <tr>\n",
       "      <th>5635</th>\n",
       "      <td>9444-JTXHZ</td>\n",
       "      <td>2019-09-01</td>\n",
       "      <td>2020-02-01</td>\n",
       "      <td>Month-to-month</td>\n",
       "      <td>No</td>\n",
       "      <td>Electronic check</td>\n",
       "      <td>76.20</td>\n",
       "      <td>419.10</td>\n",
       "      <td>Male</td>\n",
       "      <td>0</td>\n",
       "      <td>Yes</td>\n",
       "      <td>No</td>\n",
       "      <td>Fiber optic</td>\n",
       "      <td>No</td>\n",
       "      <td>No</td>\n",
       "      <td>Yes</td>\n",
       "      <td>No</td>\n",
       "      <td>No</td>\n",
       "      <td>No</td>\n",
       "      <td>No</td>\n",
       "    </tr>\n",
       "    <tr>\n",
       "      <th>1867</th>\n",
       "      <td>9938-PRCVK</td>\n",
       "      <td>2016-09-01</td>\n",
       "      <td>2020-02-01</td>\n",
       "      <td>Two year</td>\n",
       "      <td>No</td>\n",
       "      <td>Bank transfer (automatic)</td>\n",
       "      <td>19.70</td>\n",
       "      <td>807.70</td>\n",
       "      <td>Female</td>\n",
       "      <td>0</td>\n",
       "      <td>Yes</td>\n",
       "      <td>Yes</td>\n",
       "      <td>NaN</td>\n",
       "      <td>NaN</td>\n",
       "      <td>NaN</td>\n",
       "      <td>NaN</td>\n",
       "      <td>NaN</td>\n",
       "      <td>NaN</td>\n",
       "      <td>NaN</td>\n",
       "      <td>No</td>\n",
       "    </tr>\n",
       "  </tbody>\n",
       "</table>\n",
       "</div>"
      ],
      "text/plain": [
       "      customerID  BeginDate    EndDate            Type PaperlessBilling  \\\n",
       "1255  4187-CINZD 2016-02-01 2019-04-01        One year               No   \n",
       "456   5149-CUZUJ 2017-10-01 2020-02-01        One year               No   \n",
       "2136  6648-INWPS 2018-10-01 2020-02-01  Month-to-month               No   \n",
       "5635  9444-JTXHZ 2019-09-01 2020-02-01  Month-to-month               No   \n",
       "1867  9938-PRCVK 2016-09-01 2020-02-01        Two year               No   \n",
       "\n",
       "                  PaymentMethod  MonthlyCharges  TotalCharges  gender  \\\n",
       "1255    Credit card (automatic)           95.25       3691.89  Female   \n",
       "456   Bank transfer (automatic)           92.90       2601.20    Male   \n",
       "2136           Electronic check           20.15        338.52    Male   \n",
       "5635           Electronic check           76.20        419.10    Male   \n",
       "1867  Bank transfer (automatic)           19.70        807.70  Female   \n",
       "\n",
       "      SeniorCitizen Partner Dependents InternetService OnlineSecurity  \\\n",
       "1255              1      No         No     Fiber optic             No   \n",
       "456               0     Yes        Yes     Fiber optic             No   \n",
       "2136              0     Yes        Yes             NaN            NaN   \n",
       "5635              0     Yes         No     Fiber optic             No   \n",
       "1867              0     Yes        Yes             NaN            NaN   \n",
       "\n",
       "     OnlineBackup DeviceProtection TechSupport StreamingTV StreamingMovies  \\\n",
       "1255          Yes               No          No         Yes             Yes   \n",
       "456           Yes              Yes         Yes         Yes              No   \n",
       "2136          NaN              NaN         NaN         NaN             NaN   \n",
       "5635           No              Yes          No          No              No   \n",
       "1867          NaN              NaN         NaN         NaN             NaN   \n",
       "\n",
       "     MultipleLines  \n",
       "1255            No  \n",
       "456             No  \n",
       "2136            No  \n",
       "5635            No  \n",
       "1867            No  "
      ]
     },
     "execution_count": 37,
     "metadata": {},
     "output_type": "execute_result"
    }
   ],
   "source": [
    "df_train_col_ts = df_train.copy()\n",
    "df_train_col_ts.head()"
   ]
  },
  {
   "cell_type": "code",
   "execution_count": 39,
   "id": "ff56d833",
   "metadata": {},
   "outputs": [],
   "source": [
    "df_train_col_ts = pd.get_dummies(df_train_col_ts, columns=['Type', 'PaperlessBilling', \n",
    "                                                        'gender', 'Partner', \n",
    "                                                       'Dependents',\n",
    "                                                       'OnlineSecurity', 'OnlineBackup', 'DeviceProtection',\n",
    "                                                      'TechSupport', 'StreamingTV', 'StreamingMovies', 'MultipleLines'])"
   ]
  },
  {
   "cell_type": "code",
   "execution_count": 40,
   "id": "dd503540",
   "metadata": {},
   "outputs": [
    {
     "data": {
      "text/html": [
       "<div>\n",
       "<style scoped>\n",
       "    .dataframe tbody tr th:only-of-type {\n",
       "        vertical-align: middle;\n",
       "    }\n",
       "\n",
       "    .dataframe tbody tr th {\n",
       "        vertical-align: top;\n",
       "    }\n",
       "\n",
       "    .dataframe thead th {\n",
       "        text-align: right;\n",
       "    }\n",
       "</style>\n",
       "<table border=\"1\" class=\"dataframe\">\n",
       "  <thead>\n",
       "    <tr style=\"text-align: right;\">\n",
       "      <th></th>\n",
       "      <th>customerID</th>\n",
       "      <th>BeginDate</th>\n",
       "      <th>EndDate</th>\n",
       "      <th>PaymentMethod</th>\n",
       "      <th>MonthlyCharges</th>\n",
       "      <th>TotalCharges</th>\n",
       "      <th>SeniorCitizen</th>\n",
       "      <th>InternetService</th>\n",
       "      <th>Type_Month-to-month</th>\n",
       "      <th>Type_One year</th>\n",
       "      <th>...</th>\n",
       "      <th>DeviceProtection_No</th>\n",
       "      <th>DeviceProtection_Yes</th>\n",
       "      <th>TechSupport_No</th>\n",
       "      <th>TechSupport_Yes</th>\n",
       "      <th>StreamingTV_No</th>\n",
       "      <th>StreamingTV_Yes</th>\n",
       "      <th>StreamingMovies_No</th>\n",
       "      <th>StreamingMovies_Yes</th>\n",
       "      <th>MultipleLines_No</th>\n",
       "      <th>MultipleLines_Yes</th>\n",
       "    </tr>\n",
       "  </thead>\n",
       "  <tbody>\n",
       "    <tr>\n",
       "      <th>1255</th>\n",
       "      <td>4187-CINZD</td>\n",
       "      <td>2016-02-01</td>\n",
       "      <td>2019-04-01</td>\n",
       "      <td>Credit card (automatic)</td>\n",
       "      <td>95.25</td>\n",
       "      <td>3691.89</td>\n",
       "      <td>1</td>\n",
       "      <td>Fiber optic</td>\n",
       "      <td>0</td>\n",
       "      <td>1</td>\n",
       "      <td>...</td>\n",
       "      <td>1</td>\n",
       "      <td>0</td>\n",
       "      <td>1</td>\n",
       "      <td>0</td>\n",
       "      <td>0</td>\n",
       "      <td>1</td>\n",
       "      <td>0</td>\n",
       "      <td>1</td>\n",
       "      <td>1</td>\n",
       "      <td>0</td>\n",
       "    </tr>\n",
       "    <tr>\n",
       "      <th>456</th>\n",
       "      <td>5149-CUZUJ</td>\n",
       "      <td>2017-10-01</td>\n",
       "      <td>2020-02-01</td>\n",
       "      <td>Bank transfer (automatic)</td>\n",
       "      <td>92.90</td>\n",
       "      <td>2601.20</td>\n",
       "      <td>0</td>\n",
       "      <td>Fiber optic</td>\n",
       "      <td>0</td>\n",
       "      <td>1</td>\n",
       "      <td>...</td>\n",
       "      <td>0</td>\n",
       "      <td>1</td>\n",
       "      <td>0</td>\n",
       "      <td>1</td>\n",
       "      <td>0</td>\n",
       "      <td>1</td>\n",
       "      <td>1</td>\n",
       "      <td>0</td>\n",
       "      <td>1</td>\n",
       "      <td>0</td>\n",
       "    </tr>\n",
       "    <tr>\n",
       "      <th>2136</th>\n",
       "      <td>6648-INWPS</td>\n",
       "      <td>2018-10-01</td>\n",
       "      <td>2020-02-01</td>\n",
       "      <td>Electronic check</td>\n",
       "      <td>20.15</td>\n",
       "      <td>338.52</td>\n",
       "      <td>0</td>\n",
       "      <td>NaN</td>\n",
       "      <td>1</td>\n",
       "      <td>0</td>\n",
       "      <td>...</td>\n",
       "      <td>0</td>\n",
       "      <td>0</td>\n",
       "      <td>0</td>\n",
       "      <td>0</td>\n",
       "      <td>0</td>\n",
       "      <td>0</td>\n",
       "      <td>0</td>\n",
       "      <td>0</td>\n",
       "      <td>1</td>\n",
       "      <td>0</td>\n",
       "    </tr>\n",
       "    <tr>\n",
       "      <th>5635</th>\n",
       "      <td>9444-JTXHZ</td>\n",
       "      <td>2019-09-01</td>\n",
       "      <td>2020-02-01</td>\n",
       "      <td>Electronic check</td>\n",
       "      <td>76.20</td>\n",
       "      <td>419.10</td>\n",
       "      <td>0</td>\n",
       "      <td>Fiber optic</td>\n",
       "      <td>1</td>\n",
       "      <td>0</td>\n",
       "      <td>...</td>\n",
       "      <td>0</td>\n",
       "      <td>1</td>\n",
       "      <td>1</td>\n",
       "      <td>0</td>\n",
       "      <td>1</td>\n",
       "      <td>0</td>\n",
       "      <td>1</td>\n",
       "      <td>0</td>\n",
       "      <td>1</td>\n",
       "      <td>0</td>\n",
       "    </tr>\n",
       "    <tr>\n",
       "      <th>1867</th>\n",
       "      <td>9938-PRCVK</td>\n",
       "      <td>2016-09-01</td>\n",
       "      <td>2020-02-01</td>\n",
       "      <td>Bank transfer (automatic)</td>\n",
       "      <td>19.70</td>\n",
       "      <td>807.70</td>\n",
       "      <td>0</td>\n",
       "      <td>NaN</td>\n",
       "      <td>0</td>\n",
       "      <td>0</td>\n",
       "      <td>...</td>\n",
       "      <td>0</td>\n",
       "      <td>0</td>\n",
       "      <td>0</td>\n",
       "      <td>0</td>\n",
       "      <td>0</td>\n",
       "      <td>0</td>\n",
       "      <td>0</td>\n",
       "      <td>0</td>\n",
       "      <td>1</td>\n",
       "      <td>0</td>\n",
       "    </tr>\n",
       "  </tbody>\n",
       "</table>\n",
       "<p>5 rows × 33 columns</p>\n",
       "</div>"
      ],
      "text/plain": [
       "      customerID  BeginDate    EndDate              PaymentMethod  \\\n",
       "1255  4187-CINZD 2016-02-01 2019-04-01    Credit card (automatic)   \n",
       "456   5149-CUZUJ 2017-10-01 2020-02-01  Bank transfer (automatic)   \n",
       "2136  6648-INWPS 2018-10-01 2020-02-01           Electronic check   \n",
       "5635  9444-JTXHZ 2019-09-01 2020-02-01           Electronic check   \n",
       "1867  9938-PRCVK 2016-09-01 2020-02-01  Bank transfer (automatic)   \n",
       "\n",
       "      MonthlyCharges  TotalCharges  SeniorCitizen InternetService  \\\n",
       "1255           95.25       3691.89              1     Fiber optic   \n",
       "456            92.90       2601.20              0     Fiber optic   \n",
       "2136           20.15        338.52              0             NaN   \n",
       "5635           76.20        419.10              0     Fiber optic   \n",
       "1867           19.70        807.70              0             NaN   \n",
       "\n",
       "      Type_Month-to-month  Type_One year  ...  DeviceProtection_No  \\\n",
       "1255                    0              1  ...                    1   \n",
       "456                     0              1  ...                    0   \n",
       "2136                    1              0  ...                    0   \n",
       "5635                    1              0  ...                    0   \n",
       "1867                    0              0  ...                    0   \n",
       "\n",
       "      DeviceProtection_Yes  TechSupport_No  TechSupport_Yes  StreamingTV_No  \\\n",
       "1255                     0               1                0               0   \n",
       "456                      1               0                1               0   \n",
       "2136                     0               0                0               0   \n",
       "5635                     1               1                0               1   \n",
       "1867                     0               0                0               0   \n",
       "\n",
       "      StreamingTV_Yes  StreamingMovies_No  StreamingMovies_Yes  \\\n",
       "1255                1                   0                    1   \n",
       "456                 1                   1                    0   \n",
       "2136                0                   0                    0   \n",
       "5635                0                   1                    0   \n",
       "1867                0                   0                    0   \n",
       "\n",
       "      MultipleLines_No  MultipleLines_Yes  \n",
       "1255                 1                  0  \n",
       "456                  1                  0  \n",
       "2136                 1                  0  \n",
       "5635                 1                  0  \n",
       "1867                 1                  0  \n",
       "\n",
       "[5 rows x 33 columns]"
      ]
     },
     "execution_count": 40,
     "metadata": {},
     "output_type": "execute_result"
    }
   ],
   "source": [
    "df_train_col_ts.head()"
   ]
  },
  {
   "cell_type": "code",
   "execution_count": 41,
   "id": "55a4f106",
   "metadata": {},
   "outputs": [
    {
     "data": {
      "text/html": [
       "<div>\n",
       "<style scoped>\n",
       "    .dataframe tbody tr th:only-of-type {\n",
       "        vertical-align: middle;\n",
       "    }\n",
       "\n",
       "    .dataframe tbody tr th {\n",
       "        vertical-align: top;\n",
       "    }\n",
       "\n",
       "    .dataframe thead th {\n",
       "        text-align: right;\n",
       "    }\n",
       "</style>\n",
       "<table border=\"1\" class=\"dataframe\">\n",
       "  <thead>\n",
       "    <tr style=\"text-align: right;\">\n",
       "      <th></th>\n",
       "      <th>0</th>\n",
       "      <th>1</th>\n",
       "      <th>2</th>\n",
       "      <th>3</th>\n",
       "      <th>4</th>\n",
       "    </tr>\n",
       "  </thead>\n",
       "  <tbody>\n",
       "    <tr>\n",
       "      <th>1255</th>\n",
       "      <td>1.0</td>\n",
       "      <td>0.0</td>\n",
       "      <td>0.0</td>\n",
       "      <td>1.0</td>\n",
       "      <td>0.0</td>\n",
       "    </tr>\n",
       "    <tr>\n",
       "      <th>456</th>\n",
       "      <td>0.0</td>\n",
       "      <td>0.0</td>\n",
       "      <td>0.0</td>\n",
       "      <td>1.0</td>\n",
       "      <td>0.0</td>\n",
       "    </tr>\n",
       "    <tr>\n",
       "      <th>2136</th>\n",
       "      <td>0.0</td>\n",
       "      <td>1.0</td>\n",
       "      <td>0.0</td>\n",
       "      <td>0.0</td>\n",
       "      <td>1.0</td>\n",
       "    </tr>\n",
       "    <tr>\n",
       "      <th>5635</th>\n",
       "      <td>0.0</td>\n",
       "      <td>1.0</td>\n",
       "      <td>0.0</td>\n",
       "      <td>1.0</td>\n",
       "      <td>0.0</td>\n",
       "    </tr>\n",
       "    <tr>\n",
       "      <th>1867</th>\n",
       "      <td>0.0</td>\n",
       "      <td>0.0</td>\n",
       "      <td>0.0</td>\n",
       "      <td>0.0</td>\n",
       "      <td>1.0</td>\n",
       "    </tr>\n",
       "  </tbody>\n",
       "</table>\n",
       "</div>"
      ],
      "text/plain": [
       "        0    1    2    3    4\n",
       "1255  1.0  0.0  0.0  1.0  0.0\n",
       "456   0.0  0.0  0.0  1.0  0.0\n",
       "2136  0.0  1.0  0.0  0.0  1.0\n",
       "5635  0.0  1.0  0.0  1.0  0.0\n",
       "1867  0.0  0.0  0.0  0.0  1.0"
      ]
     },
     "execution_count": 41,
     "metadata": {},
     "output_type": "execute_result"
    }
   ],
   "source": [
    "onehe = OneHotEncoder(drop = 'first')\n",
    "onehe_col = pd.DataFrame(onehe.fit_transform(df_train_col_ts[['PaymentMethod', 'InternetService']]).toarray(), \n",
    "                        index = df_train_col_ts.index)\n",
    "onehe_col.head()"
   ]
  },
  {
   "cell_type": "code",
   "execution_count": 42,
   "id": "541da5d1",
   "metadata": {},
   "outputs": [],
   "source": [
    "df_train_col_ts = df_train_col_ts.merge(pd.DataFrame(onehe_col, index = df_train_col_ts.index), how = 'inner', left_index = True, right_index = True)\n",
    "df_train_col_ts.drop(['PaymentMethod', 'InternetService'], axis = 1,inplace = True)"
   ]
  },
  {
   "cell_type": "code",
   "execution_count": 43,
   "id": "bf8af35c",
   "metadata": {},
   "outputs": [],
   "source": [
    "df_train_col_ts.fillna(-1, inplace = True)"
   ]
  },
  {
   "cell_type": "markdown",
   "id": "c5a46c0f",
   "metadata": {},
   "source": [
    "Создаем дополнительный признак, количество дней использования."
   ]
  },
  {
   "cell_type": "code",
   "execution_count": 44,
   "id": "ba89d49b",
   "metadata": {},
   "outputs": [],
   "source": [
    "df_train_col_ts['dayuse'] = (df_train_col_ts.EndDate - df_train_col_ts.BeginDate).dt.days"
   ]
  },
  {
   "cell_type": "code",
   "execution_count": 45,
   "id": "403d1fe1",
   "metadata": {},
   "outputs": [
    {
     "data": {
      "text/html": [
       "<div>\n",
       "<style scoped>\n",
       "    .dataframe tbody tr th:only-of-type {\n",
       "        vertical-align: middle;\n",
       "    }\n",
       "\n",
       "    .dataframe tbody tr th {\n",
       "        vertical-align: top;\n",
       "    }\n",
       "\n",
       "    .dataframe thead th {\n",
       "        text-align: right;\n",
       "    }\n",
       "</style>\n",
       "<table border=\"1\" class=\"dataframe\">\n",
       "  <thead>\n",
       "    <tr style=\"text-align: right;\">\n",
       "      <th></th>\n",
       "      <th>MonthlyCharges</th>\n",
       "      <th>TotalCharges</th>\n",
       "      <th>dayuse</th>\n",
       "    </tr>\n",
       "  </thead>\n",
       "  <tbody>\n",
       "    <tr>\n",
       "      <th>1255</th>\n",
       "      <td>0.766169</td>\n",
       "      <td>0.405866</td>\n",
       "      <td>0.492335</td>\n",
       "    </tr>\n",
       "    <tr>\n",
       "      <th>456</th>\n",
       "      <td>0.742786</td>\n",
       "      <td>0.285338</td>\n",
       "      <td>0.360053</td>\n",
       "    </tr>\n",
       "    <tr>\n",
       "      <th>2136</th>\n",
       "      <td>0.018905</td>\n",
       "      <td>0.035298</td>\n",
       "      <td>0.200175</td>\n",
       "    </tr>\n",
       "  </tbody>\n",
       "</table>\n",
       "</div>"
      ],
      "text/plain": [
       "      MonthlyCharges  TotalCharges    dayuse\n",
       "1255        0.766169      0.405866  0.492335\n",
       "456         0.742786      0.285338  0.360053\n",
       "2136        0.018905      0.035298  0.200175"
      ]
     },
     "execution_count": 45,
     "metadata": {},
     "output_type": "execute_result"
    }
   ],
   "source": [
    "minsc = MinMaxScaler()\n",
    "minsc_col = pd.DataFrame(minsc.fit_transform(df_train_col_ts[['MonthlyCharges', 'TotalCharges', 'dayuse']]), \n",
    "    columns = ['MonthlyCharges', 'TotalCharges', 'dayuse'], index = df_train_col_ts.index)\n",
    "minsc_col.head(3)"
   ]
  },
  {
   "cell_type": "code",
   "execution_count": 46,
   "id": "000dc2ad",
   "metadata": {},
   "outputs": [],
   "source": [
    "df_train_col_ts.drop(['MonthlyCharges', 'TotalCharges', 'dayuse'], axis=1,inplace=True)"
   ]
  },
  {
   "cell_type": "code",
   "execution_count": 47,
   "id": "a6355b41",
   "metadata": {},
   "outputs": [],
   "source": [
    "df_train_col_ts = df_train_col_ts.merge(pd.DataFrame(minsc_col, index = df_train_col_ts.index), how = 'inner',\n",
    "                         left_index = True, right_index = True)"
   ]
  },
  {
   "cell_type": "code",
   "execution_count": 48,
   "id": "50b4a167",
   "metadata": {},
   "outputs": [
    {
     "data": {
      "text/html": [
       "<div>\n",
       "<style scoped>\n",
       "    .dataframe tbody tr th:only-of-type {\n",
       "        vertical-align: middle;\n",
       "    }\n",
       "\n",
       "    .dataframe tbody tr th {\n",
       "        vertical-align: top;\n",
       "    }\n",
       "\n",
       "    .dataframe thead th {\n",
       "        text-align: right;\n",
       "    }\n",
       "</style>\n",
       "<table border=\"1\" class=\"dataframe\">\n",
       "  <thead>\n",
       "    <tr style=\"text-align: right;\">\n",
       "      <th></th>\n",
       "      <th>customerID</th>\n",
       "      <th>BeginDate</th>\n",
       "      <th>EndDate</th>\n",
       "      <th>SeniorCitizen</th>\n",
       "      <th>Type_Month-to-month</th>\n",
       "      <th>Type_One year</th>\n",
       "      <th>Type_Two year</th>\n",
       "      <th>PaperlessBilling_No</th>\n",
       "      <th>PaperlessBilling_Yes</th>\n",
       "      <th>gender_Female</th>\n",
       "      <th>...</th>\n",
       "      <th>MultipleLines_Yes</th>\n",
       "      <th>0</th>\n",
       "      <th>1</th>\n",
       "      <th>2</th>\n",
       "      <th>3</th>\n",
       "      <th>4</th>\n",
       "      <th>MonthlyCharges</th>\n",
       "      <th>TotalCharges</th>\n",
       "      <th>dayuse</th>\n",
       "      <th>target</th>\n",
       "    </tr>\n",
       "  </thead>\n",
       "  <tbody>\n",
       "    <tr>\n",
       "      <th>1255</th>\n",
       "      <td>4187-CINZD</td>\n",
       "      <td>2016-02-01</td>\n",
       "      <td>2019-04-01</td>\n",
       "      <td>1</td>\n",
       "      <td>0</td>\n",
       "      <td>1</td>\n",
       "      <td>0</td>\n",
       "      <td>1</td>\n",
       "      <td>0</td>\n",
       "      <td>1</td>\n",
       "      <td>...</td>\n",
       "      <td>0</td>\n",
       "      <td>1.0</td>\n",
       "      <td>0.0</td>\n",
       "      <td>0.0</td>\n",
       "      <td>1.0</td>\n",
       "      <td>0.0</td>\n",
       "      <td>0.766169</td>\n",
       "      <td>0.405866</td>\n",
       "      <td>0.492335</td>\n",
       "      <td>0</td>\n",
       "    </tr>\n",
       "    <tr>\n",
       "      <th>456</th>\n",
       "      <td>5149-CUZUJ</td>\n",
       "      <td>2017-10-01</td>\n",
       "      <td>2020-02-01</td>\n",
       "      <td>0</td>\n",
       "      <td>0</td>\n",
       "      <td>1</td>\n",
       "      <td>0</td>\n",
       "      <td>1</td>\n",
       "      <td>0</td>\n",
       "      <td>0</td>\n",
       "      <td>...</td>\n",
       "      <td>0</td>\n",
       "      <td>0.0</td>\n",
       "      <td>0.0</td>\n",
       "      <td>0.0</td>\n",
       "      <td>1.0</td>\n",
       "      <td>0.0</td>\n",
       "      <td>0.742786</td>\n",
       "      <td>0.285338</td>\n",
       "      <td>0.360053</td>\n",
       "      <td>1</td>\n",
       "    </tr>\n",
       "    <tr>\n",
       "      <th>2136</th>\n",
       "      <td>6648-INWPS</td>\n",
       "      <td>2018-10-01</td>\n",
       "      <td>2020-02-01</td>\n",
       "      <td>0</td>\n",
       "      <td>1</td>\n",
       "      <td>0</td>\n",
       "      <td>0</td>\n",
       "      <td>1</td>\n",
       "      <td>0</td>\n",
       "      <td>0</td>\n",
       "      <td>...</td>\n",
       "      <td>0</td>\n",
       "      <td>0.0</td>\n",
       "      <td>1.0</td>\n",
       "      <td>0.0</td>\n",
       "      <td>0.0</td>\n",
       "      <td>1.0</td>\n",
       "      <td>0.018905</td>\n",
       "      <td>0.035298</td>\n",
       "      <td>0.200175</td>\n",
       "      <td>1</td>\n",
       "    </tr>\n",
       "    <tr>\n",
       "      <th>5635</th>\n",
       "      <td>9444-JTXHZ</td>\n",
       "      <td>2019-09-01</td>\n",
       "      <td>2020-02-01</td>\n",
       "      <td>0</td>\n",
       "      <td>1</td>\n",
       "      <td>0</td>\n",
       "      <td>0</td>\n",
       "      <td>1</td>\n",
       "      <td>0</td>\n",
       "      <td>0</td>\n",
       "      <td>...</td>\n",
       "      <td>0</td>\n",
       "      <td>0.0</td>\n",
       "      <td>1.0</td>\n",
       "      <td>0.0</td>\n",
       "      <td>1.0</td>\n",
       "      <td>0.0</td>\n",
       "      <td>0.576617</td>\n",
       "      <td>0.044203</td>\n",
       "      <td>0.053438</td>\n",
       "      <td>1</td>\n",
       "    </tr>\n",
       "    <tr>\n",
       "      <th>1867</th>\n",
       "      <td>9938-PRCVK</td>\n",
       "      <td>2016-09-01</td>\n",
       "      <td>2020-02-01</td>\n",
       "      <td>0</td>\n",
       "      <td>0</td>\n",
       "      <td>0</td>\n",
       "      <td>1</td>\n",
       "      <td>1</td>\n",
       "      <td>0</td>\n",
       "      <td>1</td>\n",
       "      <td>...</td>\n",
       "      <td>0</td>\n",
       "      <td>0.0</td>\n",
       "      <td>0.0</td>\n",
       "      <td>0.0</td>\n",
       "      <td>0.0</td>\n",
       "      <td>1.0</td>\n",
       "      <td>0.014428</td>\n",
       "      <td>0.087145</td>\n",
       "      <td>0.533071</td>\n",
       "      <td>1</td>\n",
       "    </tr>\n",
       "  </tbody>\n",
       "</table>\n",
       "<p>5 rows × 38 columns</p>\n",
       "</div>"
      ],
      "text/plain": [
       "      customerID  BeginDate    EndDate  SeniorCitizen  Type_Month-to-month  \\\n",
       "1255  4187-CINZD 2016-02-01 2019-04-01              1                    0   \n",
       "456   5149-CUZUJ 2017-10-01 2020-02-01              0                    0   \n",
       "2136  6648-INWPS 2018-10-01 2020-02-01              0                    1   \n",
       "5635  9444-JTXHZ 2019-09-01 2020-02-01              0                    1   \n",
       "1867  9938-PRCVK 2016-09-01 2020-02-01              0                    0   \n",
       "\n",
       "      Type_One year  Type_Two year  PaperlessBilling_No  PaperlessBilling_Yes  \\\n",
       "1255              1              0                    1                     0   \n",
       "456               1              0                    1                     0   \n",
       "2136              0              0                    1                     0   \n",
       "5635              0              0                    1                     0   \n",
       "1867              0              1                    1                     0   \n",
       "\n",
       "      gender_Female  ...  MultipleLines_Yes    0    1    2    3    4  \\\n",
       "1255              1  ...                  0  1.0  0.0  0.0  1.0  0.0   \n",
       "456               0  ...                  0  0.0  0.0  0.0  1.0  0.0   \n",
       "2136              0  ...                  0  0.0  1.0  0.0  0.0  1.0   \n",
       "5635              0  ...                  0  0.0  1.0  0.0  1.0  0.0   \n",
       "1867              1  ...                  0  0.0  0.0  0.0  0.0  1.0   \n",
       "\n",
       "      MonthlyCharges  TotalCharges    dayuse  target  \n",
       "1255        0.766169      0.405866  0.492335       0  \n",
       "456         0.742786      0.285338  0.360053       1  \n",
       "2136        0.018905      0.035298  0.200175       1  \n",
       "5635        0.576617      0.044203  0.053438       1  \n",
       "1867        0.014428      0.087145  0.533071       1  \n",
       "\n",
       "[5 rows x 38 columns]"
      ]
     },
     "execution_count": 48,
     "metadata": {},
     "output_type": "execute_result"
    }
   ],
   "source": [
    "datedef = '2020-02-01'\n",
    "df_train_col_ts['target'] = (df_train_col_ts.EndDate == datedef).astype(int)\n",
    "df_train_col_ts.head()"
   ]
  },
  {
   "cell_type": "markdown",
   "id": "9a24321c",
   "metadata": {},
   "source": [
    "Удаляем ненужные столбцы"
   ]
  },
  {
   "cell_type": "code",
   "execution_count": 49,
   "id": "ede138b2",
   "metadata": {},
   "outputs": [
    {
     "data": {
      "text/html": [
       "<div>\n",
       "<style scoped>\n",
       "    .dataframe tbody tr th:only-of-type {\n",
       "        vertical-align: middle;\n",
       "    }\n",
       "\n",
       "    .dataframe tbody tr th {\n",
       "        vertical-align: top;\n",
       "    }\n",
       "\n",
       "    .dataframe thead th {\n",
       "        text-align: right;\n",
       "    }\n",
       "</style>\n",
       "<table border=\"1\" class=\"dataframe\">\n",
       "  <thead>\n",
       "    <tr style=\"text-align: right;\">\n",
       "      <th></th>\n",
       "      <th>SeniorCitizen</th>\n",
       "      <th>Type_Month-to-month</th>\n",
       "      <th>Type_One year</th>\n",
       "      <th>Type_Two year</th>\n",
       "      <th>PaperlessBilling_No</th>\n",
       "      <th>PaperlessBilling_Yes</th>\n",
       "      <th>gender_Female</th>\n",
       "      <th>gender_Male</th>\n",
       "      <th>Partner_No</th>\n",
       "      <th>Partner_Yes</th>\n",
       "      <th>...</th>\n",
       "      <th>MultipleLines_Yes</th>\n",
       "      <th>0</th>\n",
       "      <th>1</th>\n",
       "      <th>2</th>\n",
       "      <th>3</th>\n",
       "      <th>4</th>\n",
       "      <th>MonthlyCharges</th>\n",
       "      <th>TotalCharges</th>\n",
       "      <th>dayuse</th>\n",
       "      <th>target</th>\n",
       "    </tr>\n",
       "  </thead>\n",
       "  <tbody>\n",
       "    <tr>\n",
       "      <th>1255</th>\n",
       "      <td>1</td>\n",
       "      <td>0</td>\n",
       "      <td>1</td>\n",
       "      <td>0</td>\n",
       "      <td>1</td>\n",
       "      <td>0</td>\n",
       "      <td>1</td>\n",
       "      <td>0</td>\n",
       "      <td>1</td>\n",
       "      <td>0</td>\n",
       "      <td>...</td>\n",
       "      <td>0</td>\n",
       "      <td>1.0</td>\n",
       "      <td>0.0</td>\n",
       "      <td>0.0</td>\n",
       "      <td>1.0</td>\n",
       "      <td>0.0</td>\n",
       "      <td>0.766169</td>\n",
       "      <td>0.405866</td>\n",
       "      <td>0.492335</td>\n",
       "      <td>0</td>\n",
       "    </tr>\n",
       "    <tr>\n",
       "      <th>456</th>\n",
       "      <td>0</td>\n",
       "      <td>0</td>\n",
       "      <td>1</td>\n",
       "      <td>0</td>\n",
       "      <td>1</td>\n",
       "      <td>0</td>\n",
       "      <td>0</td>\n",
       "      <td>1</td>\n",
       "      <td>0</td>\n",
       "      <td>1</td>\n",
       "      <td>...</td>\n",
       "      <td>0</td>\n",
       "      <td>0.0</td>\n",
       "      <td>0.0</td>\n",
       "      <td>0.0</td>\n",
       "      <td>1.0</td>\n",
       "      <td>0.0</td>\n",
       "      <td>0.742786</td>\n",
       "      <td>0.285338</td>\n",
       "      <td>0.360053</td>\n",
       "      <td>1</td>\n",
       "    </tr>\n",
       "    <tr>\n",
       "      <th>2136</th>\n",
       "      <td>0</td>\n",
       "      <td>1</td>\n",
       "      <td>0</td>\n",
       "      <td>0</td>\n",
       "      <td>1</td>\n",
       "      <td>0</td>\n",
       "      <td>0</td>\n",
       "      <td>1</td>\n",
       "      <td>0</td>\n",
       "      <td>1</td>\n",
       "      <td>...</td>\n",
       "      <td>0</td>\n",
       "      <td>0.0</td>\n",
       "      <td>1.0</td>\n",
       "      <td>0.0</td>\n",
       "      <td>0.0</td>\n",
       "      <td>1.0</td>\n",
       "      <td>0.018905</td>\n",
       "      <td>0.035298</td>\n",
       "      <td>0.200175</td>\n",
       "      <td>1</td>\n",
       "    </tr>\n",
       "    <tr>\n",
       "      <th>5635</th>\n",
       "      <td>0</td>\n",
       "      <td>1</td>\n",
       "      <td>0</td>\n",
       "      <td>0</td>\n",
       "      <td>1</td>\n",
       "      <td>0</td>\n",
       "      <td>0</td>\n",
       "      <td>1</td>\n",
       "      <td>0</td>\n",
       "      <td>1</td>\n",
       "      <td>...</td>\n",
       "      <td>0</td>\n",
       "      <td>0.0</td>\n",
       "      <td>1.0</td>\n",
       "      <td>0.0</td>\n",
       "      <td>1.0</td>\n",
       "      <td>0.0</td>\n",
       "      <td>0.576617</td>\n",
       "      <td>0.044203</td>\n",
       "      <td>0.053438</td>\n",
       "      <td>1</td>\n",
       "    </tr>\n",
       "    <tr>\n",
       "      <th>1867</th>\n",
       "      <td>0</td>\n",
       "      <td>0</td>\n",
       "      <td>0</td>\n",
       "      <td>1</td>\n",
       "      <td>1</td>\n",
       "      <td>0</td>\n",
       "      <td>1</td>\n",
       "      <td>0</td>\n",
       "      <td>0</td>\n",
       "      <td>1</td>\n",
       "      <td>...</td>\n",
       "      <td>0</td>\n",
       "      <td>0.0</td>\n",
       "      <td>0.0</td>\n",
       "      <td>0.0</td>\n",
       "      <td>0.0</td>\n",
       "      <td>1.0</td>\n",
       "      <td>0.014428</td>\n",
       "      <td>0.087145</td>\n",
       "      <td>0.533071</td>\n",
       "      <td>1</td>\n",
       "    </tr>\n",
       "  </tbody>\n",
       "</table>\n",
       "<p>5 rows × 35 columns</p>\n",
       "</div>"
      ],
      "text/plain": [
       "      SeniorCitizen  Type_Month-to-month  Type_One year  Type_Two year  \\\n",
       "1255              1                    0              1              0   \n",
       "456               0                    0              1              0   \n",
       "2136              0                    1              0              0   \n",
       "5635              0                    1              0              0   \n",
       "1867              0                    0              0              1   \n",
       "\n",
       "      PaperlessBilling_No  PaperlessBilling_Yes  gender_Female  gender_Male  \\\n",
       "1255                    1                     0              1            0   \n",
       "456                     1                     0              0            1   \n",
       "2136                    1                     0              0            1   \n",
       "5635                    1                     0              0            1   \n",
       "1867                    1                     0              1            0   \n",
       "\n",
       "      Partner_No  Partner_Yes  ...  MultipleLines_Yes    0    1    2    3  \\\n",
       "1255           1            0  ...                  0  1.0  0.0  0.0  1.0   \n",
       "456            0            1  ...                  0  0.0  0.0  0.0  1.0   \n",
       "2136           0            1  ...                  0  0.0  1.0  0.0  0.0   \n",
       "5635           0            1  ...                  0  0.0  1.0  0.0  1.0   \n",
       "1867           0            1  ...                  0  0.0  0.0  0.0  0.0   \n",
       "\n",
       "        4  MonthlyCharges  TotalCharges    dayuse  target  \n",
       "1255  0.0        0.766169      0.405866  0.492335       0  \n",
       "456   0.0        0.742786      0.285338  0.360053       1  \n",
       "2136  1.0        0.018905      0.035298  0.200175       1  \n",
       "5635  0.0        0.576617      0.044203  0.053438       1  \n",
       "1867  1.0        0.014428      0.087145  0.533071       1  \n",
       "\n",
       "[5 rows x 35 columns]"
      ]
     },
     "execution_count": 49,
     "metadata": {},
     "output_type": "execute_result"
    }
   ],
   "source": [
    "df_train_col_ts.drop(['customerID','BeginDate','EndDate'], axis=1, inplace=True)\n",
    "df_train_col_ts.head()"
   ]
  },
  {
   "cell_type": "markdown",
   "id": "a900f8ae",
   "metadata": {},
   "source": [
    "Выделяем таргет и фичи"
   ]
  },
  {
   "cell_type": "code",
   "execution_count": 50,
   "id": "b326d2a1",
   "metadata": {},
   "outputs": [],
   "source": [
    "X_train = df_train_col_ts.drop('target', axis = 1)\n",
    "y_train = df_train_col_ts['target']"
   ]
  },
  {
   "cell_type": "code",
   "execution_count": 51,
   "id": "92b6f73d",
   "metadata": {},
   "outputs": [
    {
     "data": {
      "text/plain": [
       "((5274, 34), (5274,))"
      ]
     },
     "execution_count": 51,
     "metadata": {},
     "output_type": "execute_result"
    }
   ],
   "source": [
    "X_train.shape, y_train.shape"
   ]
  },
  {
   "cell_type": "markdown",
   "id": "b0bbaffe",
   "metadata": {},
   "source": [
    "#### Мультиколлениарность"
   ]
  },
  {
   "cell_type": "code",
   "execution_count": 52,
   "id": "84c0ea4d",
   "metadata": {},
   "outputs": [
    {
     "data": {
      "text/html": [
       "<div>\n",
       "<style scoped>\n",
       "    .dataframe tbody tr th:only-of-type {\n",
       "        vertical-align: middle;\n",
       "    }\n",
       "\n",
       "    .dataframe tbody tr th {\n",
       "        vertical-align: top;\n",
       "    }\n",
       "\n",
       "    .dataframe thead th {\n",
       "        text-align: right;\n",
       "    }\n",
       "</style>\n",
       "<table border=\"1\" class=\"dataframe\">\n",
       "  <thead>\n",
       "    <tr style=\"text-align: right;\">\n",
       "      <th></th>\n",
       "      <th>SeniorCitizen</th>\n",
       "      <th>Type_Month-to-month</th>\n",
       "      <th>Type_One year</th>\n",
       "      <th>Type_Two year</th>\n",
       "      <th>PaperlessBilling_No</th>\n",
       "      <th>PaperlessBilling_Yes</th>\n",
       "      <th>gender_Female</th>\n",
       "      <th>gender_Male</th>\n",
       "      <th>Partner_No</th>\n",
       "      <th>Partner_Yes</th>\n",
       "      <th>...</th>\n",
       "      <th>MultipleLines_Yes</th>\n",
       "      <th>0</th>\n",
       "      <th>1</th>\n",
       "      <th>2</th>\n",
       "      <th>3</th>\n",
       "      <th>4</th>\n",
       "      <th>MonthlyCharges</th>\n",
       "      <th>TotalCharges</th>\n",
       "      <th>dayuse</th>\n",
       "      <th>target</th>\n",
       "    </tr>\n",
       "  </thead>\n",
       "  <tbody>\n",
       "    <tr>\n",
       "      <th>SeniorCitizen</th>\n",
       "      <td>1.000000</td>\n",
       "      <td>0.214175</td>\n",
       "      <td>0.069675</td>\n",
       "      <td>0.180417</td>\n",
       "      <td>0.247164</td>\n",
       "      <td>0.247164</td>\n",
       "      <td>0.000000</td>\n",
       "      <td>0.000000</td>\n",
       "      <td>0.000000</td>\n",
       "      <td>0.000000</td>\n",
       "      <td>...</td>\n",
       "      <td>0.221375</td>\n",
       "      <td>0.041044</td>\n",
       "      <td>0.270634</td>\n",
       "      <td>0.239917</td>\n",
       "      <td>0.393743</td>\n",
       "      <td>0.288681</td>\n",
       "      <td>0.310987</td>\n",
       "      <td>0.137815</td>\n",
       "      <td>0.023876</td>\n",
       "      <td>0.087748</td>\n",
       "    </tr>\n",
       "    <tr>\n",
       "      <th>Type_Month-to-month</th>\n",
       "      <td>0.214175</td>\n",
       "      <td>1.000000</td>\n",
       "      <td>0.782011</td>\n",
       "      <td>0.827912</td>\n",
       "      <td>0.265732</td>\n",
       "      <td>0.265732</td>\n",
       "      <td>0.000000</td>\n",
       "      <td>0.000000</td>\n",
       "      <td>0.429906</td>\n",
       "      <td>0.429906</td>\n",
       "      <td>...</td>\n",
       "      <td>0.131926</td>\n",
       "      <td>0.305500</td>\n",
       "      <td>0.486887</td>\n",
       "      <td>0.000000</td>\n",
       "      <td>0.375168</td>\n",
       "      <td>0.342749</td>\n",
       "      <td>0.420187</td>\n",
       "      <td>0.539417</td>\n",
       "      <td>0.761361</td>\n",
       "      <td>0.243710</td>\n",
       "    </tr>\n",
       "    <tr>\n",
       "      <th>Type_One year</th>\n",
       "      <td>0.069675</td>\n",
       "      <td>0.782011</td>\n",
       "      <td>1.000000</td>\n",
       "      <td>0.434354</td>\n",
       "      <td>0.070263</td>\n",
       "      <td>0.070263</td>\n",
       "      <td>0.006248</td>\n",
       "      <td>0.006248</td>\n",
       "      <td>0.131333</td>\n",
       "      <td>0.131333</td>\n",
       "      <td>...</td>\n",
       "      <td>0.000000</td>\n",
       "      <td>0.102212</td>\n",
       "      <td>0.174636</td>\n",
       "      <td>0.000000</td>\n",
       "      <td>0.134184</td>\n",
       "      <td>0.069166</td>\n",
       "      <td>0.165555</td>\n",
       "      <td>0.238768</td>\n",
       "      <td>0.371631</td>\n",
       "      <td>0.112265</td>\n",
       "    </tr>\n",
       "    <tr>\n",
       "      <th>Type_Two year</th>\n",
       "      <td>0.180417</td>\n",
       "      <td>0.827912</td>\n",
       "      <td>0.434354</td>\n",
       "      <td>1.000000</td>\n",
       "      <td>0.240840</td>\n",
       "      <td>0.240840</td>\n",
       "      <td>0.000000</td>\n",
       "      <td>0.000000</td>\n",
       "      <td>0.381011</td>\n",
       "      <td>0.381011</td>\n",
       "      <td>...</td>\n",
       "      <td>0.172573</td>\n",
       "      <td>0.258833</td>\n",
       "      <td>0.411670</td>\n",
       "      <td>0.000000</td>\n",
       "      <td>0.312921</td>\n",
       "      <td>0.332174</td>\n",
       "      <td>0.402744</td>\n",
       "      <td>0.478148</td>\n",
       "      <td>0.713643</td>\n",
       "      <td>0.176043</td>\n",
       "    </tr>\n",
       "    <tr>\n",
       "      <th>PaperlessBilling_No</th>\n",
       "      <td>0.247164</td>\n",
       "      <td>0.265732</td>\n",
       "      <td>0.070263</td>\n",
       "      <td>0.240840</td>\n",
       "      <td>1.000000</td>\n",
       "      <td>1.000000</td>\n",
       "      <td>0.000000</td>\n",
       "      <td>0.000000</td>\n",
       "      <td>0.023203</td>\n",
       "      <td>0.023203</td>\n",
       "      <td>...</td>\n",
       "      <td>0.228007</td>\n",
       "      <td>0.000000</td>\n",
       "      <td>0.321213</td>\n",
       "      <td>0.314739</td>\n",
       "      <td>0.486695</td>\n",
       "      <td>0.496276</td>\n",
       "      <td>0.475415</td>\n",
       "      <td>0.211536</td>\n",
       "      <td>0.000000</td>\n",
       "      <td>0.065993</td>\n",
       "    </tr>\n",
       "    <tr>\n",
       "      <th>PaperlessBilling_Yes</th>\n",
       "      <td>0.247164</td>\n",
       "      <td>0.265732</td>\n",
       "      <td>0.070263</td>\n",
       "      <td>0.240840</td>\n",
       "      <td>1.000000</td>\n",
       "      <td>1.000000</td>\n",
       "      <td>0.000000</td>\n",
       "      <td>0.000000</td>\n",
       "      <td>0.023203</td>\n",
       "      <td>0.023203</td>\n",
       "      <td>...</td>\n",
       "      <td>0.228007</td>\n",
       "      <td>0.000000</td>\n",
       "      <td>0.321213</td>\n",
       "      <td>0.314739</td>\n",
       "      <td>0.486695</td>\n",
       "      <td>0.496276</td>\n",
       "      <td>0.475415</td>\n",
       "      <td>0.211536</td>\n",
       "      <td>0.000000</td>\n",
       "      <td>0.065993</td>\n",
       "    </tr>\n",
       "    <tr>\n",
       "      <th>gender_Female</th>\n",
       "      <td>0.000000</td>\n",
       "      <td>0.000000</td>\n",
       "      <td>0.006248</td>\n",
       "      <td>0.000000</td>\n",
       "      <td>0.000000</td>\n",
       "      <td>0.000000</td>\n",
       "      <td>1.000000</td>\n",
       "      <td>1.000000</td>\n",
       "      <td>0.000000</td>\n",
       "      <td>0.000000</td>\n",
       "      <td>...</td>\n",
       "      <td>0.000000</td>\n",
       "      <td>0.000000</td>\n",
       "      <td>0.000000</td>\n",
       "      <td>0.017262</td>\n",
       "      <td>0.000000</td>\n",
       "      <td>0.000000</td>\n",
       "      <td>0.000000</td>\n",
       "      <td>0.000000</td>\n",
       "      <td>0.000000</td>\n",
       "      <td>0.000000</td>\n",
       "    </tr>\n",
       "    <tr>\n",
       "      <th>gender_Male</th>\n",
       "      <td>0.000000</td>\n",
       "      <td>0.000000</td>\n",
       "      <td>0.006248</td>\n",
       "      <td>0.000000</td>\n",
       "      <td>0.000000</td>\n",
       "      <td>0.000000</td>\n",
       "      <td>1.000000</td>\n",
       "      <td>1.000000</td>\n",
       "      <td>0.000000</td>\n",
       "      <td>0.000000</td>\n",
       "      <td>...</td>\n",
       "      <td>0.000000</td>\n",
       "      <td>0.000000</td>\n",
       "      <td>0.000000</td>\n",
       "      <td>0.017262</td>\n",
       "      <td>0.000000</td>\n",
       "      <td>0.000000</td>\n",
       "      <td>0.000000</td>\n",
       "      <td>0.000000</td>\n",
       "      <td>0.000000</td>\n",
       "      <td>0.000000</td>\n",
       "    </tr>\n",
       "    <tr>\n",
       "      <th>Partner_No</th>\n",
       "      <td>0.000000</td>\n",
       "      <td>0.429906</td>\n",
       "      <td>0.131333</td>\n",
       "      <td>0.381011</td>\n",
       "      <td>0.023203</td>\n",
       "      <td>0.023203</td>\n",
       "      <td>0.000000</td>\n",
       "      <td>0.000000</td>\n",
       "      <td>1.000000</td>\n",
       "      <td>1.000000</td>\n",
       "      <td>...</td>\n",
       "      <td>0.211417</td>\n",
       "      <td>0.115340</td>\n",
       "      <td>0.130005</td>\n",
       "      <td>0.120060</td>\n",
       "      <td>0.000000</td>\n",
       "      <td>0.000000</td>\n",
       "      <td>0.207454</td>\n",
       "      <td>0.371015</td>\n",
       "      <td>0.436498</td>\n",
       "      <td>0.224246</td>\n",
       "    </tr>\n",
       "    <tr>\n",
       "      <th>Partner_Yes</th>\n",
       "      <td>0.000000</td>\n",
       "      <td>0.429906</td>\n",
       "      <td>0.131333</td>\n",
       "      <td>0.381011</td>\n",
       "      <td>0.023203</td>\n",
       "      <td>0.023203</td>\n",
       "      <td>0.000000</td>\n",
       "      <td>0.000000</td>\n",
       "      <td>1.000000</td>\n",
       "      <td>1.000000</td>\n",
       "      <td>...</td>\n",
       "      <td>0.211417</td>\n",
       "      <td>0.115340</td>\n",
       "      <td>0.130005</td>\n",
       "      <td>0.120060</td>\n",
       "      <td>0.000000</td>\n",
       "      <td>0.000000</td>\n",
       "      <td>0.207454</td>\n",
       "      <td>0.371015</td>\n",
       "      <td>0.436498</td>\n",
       "      <td>0.224246</td>\n",
       "    </tr>\n",
       "    <tr>\n",
       "      <th>Dependents_No</th>\n",
       "      <td>0.330913</td>\n",
       "      <td>0.353865</td>\n",
       "      <td>0.114708</td>\n",
       "      <td>0.305043</td>\n",
       "      <td>0.172834</td>\n",
       "      <td>0.172834</td>\n",
       "      <td>0.000000</td>\n",
       "      <td>0.000000</td>\n",
       "      <td>0.654584</td>\n",
       "      <td>0.654584</td>\n",
       "      <td>...</td>\n",
       "      <td>0.030244</td>\n",
       "      <td>0.098858</td>\n",
       "      <td>0.222741</td>\n",
       "      <td>0.095860</td>\n",
       "      <td>0.247431</td>\n",
       "      <td>0.224713</td>\n",
       "      <td>0.186056</td>\n",
       "      <td>0.075269</td>\n",
       "      <td>0.188172</td>\n",
       "      <td>0.059248</td>\n",
       "    </tr>\n",
       "    <tr>\n",
       "      <th>Dependents_Yes</th>\n",
       "      <td>0.330913</td>\n",
       "      <td>0.353865</td>\n",
       "      <td>0.114708</td>\n",
       "      <td>0.305043</td>\n",
       "      <td>0.172834</td>\n",
       "      <td>0.172834</td>\n",
       "      <td>0.000000</td>\n",
       "      <td>0.000000</td>\n",
       "      <td>0.654584</td>\n",
       "      <td>0.654584</td>\n",
       "      <td>...</td>\n",
       "      <td>0.030244</td>\n",
       "      <td>0.098858</td>\n",
       "      <td>0.222741</td>\n",
       "      <td>0.095860</td>\n",
       "      <td>0.247431</td>\n",
       "      <td>0.224713</td>\n",
       "      <td>0.186056</td>\n",
       "      <td>0.075269</td>\n",
       "      <td>0.188172</td>\n",
       "      <td>0.059248</td>\n",
       "    </tr>\n",
       "    <tr>\n",
       "      <th>OnlineSecurity_No</th>\n",
       "      <td>0.289660</td>\n",
       "      <td>0.596055</td>\n",
       "      <td>0.193966</td>\n",
       "      <td>0.529156</td>\n",
       "      <td>0.402444</td>\n",
       "      <td>0.402444</td>\n",
       "      <td>0.000000</td>\n",
       "      <td>0.000000</td>\n",
       "      <td>0.210298</td>\n",
       "      <td>0.210298</td>\n",
       "      <td>...</td>\n",
       "      <td>0.133083</td>\n",
       "      <td>0.133788</td>\n",
       "      <td>0.498269</td>\n",
       "      <td>0.296080</td>\n",
       "      <td>0.613545</td>\n",
       "      <td>0.729435</td>\n",
       "      <td>0.683761</td>\n",
       "      <td>0.140394</td>\n",
       "      <td>0.332230</td>\n",
       "      <td>0.000000</td>\n",
       "    </tr>\n",
       "    <tr>\n",
       "      <th>OnlineSecurity_Yes</th>\n",
       "      <td>0.052613</td>\n",
       "      <td>0.375290</td>\n",
       "      <td>0.147790</td>\n",
       "      <td>0.300623</td>\n",
       "      <td>0.000000</td>\n",
       "      <td>0.000000</td>\n",
       "      <td>0.000000</td>\n",
       "      <td>0.000000</td>\n",
       "      <td>0.219171</td>\n",
       "      <td>0.219171</td>\n",
       "      <td>...</td>\n",
       "      <td>0.144035</td>\n",
       "      <td>0.161111</td>\n",
       "      <td>0.169171</td>\n",
       "      <td>0.132738</td>\n",
       "      <td>0.063559</td>\n",
       "      <td>0.502070</td>\n",
       "      <td>0.551857</td>\n",
       "      <td>0.522986</td>\n",
       "      <td>0.391403</td>\n",
       "      <td>0.126431</td>\n",
       "    </tr>\n",
       "    <tr>\n",
       "      <th>OnlineBackup_No</th>\n",
       "      <td>0.123379</td>\n",
       "      <td>0.509528</td>\n",
       "      <td>0.176309</td>\n",
       "      <td>0.437865</td>\n",
       "      <td>0.225022</td>\n",
       "      <td>0.225022</td>\n",
       "      <td>0.000000</td>\n",
       "      <td>0.000000</td>\n",
       "      <td>0.215309</td>\n",
       "      <td>0.215309</td>\n",
       "      <td>...</td>\n",
       "      <td>0.024505</td>\n",
       "      <td>0.124479</td>\n",
       "      <td>0.359722</td>\n",
       "      <td>0.157761</td>\n",
       "      <td>0.345982</td>\n",
       "      <td>0.662522</td>\n",
       "      <td>0.644956</td>\n",
       "      <td>0.218764</td>\n",
       "      <td>0.363482</td>\n",
       "      <td>0.128703</td>\n",
       "    </tr>\n",
       "    <tr>\n",
       "      <th>OnlineBackup_Yes</th>\n",
       "      <td>0.120559</td>\n",
       "      <td>0.248897</td>\n",
       "      <td>0.119945</td>\n",
       "      <td>0.175237</td>\n",
       "      <td>0.209532</td>\n",
       "      <td>0.209532</td>\n",
       "      <td>0.000000</td>\n",
       "      <td>0.000000</td>\n",
       "      <td>0.211742</td>\n",
       "      <td>0.211742</td>\n",
       "      <td>...</td>\n",
       "      <td>0.310152</td>\n",
       "      <td>0.142227</td>\n",
       "      <td>0.000000</td>\n",
       "      <td>0.273742</td>\n",
       "      <td>0.256361</td>\n",
       "      <td>0.568414</td>\n",
       "      <td>0.628926</td>\n",
       "      <td>0.615637</td>\n",
       "      <td>0.402391</td>\n",
       "      <td>0.232890</td>\n",
       "    </tr>\n",
       "    <tr>\n",
       "      <th>DeviceProtection_No</th>\n",
       "      <td>0.156246</td>\n",
       "      <td>0.575774</td>\n",
       "      <td>0.195128</td>\n",
       "      <td>0.503145</td>\n",
       "      <td>0.261395</td>\n",
       "      <td>0.261395</td>\n",
       "      <td>0.000000</td>\n",
       "      <td>0.000000</td>\n",
       "      <td>0.237257</td>\n",
       "      <td>0.237257</td>\n",
       "      <td>...</td>\n",
       "      <td>0.019633</td>\n",
       "      <td>0.158245</td>\n",
       "      <td>0.356029</td>\n",
       "      <td>0.131383</td>\n",
       "      <td>0.345939</td>\n",
       "      <td>0.668609</td>\n",
       "      <td>0.688336</td>\n",
       "      <td>0.241592</td>\n",
       "      <td>0.381180</td>\n",
       "      <td>0.106335</td>\n",
       "    </tr>\n",
       "    <tr>\n",
       "      <th>DeviceProtection_Yes</th>\n",
       "      <td>0.085966</td>\n",
       "      <td>0.329676</td>\n",
       "      <td>0.140662</td>\n",
       "      <td>0.252439</td>\n",
       "      <td>0.171400</td>\n",
       "      <td>0.171400</td>\n",
       "      <td>0.000000</td>\n",
       "      <td>0.000000</td>\n",
       "      <td>0.235810</td>\n",
       "      <td>0.235810</td>\n",
       "      <td>...</td>\n",
       "      <td>0.307865</td>\n",
       "      <td>0.178066</td>\n",
       "      <td>0.000000</td>\n",
       "      <td>0.300995</td>\n",
       "      <td>0.256848</td>\n",
       "      <td>0.562372</td>\n",
       "      <td>0.668437</td>\n",
       "      <td>0.639413</td>\n",
       "      <td>0.424269</td>\n",
       "      <td>0.211265</td>\n",
       "    </tr>\n",
       "    <tr>\n",
       "      <th>TechSupport_No</th>\n",
       "      <td>0.326351</td>\n",
       "      <td>0.639824</td>\n",
       "      <td>0.195714</td>\n",
       "      <td>0.581827</td>\n",
       "      <td>0.345514</td>\n",
       "      <td>0.345514</td>\n",
       "      <td>0.000000</td>\n",
       "      <td>0.000000</td>\n",
       "      <td>0.187352</td>\n",
       "      <td>0.187352</td>\n",
       "      <td>...</td>\n",
       "      <td>0.138628</td>\n",
       "      <td>0.160058</td>\n",
       "      <td>0.505555</td>\n",
       "      <td>0.295035</td>\n",
       "      <td>0.592989</td>\n",
       "      <td>0.729648</td>\n",
       "      <td>0.694695</td>\n",
       "      <td>0.168747</td>\n",
       "      <td>0.333042</td>\n",
       "      <td>0.000000</td>\n",
       "    </tr>\n",
       "    <tr>\n",
       "      <th>TechSupport_Yes</th>\n",
       "      <td>0.096860</td>\n",
       "      <td>0.431641</td>\n",
       "      <td>0.149774</td>\n",
       "      <td>0.366692</td>\n",
       "      <td>0.079604</td>\n",
       "      <td>0.079604</td>\n",
       "      <td>0.000000</td>\n",
       "      <td>0.000000</td>\n",
       "      <td>0.193941</td>\n",
       "      <td>0.193941</td>\n",
       "      <td>...</td>\n",
       "      <td>0.137952</td>\n",
       "      <td>0.189913</td>\n",
       "      <td>0.178426</td>\n",
       "      <td>0.133973</td>\n",
       "      <td>0.032155</td>\n",
       "      <td>0.501859</td>\n",
       "      <td>0.568830</td>\n",
       "      <td>0.548176</td>\n",
       "      <td>0.394928</td>\n",
       "      <td>0.110410</td>\n",
       "    </tr>\n",
       "    <tr>\n",
       "      <th>StreamingTV_No</th>\n",
       "      <td>0.077237</td>\n",
       "      <td>0.454768</td>\n",
       "      <td>0.159050</td>\n",
       "      <td>0.386436</td>\n",
       "      <td>0.073545</td>\n",
       "      <td>0.073545</td>\n",
       "      <td>0.000000</td>\n",
       "      <td>0.000000</td>\n",
       "      <td>0.198170</td>\n",
       "      <td>0.198170</td>\n",
       "      <td>...</td>\n",
       "      <td>0.107811</td>\n",
       "      <td>0.042393</td>\n",
       "      <td>0.147648</td>\n",
       "      <td>0.042653</td>\n",
       "      <td>0.094605</td>\n",
       "      <td>0.624453</td>\n",
       "      <td>0.810441</td>\n",
       "      <td>0.273369</td>\n",
       "      <td>0.318583</td>\n",
       "      <td>0.103474</td>\n",
       "    </tr>\n",
       "    <tr>\n",
       "      <th>StreamingTV_Yes</th>\n",
       "      <td>0.165310</td>\n",
       "      <td>0.175878</td>\n",
       "      <td>0.097587</td>\n",
       "      <td>0.109370</td>\n",
       "      <td>0.354617</td>\n",
       "      <td>0.354617</td>\n",
       "      <td>0.000000</td>\n",
       "      <td>0.000000</td>\n",
       "      <td>0.187680</td>\n",
       "      <td>0.187680</td>\n",
       "      <td>...</td>\n",
       "      <td>0.377321</td>\n",
       "      <td>0.056266</td>\n",
       "      <td>0.222125</td>\n",
       "      <td>0.377260</td>\n",
       "      <td>0.494714</td>\n",
       "      <td>0.606314</td>\n",
       "      <td>0.840059</td>\n",
       "      <td>0.652026</td>\n",
       "      <td>0.345973</td>\n",
       "      <td>0.202096</td>\n",
       "    </tr>\n",
       "    <tr>\n",
       "      <th>StreamingMovies_No</th>\n",
       "      <td>0.057299</td>\n",
       "      <td>0.460043</td>\n",
       "      <td>0.169795</td>\n",
       "      <td>0.383295</td>\n",
       "      <td>0.093013</td>\n",
       "      <td>0.093013</td>\n",
       "      <td>0.000000</td>\n",
       "      <td>0.000000</td>\n",
       "      <td>0.188275</td>\n",
       "      <td>0.188275</td>\n",
       "      <td>...</td>\n",
       "      <td>0.107696</td>\n",
       "      <td>0.057830</td>\n",
       "      <td>0.146886</td>\n",
       "      <td>0.034568</td>\n",
       "      <td>0.106169</td>\n",
       "      <td>0.616318</td>\n",
       "      <td>0.795044</td>\n",
       "      <td>0.257283</td>\n",
       "      <td>0.307950</td>\n",
       "      <td>0.115305</td>\n",
       "    </tr>\n",
       "    <tr>\n",
       "      <th>StreamingMovies_Yes</th>\n",
       "      <td>0.183854</td>\n",
       "      <td>0.179620</td>\n",
       "      <td>0.107687</td>\n",
       "      <td>0.104218</td>\n",
       "      <td>0.335857</td>\n",
       "      <td>0.335857</td>\n",
       "      <td>0.000000</td>\n",
       "      <td>0.000000</td>\n",
       "      <td>0.176443</td>\n",
       "      <td>0.176443</td>\n",
       "      <td>...</td>\n",
       "      <td>0.375618</td>\n",
       "      <td>0.070837</td>\n",
       "      <td>0.222569</td>\n",
       "      <td>0.382674</td>\n",
       "      <td>0.483467</td>\n",
       "      <td>0.614442</td>\n",
       "      <td>0.831990</td>\n",
       "      <td>0.640474</td>\n",
       "      <td>0.331864</td>\n",
       "      <td>0.212545</td>\n",
       "    </tr>\n",
       "    <tr>\n",
       "      <th>MultipleLines_No</th>\n",
       "      <td>0.211299</td>\n",
       "      <td>0.126841</td>\n",
       "      <td>0.000000</td>\n",
       "      <td>0.163896</td>\n",
       "      <td>0.226349</td>\n",
       "      <td>0.226349</td>\n",
       "      <td>0.000000</td>\n",
       "      <td>0.000000</td>\n",
       "      <td>0.199327</td>\n",
       "      <td>0.199327</td>\n",
       "      <td>...</td>\n",
       "      <td>0.961685</td>\n",
       "      <td>0.106185</td>\n",
       "      <td>0.128302</td>\n",
       "      <td>0.349819</td>\n",
       "      <td>0.284988</td>\n",
       "      <td>0.461974</td>\n",
       "      <td>0.531352</td>\n",
       "      <td>0.496947</td>\n",
       "      <td>0.382628</td>\n",
       "      <td>0.251112</td>\n",
       "    </tr>\n",
       "    <tr>\n",
       "      <th>MultipleLines_Yes</th>\n",
       "      <td>0.221375</td>\n",
       "      <td>0.131926</td>\n",
       "      <td>0.000000</td>\n",
       "      <td>0.172573</td>\n",
       "      <td>0.228007</td>\n",
       "      <td>0.228007</td>\n",
       "      <td>0.000000</td>\n",
       "      <td>0.000000</td>\n",
       "      <td>0.211417</td>\n",
       "      <td>0.211417</td>\n",
       "      <td>...</td>\n",
       "      <td>1.000000</td>\n",
       "      <td>0.095474</td>\n",
       "      <td>0.130991</td>\n",
       "      <td>0.339412</td>\n",
       "      <td>0.533061</td>\n",
       "      <td>0.318720</td>\n",
       "      <td>0.665153</td>\n",
       "      <td>0.565175</td>\n",
       "      <td>0.393035</td>\n",
       "      <td>0.255507</td>\n",
       "    </tr>\n",
       "    <tr>\n",
       "      <th>0</th>\n",
       "      <td>0.041044</td>\n",
       "      <td>0.305500</td>\n",
       "      <td>0.102212</td>\n",
       "      <td>0.258833</td>\n",
       "      <td>0.000000</td>\n",
       "      <td>0.000000</td>\n",
       "      <td>0.000000</td>\n",
       "      <td>0.000000</td>\n",
       "      <td>0.115340</td>\n",
       "      <td>0.115340</td>\n",
       "      <td>...</td>\n",
       "      <td>0.095474</td>\n",
       "      <td>1.000000</td>\n",
       "      <td>0.553873</td>\n",
       "      <td>0.437002</td>\n",
       "      <td>0.079319</td>\n",
       "      <td>0.000000</td>\n",
       "      <td>0.058134</td>\n",
       "      <td>0.211618</td>\n",
       "      <td>0.265121</td>\n",
       "      <td>0.114839</td>\n",
       "    </tr>\n",
       "    <tr>\n",
       "      <th>1</th>\n",
       "      <td>0.270634</td>\n",
       "      <td>0.486887</td>\n",
       "      <td>0.174636</td>\n",
       "      <td>0.411670</td>\n",
       "      <td>0.321213</td>\n",
       "      <td>0.321213</td>\n",
       "      <td>0.000000</td>\n",
       "      <td>0.000000</td>\n",
       "      <td>0.130005</td>\n",
       "      <td>0.130005</td>\n",
       "      <td>...</td>\n",
       "      <td>0.130991</td>\n",
       "      <td>0.553873</td>\n",
       "      <td>1.000000</td>\n",
       "      <td>0.570620</td>\n",
       "      <td>0.508259</td>\n",
       "      <td>0.428856</td>\n",
       "      <td>0.404386</td>\n",
       "      <td>0.072908</td>\n",
       "      <td>0.247107</td>\n",
       "      <td>0.017070</td>\n",
       "    </tr>\n",
       "    <tr>\n",
       "      <th>2</th>\n",
       "      <td>0.239917</td>\n",
       "      <td>0.000000</td>\n",
       "      <td>0.000000</td>\n",
       "      <td>0.000000</td>\n",
       "      <td>0.314739</td>\n",
       "      <td>0.314739</td>\n",
       "      <td>0.017262</td>\n",
       "      <td>0.017262</td>\n",
       "      <td>0.120060</td>\n",
       "      <td>0.120060</td>\n",
       "      <td>...</td>\n",
       "      <td>0.339412</td>\n",
       "      <td>0.437002</td>\n",
       "      <td>0.570620</td>\n",
       "      <td>1.000000</td>\n",
       "      <td>0.460512</td>\n",
       "      <td>0.491445</td>\n",
       "      <td>0.488163</td>\n",
       "      <td>0.405730</td>\n",
       "      <td>0.284418</td>\n",
       "      <td>0.192018</td>\n",
       "    </tr>\n",
       "    <tr>\n",
       "      <th>3</th>\n",
       "      <td>0.393743</td>\n",
       "      <td>0.375168</td>\n",
       "      <td>0.134184</td>\n",
       "      <td>0.312921</td>\n",
       "      <td>0.486695</td>\n",
       "      <td>0.486695</td>\n",
       "      <td>0.000000</td>\n",
       "      <td>0.000000</td>\n",
       "      <td>0.000000</td>\n",
       "      <td>0.000000</td>\n",
       "      <td>...</td>\n",
       "      <td>0.533061</td>\n",
       "      <td>0.079319</td>\n",
       "      <td>0.508259</td>\n",
       "      <td>0.460512</td>\n",
       "      <td>1.000000</td>\n",
       "      <td>0.663991</td>\n",
       "      <td>0.969080</td>\n",
       "      <td>0.451114</td>\n",
       "      <td>0.056123</td>\n",
       "      <td>0.139550</td>\n",
       "    </tr>\n",
       "    <tr>\n",
       "      <th>4</th>\n",
       "      <td>0.288681</td>\n",
       "      <td>0.342749</td>\n",
       "      <td>0.069166</td>\n",
       "      <td>0.332174</td>\n",
       "      <td>0.496276</td>\n",
       "      <td>0.496276</td>\n",
       "      <td>0.000000</td>\n",
       "      <td>0.000000</td>\n",
       "      <td>0.000000</td>\n",
       "      <td>0.000000</td>\n",
       "      <td>...</td>\n",
       "      <td>0.318720</td>\n",
       "      <td>0.000000</td>\n",
       "      <td>0.428856</td>\n",
       "      <td>0.491445</td>\n",
       "      <td>0.663991</td>\n",
       "      <td>1.000000</td>\n",
       "      <td>0.998649</td>\n",
       "      <td>0.546462</td>\n",
       "      <td>0.029513</td>\n",
       "      <td>0.112136</td>\n",
       "    </tr>\n",
       "    <tr>\n",
       "      <th>MonthlyCharges</th>\n",
       "      <td>0.310987</td>\n",
       "      <td>0.420187</td>\n",
       "      <td>0.165555</td>\n",
       "      <td>0.402744</td>\n",
       "      <td>0.475415</td>\n",
       "      <td>0.475415</td>\n",
       "      <td>0.000000</td>\n",
       "      <td>0.000000</td>\n",
       "      <td>0.207454</td>\n",
       "      <td>0.207454</td>\n",
       "      <td>...</td>\n",
       "      <td>0.665153</td>\n",
       "      <td>0.058134</td>\n",
       "      <td>0.404386</td>\n",
       "      <td>0.488163</td>\n",
       "      <td>0.969080</td>\n",
       "      <td>0.998649</td>\n",
       "      <td>1.000000</td>\n",
       "      <td>0.708937</td>\n",
       "      <td>0.379314</td>\n",
       "      <td>0.226521</td>\n",
       "    </tr>\n",
       "    <tr>\n",
       "      <th>TotalCharges</th>\n",
       "      <td>0.137815</td>\n",
       "      <td>0.539417</td>\n",
       "      <td>0.238768</td>\n",
       "      <td>0.478148</td>\n",
       "      <td>0.211536</td>\n",
       "      <td>0.211536</td>\n",
       "      <td>0.000000</td>\n",
       "      <td>0.000000</td>\n",
       "      <td>0.371015</td>\n",
       "      <td>0.371015</td>\n",
       "      <td>...</td>\n",
       "      <td>0.565175</td>\n",
       "      <td>0.211618</td>\n",
       "      <td>0.072908</td>\n",
       "      <td>0.405730</td>\n",
       "      <td>0.451114</td>\n",
       "      <td>0.546462</td>\n",
       "      <td>0.708937</td>\n",
       "      <td>1.000000</td>\n",
       "      <td>0.845738</td>\n",
       "      <td>0.314150</td>\n",
       "    </tr>\n",
       "    <tr>\n",
       "      <th>dayuse</th>\n",
       "      <td>0.023876</td>\n",
       "      <td>0.761361</td>\n",
       "      <td>0.371631</td>\n",
       "      <td>0.713643</td>\n",
       "      <td>0.000000</td>\n",
       "      <td>0.000000</td>\n",
       "      <td>0.000000</td>\n",
       "      <td>0.000000</td>\n",
       "      <td>0.436498</td>\n",
       "      <td>0.436498</td>\n",
       "      <td>...</td>\n",
       "      <td>0.393035</td>\n",
       "      <td>0.265121</td>\n",
       "      <td>0.247107</td>\n",
       "      <td>0.284418</td>\n",
       "      <td>0.056123</td>\n",
       "      <td>0.029513</td>\n",
       "      <td>0.379314</td>\n",
       "      <td>0.845738</td>\n",
       "      <td>1.000000</td>\n",
       "      <td>0.367984</td>\n",
       "    </tr>\n",
       "    <tr>\n",
       "      <th>target</th>\n",
       "      <td>0.087748</td>\n",
       "      <td>0.243710</td>\n",
       "      <td>0.112265</td>\n",
       "      <td>0.176043</td>\n",
       "      <td>0.065993</td>\n",
       "      <td>0.065993</td>\n",
       "      <td>0.000000</td>\n",
       "      <td>0.000000</td>\n",
       "      <td>0.224246</td>\n",
       "      <td>0.224246</td>\n",
       "      <td>...</td>\n",
       "      <td>0.255507</td>\n",
       "      <td>0.114839</td>\n",
       "      <td>0.017070</td>\n",
       "      <td>0.192018</td>\n",
       "      <td>0.139550</td>\n",
       "      <td>0.112136</td>\n",
       "      <td>0.226521</td>\n",
       "      <td>0.314150</td>\n",
       "      <td>0.367984</td>\n",
       "      <td>1.000000</td>\n",
       "    </tr>\n",
       "  </tbody>\n",
       "</table>\n",
       "<p>35 rows × 35 columns</p>\n",
       "</div>"
      ],
      "text/plain": [
       "                      SeniorCitizen  Type_Month-to-month  Type_One year  \\\n",
       "SeniorCitizen              1.000000             0.214175       0.069675   \n",
       "Type_Month-to-month        0.214175             1.000000       0.782011   \n",
       "Type_One year              0.069675             0.782011       1.000000   \n",
       "Type_Two year              0.180417             0.827912       0.434354   \n",
       "PaperlessBilling_No        0.247164             0.265732       0.070263   \n",
       "PaperlessBilling_Yes       0.247164             0.265732       0.070263   \n",
       "gender_Female              0.000000             0.000000       0.006248   \n",
       "gender_Male                0.000000             0.000000       0.006248   \n",
       "Partner_No                 0.000000             0.429906       0.131333   \n",
       "Partner_Yes                0.000000             0.429906       0.131333   \n",
       "Dependents_No              0.330913             0.353865       0.114708   \n",
       "Dependents_Yes             0.330913             0.353865       0.114708   \n",
       "OnlineSecurity_No          0.289660             0.596055       0.193966   \n",
       "OnlineSecurity_Yes         0.052613             0.375290       0.147790   \n",
       "OnlineBackup_No            0.123379             0.509528       0.176309   \n",
       "OnlineBackup_Yes           0.120559             0.248897       0.119945   \n",
       "DeviceProtection_No        0.156246             0.575774       0.195128   \n",
       "DeviceProtection_Yes       0.085966             0.329676       0.140662   \n",
       "TechSupport_No             0.326351             0.639824       0.195714   \n",
       "TechSupport_Yes            0.096860             0.431641       0.149774   \n",
       "StreamingTV_No             0.077237             0.454768       0.159050   \n",
       "StreamingTV_Yes            0.165310             0.175878       0.097587   \n",
       "StreamingMovies_No         0.057299             0.460043       0.169795   \n",
       "StreamingMovies_Yes        0.183854             0.179620       0.107687   \n",
       "MultipleLines_No           0.211299             0.126841       0.000000   \n",
       "MultipleLines_Yes          0.221375             0.131926       0.000000   \n",
       "0                          0.041044             0.305500       0.102212   \n",
       "1                          0.270634             0.486887       0.174636   \n",
       "2                          0.239917             0.000000       0.000000   \n",
       "3                          0.393743             0.375168       0.134184   \n",
       "4                          0.288681             0.342749       0.069166   \n",
       "MonthlyCharges             0.310987             0.420187       0.165555   \n",
       "TotalCharges               0.137815             0.539417       0.238768   \n",
       "dayuse                     0.023876             0.761361       0.371631   \n",
       "target                     0.087748             0.243710       0.112265   \n",
       "\n",
       "                      Type_Two year  PaperlessBilling_No  \\\n",
       "SeniorCitizen              0.180417             0.247164   \n",
       "Type_Month-to-month        0.827912             0.265732   \n",
       "Type_One year              0.434354             0.070263   \n",
       "Type_Two year              1.000000             0.240840   \n",
       "PaperlessBilling_No        0.240840             1.000000   \n",
       "PaperlessBilling_Yes       0.240840             1.000000   \n",
       "gender_Female              0.000000             0.000000   \n",
       "gender_Male                0.000000             0.000000   \n",
       "Partner_No                 0.381011             0.023203   \n",
       "Partner_Yes                0.381011             0.023203   \n",
       "Dependents_No              0.305043             0.172834   \n",
       "Dependents_Yes             0.305043             0.172834   \n",
       "OnlineSecurity_No          0.529156             0.402444   \n",
       "OnlineSecurity_Yes         0.300623             0.000000   \n",
       "OnlineBackup_No            0.437865             0.225022   \n",
       "OnlineBackup_Yes           0.175237             0.209532   \n",
       "DeviceProtection_No        0.503145             0.261395   \n",
       "DeviceProtection_Yes       0.252439             0.171400   \n",
       "TechSupport_No             0.581827             0.345514   \n",
       "TechSupport_Yes            0.366692             0.079604   \n",
       "StreamingTV_No             0.386436             0.073545   \n",
       "StreamingTV_Yes            0.109370             0.354617   \n",
       "StreamingMovies_No         0.383295             0.093013   \n",
       "StreamingMovies_Yes        0.104218             0.335857   \n",
       "MultipleLines_No           0.163896             0.226349   \n",
       "MultipleLines_Yes          0.172573             0.228007   \n",
       "0                          0.258833             0.000000   \n",
       "1                          0.411670             0.321213   \n",
       "2                          0.000000             0.314739   \n",
       "3                          0.312921             0.486695   \n",
       "4                          0.332174             0.496276   \n",
       "MonthlyCharges             0.402744             0.475415   \n",
       "TotalCharges               0.478148             0.211536   \n",
       "dayuse                     0.713643             0.000000   \n",
       "target                     0.176043             0.065993   \n",
       "\n",
       "                      PaperlessBilling_Yes  gender_Female  gender_Male  \\\n",
       "SeniorCitizen                     0.247164       0.000000     0.000000   \n",
       "Type_Month-to-month               0.265732       0.000000     0.000000   \n",
       "Type_One year                     0.070263       0.006248     0.006248   \n",
       "Type_Two year                     0.240840       0.000000     0.000000   \n",
       "PaperlessBilling_No               1.000000       0.000000     0.000000   \n",
       "PaperlessBilling_Yes              1.000000       0.000000     0.000000   \n",
       "gender_Female                     0.000000       1.000000     1.000000   \n",
       "gender_Male                       0.000000       1.000000     1.000000   \n",
       "Partner_No                        0.023203       0.000000     0.000000   \n",
       "Partner_Yes                       0.023203       0.000000     0.000000   \n",
       "Dependents_No                     0.172834       0.000000     0.000000   \n",
       "Dependents_Yes                    0.172834       0.000000     0.000000   \n",
       "OnlineSecurity_No                 0.402444       0.000000     0.000000   \n",
       "OnlineSecurity_Yes                0.000000       0.000000     0.000000   \n",
       "OnlineBackup_No                   0.225022       0.000000     0.000000   \n",
       "OnlineBackup_Yes                  0.209532       0.000000     0.000000   \n",
       "DeviceProtection_No               0.261395       0.000000     0.000000   \n",
       "DeviceProtection_Yes              0.171400       0.000000     0.000000   \n",
       "TechSupport_No                    0.345514       0.000000     0.000000   \n",
       "TechSupport_Yes                   0.079604       0.000000     0.000000   \n",
       "StreamingTV_No                    0.073545       0.000000     0.000000   \n",
       "StreamingTV_Yes                   0.354617       0.000000     0.000000   \n",
       "StreamingMovies_No                0.093013       0.000000     0.000000   \n",
       "StreamingMovies_Yes               0.335857       0.000000     0.000000   \n",
       "MultipleLines_No                  0.226349       0.000000     0.000000   \n",
       "MultipleLines_Yes                 0.228007       0.000000     0.000000   \n",
       "0                                 0.000000       0.000000     0.000000   \n",
       "1                                 0.321213       0.000000     0.000000   \n",
       "2                                 0.314739       0.017262     0.017262   \n",
       "3                                 0.486695       0.000000     0.000000   \n",
       "4                                 0.496276       0.000000     0.000000   \n",
       "MonthlyCharges                    0.475415       0.000000     0.000000   \n",
       "TotalCharges                      0.211536       0.000000     0.000000   \n",
       "dayuse                            0.000000       0.000000     0.000000   \n",
       "target                            0.065993       0.000000     0.000000   \n",
       "\n",
       "                      Partner_No  Partner_Yes  ...  MultipleLines_Yes  \\\n",
       "SeniorCitizen           0.000000     0.000000  ...           0.221375   \n",
       "Type_Month-to-month     0.429906     0.429906  ...           0.131926   \n",
       "Type_One year           0.131333     0.131333  ...           0.000000   \n",
       "Type_Two year           0.381011     0.381011  ...           0.172573   \n",
       "PaperlessBilling_No     0.023203     0.023203  ...           0.228007   \n",
       "PaperlessBilling_Yes    0.023203     0.023203  ...           0.228007   \n",
       "gender_Female           0.000000     0.000000  ...           0.000000   \n",
       "gender_Male             0.000000     0.000000  ...           0.000000   \n",
       "Partner_No              1.000000     1.000000  ...           0.211417   \n",
       "Partner_Yes             1.000000     1.000000  ...           0.211417   \n",
       "Dependents_No           0.654584     0.654584  ...           0.030244   \n",
       "Dependents_Yes          0.654584     0.654584  ...           0.030244   \n",
       "OnlineSecurity_No       0.210298     0.210298  ...           0.133083   \n",
       "OnlineSecurity_Yes      0.219171     0.219171  ...           0.144035   \n",
       "OnlineBackup_No         0.215309     0.215309  ...           0.024505   \n",
       "OnlineBackup_Yes        0.211742     0.211742  ...           0.310152   \n",
       "DeviceProtection_No     0.237257     0.237257  ...           0.019633   \n",
       "DeviceProtection_Yes    0.235810     0.235810  ...           0.307865   \n",
       "TechSupport_No          0.187352     0.187352  ...           0.138628   \n",
       "TechSupport_Yes         0.193941     0.193941  ...           0.137952   \n",
       "StreamingTV_No          0.198170     0.198170  ...           0.107811   \n",
       "StreamingTV_Yes         0.187680     0.187680  ...           0.377321   \n",
       "StreamingMovies_No      0.188275     0.188275  ...           0.107696   \n",
       "StreamingMovies_Yes     0.176443     0.176443  ...           0.375618   \n",
       "MultipleLines_No        0.199327     0.199327  ...           0.961685   \n",
       "MultipleLines_Yes       0.211417     0.211417  ...           1.000000   \n",
       "0                       0.115340     0.115340  ...           0.095474   \n",
       "1                       0.130005     0.130005  ...           0.130991   \n",
       "2                       0.120060     0.120060  ...           0.339412   \n",
       "3                       0.000000     0.000000  ...           0.533061   \n",
       "4                       0.000000     0.000000  ...           0.318720   \n",
       "MonthlyCharges          0.207454     0.207454  ...           0.665153   \n",
       "TotalCharges            0.371015     0.371015  ...           0.565175   \n",
       "dayuse                  0.436498     0.436498  ...           0.393035   \n",
       "target                  0.224246     0.224246  ...           0.255507   \n",
       "\n",
       "                             0         1         2         3         4  \\\n",
       "SeniorCitizen         0.041044  0.270634  0.239917  0.393743  0.288681   \n",
       "Type_Month-to-month   0.305500  0.486887  0.000000  0.375168  0.342749   \n",
       "Type_One year         0.102212  0.174636  0.000000  0.134184  0.069166   \n",
       "Type_Two year         0.258833  0.411670  0.000000  0.312921  0.332174   \n",
       "PaperlessBilling_No   0.000000  0.321213  0.314739  0.486695  0.496276   \n",
       "PaperlessBilling_Yes  0.000000  0.321213  0.314739  0.486695  0.496276   \n",
       "gender_Female         0.000000  0.000000  0.017262  0.000000  0.000000   \n",
       "gender_Male           0.000000  0.000000  0.017262  0.000000  0.000000   \n",
       "Partner_No            0.115340  0.130005  0.120060  0.000000  0.000000   \n",
       "Partner_Yes           0.115340  0.130005  0.120060  0.000000  0.000000   \n",
       "Dependents_No         0.098858  0.222741  0.095860  0.247431  0.224713   \n",
       "Dependents_Yes        0.098858  0.222741  0.095860  0.247431  0.224713   \n",
       "OnlineSecurity_No     0.133788  0.498269  0.296080  0.613545  0.729435   \n",
       "OnlineSecurity_Yes    0.161111  0.169171  0.132738  0.063559  0.502070   \n",
       "OnlineBackup_No       0.124479  0.359722  0.157761  0.345982  0.662522   \n",
       "OnlineBackup_Yes      0.142227  0.000000  0.273742  0.256361  0.568414   \n",
       "DeviceProtection_No   0.158245  0.356029  0.131383  0.345939  0.668609   \n",
       "DeviceProtection_Yes  0.178066  0.000000  0.300995  0.256848  0.562372   \n",
       "TechSupport_No        0.160058  0.505555  0.295035  0.592989  0.729648   \n",
       "TechSupport_Yes       0.189913  0.178426  0.133973  0.032155  0.501859   \n",
       "StreamingTV_No        0.042393  0.147648  0.042653  0.094605  0.624453   \n",
       "StreamingTV_Yes       0.056266  0.222125  0.377260  0.494714  0.606314   \n",
       "StreamingMovies_No    0.057830  0.146886  0.034568  0.106169  0.616318   \n",
       "StreamingMovies_Yes   0.070837  0.222569  0.382674  0.483467  0.614442   \n",
       "MultipleLines_No      0.106185  0.128302  0.349819  0.284988  0.461974   \n",
       "MultipleLines_Yes     0.095474  0.130991  0.339412  0.533061  0.318720   \n",
       "0                     1.000000  0.553873  0.437002  0.079319  0.000000   \n",
       "1                     0.553873  1.000000  0.570620  0.508259  0.428856   \n",
       "2                     0.437002  0.570620  1.000000  0.460512  0.491445   \n",
       "3                     0.079319  0.508259  0.460512  1.000000  0.663991   \n",
       "4                     0.000000  0.428856  0.491445  0.663991  1.000000   \n",
       "MonthlyCharges        0.058134  0.404386  0.488163  0.969080  0.998649   \n",
       "TotalCharges          0.211618  0.072908  0.405730  0.451114  0.546462   \n",
       "dayuse                0.265121  0.247107  0.284418  0.056123  0.029513   \n",
       "target                0.114839  0.017070  0.192018  0.139550  0.112136   \n",
       "\n",
       "                      MonthlyCharges  TotalCharges    dayuse    target  \n",
       "SeniorCitizen               0.310987      0.137815  0.023876  0.087748  \n",
       "Type_Month-to-month         0.420187      0.539417  0.761361  0.243710  \n",
       "Type_One year               0.165555      0.238768  0.371631  0.112265  \n",
       "Type_Two year               0.402744      0.478148  0.713643  0.176043  \n",
       "PaperlessBilling_No         0.475415      0.211536  0.000000  0.065993  \n",
       "PaperlessBilling_Yes        0.475415      0.211536  0.000000  0.065993  \n",
       "gender_Female               0.000000      0.000000  0.000000  0.000000  \n",
       "gender_Male                 0.000000      0.000000  0.000000  0.000000  \n",
       "Partner_No                  0.207454      0.371015  0.436498  0.224246  \n",
       "Partner_Yes                 0.207454      0.371015  0.436498  0.224246  \n",
       "Dependents_No               0.186056      0.075269  0.188172  0.059248  \n",
       "Dependents_Yes              0.186056      0.075269  0.188172  0.059248  \n",
       "OnlineSecurity_No           0.683761      0.140394  0.332230  0.000000  \n",
       "OnlineSecurity_Yes          0.551857      0.522986  0.391403  0.126431  \n",
       "OnlineBackup_No             0.644956      0.218764  0.363482  0.128703  \n",
       "OnlineBackup_Yes            0.628926      0.615637  0.402391  0.232890  \n",
       "DeviceProtection_No         0.688336      0.241592  0.381180  0.106335  \n",
       "DeviceProtection_Yes        0.668437      0.639413  0.424269  0.211265  \n",
       "TechSupport_No              0.694695      0.168747  0.333042  0.000000  \n",
       "TechSupport_Yes             0.568830      0.548176  0.394928  0.110410  \n",
       "StreamingTV_No              0.810441      0.273369  0.318583  0.103474  \n",
       "StreamingTV_Yes             0.840059      0.652026  0.345973  0.202096  \n",
       "StreamingMovies_No          0.795044      0.257283  0.307950  0.115305  \n",
       "StreamingMovies_Yes         0.831990      0.640474  0.331864  0.212545  \n",
       "MultipleLines_No            0.531352      0.496947  0.382628  0.251112  \n",
       "MultipleLines_Yes           0.665153      0.565175  0.393035  0.255507  \n",
       "0                           0.058134      0.211618  0.265121  0.114839  \n",
       "1                           0.404386      0.072908  0.247107  0.017070  \n",
       "2                           0.488163      0.405730  0.284418  0.192018  \n",
       "3                           0.969080      0.451114  0.056123  0.139550  \n",
       "4                           0.998649      0.546462  0.029513  0.112136  \n",
       "MonthlyCharges              1.000000      0.708937  0.379314  0.226521  \n",
       "TotalCharges                0.708937      1.000000  0.845738  0.314150  \n",
       "dayuse                      0.379314      0.845738  1.000000  0.367984  \n",
       "target                      0.226521      0.314150  0.367984  1.000000  \n",
       "\n",
       "[35 rows x 35 columns]"
      ]
     },
     "metadata": {},
     "output_type": "display_data"
    }
   ],
   "source": [
    "col = df_train_col_ts.phik_matrix(interval_cols=df_train_col_ts)\n",
    "display(col)"
   ]
  },
  {
   "cell_type": "markdown",
   "id": "cbc3a32c",
   "metadata": {},
   "source": [
    "Все коэффициенты близки к нулю, что показывает слабую линейную зависимость между фичами и таргетом"
   ]
  },
  {
   "cell_type": "markdown",
   "id": "c0fd280d",
   "metadata": {},
   "source": [
    "#### Баланс классов"
   ]
  },
  {
   "cell_type": "code",
   "execution_count": 53,
   "id": "3196aafd",
   "metadata": {},
   "outputs": [
    {
     "data": {
      "text/plain": [
       "'Отношение классов: 0.19'"
      ]
     },
     "metadata": {},
     "output_type": "display_data"
    }
   ],
   "source": [
    "imbalance_ratio = y_train.value_counts().min() / y_train.value_counts().max()\n",
    "display(f\"Отношение классов: {imbalance_ratio:.2f}\")"
   ]
  },
  {
   "cell_type": "markdown",
   "id": "f701000c",
   "metadata": {},
   "source": [
    "### Обучение моделей"
   ]
  },
  {
   "cell_type": "markdown",
   "id": "b954b8f5",
   "metadata": {},
   "source": [
    "#### Random Forest"
   ]
  },
  {
   "cell_type": "code",
   "execution_count": 54,
   "id": "26df99f8",
   "metadata": {},
   "outputs": [],
   "source": [
    "model_rf = RandomForestClassifier(random_state = RANDOM_STATE)"
   ]
  },
  {
   "cell_type": "code",
   "execution_count": 55,
   "id": "57cf492c",
   "metadata": {},
   "outputs": [],
   "source": [
    "param_rf = {'n_estimators': [300, 400, 500], 'max_depth': [1, 2, 5], \n",
    "            'max_features': [2, 3, 4]}"
   ]
  },
  {
   "cell_type": "code",
   "execution_count": 56,
   "id": "572b56ff",
   "metadata": {},
   "outputs": [],
   "source": [
    "grid_rf = GridSearchCV(model_rf, param_grid = param_rf, scoring = 'roc_auc', verbose = 2, cv = 3)"
   ]
  },
  {
   "cell_type": "code",
   "execution_count": 57,
   "id": "64e5e544",
   "metadata": {},
   "outputs": [
    {
     "name": "stdout",
     "output_type": "stream",
     "text": [
      "Fitting 3 folds for each of 27 candidates, totalling 81 fits\n",
      "[CV] END ......max_depth=1, max_features=2, n_estimators=300; total time=   0.5s\n",
      "[CV] END ......max_depth=1, max_features=2, n_estimators=300; total time=   0.5s\n",
      "[CV] END ......max_depth=1, max_features=2, n_estimators=300; total time=   0.5s\n",
      "[CV] END ......max_depth=1, max_features=2, n_estimators=400; total time=   0.6s\n",
      "[CV] END ......max_depth=1, max_features=2, n_estimators=400; total time=   0.6s\n",
      "[CV] END ......max_depth=1, max_features=2, n_estimators=400; total time=   0.6s\n",
      "[CV] END ......max_depth=1, max_features=2, n_estimators=500; total time=   0.8s\n",
      "[CV] END ......max_depth=1, max_features=2, n_estimators=500; total time=   0.8s\n",
      "[CV] END ......max_depth=1, max_features=2, n_estimators=500; total time=   0.8s\n",
      "[CV] END ......max_depth=1, max_features=3, n_estimators=300; total time=   0.5s\n",
      "[CV] END ......max_depth=1, max_features=3, n_estimators=300; total time=   0.5s\n",
      "[CV] END ......max_depth=1, max_features=3, n_estimators=300; total time=   0.5s\n",
      "[CV] END ......max_depth=1, max_features=3, n_estimators=400; total time=   0.6s\n",
      "[CV] END ......max_depth=1, max_features=3, n_estimators=400; total time=   0.6s\n",
      "[CV] END ......max_depth=1, max_features=3, n_estimators=400; total time=   0.6s\n",
      "[CV] END ......max_depth=1, max_features=3, n_estimators=500; total time=   0.8s\n",
      "[CV] END ......max_depth=1, max_features=3, n_estimators=500; total time=   0.8s\n",
      "[CV] END ......max_depth=1, max_features=3, n_estimators=500; total time=   0.8s\n",
      "[CV] END ......max_depth=1, max_features=4, n_estimators=300; total time=   0.5s\n",
      "[CV] END ......max_depth=1, max_features=4, n_estimators=300; total time=   0.5s\n",
      "[CV] END ......max_depth=1, max_features=4, n_estimators=300; total time=   0.5s\n",
      "[CV] END ......max_depth=1, max_features=4, n_estimators=400; total time=   0.6s\n",
      "[CV] END ......max_depth=1, max_features=4, n_estimators=400; total time=   0.7s\n",
      "[CV] END ......max_depth=1, max_features=4, n_estimators=400; total time=   0.7s\n",
      "[CV] END ......max_depth=1, max_features=4, n_estimators=500; total time=   0.8s\n",
      "[CV] END ......max_depth=1, max_features=4, n_estimators=500; total time=   0.8s\n",
      "[CV] END ......max_depth=1, max_features=4, n_estimators=500; total time=   0.8s\n",
      "[CV] END ......max_depth=2, max_features=2, n_estimators=300; total time=   0.5s\n",
      "[CV] END ......max_depth=2, max_features=2, n_estimators=300; total time=   0.5s\n",
      "[CV] END ......max_depth=2, max_features=2, n_estimators=300; total time=   0.5s\n",
      "[CV] END ......max_depth=2, max_features=2, n_estimators=400; total time=   0.7s\n",
      "[CV] END ......max_depth=2, max_features=2, n_estimators=400; total time=   0.7s\n",
      "[CV] END ......max_depth=2, max_features=2, n_estimators=400; total time=   0.7s\n",
      "[CV] END ......max_depth=2, max_features=2, n_estimators=500; total time=   0.8s\n",
      "[CV] END ......max_depth=2, max_features=2, n_estimators=500; total time=   0.8s\n",
      "[CV] END ......max_depth=2, max_features=2, n_estimators=500; total time=   0.8s\n",
      "[CV] END ......max_depth=2, max_features=3, n_estimators=300; total time=   0.5s\n",
      "[CV] END ......max_depth=2, max_features=3, n_estimators=300; total time=   0.5s\n",
      "[CV] END ......max_depth=2, max_features=3, n_estimators=300; total time=   0.5s\n",
      "[CV] END ......max_depth=2, max_features=3, n_estimators=400; total time=   0.7s\n",
      "[CV] END ......max_depth=2, max_features=3, n_estimators=400; total time=   0.7s\n",
      "[CV] END ......max_depth=2, max_features=3, n_estimators=400; total time=   0.7s\n",
      "[CV] END ......max_depth=2, max_features=3, n_estimators=500; total time=   0.8s\n",
      "[CV] END ......max_depth=2, max_features=3, n_estimators=500; total time=   0.9s\n",
      "[CV] END ......max_depth=2, max_features=3, n_estimators=500; total time=   0.9s\n",
      "[CV] END ......max_depth=2, max_features=4, n_estimators=300; total time=   0.5s\n",
      "[CV] END ......max_depth=2, max_features=4, n_estimators=300; total time=   0.5s\n",
      "[CV] END ......max_depth=2, max_features=4, n_estimators=300; total time=   0.5s\n",
      "[CV] END ......max_depth=2, max_features=4, n_estimators=400; total time=   0.7s\n",
      "[CV] END ......max_depth=2, max_features=4, n_estimators=400; total time=   0.7s\n",
      "[CV] END ......max_depth=2, max_features=4, n_estimators=400; total time=   0.7s\n",
      "[CV] END ......max_depth=2, max_features=4, n_estimators=500; total time=   0.9s\n",
      "[CV] END ......max_depth=2, max_features=4, n_estimators=500; total time=   0.9s\n",
      "[CV] END ......max_depth=2, max_features=4, n_estimators=500; total time=   0.9s\n",
      "[CV] END ......max_depth=5, max_features=2, n_estimators=300; total time=   0.6s\n",
      "[CV] END ......max_depth=5, max_features=2, n_estimators=300; total time=   0.6s\n",
      "[CV] END ......max_depth=5, max_features=2, n_estimators=300; total time=   0.6s\n",
      "[CV] END ......max_depth=5, max_features=2, n_estimators=400; total time=   0.8s\n",
      "[CV] END ......max_depth=5, max_features=2, n_estimators=400; total time=   0.8s\n",
      "[CV] END ......max_depth=5, max_features=2, n_estimators=400; total time=   0.8s\n",
      "[CV] END ......max_depth=5, max_features=2, n_estimators=500; total time=   1.0s\n",
      "[CV] END ......max_depth=5, max_features=2, n_estimators=500; total time=   1.0s\n",
      "[CV] END ......max_depth=5, max_features=2, n_estimators=500; total time=   1.0s\n",
      "[CV] END ......max_depth=5, max_features=3, n_estimators=300; total time=   0.6s\n",
      "[CV] END ......max_depth=5, max_features=3, n_estimators=300; total time=   0.6s\n",
      "[CV] END ......max_depth=5, max_features=3, n_estimators=300; total time=   0.6s\n",
      "[CV] END ......max_depth=5, max_features=3, n_estimators=400; total time=   0.9s\n",
      "[CV] END ......max_depth=5, max_features=3, n_estimators=400; total time=   0.9s\n",
      "[CV] END ......max_depth=5, max_features=3, n_estimators=400; total time=   0.9s\n",
      "[CV] END ......max_depth=5, max_features=3, n_estimators=500; total time=   1.1s\n",
      "[CV] END ......max_depth=5, max_features=3, n_estimators=500; total time=   1.1s\n",
      "[CV] END ......max_depth=5, max_features=3, n_estimators=500; total time=   1.0s\n",
      "[CV] END ......max_depth=5, max_features=4, n_estimators=300; total time=   0.7s\n",
      "[CV] END ......max_depth=5, max_features=4, n_estimators=300; total time=   0.7s\n",
      "[CV] END ......max_depth=5, max_features=4, n_estimators=300; total time=   0.7s\n",
      "[CV] END ......max_depth=5, max_features=4, n_estimators=400; total time=   0.9s\n",
      "[CV] END ......max_depth=5, max_features=4, n_estimators=400; total time=   0.9s\n",
      "[CV] END ......max_depth=5, max_features=4, n_estimators=400; total time=   0.9s\n",
      "[CV] END ......max_depth=5, max_features=4, n_estimators=500; total time=   1.2s\n",
      "[CV] END ......max_depth=5, max_features=4, n_estimators=500; total time=   1.2s\n",
      "[CV] END ......max_depth=5, max_features=4, n_estimators=500; total time=   1.1s\n"
     ]
    },
    {
     "data": {
      "text/plain": [
       "GridSearchCV(cv=3, estimator=RandomForestClassifier(random_state=251223),\n",
       "             param_grid={'max_depth': [1, 2, 5], 'max_features': [2, 3, 4],\n",
       "                         'n_estimators': [300, 400, 500]},\n",
       "             scoring='roc_auc', verbose=2)"
      ]
     },
     "execution_count": 57,
     "metadata": {},
     "output_type": "execute_result"
    }
   ],
   "source": [
    "grid_rf.fit(X_train, y_train)"
   ]
  },
  {
   "cell_type": "code",
   "execution_count": 58,
   "id": "f36112fc",
   "metadata": {},
   "outputs": [
    {
     "data": {
      "text/plain": [
       "'Параметры лучшей модели: '"
      ]
     },
     "metadata": {},
     "output_type": "display_data"
    },
    {
     "data": {
      "text/plain": [
       "{'max_depth': 5, 'max_features': 4, 'n_estimators': 400}"
      ]
     },
     "metadata": {},
     "output_type": "display_data"
    }
   ],
   "source": [
    "display('Параметры лучшей модели: ', grid_rf.best_params_)"
   ]
  },
  {
   "cell_type": "code",
   "execution_count": 59,
   "id": "54adb878",
   "metadata": {},
   "outputs": [
    {
     "data": {
      "text/plain": [
       "'ROC_AUC = '"
      ]
     },
     "metadata": {},
     "output_type": "display_data"
    },
    {
     "data": {
      "text/plain": [
       "0.809"
      ]
     },
     "metadata": {},
     "output_type": "display_data"
    }
   ],
   "source": [
    "display('ROC_AUC = ', np.round(grid_rf.best_score_, 3))"
   ]
  },
  {
   "cell_type": "markdown",
   "id": "fdc8657c",
   "metadata": {},
   "source": [
    "#### Константная модель"
   ]
  },
  {
   "cell_type": "code",
   "execution_count": 60,
   "id": "b50fd3c5",
   "metadata": {},
   "outputs": [
    {
     "data": {
      "text/plain": [
       "1    4435\n",
       "0     839\n",
       "Name: target, dtype: int64"
      ]
     },
     "execution_count": 60,
     "metadata": {},
     "output_type": "execute_result"
    }
   ],
   "source": [
    "y_train.value_counts()"
   ]
  },
  {
   "cell_type": "code",
   "execution_count": 61,
   "id": "f54781ce",
   "metadata": {},
   "outputs": [],
   "source": [
    "pred_base = [1]*y_train.shape[0]"
   ]
  },
  {
   "cell_type": "code",
   "execution_count": 62,
   "id": "c6bb6c5a",
   "metadata": {},
   "outputs": [
    {
     "data": {
      "text/plain": [
       "0.5"
      ]
     },
     "execution_count": 62,
     "metadata": {},
     "output_type": "execute_result"
    }
   ],
   "source": [
    "roc_auc_score(y_train, pred_base)"
   ]
  },
  {
   "cell_type": "markdown",
   "id": "67858cbb",
   "metadata": {},
   "source": [
    "#### CatBoost"
   ]
  },
  {
   "cell_type": "markdown",
   "id": "03c93755",
   "metadata": {},
   "source": [
    "Для использования CatBoost лучше использовать датасет без кодирования, нужно повторить операции."
   ]
  },
  {
   "cell_type": "code",
   "execution_count": 63,
   "id": "23e9d874",
   "metadata": {},
   "outputs": [
    {
     "name": "stderr",
     "output_type": "stream",
     "text": [
      "/tmp/ipykernel_547/2282548032.py:1: SettingWithCopyWarning: \n",
      "A value is trying to be set on a copy of a slice from a DataFrame.\n",
      "Try using .loc[row_indexer,col_indexer] = value instead\n",
      "\n",
      "See the caveats in the documentation: https://pandas.pydata.org/pandas-docs/stable/user_guide/indexing.html#returning-a-view-versus-a-copy\n",
      "  df_train['dayuse'] = (df_train.EndDate - df_train.BeginDate).dt.days\n",
      "/tmp/ipykernel_547/2282548032.py:2: SettingWithCopyWarning: \n",
      "A value is trying to be set on a copy of a slice from a DataFrame.\n",
      "Try using .loc[row_indexer,col_indexer] = value instead\n",
      "\n",
      "See the caveats in the documentation: https://pandas.pydata.org/pandas-docs/stable/user_guide/indexing.html#returning-a-view-versus-a-copy\n",
      "  df_test['dayuse'] = (df_test.EndDate - df_test.BeginDate).dt.days\n"
     ]
    }
   ],
   "source": [
    "df_train['dayuse'] = (df_train.EndDate - df_train.BeginDate).dt.days\n",
    "df_test['dayuse'] = (df_test.EndDate - df_test.BeginDate).dt.days"
   ]
  },
  {
   "cell_type": "code",
   "execution_count": 64,
   "id": "b59c9e99",
   "metadata": {},
   "outputs": [],
   "source": [
    "y_train_cb = (df_train.EndDate == datedef).astype(int)\n",
    "y_test_cb = (df_test.EndDate == datedef).astype(int)"
   ]
  },
  {
   "cell_type": "code",
   "execution_count": 65,
   "id": "5a608dd8",
   "metadata": {},
   "outputs": [
    {
     "name": "stderr",
     "output_type": "stream",
     "text": [
      "/opt/conda/lib/python3.9/site-packages/pandas/core/frame.py:4308: SettingWithCopyWarning: \n",
      "A value is trying to be set on a copy of a slice from a DataFrame\n",
      "\n",
      "See the caveats in the documentation: https://pandas.pydata.org/pandas-docs/stable/user_guide/indexing.html#returning-a-view-versus-a-copy\n",
      "  return super().drop(\n"
     ]
    }
   ],
   "source": [
    "df_train.drop(['customerID','BeginDate','EndDate'], axis = 1, inplace = True)\n",
    "df_test.drop(['customerID','BeginDate','EndDate'], axis = 1, inplace = True)"
   ]
  },
  {
   "cell_type": "code",
   "execution_count": 66,
   "id": "de4208f4",
   "metadata": {},
   "outputs": [
    {
     "data": {
      "text/html": [
       "<div>\n",
       "<style scoped>\n",
       "    .dataframe tbody tr th:only-of-type {\n",
       "        vertical-align: middle;\n",
       "    }\n",
       "\n",
       "    .dataframe tbody tr th {\n",
       "        vertical-align: top;\n",
       "    }\n",
       "\n",
       "    .dataframe thead th {\n",
       "        text-align: right;\n",
       "    }\n",
       "</style>\n",
       "<table border=\"1\" class=\"dataframe\">\n",
       "  <thead>\n",
       "    <tr style=\"text-align: right;\">\n",
       "      <th></th>\n",
       "      <th>Type</th>\n",
       "      <th>PaperlessBilling</th>\n",
       "      <th>PaymentMethod</th>\n",
       "      <th>MonthlyCharges</th>\n",
       "      <th>TotalCharges</th>\n",
       "      <th>gender</th>\n",
       "      <th>SeniorCitizen</th>\n",
       "      <th>Partner</th>\n",
       "      <th>Dependents</th>\n",
       "      <th>InternetService</th>\n",
       "      <th>OnlineSecurity</th>\n",
       "      <th>OnlineBackup</th>\n",
       "      <th>DeviceProtection</th>\n",
       "      <th>TechSupport</th>\n",
       "      <th>StreamingTV</th>\n",
       "      <th>StreamingMovies</th>\n",
       "      <th>MultipleLines</th>\n",
       "      <th>dayuse</th>\n",
       "    </tr>\n",
       "  </thead>\n",
       "  <tbody>\n",
       "    <tr>\n",
       "      <th>1255</th>\n",
       "      <td>One year</td>\n",
       "      <td>No</td>\n",
       "      <td>Credit card (automatic)</td>\n",
       "      <td>95.25</td>\n",
       "      <td>3691.89</td>\n",
       "      <td>Female</td>\n",
       "      <td>1</td>\n",
       "      <td>No</td>\n",
       "      <td>No</td>\n",
       "      <td>Fiber optic</td>\n",
       "      <td>No</td>\n",
       "      <td>Yes</td>\n",
       "      <td>No</td>\n",
       "      <td>No</td>\n",
       "      <td>Yes</td>\n",
       "      <td>Yes</td>\n",
       "      <td>No</td>\n",
       "      <td>1155</td>\n",
       "    </tr>\n",
       "    <tr>\n",
       "      <th>456</th>\n",
       "      <td>One year</td>\n",
       "      <td>No</td>\n",
       "      <td>Bank transfer (automatic)</td>\n",
       "      <td>92.90</td>\n",
       "      <td>2601.20</td>\n",
       "      <td>Male</td>\n",
       "      <td>0</td>\n",
       "      <td>Yes</td>\n",
       "      <td>Yes</td>\n",
       "      <td>Fiber optic</td>\n",
       "      <td>No</td>\n",
       "      <td>Yes</td>\n",
       "      <td>Yes</td>\n",
       "      <td>Yes</td>\n",
       "      <td>Yes</td>\n",
       "      <td>No</td>\n",
       "      <td>No</td>\n",
       "      <td>853</td>\n",
       "    </tr>\n",
       "  </tbody>\n",
       "</table>\n",
       "</div>"
      ],
      "text/plain": [
       "          Type PaperlessBilling              PaymentMethod  MonthlyCharges  \\\n",
       "1255  One year               No    Credit card (automatic)           95.25   \n",
       "456   One year               No  Bank transfer (automatic)           92.90   \n",
       "\n",
       "      TotalCharges  gender  SeniorCitizen Partner Dependents InternetService  \\\n",
       "1255       3691.89  Female              1      No         No     Fiber optic   \n",
       "456        2601.20    Male              0     Yes        Yes     Fiber optic   \n",
       "\n",
       "     OnlineSecurity OnlineBackup DeviceProtection TechSupport StreamingTV  \\\n",
       "1255             No          Yes               No          No         Yes   \n",
       "456              No          Yes              Yes         Yes         Yes   \n",
       "\n",
       "     StreamingMovies MultipleLines  dayuse  \n",
       "1255             Yes            No    1155  \n",
       "456               No            No     853  "
      ]
     },
     "metadata": {},
     "output_type": "display_data"
    },
    {
     "data": {
      "text/html": [
       "<div>\n",
       "<style scoped>\n",
       "    .dataframe tbody tr th:only-of-type {\n",
       "        vertical-align: middle;\n",
       "    }\n",
       "\n",
       "    .dataframe tbody tr th {\n",
       "        vertical-align: top;\n",
       "    }\n",
       "\n",
       "    .dataframe thead th {\n",
       "        text-align: right;\n",
       "    }\n",
       "</style>\n",
       "<table border=\"1\" class=\"dataframe\">\n",
       "  <thead>\n",
       "    <tr style=\"text-align: right;\">\n",
       "      <th></th>\n",
       "      <th>Type</th>\n",
       "      <th>PaperlessBilling</th>\n",
       "      <th>PaymentMethod</th>\n",
       "      <th>MonthlyCharges</th>\n",
       "      <th>TotalCharges</th>\n",
       "      <th>gender</th>\n",
       "      <th>SeniorCitizen</th>\n",
       "      <th>Partner</th>\n",
       "      <th>Dependents</th>\n",
       "      <th>InternetService</th>\n",
       "      <th>OnlineSecurity</th>\n",
       "      <th>OnlineBackup</th>\n",
       "      <th>DeviceProtection</th>\n",
       "      <th>TechSupport</th>\n",
       "      <th>StreamingTV</th>\n",
       "      <th>StreamingMovies</th>\n",
       "      <th>MultipleLines</th>\n",
       "      <th>dayuse</th>\n",
       "    </tr>\n",
       "  </thead>\n",
       "  <tbody>\n",
       "    <tr>\n",
       "      <th>6476</th>\n",
       "      <td>Month-to-month</td>\n",
       "      <td>Yes</td>\n",
       "      <td>Mailed check</td>\n",
       "      <td>73.55</td>\n",
       "      <td>4989.63</td>\n",
       "      <td>Male</td>\n",
       "      <td>0</td>\n",
       "      <td>Yes</td>\n",
       "      <td>No</td>\n",
       "      <td>Fiber optic</td>\n",
       "      <td>Yes</td>\n",
       "      <td>No</td>\n",
       "      <td>No</td>\n",
       "      <td>No</td>\n",
       "      <td>No</td>\n",
       "      <td>No</td>\n",
       "      <td>No</td>\n",
       "      <td>1949</td>\n",
       "    </tr>\n",
       "    <tr>\n",
       "      <th>826</th>\n",
       "      <td>One year</td>\n",
       "      <td>No</td>\n",
       "      <td>Electronic check</td>\n",
       "      <td>90.95</td>\n",
       "      <td>3432.45</td>\n",
       "      <td>Male</td>\n",
       "      <td>0</td>\n",
       "      <td>Yes</td>\n",
       "      <td>Yes</td>\n",
       "      <td>Fiber optic</td>\n",
       "      <td>No</td>\n",
       "      <td>Yes</td>\n",
       "      <td>Yes</td>\n",
       "      <td>No</td>\n",
       "      <td>Yes</td>\n",
       "      <td>No</td>\n",
       "      <td>No</td>\n",
       "      <td>1127</td>\n",
       "    </tr>\n",
       "  </tbody>\n",
       "</table>\n",
       "</div>"
      ],
      "text/plain": [
       "                Type PaperlessBilling     PaymentMethod  MonthlyCharges  \\\n",
       "6476  Month-to-month              Yes      Mailed check           73.55   \n",
       "826         One year               No  Electronic check           90.95   \n",
       "\n",
       "      TotalCharges gender  SeniorCitizen Partner Dependents InternetService  \\\n",
       "6476       4989.63   Male              0     Yes         No     Fiber optic   \n",
       "826        3432.45   Male              0     Yes        Yes     Fiber optic   \n",
       "\n",
       "     OnlineSecurity OnlineBackup DeviceProtection TechSupport StreamingTV  \\\n",
       "6476            Yes           No               No          No          No   \n",
       "826              No          Yes              Yes          No         Yes   \n",
       "\n",
       "     StreamingMovies MultipleLines  dayuse  \n",
       "6476              No            No    1949  \n",
       "826               No            No    1127  "
      ]
     },
     "metadata": {},
     "output_type": "display_data"
    }
   ],
   "source": [
    "X_train_cb = df_train.copy()\n",
    "X_test_cb = df_test.copy()\n",
    "display(X_train_cb.head(2))\n",
    "display(X_test_cb.head(2))"
   ]
  },
  {
   "cell_type": "code",
   "execution_count": 67,
   "id": "a052d3a3",
   "metadata": {},
   "outputs": [],
   "source": [
    "X_train_cb.fillna('nan', inplace = True)\n",
    "X_test_cb.fillna('nan', inplace = True)"
   ]
  },
  {
   "cell_type": "code",
   "execution_count": 68,
   "id": "e2d23ca8",
   "metadata": {},
   "outputs": [
    {
     "name": "stdout",
     "output_type": "stream",
     "text": [
      "<class 'pandas.core.frame.DataFrame'>\n",
      "Int64Index: 5274 entries, 1255 to 2375\n",
      "Data columns (total 18 columns):\n",
      " #   Column            Non-Null Count  Dtype  \n",
      "---  ------            --------------  -----  \n",
      " 0   Type              5274 non-null   object \n",
      " 1   PaperlessBilling  5274 non-null   object \n",
      " 2   PaymentMethod     5274 non-null   object \n",
      " 3   MonthlyCharges    5274 non-null   float64\n",
      " 4   TotalCharges      5274 non-null   float64\n",
      " 5   gender            5274 non-null   object \n",
      " 6   SeniorCitizen     5274 non-null   int64  \n",
      " 7   Partner           5274 non-null   object \n",
      " 8   Dependents        5274 non-null   object \n",
      " 9   InternetService   5274 non-null   object \n",
      " 10  OnlineSecurity    5274 non-null   object \n",
      " 11  OnlineBackup      5274 non-null   object \n",
      " 12  DeviceProtection  5274 non-null   object \n",
      " 13  TechSupport       5274 non-null   object \n",
      " 14  StreamingTV       5274 non-null   object \n",
      " 15  StreamingMovies   5274 non-null   object \n",
      " 16  MultipleLines     5274 non-null   object \n",
      " 17  dayuse            5274 non-null   int64  \n",
      "dtypes: float64(2), int64(2), object(14)\n",
      "memory usage: 911.9+ KB\n"
     ]
    },
    {
     "data": {
      "text/plain": [
       "None"
      ]
     },
     "metadata": {},
     "output_type": "display_data"
    },
    {
     "name": "stdout",
     "output_type": "stream",
     "text": [
      "<class 'pandas.core.frame.DataFrame'>\n",
      "Int64Index: 1758 entries, 6476 to 5042\n",
      "Data columns (total 18 columns):\n",
      " #   Column            Non-Null Count  Dtype  \n",
      "---  ------            --------------  -----  \n",
      " 0   Type              1758 non-null   object \n",
      " 1   PaperlessBilling  1758 non-null   object \n",
      " 2   PaymentMethod     1758 non-null   object \n",
      " 3   MonthlyCharges    1758 non-null   float64\n",
      " 4   TotalCharges      1758 non-null   float64\n",
      " 5   gender            1758 non-null   object \n",
      " 6   SeniorCitizen     1758 non-null   int64  \n",
      " 7   Partner           1758 non-null   object \n",
      " 8   Dependents        1758 non-null   object \n",
      " 9   InternetService   1758 non-null   object \n",
      " 10  OnlineSecurity    1758 non-null   object \n",
      " 11  OnlineBackup      1758 non-null   object \n",
      " 12  DeviceProtection  1758 non-null   object \n",
      " 13  TechSupport       1758 non-null   object \n",
      " 14  StreamingTV       1758 non-null   object \n",
      " 15  StreamingMovies   1758 non-null   object \n",
      " 16  MultipleLines     1758 non-null   object \n",
      " 17  dayuse            1758 non-null   int64  \n",
      "dtypes: float64(2), int64(2), object(14)\n",
      "memory usage: 261.0+ KB\n"
     ]
    },
    {
     "data": {
      "text/plain": [
       "None"
      ]
     },
     "metadata": {},
     "output_type": "display_data"
    }
   ],
   "source": [
    "display(X_train_cb.info())\n",
    "display(X_test_cb.info())"
   ]
  },
  {
   "cell_type": "code",
   "execution_count": 69,
   "id": "30d482fb",
   "metadata": {},
   "outputs": [],
   "source": [
    "num_col = ['MonthlyCharges', 'TotalCharges', 'dayuse']\n",
    "cat_col = [column for column in list(X_train_cb.columns) if column not in num_col]"
   ]
  },
  {
   "cell_type": "code",
   "execution_count": 70,
   "id": "039debd9",
   "metadata": {},
   "outputs": [
    {
     "data": {
      "text/plain": [
       "True"
      ]
     },
     "execution_count": 70,
     "metadata": {},
     "output_type": "execute_result"
    }
   ],
   "source": [
    "len(cat_col) + len(num_col) == X_train_cb.shape[1]"
   ]
  },
  {
   "cell_type": "code",
   "execution_count": 71,
   "id": "39dbc658",
   "metadata": {},
   "outputs": [
    {
     "data": {
      "text/plain": [
       "True"
      ]
     },
     "execution_count": 71,
     "metadata": {},
     "output_type": "execute_result"
    }
   ],
   "source": [
    "len(cat_col) + len(num_col) == X_test_cb.shape[1]"
   ]
  },
  {
   "cell_type": "code",
   "execution_count": 72,
   "id": "0df27d45",
   "metadata": {},
   "outputs": [
    {
     "name": "stdout",
     "output_type": "stream",
     "text": [
      "0:\ttest: 0.5657361\tbest: 0.5657361 (0)\ttotal: 52.5ms\tremaining: 1m 44s\n",
      "400:\ttest: 0.8023031\tbest: 0.8024294 (399)\ttotal: 1.46s\tremaining: 5.8s\n",
      "800:\ttest: 0.8088401\tbest: 0.8089930 (776)\ttotal: 2.84s\tremaining: 4.25s\n",
      "1200:\ttest: 0.8155999\tbest: 0.8156331 (1193)\ttotal: 4.28s\tremaining: 2.85s\n",
      "1600:\ttest: 0.8195879\tbest: 0.8196344 (1594)\ttotal: 5.78s\tremaining: 1.44s\n",
      "1999:\ttest: 0.8215022\tbest: 0.8215022 (1999)\ttotal: 7.31s\tremaining: 0us\n",
      "\n",
      "bestTest = 0.8215021602\n",
      "bestIteration = 1999\n",
      "\n",
      "Metric AUC is not calculated on train by default. To calculate this metric on train, add hints=skip_train~false to metric parameters.\n",
      "0:\tloss: 0.8215022\tbest: 0.8215022 (0)\ttotal: 7.76s\tremaining: 3m 21s\n",
      "0:\ttest: 0.5657361\tbest: 0.5657361 (0)\ttotal: 4.79ms\tremaining: 9.57s\n",
      "400:\ttest: 0.8155035\tbest: 0.8155035 (400)\ttotal: 1.44s\tremaining: 5.73s\n",
      "800:\ttest: 0.8292124\tbest: 0.8293852 (796)\ttotal: 2.9s\tremaining: 4.35s\n",
      "1200:\ttest: 0.8430110\tbest: 0.8430110 (1200)\ttotal: 4.46s\tremaining: 2.97s\n",
      "1600:\ttest: 0.8530475\tbest: 0.8532203 (1598)\ttotal: 6.04s\tremaining: 1.5s\n",
      "1999:\ttest: 0.8637488\tbest: 0.8637488 (1999)\ttotal: 7.65s\tremaining: 0us\n",
      "\n",
      "bestTest = 0.8637487537\n",
      "bestIteration = 1999\n",
      "\n",
      "Metric AUC is not calculated on train by default. To calculate this metric on train, add hints=skip_train~false to metric parameters.\n",
      "1:\tloss: 0.8637488\tbest: 0.8637488 (1)\ttotal: 15.4s\tremaining: 3m 13s\n",
      "0:\ttest: 0.5657361\tbest: 0.5657361 (0)\ttotal: 4.77ms\tremaining: 9.54s\n",
      "400:\ttest: 0.8582519\tbest: 0.8584978 (392)\ttotal: 1.57s\tremaining: 6.25s\n",
      "800:\ttest: 0.8882154\tbest: 0.8882154 (800)\ttotal: 3.19s\tremaining: 4.77s\n",
      "1200:\ttest: 0.8906082\tbest: 0.8911798 (1156)\ttotal: 4.72s\tremaining: 3.14s\n",
      "1600:\ttest: 0.8961117\tbest: 0.8963177 (1532)\ttotal: 6.33s\tremaining: 1.58s\n",
      "1999:\ttest: 0.9008375\tbest: 0.9008375 (1999)\ttotal: 7.88s\tremaining: 0us\n",
      "\n",
      "bestTest = 0.9008374875\n",
      "bestIteration = 1999\n",
      "\n",
      "Metric AUC is not calculated on train by default. To calculate this metric on train, add hints=skip_train~false to metric parameters.\n",
      "2:\tloss: 0.9008375\tbest: 0.9008375 (2)\ttotal: 23.3s\tremaining: 3m 6s\n",
      "0:\ttest: 0.5657361\tbest: 0.5657361 (0)\ttotal: 4.66ms\tremaining: 9.32s\n",
      "400:\ttest: 0.8047325\tbest: 0.8049186 (395)\ttotal: 1.43s\tremaining: 5.68s\n",
      "800:\ttest: 0.8094583\tbest: 0.8095314 (797)\ttotal: 2.86s\tremaining: 4.28s\n",
      "1200:\ttest: 0.8136590\tbest: 0.8137654 (1195)\ttotal: 4.35s\tremaining: 2.89s\n",
      "1600:\ttest: 0.8184247\tbest: 0.8184447 (1566)\ttotal: 5.85s\tremaining: 1.46s\n",
      "1999:\ttest: 0.8216218\tbest: 0.8216484 (1989)\ttotal: 7.32s\tremaining: 0us\n",
      "\n",
      "bestTest = 0.8216483882\n",
      "bestIteration = 1989\n",
      "\n",
      "Metric AUC is not calculated on train by default. To calculate this metric on train, add hints=skip_train~false to metric parameters.\n",
      "3:\tloss: 0.8216484\tbest: 0.9008375 (2)\ttotal: 30.7s\tremaining: 2m 56s\n",
      "0:\ttest: 0.5657361\tbest: 0.5657361 (0)\ttotal: 4.63ms\tremaining: 9.25s\n",
      "400:\ttest: 0.8148023\tbest: 0.8148421 (396)\ttotal: 1.66s\tremaining: 6.63s\n",
      "800:\ttest: 0.8234430\tbest: 0.8234762 (798)\ttotal: 3.2s\tremaining: 4.79s\n",
      "1200:\ttest: 0.8350681\tbest: 0.8350748 (1190)\ttotal: 4.75s\tremaining: 3.16s\n",
      "1600:\ttest: 0.8476039\tbest: 0.8476039 (1599)\ttotal: 6.43s\tremaining: 1.6s\n",
      "1999:\ttest: 0.8590296\tbest: 0.8590429 (1998)\ttotal: 8.09s\tremaining: 0us\n",
      "\n",
      "bestTest = 0.8590428714\n",
      "bestIteration = 1998\n",
      "\n",
      "Metric AUC is not calculated on train by default. To calculate this metric on train, add hints=skip_train~false to metric parameters.\n",
      "4:\tloss: 0.8590429\tbest: 0.9008375 (2)\ttotal: 38.8s\tremaining: 2m 50s\n",
      "0:\ttest: 0.5657361\tbest: 0.5657361 (0)\ttotal: 4.53ms\tremaining: 9.06s\n",
      "400:\ttest: 0.8381323\tbest: 0.8381323 (400)\ttotal: 1.53s\tremaining: 6.1s\n",
      "800:\ttest: 0.8717714\tbest: 0.8721170 (795)\ttotal: 3.16s\tremaining: 4.73s\n",
      "1200:\ttest: 0.8829511\tbest: 0.8833167 (1191)\ttotal: 4.79s\tremaining: 3.18s\n",
      "1600:\ttest: 0.8911864\tbest: 0.8911864 (1597)\ttotal: 6.38s\tremaining: 1.59s\n",
      "1999:\ttest: 0.8955733\tbest: 0.8955866 (1998)\ttotal: 8.06s\tremaining: 0us\n",
      "\n",
      "bestTest = 0.8955865736\n",
      "bestIteration = 1998\n",
      "\n",
      "Metric AUC is not calculated on train by default. To calculate this metric on train, add hints=skip_train~false to metric parameters.\n",
      "5:\tloss: 0.8955866\tbest: 0.9008375 (2)\ttotal: 46.9s\tremaining: 2m 44s\n",
      "0:\ttest: 0.5657361\tbest: 0.5657361 (0)\ttotal: 4.58ms\tremaining: 9.15s\n",
      "400:\ttest: 0.8044732\tbest: 0.8050914 (369)\ttotal: 1.43s\tremaining: 5.72s\n",
      "800:\ttest: 0.8110136\tbest: 0.8110136 (800)\ttotal: 2.87s\tremaining: 4.29s\n",
      "1200:\ttest: 0.8141642\tbest: 0.8141708 (1195)\ttotal: 4.32s\tremaining: 2.88s\n",
      "1600:\ttest: 0.8180990\tbest: 0.8180990 (1597)\ttotal: 5.76s\tremaining: 1.44s\n",
      "1999:\ttest: 0.8207378\tbest: 0.8208441 (1987)\ttotal: 7.22s\tremaining: 0us\n",
      "\n",
      "bestTest = 0.8208441343\n",
      "bestIteration = 1987\n",
      "\n",
      "Metric AUC is not calculated on train by default. To calculate this metric on train, add hints=skip_train~false to metric parameters.\n",
      "6:\tloss: 0.8208441\tbest: 0.9008375 (2)\ttotal: 54.1s\tremaining: 2m 34s\n",
      "0:\ttest: 0.5657361\tbest: 0.5657361 (0)\ttotal: 4.77ms\tremaining: 9.53s\n",
      "400:\ttest: 0.8127584\tbest: 0.8127584 (398)\ttotal: 1.46s\tremaining: 5.82s\n",
      "800:\ttest: 0.8211831\tbest: 0.8212762 (798)\ttotal: 2.98s\tremaining: 4.46s\n",
      "1200:\ttest: 0.8289199\tbest: 0.8289531 (1194)\ttotal: 4.51s\tremaining: 3s\n",
      "1600:\ttest: 0.8381057\tbest: 0.8381323 (1597)\ttotal: 6.05s\tremaining: 1.51s\n",
      "1999:\ttest: 0.8524759\tbest: 0.8525224 (1995)\ttotal: 7.66s\tremaining: 0us\n",
      "\n",
      "bestTest = 0.8525224327\n",
      "bestIteration = 1995\n",
      "\n",
      "Metric AUC is not calculated on train by default. To calculate this metric on train, add hints=skip_train~false to metric parameters.\n",
      "7:\tloss: 0.8525224\tbest: 0.9008375 (2)\ttotal: 1m 1s\tremaining: 2m 26s\n",
      "0:\ttest: 0.5657361\tbest: 0.5657361 (0)\ttotal: 4.64ms\tremaining: 9.28s\n",
      "400:\ttest: 0.8311698\tbest: 0.8312031 (393)\ttotal: 1.55s\tremaining: 6.2s\n",
      "800:\ttest: 0.8645663\tbest: 0.8645796 (799)\ttotal: 3.17s\tremaining: 4.74s\n",
      "1200:\ttest: 0.8806381\tbest: 0.8807245 (1192)\ttotal: 4.84s\tremaining: 3.22s\n",
      "1600:\ttest: 0.8878897\tbest: 0.8878897 (1591)\ttotal: 6.46s\tremaining: 1.61s\n",
      "1999:\ttest: 0.8912130\tbest: 0.8914324 (1925)\ttotal: 8.05s\tremaining: 0us\n",
      "\n",
      "bestTest = 0.8914323696\n",
      "bestIteration = 1925\n",
      "\n",
      "Metric AUC is not calculated on train by default. To calculate this metric on train, add hints=skip_train~false to metric parameters.\n",
      "8:\tloss: 0.8914324\tbest: 0.9008375 (2)\ttotal: 1m 9s\tremaining: 2m 19s\n",
      "0:\ttest: 0.6418046\tbest: 0.6418046 (0)\ttotal: 9.5ms\tremaining: 19s\n",
      "400:\ttest: 0.8126687\tbest: 0.8126687 (400)\ttotal: 2.73s\tremaining: 10.9s\n",
      "800:\ttest: 0.8174742\tbest: 0.8174742 (797)\ttotal: 5.47s\tremaining: 8.18s\n",
      "1200:\ttest: 0.8281821\tbest: 0.8282021 (1196)\ttotal: 8.52s\tremaining: 5.67s\n",
      "1600:\ttest: 0.8401263\tbest: 0.8401329 (1599)\ttotal: 11.6s\tremaining: 2.89s\n",
      "1999:\ttest: 0.8508076\tbest: 0.8508076 (1999)\ttotal: 14.7s\tremaining: 0us\n",
      "\n",
      "bestTest = 0.8508075773\n",
      "bestIteration = 1999\n",
      "\n",
      "Metric AUC is not calculated on train by default. To calculate this metric on train, add hints=skip_train~false to metric parameters.\n",
      "9:\tloss: 0.8508076\tbest: 0.9008375 (2)\ttotal: 1m 24s\tremaining: 2m 23s\n",
      "0:\ttest: 0.6418046\tbest: 0.6418046 (0)\ttotal: 8.5ms\tremaining: 17s\n",
      "400:\ttest: 0.8278431\tbest: 0.8279495 (397)\ttotal: 2.85s\tremaining: 11.3s\n",
      "800:\ttest: 0.8582453\tbest: 0.8582453 (800)\ttotal: 5.96s\tremaining: 8.92s\n",
      "1200:\ttest: 0.8757328\tbest: 0.8760253 (1167)\ttotal: 9.11s\tremaining: 6.06s\n",
      "1600:\ttest: 0.8846793\tbest: 0.8847258 (1589)\ttotal: 12.3s\tremaining: 3.06s\n",
      "1999:\ttest: 0.8911067\tbest: 0.8912463 (1979)\ttotal: 15.5s\tremaining: 0us\n",
      "\n",
      "bestTest = 0.8912462612\n",
      "bestIteration = 1979\n",
      "\n",
      "Metric AUC is not calculated on train by default. To calculate this metric on train, add hints=skip_train~false to metric parameters.\n",
      "10:\tloss: 0.8912463\tbest: 0.9008375 (2)\ttotal: 1m 40s\tremaining: 2m 25s\n",
      "0:\ttest: 0.6418046\tbest: 0.6418046 (0)\ttotal: 8.65ms\tremaining: 17.3s\n",
      "400:\ttest: 0.8758990\tbest: 0.8763842 (374)\ttotal: 3.04s\tremaining: 12.1s\n",
      "800:\ttest: 0.8863410\tbest: 0.8873446 (771)\ttotal: 6.34s\tremaining: 9.49s\n",
      "1200:\ttest: 0.8870655\tbest: 0.8893121 (1043)\ttotal: 9.62s\tremaining: 6.4s\n",
      "1600:\ttest: 0.8872981\tbest: 0.8893121 (1043)\ttotal: 12.8s\tremaining: 3.19s\n",
      "1999:\ttest: 0.8866334\tbest: 0.8893121 (1043)\ttotal: 16.1s\tremaining: 0us\n",
      "\n",
      "bestTest = 0.8893120638\n",
      "bestIteration = 1043\n",
      "\n",
      "Metric AUC is not calculated on train by default. To calculate this metric on train, add hints=skip_train~false to metric parameters.\n",
      "11:\tloss: 0.8893121\tbest: 0.9008375 (2)\ttotal: 1m 56s\tremaining: 2m 25s\n",
      "0:\ttest: 0.6418046\tbest: 0.6418046 (0)\ttotal: 12.9ms\tremaining: 25.8s\n",
      "400:\ttest: 0.8107544\tbest: 0.8109272 (396)\ttotal: 2.83s\tremaining: 11.3s\n",
      "800:\ttest: 0.8142506\tbest: 0.8143503 (798)\ttotal: 5.48s\tremaining: 8.21s\n",
      "1200:\ttest: 0.8222399\tbest: 0.8222532 (1199)\ttotal: 8.26s\tremaining: 5.5s\n",
      "1600:\ttest: 0.8301828\tbest: 0.8301828 (1598)\ttotal: 11.4s\tremaining: 2.84s\n",
      "1999:\ttest: 0.8390562\tbest: 0.8390562 (1999)\ttotal: 14.6s\tremaining: 0us\n",
      "\n",
      "bestTest = 0.8390561648\n",
      "bestIteration = 1999\n",
      "\n",
      "Metric AUC is not calculated on train by default. To calculate this metric on train, add hints=skip_train~false to metric parameters.\n",
      "12:\tloss: 0.8390562\tbest: 0.9008375 (2)\ttotal: 2m 10s\tremaining: 2m 20s\n",
      "0:\ttest: 0.6418046\tbest: 0.6418046 (0)\ttotal: 10.3ms\tremaining: 20.7s\n",
      "400:\ttest: 0.8227052\tbest: 0.8227717 (395)\ttotal: 2.8s\tremaining: 11.2s\n",
      "800:\ttest: 0.8441808\tbest: 0.8443004 (798)\ttotal: 6.04s\tremaining: 9.05s\n",
      "1200:\ttest: 0.8598538\tbest: 0.8603323 (1191)\ttotal: 9.22s\tremaining: 6.13s\n",
      "1600:\ttest: 0.8737255\tbest: 0.8742306 (1582)\ttotal: 12.4s\tremaining: 3.09s\n",
      "1999:\ttest: 0.8781854\tbest: 0.8784181 (1991)\ttotal: 15.6s\tremaining: 0us\n",
      "\n",
      "bestTest = 0.8784180791\n",
      "bestIteration = 1991\n",
      "\n",
      "Metric AUC is not calculated on train by default. To calculate this metric on train, add hints=skip_train~false to metric parameters.\n",
      "13:\tloss: 0.8784181\tbest: 0.9008375 (2)\ttotal: 2m 26s\tremaining: 2m 15s\n",
      "0:\ttest: 0.6418046\tbest: 0.6418046 (0)\ttotal: 12.5ms\tremaining: 25s\n",
      "400:\ttest: 0.8743702\tbest: 0.8744300 (398)\ttotal: 3.06s\tremaining: 12.2s\n",
      "800:\ttest: 0.8873446\tbest: 0.8875972 (796)\ttotal: 6.26s\tremaining: 9.37s\n",
      "1200:\ttest: 0.8943636\tbest: 0.8947757 (1129)\ttotal: 9.56s\tremaining: 6.36s\n",
      "1600:\ttest: 0.8931007\tbest: 0.8947757 (1129)\ttotal: 12.9s\tremaining: 3.21s\n",
      "1999:\ttest: 0.8934796\tbest: 0.8947757 (1129)\ttotal: 16.2s\tremaining: 0us\n",
      "\n",
      "bestTest = 0.894775673\n",
      "bestIteration = 1129\n",
      "\n",
      "Metric AUC is not calculated on train by default. To calculate this metric on train, add hints=skip_train~false to metric parameters.\n",
      "14:\tloss: 0.8947757\tbest: 0.9008375 (2)\ttotal: 2m 42s\tremaining: 2m 10s\n",
      "0:\ttest: 0.6418046\tbest: 0.6418046 (0)\ttotal: 9.48ms\tremaining: 19s\n",
      "400:\ttest: 0.8108608\tbest: 0.8112330 (358)\ttotal: 2.77s\tremaining: 11s\n",
      "800:\ttest: 0.8133732\tbest: 0.8134729 (788)\ttotal: 5.57s\tremaining: 8.33s\n",
      "1200:\ttest: 0.8191027\tbest: 0.8191559 (1195)\ttotal: 8.25s\tremaining: 5.49s\n",
      "1600:\ttest: 0.8253506\tbest: 0.8254237 (1586)\ttotal: 11.2s\tremaining: 2.79s\n",
      "1999:\ttest: 0.8304487\tbest: 0.8305018 (1993)\ttotal: 14.2s\tremaining: 0us\n",
      "\n",
      "bestTest = 0.8305018278\n",
      "bestIteration = 1993\n",
      "\n",
      "Metric AUC is not calculated on train by default. To calculate this metric on train, add hints=skip_train~false to metric parameters.\n",
      "15:\tloss: 0.8305018\tbest: 0.9008375 (2)\ttotal: 2m 57s\tremaining: 2m 1s\n",
      "0:\ttest: 0.6418046\tbest: 0.6418046 (0)\ttotal: 9.96ms\tremaining: 19.9s\n",
      "400:\ttest: 0.8160718\tbest: 0.8160718 (398)\ttotal: 2.83s\tremaining: 11.3s\n",
      "800:\ttest: 0.8361183\tbest: 0.8361981 (799)\ttotal: 5.86s\tremaining: 8.77s\n",
      "1200:\ttest: 0.8500897\tbest: 0.8501163 (1197)\ttotal: 9.08s\tremaining: 6.04s\n",
      "1600:\ttest: 0.8616816\tbest: 0.8617481 (1595)\ttotal: 12.3s\tremaining: 3.07s\n",
      "1999:\ttest: 0.8701628\tbest: 0.8701628 (1999)\ttotal: 15.6s\tremaining: 0us\n",
      "\n",
      "bestTest = 0.8701628448\n",
      "bestIteration = 1999\n",
      "\n",
      "Metric AUC is not calculated on train by default. To calculate this metric on train, add hints=skip_train~false to metric parameters.\n",
      "16:\tloss: 0.8701628\tbest: 0.9008375 (2)\ttotal: 3m 12s\tremaining: 1m 53s\n",
      "0:\ttest: 0.6418046\tbest: 0.6418046 (0)\ttotal: 8.71ms\tremaining: 17.4s\n",
      "400:\ttest: 0.8716451\tbest: 0.8716451 (400)\ttotal: 3.01s\tremaining: 12s\n",
      "800:\ttest: 0.8854370\tbest: 0.8857162 (792)\ttotal: 6.27s\tremaining: 9.39s\n",
      "1200:\ttest: 0.8891459\tbest: 0.8901296 (1152)\ttotal: 9.47s\tremaining: 6.3s\n",
      "1600:\ttest: 0.8908807\tbest: 0.8910668 (1572)\ttotal: 12.7s\tremaining: 3.16s\n",
      "1999:\ttest: 0.8941376\tbest: 0.8941775 (1995)\ttotal: 16s\tremaining: 0us\n",
      "\n",
      "bestTest = 0.8941774676\n",
      "bestIteration = 1995\n",
      "\n",
      "Metric AUC is not calculated on train by default. To calculate this metric on train, add hints=skip_train~false to metric parameters.\n",
      "17:\tloss: 0.8941775\tbest: 0.9008375 (2)\ttotal: 3m 28s\tremaining: 1m 44s\n",
      "0:\ttest: 0.7099236\tbest: 0.7099236 (0)\ttotal: 17ms\tremaining: 33.9s\n",
      "400:\ttest: 0.8106613\tbest: 0.8108342 (396)\ttotal: 4.31s\tremaining: 17.2s\n",
      "800:\ttest: 0.8155600\tbest: 0.8155600 (800)\ttotal: 8.82s\tremaining: 13.2s\n",
      "1200:\ttest: 0.8301030\tbest: 0.8301296 (1197)\ttotal: 14s\tremaining: 9.34s\n",
      "1600:\ttest: 0.8422599\tbest: 0.8423729 (1592)\ttotal: 19.6s\tremaining: 4.89s\n",
      "1999:\ttest: 0.8532070\tbest: 0.8532536 (1998)\ttotal: 25.2s\tremaining: 0us\n",
      "\n",
      "bestTest = 0.8532535726\n",
      "bestIteration = 1998\n",
      "\n",
      "Metric AUC is not calculated on train by default. To calculate this metric on train, add hints=skip_train~false to metric parameters.\n",
      "18:\tloss: 0.8532536\tbest: 0.9008375 (2)\ttotal: 3m 53s\tremaining: 1m 38s\n",
      "0:\ttest: 0.7099236\tbest: 0.7099236 (0)\ttotal: 15.3ms\tremaining: 30.6s\n",
      "400:\ttest: 0.8264340\tbest: 0.8266135 (399)\ttotal: 4.79s\tremaining: 19.1s\n",
      "800:\ttest: 0.8585776\tbest: 0.8587704 (792)\ttotal: 10.3s\tremaining: 15.3s\n",
      "1200:\ttest: 0.8700233\tbest: 0.8700233 (1200)\ttotal: 15.8s\tremaining: 10.5s\n",
      "1600:\ttest: 0.8730076\tbest: 0.8730076 (1600)\ttotal: 21.6s\tremaining: 5.38s\n",
      "1999:\ttest: 0.8716916\tbest: 0.8736923 (1702)\ttotal: 27.1s\tremaining: 0us\n",
      "\n",
      "bestTest = 0.8736922566\n",
      "bestIteration = 1702\n",
      "\n",
      "Metric AUC is not calculated on train by default. To calculate this metric on train, add hints=skip_train~false to metric parameters.\n",
      "19:\tloss: 0.8736923\tbest: 0.9008375 (2)\ttotal: 4m 20s\tremaining: 1m 31s\n",
      "0:\ttest: 0.7099236\tbest: 0.7099236 (0)\ttotal: 14.7ms\tremaining: 29.4s\n",
      "400:\ttest: 0.8728348\tbest: 0.8736457 (390)\ttotal: 5.32s\tremaining: 21.2s\n",
      "800:\ttest: 0.8722100\tbest: 0.8755999 (549)\ttotal: 10.9s\tremaining: 16.3s\n",
      "1200:\ttest: 0.8709405\tbest: 0.8755999 (549)\ttotal: 16.5s\tremaining: 11s\n",
      "1600:\ttest: 0.8709538\tbest: 0.8755999 (549)\ttotal: 22s\tremaining: 5.48s\n",
      "1999:\ttest: 0.8706481\tbest: 0.8755999 (549)\ttotal: 27.3s\tremaining: 0us\n",
      "\n",
      "bestTest = 0.8755998671\n",
      "bestIteration = 549\n",
      "\n",
      "Metric AUC is not calculated on train by default. To calculate this metric on train, add hints=skip_train~false to metric parameters.\n",
      "20:\tloss: 0.8755999\tbest: 0.9008375 (2)\ttotal: 4m 48s\tremaining: 1m 22s\n",
      "0:\ttest: 0.7097574\tbest: 0.7097574 (0)\ttotal: 15ms\tremaining: 30.1s\n",
      "400:\ttest: 0.8100366\tbest: 0.8102625 (392)\ttotal: 4.3s\tremaining: 17.2s\n",
      "800:\ttest: 0.8144234\tbest: 0.8144766 (798)\ttotal: 8.84s\tremaining: 13.2s\n",
      "1200:\ttest: 0.8267331\tbest: 0.8267398 (1195)\ttotal: 13.9s\tremaining: 9.26s\n",
      "1600:\ttest: 0.8364706\tbest: 0.8364706 (1598)\ttotal: 19.3s\tremaining: 4.82s\n",
      "1999:\ttest: 0.8466201\tbest: 0.8466201 (1998)\ttotal: 24.7s\tremaining: 0us\n",
      "\n",
      "bestTest = 0.8466201396\n",
      "bestIteration = 1998\n",
      "\n",
      "Metric AUC is not calculated on train by default. To calculate this metric on train, add hints=skip_train~false to metric parameters.\n",
      "21:\tloss: 0.8466201\tbest: 0.9008375 (2)\ttotal: 5m 13s\tremaining: 1m 11s\n",
      "0:\ttest: 0.7097574\tbest: 0.7097574 (0)\ttotal: 14.5ms\tremaining: 29.1s\n",
      "400:\ttest: 0.8231838\tbest: 0.8231838 (399)\ttotal: 4.45s\tremaining: 17.7s\n",
      "800:\ttest: 0.8525291\tbest: 0.8525490 (795)\ttotal: 9.83s\tremaining: 14.7s\n",
      "1200:\ttest: 0.8640479\tbest: 0.8641077 (1199)\ttotal: 15.2s\tremaining: 10.1s\n",
      "1600:\ttest: 0.8689598\tbest: 0.8690329 (1595)\ttotal: 20.7s\tremaining: 5.15s\n",
      "1999:\ttest: 0.8759455\tbest: 0.8759787 (1998)\ttotal: 26.1s\tremaining: 0us\n",
      "\n",
      "bestTest = 0.8759787305\n",
      "bestIteration = 1998\n",
      "\n",
      "Metric AUC is not calculated on train by default. To calculate this metric on train, add hints=skip_train~false to metric parameters.\n",
      "22:\tloss: 0.8759787\tbest: 0.9008375 (2)\ttotal: 5m 39s\tremaining: 59s\n",
      "0:\ttest: 0.7097574\tbest: 0.7097574 (0)\ttotal: 15.2ms\tremaining: 30.3s\n",
      "400:\ttest: 0.8667996\tbest: 0.8674909 (370)\ttotal: 5.09s\tremaining: 20.3s\n",
      "800:\ttest: 0.8760851\tbest: 0.8760851 (800)\ttotal: 10.6s\tremaining: 15.8s\n",
      "1200:\ttest: 0.8788634\tbest: 0.8795214 (1039)\ttotal: 16s\tremaining: 10.7s\n",
      "1600:\ttest: 0.8787903\tbest: 0.8799202 (1531)\ttotal: 21.4s\tremaining: 5.34s\n",
      "1999:\ttest: 0.8789432\tbest: 0.8799202 (1531)\ttotal: 26.9s\tremaining: 0us\n",
      "\n",
      "bestTest = 0.8799202393\n",
      "bestIteration = 1531\n",
      "\n",
      "Metric AUC is not calculated on train by default. To calculate this metric on train, add hints=skip_train~false to metric parameters.\n",
      "23:\tloss: 0.8799202\tbest: 0.9008375 (2)\ttotal: 6m 6s\tremaining: 45.8s\n",
      "0:\ttest: 0.7101761\tbest: 0.7101761 (0)\ttotal: 14.8ms\tremaining: 29.7s\n",
      "400:\ttest: 0.8096245\tbest: 0.8098770 (347)\ttotal: 4.41s\tremaining: 17.6s\n",
      "800:\ttest: 0.8132004\tbest: 0.8132004 (799)\ttotal: 8.64s\tremaining: 12.9s\n",
      "1200:\ttest: 0.8247325\tbest: 0.8249983 (1188)\ttotal: 13.3s\tremaining: 8.83s\n",
      "1600:\ttest: 0.8349551\tbest: 0.8350349 (1597)\ttotal: 18.5s\tremaining: 4.61s\n",
      "1999:\ttest: 0.8419209\tbest: 0.8419209 (1999)\ttotal: 24s\tremaining: 0us\n",
      "\n",
      "bestTest = 0.841920904\n",
      "bestIteration = 1999\n",
      "\n",
      "Metric AUC is not calculated on train by default. To calculate this metric on train, add hints=skip_train~false to metric parameters.\n",
      "24:\tloss: 0.8419209\tbest: 0.9008375 (2)\ttotal: 6m 30s\tremaining: 31.2s\n",
      "0:\ttest: 0.7101761\tbest: 0.7101761 (0)\ttotal: 15ms\tremaining: 29.9s\n",
      "400:\ttest: 0.8279362\tbest: 0.8279362 (400)\ttotal: 4.21s\tremaining: 16.8s\n",
      "800:\ttest: 0.8522300\tbest: 0.8522300 (800)\ttotal: 9.56s\tremaining: 14.3s\n",
      "1200:\ttest: 0.8627318\tbest: 0.8628049 (1196)\ttotal: 15s\tremaining: 9.95s\n",
      "1600:\ttest: 0.8724693\tbest: 0.8725889 (1599)\ttotal: 20.4s\tremaining: 5.09s\n",
      "1999:\ttest: 0.8775474\tbest: 0.8779462 (1974)\ttotal: 25.9s\tremaining: 0us\n",
      "\n",
      "bestTest = 0.8779461615\n",
      "bestIteration = 1974\n",
      "\n",
      "Metric AUC is not calculated on train by default. To calculate this metric on train, add hints=skip_train~false to metric parameters.\n",
      "25:\tloss: 0.8779462\tbest: 0.9008375 (2)\ttotal: 6m 56s\tremaining: 16s\n",
      "0:\ttest: 0.7101761\tbest: 0.7101761 (0)\ttotal: 14.8ms\tremaining: 29.5s\n",
      "400:\ttest: 0.8632303\tbest: 0.8635959 (384)\ttotal: 5.05s\tremaining: 20.2s\n",
      "800:\ttest: 0.8750615\tbest: 0.8756663 (746)\ttotal: 10.5s\tremaining: 15.8s\n",
      "1200:\ttest: 0.8790296\tbest: 0.8792090 (1183)\ttotal: 16s\tremaining: 10.6s\n",
      "1600:\ttest: 0.8805251\tbest: 0.8811964 (1571)\ttotal: 21.4s\tremaining: 5.33s\n",
      "1999:\ttest: 0.8824261\tbest: 0.8832569 (1951)\ttotal: 26.7s\tremaining: 0us\n",
      "\n",
      "bestTest = 0.883256896\n",
      "bestIteration = 1951\n",
      "\n",
      "Metric AUC is not calculated on train by default. To calculate this metric on train, add hints=skip_train~false to metric parameters.\n",
      "26:\tloss: 0.8832569\tbest: 0.9008375 (2)\ttotal: 7m 22s\tremaining: 0us\n",
      "Estimating final quality...\n",
      "Training on fold [0/3]\n",
      "0:\ttest: 0.6760461\tbest: 0.6760461 (0)\ttotal: 4.21ms\tremaining: 8.42s\n",
      "400:\ttest: 0.8596324\tbest: 0.8597333 (399)\ttotal: 1.38s\tremaining: 5.49s\n",
      "800:\ttest: 0.8870438\tbest: 0.8871567 (799)\ttotal: 2.84s\tremaining: 4.25s\n",
      "1200:\ttest: 0.8977878\tbest: 0.8979656 (1155)\ttotal: 4.28s\tremaining: 2.85s\n",
      "1600:\ttest: 0.9100574\tbest: 0.9100574 (1600)\ttotal: 5.74s\tremaining: 1.43s\n",
      "1999:\ttest: 0.9161189\tbest: 0.9161333 (1998)\ttotal: 7.16s\tremaining: 0us\n",
      "\n",
      "bestTest = 0.9161333103\n",
      "bestIteration = 1998\n",
      "\n",
      "Training on fold [1/3]\n",
      "0:\ttest: 0.6658870\tbest: 0.6658870 (0)\ttotal: 4.28ms\tremaining: 8.55s\n",
      "400:\ttest: 0.8724882\tbest: 0.8724882 (400)\ttotal: 1.37s\tremaining: 5.47s\n",
      "800:\ttest: 0.9101447\tbest: 0.9102975 (787)\ttotal: 2.84s\tremaining: 4.25s\n",
      "1200:\ttest: 0.9208029\tbest: 0.9211810 (1143)\ttotal: 4.29s\tremaining: 2.85s\n",
      "1600:\ttest: 0.9248222\tbest: 0.9249825 (1579)\ttotal: 5.75s\tremaining: 1.43s\n",
      "1999:\ttest: 0.9230367\tbest: 0.9249825 (1579)\ttotal: 7.2s\tremaining: 0us\n",
      "\n",
      "bestTest = 0.9249824702\n",
      "bestIteration = 1579\n",
      "\n",
      "Training on fold [2/3]\n",
      "0:\ttest: 0.6345430\tbest: 0.6345430 (0)\ttotal: 4.31ms\tremaining: 8.62s\n",
      "400:\ttest: 0.8395856\tbest: 0.8395856 (400)\ttotal: 1.39s\tremaining: 5.54s\n",
      "800:\ttest: 0.8819219\tbest: 0.8821998 (784)\ttotal: 2.86s\tremaining: 4.29s\n",
      "1200:\ttest: 0.8972902\tbest: 0.8972973 (1198)\ttotal: 4.35s\tremaining: 2.9s\n",
      "1600:\ttest: 0.9012380\tbest: 0.9013040 (1598)\ttotal: 5.8s\tremaining: 1.45s\n",
      "1999:\ttest: 0.9055816\tbest: 0.9057370 (1982)\ttotal: 7.26s\tremaining: 0us\n",
      "\n",
      "bestTest = 0.9057370195\n",
      "bestIteration = 1982\n",
      "\n"
     ]
    }
   ],
   "source": [
    "model = CatBoostClassifier(iterations = 2000, loss_function = 'CrossEntropy', eval_metric = 'AUC', \n",
    "                           cat_features = cat_col, random_state = RANDOM_STATE, verbose = 400)\n",
    "grid = {'learning_rate': [0.01, 0.03, 0.1], 'depth': [2, 4, 6], 'l2_leaf_reg': [1, 3, 5]}\n",
    "grid_search_result = model.grid_search(grid, X = X_train_cb, y = y_train_cb, cv = 3)"
   ]
  },
  {
   "cell_type": "code",
   "execution_count": 73,
   "id": "76d3c385",
   "metadata": {},
   "outputs": [
    {
     "data": {
      "text/plain": [
       "'Оптимальные параметры модели CatBoost:'"
      ]
     },
     "metadata": {},
     "output_type": "display_data"
    },
    {
     "data": {
      "text/plain": [
       "{'depth': 2, 'l2_leaf_reg': 1, 'learning_rate': 0.1}"
      ]
     },
     "metadata": {},
     "output_type": "display_data"
    }
   ],
   "source": [
    "display('Оптимальные параметры модели CatBoost:', grid_search_result['params'])"
   ]
  },
  {
   "cell_type": "code",
   "execution_count": 74,
   "id": "29aa96e7",
   "metadata": {},
   "outputs": [
    {
     "data": {
      "text/plain": [
       "0.9670843450556508"
      ]
     },
     "execution_count": 74,
     "metadata": {},
     "output_type": "execute_result"
    }
   ],
   "source": [
    "roc_auc_score(y_train_cb,model.predict_proba(X_train_cb)[:,1])"
   ]
  },
  {
   "cell_type": "code",
   "execution_count": 75,
   "id": "db7df38f",
   "metadata": {},
   "outputs": [
    {
     "name": "stdout",
     "output_type": "stream",
     "text": [
      "ROC AUC для CatBoost: 0.8868265438750417\n"
     ]
    }
   ],
   "source": [
    "print(f'ROC AUC для CatBoost: {np.mean(grid_search_result[\"cv_results\"][\"test-AUC-mean\"])}')"
   ]
  },
  {
   "cell_type": "markdown",
   "id": "5506eb91",
   "metadata": {},
   "source": [
    "ROC AUC на CatBoost лучшая из исследованных, выберем модель CatBoost.\n",
    "ROC_AUC на тренировочной получили 0.96, посчитаем метрику на тестовой выборке."
   ]
  },
  {
   "cell_type": "code",
   "execution_count": 76,
   "id": "f02d9c40",
   "metadata": {},
   "outputs": [
    {
     "data": {
      "text/plain": [
       "'ROC_AUC на тестовой выборке: 0.9458377556435482'"
      ]
     },
     "metadata": {},
     "output_type": "display_data"
    }
   ],
   "source": [
    "display(f'ROC_AUC на тестовой выборке: {roc_auc_score(y_test_cb,model.predict_proba(X_test_cb)[:,1])}')"
   ]
  },
  {
   "cell_type": "markdown",
   "id": "389cb728",
   "metadata": {},
   "source": [
    "ROC_AUC на тестовой получили 0,95 , достигли требуемого результа больше 0,85"
   ]
  },
  {
   "cell_type": "markdown",
   "id": "8336177e",
   "metadata": {},
   "source": [
    "Аccuracy на тестовой выборке"
   ]
  },
  {
   "cell_type": "code",
   "execution_count": 77,
   "id": "b21f8dc2",
   "metadata": {},
   "outputs": [
    {
     "name": "stdout",
     "output_type": "stream",
     "text": [
      "Accuracy на тестовой выборке: 0.9363\n"
     ]
    }
   ],
   "source": [
    "y_pred = model.predict(X_test_cb)\n",
    "accuracy = accuracy_score(y_test_cb, y_pred)\n",
    "print(f'Accuracy на тестовой выборке: {accuracy:.4f}')"
   ]
  },
  {
   "cell_type": "markdown",
   "id": "3334c2b8",
   "metadata": {},
   "source": [
    "Хороший результат"
   ]
  },
  {
   "cell_type": "markdown",
   "id": "494426a2",
   "metadata": {},
   "source": [
    "#### Матрица ошибок на тестовой выборке"
   ]
  },
  {
   "cell_type": "code",
   "execution_count": 78,
   "id": "cf638338",
   "metadata": {},
   "outputs": [
    {
     "data": {
      "image/png": "[encoded data removed]",
      "text/plain": [
       "<Figure size 432x288 with 2 Axes>"
      ]
     },
     "metadata": {
      "needs_background": "light"
     },
     "output_type": "display_data"
    }
   ],
   "source": [
    "pred = model.predict(X_test_cb)\n",
    "cm = confusion_matrix(y_test_cb, pred )\n",
    "cm_display = ConfusionMatrixDisplay(cm).plot()"
   ]
  },
  {
   "cell_type": "code",
   "execution_count": 79,
   "id": "a5724c76",
   "metadata": {},
   "outputs": [
    {
     "data": {
      "text/plain": [
       "1    1496\n",
       "0     262\n",
       "Name: EndDate, dtype: int64"
      ]
     },
     "execution_count": 79,
     "metadata": {},
     "output_type": "execute_result"
    }
   ],
   "source": [
    "y_test_cb.value_counts()"
   ]
  },
  {
   "cell_type": "code",
   "execution_count": 80,
   "id": "9f237d45",
   "metadata": {},
   "outputs": [
    {
     "data": {
      "text/plain": [
       "368"
      ]
     },
     "execution_count": 80,
     "metadata": {},
     "output_type": "execute_result"
    }
   ],
   "source": [
    "262+106"
   ]
  },
  {
   "cell_type": "markdown",
   "id": "68127318",
   "metadata": {},
   "source": [
    "Распределение ошибок, из 368 реально ушедших абонентов предсказано 156 верно."
   ]
  },
  {
   "cell_type": "markdown",
   "id": "d6151dbe",
   "metadata": {},
   "source": [
    "#### График ROC кривой"
   ]
  },
  {
   "cell_type": "code",
   "execution_count": 81,
   "id": "5b4f5714",
   "metadata": {},
   "outputs": [
    {
     "data": {
      "image/png": "[encoded data removed]",
      "text/plain": [
       "<Figure size 432x288 with 1 Axes>"
      ]
     },
     "metadata": {
      "needs_background": "light"
     },
     "output_type": "display_data"
    }
   ],
   "source": [
    "fpr, tpr, thresholds = roc_curve(y_test_cb, model.predict_proba(X_test_cb)[:, 1])\n",
    "plt.figure()\n",
    "plt.plot(fpr, tpr, color = 'red', lw = 2)\n",
    "plt.plot([0, 1], [0, 1],color = 'navy', linestyle = '--')\n",
    "plt.xlabel('False Positive Rate')\n",
    "plt.ylabel('True Positive Rate')\n",
    "plt.title('ROC-curve')\n",
    "plt.show()"
   ]
  },
  {
   "cell_type": "markdown",
   "id": "54931419",
   "metadata": {},
   "source": [
    "#### Распределение важности величин"
   ]
  },
  {
   "cell_type": "code",
   "execution_count": 82,
   "id": "c7b2d3b6",
   "metadata": {},
   "outputs": [
    {
     "data": {
      "text/html": [
       "<div>\n",
       "<style scoped>\n",
       "    .dataframe tbody tr th:only-of-type {\n",
       "        vertical-align: middle;\n",
       "    }\n",
       "\n",
       "    .dataframe tbody tr th {\n",
       "        vertical-align: top;\n",
       "    }\n",
       "\n",
       "    .dataframe thead th {\n",
       "        text-align: right;\n",
       "    }\n",
       "</style>\n",
       "<table border=\"1\" class=\"dataframe\">\n",
       "  <thead>\n",
       "    <tr style=\"text-align: right;\">\n",
       "      <th></th>\n",
       "      <th>0</th>\n",
       "    </tr>\n",
       "  </thead>\n",
       "  <tbody>\n",
       "    <tr>\n",
       "      <th>dayuse</th>\n",
       "      <td>71.487777</td>\n",
       "    </tr>\n",
       "    <tr>\n",
       "      <th>TotalCharges</th>\n",
       "      <td>8.698551</td>\n",
       "    </tr>\n",
       "    <tr>\n",
       "      <th>Type</th>\n",
       "      <td>4.885161</td>\n",
       "    </tr>\n",
       "    <tr>\n",
       "      <th>MonthlyCharges</th>\n",
       "      <td>4.636783</td>\n",
       "    </tr>\n",
       "    <tr>\n",
       "      <th>MultipleLines</th>\n",
       "      <td>2.256914</td>\n",
       "    </tr>\n",
       "    <tr>\n",
       "      <th>PaymentMethod</th>\n",
       "      <td>1.895932</td>\n",
       "    </tr>\n",
       "    <tr>\n",
       "      <th>Partner</th>\n",
       "      <td>1.763611</td>\n",
       "    </tr>\n",
       "    <tr>\n",
       "      <th>OnlineBackup</th>\n",
       "      <td>0.929616</td>\n",
       "    </tr>\n",
       "    <tr>\n",
       "      <th>TechSupport</th>\n",
       "      <td>0.679617</td>\n",
       "    </tr>\n",
       "    <tr>\n",
       "      <th>DeviceProtection</th>\n",
       "      <td>0.570866</td>\n",
       "    </tr>\n",
       "    <tr>\n",
       "      <th>StreamingMovies</th>\n",
       "      <td>0.444648</td>\n",
       "    </tr>\n",
       "    <tr>\n",
       "      <th>OnlineSecurity</th>\n",
       "      <td>0.382978</td>\n",
       "    </tr>\n",
       "    <tr>\n",
       "      <th>SeniorCitizen</th>\n",
       "      <td>0.334526</td>\n",
       "    </tr>\n",
       "    <tr>\n",
       "      <th>Dependents</th>\n",
       "      <td>0.283128</td>\n",
       "    </tr>\n",
       "    <tr>\n",
       "      <th>StreamingTV</th>\n",
       "      <td>0.232237</td>\n",
       "    </tr>\n",
       "    <tr>\n",
       "      <th>PaperlessBilling</th>\n",
       "      <td>0.205204</td>\n",
       "    </tr>\n",
       "    <tr>\n",
       "      <th>InternetService</th>\n",
       "      <td>0.204374</td>\n",
       "    </tr>\n",
       "    <tr>\n",
       "      <th>gender</th>\n",
       "      <td>0.108077</td>\n",
       "    </tr>\n",
       "  </tbody>\n",
       "</table>\n",
       "</div>"
      ],
      "text/plain": [
       "                          0\n",
       "dayuse            71.487777\n",
       "TotalCharges       8.698551\n",
       "Type               4.885161\n",
       "MonthlyCharges     4.636783\n",
       "MultipleLines      2.256914\n",
       "PaymentMethod      1.895932\n",
       "Partner            1.763611\n",
       "OnlineBackup       0.929616\n",
       "TechSupport        0.679617\n",
       "DeviceProtection   0.570866\n",
       "StreamingMovies    0.444648\n",
       "OnlineSecurity     0.382978\n",
       "SeniorCitizen      0.334526\n",
       "Dependents         0.283128\n",
       "StreamingTV        0.232237\n",
       "PaperlessBilling   0.205204\n",
       "InternetService    0.204374\n",
       "gender             0.108077"
      ]
     },
     "execution_count": 82,
     "metadata": {},
     "output_type": "execute_result"
    }
   ],
   "source": [
    "pd.DataFrame(model.get_feature_importance().reshape(1,-1),\n",
    "             columns = X_train_cb.columns)\\\n",
    ".transpose()\\\n",
    ".sort_values(0, ascending = False)"
   ]
  },
  {
   "cell_type": "markdown",
   "id": "53579aea",
   "metadata": {},
   "source": [
    "### Общий вывод и рекомедации\n",
    "\n",
    "Список признаков участвующих в обучении:\n",
    "- dayuse - получен из столбцов BeginDate и EndDate\n",
    "- TotalCharges\n",
    "- Type\t\n",
    "- MonthlyCharges\t\n",
    "- MultipleLines\t\n",
    "- PaymentMethod\t\n",
    "- Partner\t\n",
    "- OnlineBackup\t\n",
    "- TechSupport\t\n",
    "- DeviceProtection\t\n",
    "- StreamingMovies\t\n",
    "- OnlineSecurity\t\n",
    "- SeniorCitizen\t\n",
    "- Dependents\t\n",
    "- StreamingTV\t\n",
    "- PaperlessBilling\t\n",
    "- InternetService\t\n",
    "- gender\t   \n",
    " \n",
    "Итоговая модель:\n",
    "CatBoostClassifier \n",
    "\n",
    "Гиперпараметры:\n",
    "depth=2,\n",
    "RANDOM_STATE = 251223,\n",
    "l2_leaf_reg=1,\n",
    "learning_rate=0.1;\n",
    "ROC_AUC на тестововй выборке: 0.95\n",
    "Accuracy на тестовой выборке: 0.94\n",
    "\n",
    "На основании показателей модель может быть использована как инструкмент по указанию на клиентов, которых необходимо стимулировать подарками, не давая уйти к конкурентам."
   ]
  }
 ],
 "metadata": {
  "ExecuteTimeLog": [
   {
    "duration": 420,
    "start_time": "2023-12-25T17:55:04.941Z"
   },
   {
    "duration": 78,
    "start_time": "2023-12-25T17:55:06.097Z"
   },
   {
    "duration": 281,
    "start_time": "2023-12-25T17:56:32.352Z"
   },
   {
    "duration": 14,
    "start_time": "2023-12-25T17:58:26.371Z"
   },
   {
    "duration": 19,
    "start_time": "2023-12-25T17:58:35.017Z"
   },
   {
    "duration": 1903,
    "start_time": "2023-12-25T18:00:12.326Z"
   },
   {
    "duration": 419,
    "start_time": "2023-12-25T18:00:27.947Z"
   },
   {
    "duration": 1984,
    "start_time": "2023-12-25T18:00:28.368Z"
   },
   {
    "duration": 0,
    "start_time": "2023-12-25T18:00:30.354Z"
   },
   {
    "duration": 0,
    "start_time": "2023-12-25T18:00:30.355Z"
   },
   {
    "duration": 98,
    "start_time": "2023-12-25T18:01:00.388Z"
   },
   {
    "duration": 13,
    "start_time": "2023-12-25T18:01:04.666Z"
   },
   {
    "duration": 104,
    "start_time": "2023-12-25T18:01:44.612Z"
   },
   {
    "duration": 13,
    "start_time": "2023-12-25T18:01:46.162Z"
   },
   {
    "duration": 17,
    "start_time": "2023-12-25T18:01:53.308Z"
   },
   {
    "duration": 13,
    "start_time": "2023-12-25T18:02:51.723Z"
   },
   {
    "duration": 11,
    "start_time": "2023-12-25T18:03:08.206Z"
   },
   {
    "duration": 11,
    "start_time": "2023-12-25T18:03:10.675Z"
   },
   {
    "duration": 13,
    "start_time": "2023-12-25T18:03:12.937Z"
   },
   {
    "duration": 15,
    "start_time": "2023-12-25T18:08:27.094Z"
   },
   {
    "duration": 430,
    "start_time": "2023-12-25T18:11:45.027Z"
   },
   {
    "duration": 119,
    "start_time": "2023-12-25T18:11:49.387Z"
   },
   {
    "duration": 105,
    "start_time": "2023-12-25T18:12:09.531Z"
   },
   {
    "duration": 109,
    "start_time": "2023-12-25T18:12:20.801Z"
   },
   {
    "duration": 128,
    "start_time": "2023-12-25T18:14:55.255Z"
   },
   {
    "duration": 81,
    "start_time": "2023-12-25T18:15:13.396Z"
   },
   {
    "duration": 80,
    "start_time": "2023-12-25T18:15:33.245Z"
   },
   {
    "duration": 85,
    "start_time": "2023-12-25T18:15:40.656Z"
   },
   {
    "duration": 78,
    "start_time": "2023-12-25T18:16:14.556Z"
   },
   {
    "duration": 75,
    "start_time": "2023-12-25T18:16:29.009Z"
   },
   {
    "duration": 83,
    "start_time": "2023-12-25T18:17:39.788Z"
   },
   {
    "duration": 83,
    "start_time": "2023-12-25T18:18:08.167Z"
   },
   {
    "duration": 15,
    "start_time": "2023-12-25T18:19:15.323Z"
   },
   {
    "duration": 8,
    "start_time": "2023-12-25T18:22:50.585Z"
   },
   {
    "duration": 19,
    "start_time": "2023-12-25T18:24:14.004Z"
   },
   {
    "duration": 81,
    "start_time": "2023-12-25T18:24:31.609Z"
   },
   {
    "duration": 123,
    "start_time": "2023-12-25T18:25:30.923Z"
   },
   {
    "duration": 122,
    "start_time": "2023-12-25T18:26:04.014Z"
   },
   {
    "duration": 77,
    "start_time": "2023-12-25T18:26:37.114Z"
   },
   {
    "duration": 189,
    "start_time": "2023-12-25T18:28:05.519Z"
   },
   {
    "duration": 11,
    "start_time": "2023-12-25T18:29:27.071Z"
   },
   {
    "duration": 8,
    "start_time": "2023-12-25T18:32:20.818Z"
   },
   {
    "duration": 104,
    "start_time": "2023-12-25T18:34:42.976Z"
   },
   {
    "duration": 105,
    "start_time": "2023-12-25T18:35:08.840Z"
   },
   {
    "duration": 629,
    "start_time": "2023-12-25T18:35:33.484Z"
   },
   {
    "duration": 109,
    "start_time": "2023-12-25T18:35:34.115Z"
   },
   {
    "duration": 16,
    "start_time": "2023-12-25T18:35:34.226Z"
   },
   {
    "duration": 14,
    "start_time": "2023-12-25T18:35:34.243Z"
   },
   {
    "duration": 12,
    "start_time": "2023-12-25T18:35:34.259Z"
   },
   {
    "duration": 30,
    "start_time": "2023-12-25T18:35:34.272Z"
   },
   {
    "duration": 105,
    "start_time": "2023-12-25T18:35:34.303Z"
   },
   {
    "duration": 15,
    "start_time": "2023-12-25T18:35:34.409Z"
   },
   {
    "duration": 18,
    "start_time": "2023-12-25T18:35:34.425Z"
   },
   {
    "duration": 22,
    "start_time": "2023-12-25T18:35:34.445Z"
   },
   {
    "duration": 116,
    "start_time": "2023-12-25T18:35:34.468Z"
   },
   {
    "duration": 131,
    "start_time": "2023-12-25T18:35:34.585Z"
   },
   {
    "duration": 10,
    "start_time": "2023-12-25T18:36:36.517Z"
   },
   {
    "duration": 12,
    "start_time": "2023-12-25T18:37:34.936Z"
   },
   {
    "duration": 18,
    "start_time": "2023-12-25T18:38:09.062Z"
   },
   {
    "duration": 126,
    "start_time": "2023-12-25T18:58:51.362Z"
   },
   {
    "duration": 183,
    "start_time": "2023-12-25T18:59:35.820Z"
   },
   {
    "duration": 127,
    "start_time": "2023-12-25T19:00:17.913Z"
   },
   {
    "duration": 107,
    "start_time": "2023-12-25T19:00:49.308Z"
   },
   {
    "duration": 7,
    "start_time": "2023-12-25T19:02:50.575Z"
   },
   {
    "duration": 111,
    "start_time": "2023-12-25T19:04:20.048Z"
   },
   {
    "duration": 114,
    "start_time": "2023-12-25T19:04:40.880Z"
   },
   {
    "duration": 117,
    "start_time": "2023-12-25T19:04:59.490Z"
   },
   {
    "duration": 604,
    "start_time": "2023-12-25T19:05:09.776Z"
   },
   {
    "duration": 104,
    "start_time": "2023-12-25T19:05:10.382Z"
   },
   {
    "duration": 15,
    "start_time": "2023-12-25T19:05:10.488Z"
   },
   {
    "duration": 28,
    "start_time": "2023-12-25T19:05:10.504Z"
   },
   {
    "duration": 31,
    "start_time": "2023-12-25T19:05:10.535Z"
   },
   {
    "duration": 29,
    "start_time": "2023-12-25T19:05:10.568Z"
   },
   {
    "duration": 102,
    "start_time": "2023-12-25T19:05:10.599Z"
   },
   {
    "duration": 14,
    "start_time": "2023-12-25T19:05:10.703Z"
   },
   {
    "duration": 19,
    "start_time": "2023-12-25T19:05:10.719Z"
   },
   {
    "duration": 8,
    "start_time": "2023-12-25T19:05:10.740Z"
   },
   {
    "duration": 118,
    "start_time": "2023-12-25T19:05:10.750Z"
   },
   {
    "duration": 121,
    "start_time": "2023-12-25T19:05:10.870Z"
   },
   {
    "duration": 10,
    "start_time": "2023-12-25T19:05:10.993Z"
   },
   {
    "duration": 24,
    "start_time": "2023-12-25T19:05:11.006Z"
   },
   {
    "duration": 13,
    "start_time": "2023-12-25T19:05:11.032Z"
   },
   {
    "duration": 121,
    "start_time": "2023-12-25T19:05:11.047Z"
   },
   {
    "duration": 165,
    "start_time": "2023-12-25T19:05:11.170Z"
   },
   {
    "duration": 107,
    "start_time": "2023-12-25T19:05:11.337Z"
   },
   {
    "duration": 6,
    "start_time": "2023-12-25T19:05:11.446Z"
   },
   {
    "duration": 119,
    "start_time": "2023-12-25T19:05:11.454Z"
   },
   {
    "duration": 2192,
    "start_time": "2023-12-27T17:12:27.906Z"
   },
   {
    "duration": 353,
    "start_time": "2023-12-27T17:12:30.100Z"
   },
   {
    "duration": 19,
    "start_time": "2023-12-27T17:12:30.455Z"
   },
   {
    "duration": 79,
    "start_time": "2023-12-27T17:12:30.477Z"
   },
   {
    "duration": 50,
    "start_time": "2023-12-27T17:12:30.558Z"
   },
   {
    "duration": 43,
    "start_time": "2023-12-27T17:12:30.611Z"
   },
   {
    "duration": 122,
    "start_time": "2023-12-27T17:12:30.656Z"
   },
   {
    "duration": 21,
    "start_time": "2023-12-27T17:12:30.780Z"
   },
   {
    "duration": 19,
    "start_time": "2023-12-27T17:12:30.803Z"
   },
   {
    "duration": 39,
    "start_time": "2023-12-27T17:12:30.824Z"
   },
   {
    "duration": 151,
    "start_time": "2023-12-27T17:12:30.864Z"
   },
   {
    "duration": 158,
    "start_time": "2023-12-27T17:12:31.017Z"
   },
   {
    "duration": 23,
    "start_time": "2023-12-27T17:12:31.177Z"
   },
   {
    "duration": 49,
    "start_time": "2023-12-27T17:12:31.202Z"
   },
   {
    "duration": 35,
    "start_time": "2023-12-27T17:12:31.253Z"
   },
   {
    "duration": 140,
    "start_time": "2023-12-27T17:12:31.289Z"
   },
   {
    "duration": 205,
    "start_time": "2023-12-27T17:12:31.431Z"
   },
   {
    "duration": 135,
    "start_time": "2023-12-27T17:12:31.637Z"
   },
   {
    "duration": 8,
    "start_time": "2023-12-27T17:12:31.774Z"
   },
   {
    "duration": 181,
    "start_time": "2023-12-27T17:12:31.784Z"
   },
   {
    "duration": 3,
    "start_time": "2023-12-27T17:12:31.967Z"
   },
   {
    "duration": 693,
    "start_time": "2023-12-27T17:17:23.465Z"
   },
   {
    "duration": 104,
    "start_time": "2023-12-27T17:17:24.160Z"
   },
   {
    "duration": 16,
    "start_time": "2023-12-27T17:17:24.265Z"
   },
   {
    "duration": 23,
    "start_time": "2023-12-27T17:17:24.283Z"
   },
   {
    "duration": 48,
    "start_time": "2023-12-27T17:17:24.308Z"
   },
   {
    "duration": 30,
    "start_time": "2023-12-27T17:17:24.358Z"
   },
   {
    "duration": 119,
    "start_time": "2023-12-27T17:17:24.390Z"
   },
   {
    "duration": 17,
    "start_time": "2023-12-27T17:17:24.510Z"
   },
   {
    "duration": 15,
    "start_time": "2023-12-27T17:17:24.528Z"
   },
   {
    "duration": 28,
    "start_time": "2023-12-27T17:17:24.544Z"
   },
   {
    "duration": 150,
    "start_time": "2023-12-27T17:17:24.574Z"
   },
   {
    "duration": 144,
    "start_time": "2023-12-27T17:17:24.725Z"
   },
   {
    "duration": 15,
    "start_time": "2023-12-27T17:17:24.871Z"
   },
   {
    "duration": 25,
    "start_time": "2023-12-27T17:17:24.889Z"
   },
   {
    "duration": 66,
    "start_time": "2023-12-27T17:17:24.916Z"
   },
   {
    "duration": 165,
    "start_time": "2023-12-27T17:17:24.983Z"
   },
   {
    "duration": 194,
    "start_time": "2023-12-27T17:17:25.150Z"
   },
   {
    "duration": 137,
    "start_time": "2023-12-27T17:17:25.345Z"
   },
   {
    "duration": 16,
    "start_time": "2023-12-27T17:17:25.484Z"
   },
   {
    "duration": 143,
    "start_time": "2023-12-27T17:17:25.502Z"
   },
   {
    "duration": 2,
    "start_time": "2023-12-27T17:17:25.647Z"
   },
   {
    "duration": 16,
    "start_time": "2023-12-27T17:17:25.651Z"
   },
   {
    "duration": 78,
    "start_time": "2023-12-27T17:33:51.746Z"
   },
   {
    "duration": 3,
    "start_time": "2023-12-27T17:34:31.301Z"
   },
   {
    "duration": 27,
    "start_time": "2023-12-27T17:34:37.077Z"
   },
   {
    "duration": 7,
    "start_time": "2023-12-27T17:35:13.032Z"
   },
   {
    "duration": 3,
    "start_time": "2023-12-27T17:35:19.017Z"
   },
   {
    "duration": 5,
    "start_time": "2023-12-27T17:35:39.821Z"
   },
   {
    "duration": 20,
    "start_time": "2023-12-27T17:36:17.829Z"
   },
   {
    "duration": 9,
    "start_time": "2023-12-27T17:38:35.681Z"
   },
   {
    "duration": 1437,
    "start_time": "2023-12-27T17:38:44.227Z"
   },
   {
    "duration": 103,
    "start_time": "2023-12-27T17:38:45.666Z"
   },
   {
    "duration": 17,
    "start_time": "2023-12-27T17:38:45.771Z"
   },
   {
    "duration": 16,
    "start_time": "2023-12-27T17:38:45.790Z"
   },
   {
    "duration": 14,
    "start_time": "2023-12-27T17:38:45.809Z"
   },
   {
    "duration": 20,
    "start_time": "2023-12-27T17:38:45.825Z"
   },
   {
    "duration": 134,
    "start_time": "2023-12-27T17:38:45.847Z"
   },
   {
    "duration": 26,
    "start_time": "2023-12-27T17:38:45.983Z"
   },
   {
    "duration": 14,
    "start_time": "2023-12-27T17:38:46.011Z"
   },
   {
    "duration": 10,
    "start_time": "2023-12-27T17:38:46.026Z"
   },
   {
    "duration": 157,
    "start_time": "2023-12-27T17:38:46.037Z"
   },
   {
    "duration": 139,
    "start_time": "2023-12-27T17:38:46.199Z"
   },
   {
    "duration": 12,
    "start_time": "2023-12-27T17:38:46.339Z"
   },
   {
    "duration": 27,
    "start_time": "2023-12-27T17:38:46.354Z"
   },
   {
    "duration": 22,
    "start_time": "2023-12-27T17:38:46.382Z"
   },
   {
    "duration": 155,
    "start_time": "2023-12-27T17:38:46.406Z"
   },
   {
    "duration": 149,
    "start_time": "2023-12-27T17:38:46.563Z"
   },
   {
    "duration": 146,
    "start_time": "2023-12-27T17:38:46.714Z"
   },
   {
    "duration": 8,
    "start_time": "2023-12-27T17:38:46.861Z"
   },
   {
    "duration": 222,
    "start_time": "2023-12-27T17:38:46.871Z"
   },
   {
    "duration": 5,
    "start_time": "2023-12-27T17:38:47.095Z"
   },
   {
    "duration": 6,
    "start_time": "2023-12-27T17:38:47.102Z"
   },
   {
    "duration": 30,
    "start_time": "2023-12-27T17:38:47.109Z"
   },
   {
    "duration": 3,
    "start_time": "2023-12-27T17:38:47.141Z"
   },
   {
    "duration": 21,
    "start_time": "2023-12-27T17:38:47.146Z"
   },
   {
    "duration": 39,
    "start_time": "2023-12-27T17:38:47.169Z"
   },
   {
    "duration": 1370,
    "start_time": "2023-12-27T17:40:10.459Z"
   },
   {
    "duration": 5,
    "start_time": "2023-12-27T17:40:11.831Z"
   },
   {
    "duration": 0,
    "start_time": "2023-12-27T17:40:11.838Z"
   },
   {
    "duration": 0,
    "start_time": "2023-12-27T17:40:11.840Z"
   },
   {
    "duration": 0,
    "start_time": "2023-12-27T17:40:11.841Z"
   },
   {
    "duration": 0,
    "start_time": "2023-12-27T17:40:11.842Z"
   },
   {
    "duration": 0,
    "start_time": "2023-12-27T17:40:11.843Z"
   },
   {
    "duration": 0,
    "start_time": "2023-12-27T17:40:11.844Z"
   },
   {
    "duration": 0,
    "start_time": "2023-12-27T17:40:11.845Z"
   },
   {
    "duration": 0,
    "start_time": "2023-12-27T17:40:11.846Z"
   },
   {
    "duration": 0,
    "start_time": "2023-12-27T17:40:11.848Z"
   },
   {
    "duration": 0,
    "start_time": "2023-12-27T17:40:11.849Z"
   },
   {
    "duration": 0,
    "start_time": "2023-12-27T17:40:11.850Z"
   },
   {
    "duration": 0,
    "start_time": "2023-12-27T17:40:11.851Z"
   },
   {
    "duration": 0,
    "start_time": "2023-12-27T17:40:11.852Z"
   },
   {
    "duration": 0,
    "start_time": "2023-12-27T17:40:11.853Z"
   },
   {
    "duration": 0,
    "start_time": "2023-12-27T17:40:11.854Z"
   },
   {
    "duration": 1,
    "start_time": "2023-12-27T17:40:11.855Z"
   },
   {
    "duration": 0,
    "start_time": "2023-12-27T17:40:11.857Z"
   },
   {
    "duration": 0,
    "start_time": "2023-12-27T17:40:11.858Z"
   },
   {
    "duration": 0,
    "start_time": "2023-12-27T17:40:11.859Z"
   },
   {
    "duration": 0,
    "start_time": "2023-12-27T17:40:11.860Z"
   },
   {
    "duration": 0,
    "start_time": "2023-12-27T17:40:11.861Z"
   },
   {
    "duration": 0,
    "start_time": "2023-12-27T17:40:11.862Z"
   },
   {
    "duration": 0,
    "start_time": "2023-12-27T17:40:11.863Z"
   },
   {
    "duration": 0,
    "start_time": "2023-12-27T17:40:11.864Z"
   },
   {
    "duration": 1398,
    "start_time": "2023-12-27T17:40:22.122Z"
   },
   {
    "duration": 358,
    "start_time": "2023-12-27T17:40:23.522Z"
   },
   {
    "duration": 15,
    "start_time": "2023-12-27T17:40:23.882Z"
   },
   {
    "duration": 13,
    "start_time": "2023-12-27T17:40:23.899Z"
   },
   {
    "duration": 20,
    "start_time": "2023-12-27T17:40:23.915Z"
   },
   {
    "duration": 27,
    "start_time": "2023-12-27T17:40:23.937Z"
   },
   {
    "duration": 118,
    "start_time": "2023-12-27T17:40:23.966Z"
   },
   {
    "duration": 25,
    "start_time": "2023-12-27T17:40:24.085Z"
   },
   {
    "duration": 12,
    "start_time": "2023-12-27T17:40:24.112Z"
   },
   {
    "duration": 9,
    "start_time": "2023-12-27T17:40:24.126Z"
   },
   {
    "duration": 146,
    "start_time": "2023-12-27T17:40:24.136Z"
   },
   {
    "duration": 139,
    "start_time": "2023-12-27T17:40:24.283Z"
   },
   {
    "duration": 11,
    "start_time": "2023-12-27T17:40:24.424Z"
   },
   {
    "duration": 16,
    "start_time": "2023-12-27T17:40:24.437Z"
   },
   {
    "duration": 15,
    "start_time": "2023-12-27T17:40:24.455Z"
   },
   {
    "duration": 158,
    "start_time": "2023-12-27T17:40:24.472Z"
   },
   {
    "duration": 148,
    "start_time": "2023-12-27T17:40:24.631Z"
   },
   {
    "duration": 139,
    "start_time": "2023-12-27T17:40:24.781Z"
   },
   {
    "duration": 7,
    "start_time": "2023-12-27T17:40:24.922Z"
   },
   {
    "duration": 224,
    "start_time": "2023-12-27T17:40:24.931Z"
   },
   {
    "duration": 3,
    "start_time": "2023-12-27T17:40:25.156Z"
   },
   {
    "duration": 7,
    "start_time": "2023-12-27T17:40:25.161Z"
   },
   {
    "duration": 45,
    "start_time": "2023-12-27T17:40:25.169Z"
   },
   {
    "duration": 3,
    "start_time": "2023-12-27T17:40:25.216Z"
   },
   {
    "duration": 21,
    "start_time": "2023-12-27T17:40:25.221Z"
   },
   {
    "duration": 18,
    "start_time": "2023-12-27T17:40:25.244Z"
   },
   {
    "duration": 3,
    "start_time": "2023-12-27T17:40:48.365Z"
   },
   {
    "duration": 4,
    "start_time": "2023-12-27T17:40:58.726Z"
   },
   {
    "duration": 6,
    "start_time": "2023-12-27T17:42:27.451Z"
   },
   {
    "duration": 151,
    "start_time": "2023-12-27T17:46:15.667Z"
   },
   {
    "duration": 666,
    "start_time": "2023-12-27T17:46:40.446Z"
   },
   {
    "duration": 775,
    "start_time": "2023-12-27T17:47:50.614Z"
   },
   {
    "duration": 632,
    "start_time": "2023-12-27T17:48:03.995Z"
   },
   {
    "duration": 633,
    "start_time": "2023-12-27T17:48:33.477Z"
   },
   {
    "duration": 506,
    "start_time": "2023-12-27T17:48:44.169Z"
   },
   {
    "duration": 68,
    "start_time": "2023-12-27T17:49:11.826Z"
   },
   {
    "duration": 446,
    "start_time": "2023-12-27T17:49:22.917Z"
   },
   {
    "duration": 689,
    "start_time": "2023-12-27T17:49:37.391Z"
   },
   {
    "duration": 522,
    "start_time": "2023-12-27T17:49:40.628Z"
   },
   {
    "duration": 4,
    "start_time": "2023-12-27T17:53:26.680Z"
   },
   {
    "duration": 24,
    "start_time": "2023-12-27T17:53:42.308Z"
   },
   {
    "duration": 16,
    "start_time": "2023-12-27T17:54:37.788Z"
   },
   {
    "duration": 18,
    "start_time": "2023-12-27T17:54:48.253Z"
   },
   {
    "duration": 1420,
    "start_time": "2023-12-27T17:58:07.100Z"
   },
   {
    "duration": 252,
    "start_time": "2023-12-27T17:58:08.522Z"
   },
   {
    "duration": 18,
    "start_time": "2023-12-27T17:58:08.776Z"
   },
   {
    "duration": 30,
    "start_time": "2023-12-27T17:58:08.796Z"
   },
   {
    "duration": 31,
    "start_time": "2023-12-27T17:58:08.829Z"
   },
   {
    "duration": 33,
    "start_time": "2023-12-27T17:58:08.862Z"
   },
   {
    "duration": 127,
    "start_time": "2023-12-27T17:58:08.897Z"
   },
   {
    "duration": 17,
    "start_time": "2023-12-27T17:58:09.027Z"
   },
   {
    "duration": 25,
    "start_time": "2023-12-27T17:58:09.046Z"
   },
   {
    "duration": 20,
    "start_time": "2023-12-27T17:58:09.074Z"
   },
   {
    "duration": 139,
    "start_time": "2023-12-27T17:58:09.096Z"
   },
   {
    "duration": 152,
    "start_time": "2023-12-27T17:58:09.238Z"
   },
   {
    "duration": 14,
    "start_time": "2023-12-27T17:58:09.392Z"
   },
   {
    "duration": 43,
    "start_time": "2023-12-27T17:58:09.411Z"
   },
   {
    "duration": 26,
    "start_time": "2023-12-27T17:58:09.456Z"
   },
   {
    "duration": 164,
    "start_time": "2023-12-27T17:58:09.484Z"
   },
   {
    "duration": 157,
    "start_time": "2023-12-27T17:58:09.650Z"
   },
   {
    "duration": 147,
    "start_time": "2023-12-27T17:58:09.809Z"
   },
   {
    "duration": 7,
    "start_time": "2023-12-27T17:58:09.958Z"
   },
   {
    "duration": 300,
    "start_time": "2023-12-27T17:58:09.966Z"
   },
   {
    "duration": 3,
    "start_time": "2023-12-27T17:58:10.267Z"
   },
   {
    "duration": 13,
    "start_time": "2023-12-27T17:58:10.272Z"
   },
   {
    "duration": 49,
    "start_time": "2023-12-27T17:58:10.287Z"
   },
   {
    "duration": 5,
    "start_time": "2023-12-27T17:58:10.338Z"
   },
   {
    "duration": 30,
    "start_time": "2023-12-27T17:58:10.344Z"
   },
   {
    "duration": 24,
    "start_time": "2023-12-27T17:58:10.376Z"
   },
   {
    "duration": 15,
    "start_time": "2023-12-27T17:58:10.402Z"
   },
   {
    "duration": 4,
    "start_time": "2023-12-27T17:58:10.419Z"
   },
   {
    "duration": 30,
    "start_time": "2023-12-27T17:58:10.425Z"
   },
   {
    "duration": 15,
    "start_time": "2023-12-27T17:58:10.457Z"
   },
   {
    "duration": 705,
    "start_time": "2023-12-27T17:58:10.475Z"
   },
   {
    "duration": 419,
    "start_time": "2023-12-27T17:58:11.183Z"
   },
   {
    "duration": 10,
    "start_time": "2023-12-27T17:58:11.604Z"
   },
   {
    "duration": 39,
    "start_time": "2023-12-27T17:58:11.616Z"
   },
   {
    "duration": 37,
    "start_time": "2023-12-27T17:58:11.657Z"
   },
   {
    "duration": 17,
    "start_time": "2023-12-27T17:58:29.257Z"
   },
   {
    "duration": 16,
    "start_time": "2023-12-27T17:59:36.500Z"
   },
   {
    "duration": 5,
    "start_time": "2023-12-27T18:00:08.891Z"
   },
   {
    "duration": 5,
    "start_time": "2023-12-27T18:01:14.884Z"
   },
   {
    "duration": 18,
    "start_time": "2023-12-27T18:01:18.792Z"
   },
   {
    "duration": 7,
    "start_time": "2023-12-27T18:03:10.634Z"
   },
   {
    "duration": 4,
    "start_time": "2023-12-27T18:03:14.695Z"
   },
   {
    "duration": 4,
    "start_time": "2023-12-27T18:03:15.837Z"
   },
   {
    "duration": 5,
    "start_time": "2023-12-27T18:03:20.621Z"
   },
   {
    "duration": 5,
    "start_time": "2023-12-27T18:03:51.168Z"
   },
   {
    "duration": 1401,
    "start_time": "2023-12-27T18:03:58.017Z"
   },
   {
    "duration": 719,
    "start_time": "2023-12-27T18:03:59.420Z"
   },
   {
    "duration": 19,
    "start_time": "2023-12-27T18:04:00.141Z"
   },
   {
    "duration": 40,
    "start_time": "2023-12-27T18:04:00.162Z"
   },
   {
    "duration": 27,
    "start_time": "2023-12-27T18:04:00.205Z"
   },
   {
    "duration": 30,
    "start_time": "2023-12-27T18:04:00.234Z"
   },
   {
    "duration": 120,
    "start_time": "2023-12-27T18:04:00.266Z"
   },
   {
    "duration": 17,
    "start_time": "2023-12-27T18:04:00.388Z"
   },
   {
    "duration": 59,
    "start_time": "2023-12-27T18:04:00.406Z"
   },
   {
    "duration": 24,
    "start_time": "2023-12-27T18:04:00.467Z"
   },
   {
    "duration": 147,
    "start_time": "2023-12-27T18:04:00.493Z"
   },
   {
    "duration": 141,
    "start_time": "2023-12-27T18:04:00.642Z"
   },
   {
    "duration": 17,
    "start_time": "2023-12-27T18:04:00.785Z"
   },
   {
    "duration": 52,
    "start_time": "2023-12-27T18:04:00.805Z"
   },
   {
    "duration": 37,
    "start_time": "2023-12-27T18:04:00.858Z"
   },
   {
    "duration": 150,
    "start_time": "2023-12-27T18:04:00.897Z"
   },
   {
    "duration": 157,
    "start_time": "2023-12-27T18:04:01.049Z"
   },
   {
    "duration": 153,
    "start_time": "2023-12-27T18:04:01.208Z"
   },
   {
    "duration": 9,
    "start_time": "2023-12-27T18:04:01.363Z"
   },
   {
    "duration": 273,
    "start_time": "2023-12-27T18:04:01.375Z"
   },
   {
    "duration": 3,
    "start_time": "2023-12-27T18:04:01.651Z"
   },
   {
    "duration": 94,
    "start_time": "2023-12-27T18:04:01.655Z"
   },
   {
    "duration": 398,
    "start_time": "2023-12-27T18:04:01.751Z"
   },
   {
    "duration": 453,
    "start_time": "2023-12-27T18:04:02.152Z"
   },
   {
    "duration": 149,
    "start_time": "2023-12-27T18:04:02.606Z"
   },
   {
    "duration": 57,
    "start_time": "2023-12-27T18:04:02.757Z"
   },
   {
    "duration": 32,
    "start_time": "2023-12-27T18:04:02.816Z"
   },
   {
    "duration": 54,
    "start_time": "2023-12-27T18:04:02.850Z"
   },
   {
    "duration": 36,
    "start_time": "2023-12-27T18:04:02.906Z"
   },
   {
    "duration": 66,
    "start_time": "2023-12-27T18:04:02.944Z"
   },
   {
    "duration": 246,
    "start_time": "2023-12-27T18:04:03.012Z"
   },
   {
    "duration": 84,
    "start_time": "2023-12-27T18:04:03.260Z"
   },
   {
    "duration": 739,
    "start_time": "2023-12-27T18:04:03.346Z"
   },
   {
    "duration": 415,
    "start_time": "2023-12-27T18:04:04.087Z"
   },
   {
    "duration": 17,
    "start_time": "2023-12-27T18:04:04.504Z"
   },
   {
    "duration": 22,
    "start_time": "2023-12-27T18:04:04.523Z"
   },
   {
    "duration": 5,
    "start_time": "2023-12-27T18:04:41.985Z"
   },
   {
    "duration": 4,
    "start_time": "2023-12-27T18:05:43.544Z"
   },
   {
    "duration": 41,
    "start_time": "2023-12-27T18:07:22.953Z"
   },
   {
    "duration": 24,
    "start_time": "2023-12-27T18:07:39.521Z"
   },
   {
    "duration": 4,
    "start_time": "2023-12-27T18:09:32.422Z"
   },
   {
    "duration": 21,
    "start_time": "2023-12-27T18:09:41.124Z"
   },
   {
    "duration": 17,
    "start_time": "2023-12-27T18:09:53.307Z"
   },
   {
    "duration": 19,
    "start_time": "2023-12-27T18:09:58.804Z"
   },
   {
    "duration": 1474,
    "start_time": "2023-12-27T18:14:30.656Z"
   },
   {
    "duration": 329,
    "start_time": "2023-12-27T18:14:32.132Z"
   },
   {
    "duration": 17,
    "start_time": "2023-12-27T18:14:32.463Z"
   },
   {
    "duration": 90,
    "start_time": "2023-12-27T18:14:32.482Z"
   },
   {
    "duration": 29,
    "start_time": "2023-12-27T18:14:32.575Z"
   },
   {
    "duration": 34,
    "start_time": "2023-12-27T18:14:32.606Z"
   },
   {
    "duration": 114,
    "start_time": "2023-12-27T18:14:32.642Z"
   },
   {
    "duration": 17,
    "start_time": "2023-12-27T18:14:32.758Z"
   },
   {
    "duration": 26,
    "start_time": "2023-12-27T18:14:32.777Z"
   },
   {
    "duration": 9,
    "start_time": "2023-12-27T18:14:32.806Z"
   },
   {
    "duration": 142,
    "start_time": "2023-12-27T18:14:32.817Z"
   },
   {
    "duration": 140,
    "start_time": "2023-12-27T18:14:32.961Z"
   },
   {
    "duration": 11,
    "start_time": "2023-12-27T18:14:33.103Z"
   },
   {
    "duration": 13,
    "start_time": "2023-12-27T18:14:33.117Z"
   },
   {
    "duration": 16,
    "start_time": "2023-12-27T18:14:33.131Z"
   },
   {
    "duration": 172,
    "start_time": "2023-12-27T18:14:33.149Z"
   },
   {
    "duration": 146,
    "start_time": "2023-12-27T18:14:33.323Z"
   },
   {
    "duration": 142,
    "start_time": "2023-12-27T18:14:33.471Z"
   },
   {
    "duration": 7,
    "start_time": "2023-12-27T18:14:33.615Z"
   },
   {
    "duration": 219,
    "start_time": "2023-12-27T18:14:33.624Z"
   },
   {
    "duration": 3,
    "start_time": "2023-12-27T18:14:33.844Z"
   },
   {
    "duration": 9,
    "start_time": "2023-12-27T18:14:33.848Z"
   },
   {
    "duration": 45,
    "start_time": "2023-12-27T18:14:33.859Z"
   },
   {
    "duration": 4,
    "start_time": "2023-12-27T18:14:33.906Z"
   },
   {
    "duration": 21,
    "start_time": "2023-12-27T18:14:33.911Z"
   },
   {
    "duration": 14,
    "start_time": "2023-12-27T18:14:33.934Z"
   },
   {
    "duration": 28,
    "start_time": "2023-12-27T18:14:33.950Z"
   },
   {
    "duration": 24,
    "start_time": "2023-12-27T18:14:33.980Z"
   },
   {
    "duration": 9,
    "start_time": "2023-12-27T18:14:34.006Z"
   },
   {
    "duration": 20,
    "start_time": "2023-12-27T18:14:34.016Z"
   },
   {
    "duration": 21,
    "start_time": "2023-12-27T18:14:34.037Z"
   },
   {
    "duration": 20,
    "start_time": "2023-12-27T18:14:34.060Z"
   },
   {
    "duration": 720,
    "start_time": "2023-12-27T18:14:34.082Z"
   },
   {
    "duration": 412,
    "start_time": "2023-12-27T18:14:34.803Z"
   },
   {
    "duration": 18,
    "start_time": "2023-12-27T18:14:35.216Z"
   },
   {
    "duration": 9,
    "start_time": "2023-12-27T18:14:35.236Z"
   },
   {
    "duration": 19,
    "start_time": "2023-12-27T18:14:35.247Z"
   },
   {
    "duration": 46,
    "start_time": "2023-12-27T18:14:35.267Z"
   },
   {
    "duration": 20,
    "start_time": "2023-12-27T18:14:35.315Z"
   },
   {
    "duration": 20,
    "start_time": "2023-12-27T18:14:35.337Z"
   },
   {
    "duration": 9,
    "start_time": "2023-12-27T18:14:35.360Z"
   },
   {
    "duration": 7,
    "start_time": "2023-12-27T18:14:35.371Z"
   },
   {
    "duration": 5,
    "start_time": "2023-12-27T18:14:35.401Z"
   },
   {
    "duration": 14,
    "start_time": "2023-12-27T18:14:35.408Z"
   },
   {
    "duration": 5,
    "start_time": "2023-12-27T18:14:35.424Z"
   },
   {
    "duration": 31,
    "start_time": "2023-12-27T18:14:35.431Z"
   },
   {
    "duration": 1488,
    "start_time": "2023-12-27T18:21:15.092Z"
   },
   {
    "duration": 218,
    "start_time": "2023-12-27T18:21:16.582Z"
   },
   {
    "duration": 17,
    "start_time": "2023-12-27T18:21:16.802Z"
   },
   {
    "duration": 43,
    "start_time": "2023-12-27T18:21:16.820Z"
   },
   {
    "duration": 16,
    "start_time": "2023-12-27T18:21:16.866Z"
   },
   {
    "duration": 24,
    "start_time": "2023-12-27T18:21:16.884Z"
   },
   {
    "duration": 134,
    "start_time": "2023-12-27T18:21:16.910Z"
   },
   {
    "duration": 17,
    "start_time": "2023-12-27T18:21:17.045Z"
   },
   {
    "duration": 26,
    "start_time": "2023-12-27T18:21:17.063Z"
   },
   {
    "duration": 14,
    "start_time": "2023-12-27T18:21:17.091Z"
   },
   {
    "duration": 136,
    "start_time": "2023-12-27T18:21:17.107Z"
   },
   {
    "duration": 140,
    "start_time": "2023-12-27T18:21:17.245Z"
   },
   {
    "duration": 16,
    "start_time": "2023-12-27T18:21:17.387Z"
   },
   {
    "duration": 24,
    "start_time": "2023-12-27T18:21:17.406Z"
   },
   {
    "duration": 13,
    "start_time": "2023-12-27T18:21:17.432Z"
   },
   {
    "duration": 144,
    "start_time": "2023-12-27T18:21:17.447Z"
   },
   {
    "duration": 152,
    "start_time": "2023-12-27T18:21:17.593Z"
   },
   {
    "duration": 140,
    "start_time": "2023-12-27T18:21:17.747Z"
   },
   {
    "duration": 13,
    "start_time": "2023-12-27T18:21:17.889Z"
   },
   {
    "duration": 246,
    "start_time": "2023-12-27T18:21:17.903Z"
   },
   {
    "duration": 3,
    "start_time": "2023-12-27T18:21:18.151Z"
   },
   {
    "duration": 16,
    "start_time": "2023-12-27T18:21:18.156Z"
   },
   {
    "duration": 41,
    "start_time": "2023-12-27T18:21:18.174Z"
   },
   {
    "duration": 4,
    "start_time": "2023-12-27T18:21:18.217Z"
   },
   {
    "duration": 23,
    "start_time": "2023-12-27T18:21:18.223Z"
   },
   {
    "duration": 11,
    "start_time": "2023-12-27T18:21:18.248Z"
   },
   {
    "duration": 15,
    "start_time": "2023-12-27T18:21:18.260Z"
   },
   {
    "duration": 33,
    "start_time": "2023-12-27T18:21:18.277Z"
   },
   {
    "duration": 5,
    "start_time": "2023-12-27T18:21:18.312Z"
   },
   {
    "duration": 9,
    "start_time": "2023-12-27T18:21:18.318Z"
   },
   {
    "duration": 5,
    "start_time": "2023-12-27T18:21:18.328Z"
   },
   {
    "duration": 7,
    "start_time": "2023-12-27T18:21:18.335Z"
   },
   {
    "duration": 728,
    "start_time": "2023-12-27T18:21:18.343Z"
   },
   {
    "duration": 435,
    "start_time": "2023-12-27T18:21:19.072Z"
   },
   {
    "duration": 23,
    "start_time": "2023-12-27T18:21:19.510Z"
   },
   {
    "duration": 6,
    "start_time": "2023-12-27T18:21:19.535Z"
   },
   {
    "duration": 6,
    "start_time": "2023-12-27T18:21:19.543Z"
   },
   {
    "duration": 86,
    "start_time": "2023-12-27T18:21:19.551Z"
   },
   {
    "duration": 28,
    "start_time": "2023-12-27T18:21:19.639Z"
   },
   {
    "duration": 33,
    "start_time": "2023-12-27T18:21:19.669Z"
   },
   {
    "duration": 10,
    "start_time": "2023-12-27T18:21:19.706Z"
   },
   {
    "duration": 21,
    "start_time": "2023-12-27T18:21:19.717Z"
   },
   {
    "duration": 12,
    "start_time": "2023-12-27T18:21:19.740Z"
   },
   {
    "duration": 17,
    "start_time": "2023-12-27T18:21:19.755Z"
   },
   {
    "duration": 5,
    "start_time": "2023-12-27T18:21:19.774Z"
   },
   {
    "duration": 51,
    "start_time": "2023-12-27T18:21:19.781Z"
   },
   {
    "duration": 30,
    "start_time": "2023-12-27T18:21:19.834Z"
   },
   {
    "duration": 51,
    "start_time": "2023-12-27T18:21:19.866Z"
   },
   {
    "duration": 5,
    "start_time": "2023-12-27T18:21:19.920Z"
   },
   {
    "duration": 9,
    "start_time": "2023-12-27T18:21:19.927Z"
   },
   {
    "duration": 5,
    "start_time": "2023-12-27T18:23:00.923Z"
   },
   {
    "duration": 3,
    "start_time": "2023-12-27T18:23:29.761Z"
   },
   {
    "duration": 112,
    "start_time": "2023-12-27T18:23:31.790Z"
   },
   {
    "duration": 5,
    "start_time": "2023-12-27T18:23:57.231Z"
   },
   {
    "duration": 7,
    "start_time": "2023-12-27T18:24:01.766Z"
   },
   {
    "duration": 7,
    "start_time": "2023-12-27T18:25:12.837Z"
   },
   {
    "duration": 4,
    "start_time": "2023-12-27T18:25:32.667Z"
   },
   {
    "duration": 11,
    "start_time": "2023-12-27T18:25:42.998Z"
   },
   {
    "duration": 35,
    "start_time": "2023-12-27T18:25:55.220Z"
   },
   {
    "duration": 13,
    "start_time": "2023-12-27T18:26:09.850Z"
   },
   {
    "duration": 35,
    "start_time": "2023-12-27T18:26:17.971Z"
   },
   {
    "duration": 3,
    "start_time": "2023-12-27T18:26:32.837Z"
   },
   {
    "duration": 5,
    "start_time": "2023-12-27T18:26:43.658Z"
   },
   {
    "duration": 4,
    "start_time": "2023-12-27T18:26:51.295Z"
   },
   {
    "duration": 4,
    "start_time": "2023-12-27T18:26:59.105Z"
   },
   {
    "duration": 5,
    "start_time": "2023-12-27T18:27:06.820Z"
   },
   {
    "duration": 1639,
    "start_time": "2023-12-27T18:32:20.227Z"
   },
   {
    "duration": 249,
    "start_time": "2023-12-27T18:32:21.868Z"
   },
   {
    "duration": 18,
    "start_time": "2023-12-27T18:32:22.119Z"
   },
   {
    "duration": 15,
    "start_time": "2023-12-27T18:32:22.139Z"
   },
   {
    "duration": 15,
    "start_time": "2023-12-27T18:32:22.156Z"
   },
   {
    "duration": 45,
    "start_time": "2023-12-27T18:32:22.172Z"
   },
   {
    "duration": 134,
    "start_time": "2023-12-27T18:32:22.219Z"
   },
   {
    "duration": 16,
    "start_time": "2023-12-27T18:32:22.355Z"
   },
   {
    "duration": 12,
    "start_time": "2023-12-27T18:32:22.373Z"
   },
   {
    "duration": 16,
    "start_time": "2023-12-27T18:32:22.400Z"
   },
   {
    "duration": 144,
    "start_time": "2023-12-27T18:32:22.419Z"
   },
   {
    "duration": 155,
    "start_time": "2023-12-27T18:32:22.565Z"
   },
   {
    "duration": 12,
    "start_time": "2023-12-27T18:32:22.721Z"
   },
   {
    "duration": 23,
    "start_time": "2023-12-27T18:32:22.735Z"
   },
   {
    "duration": 29,
    "start_time": "2023-12-27T18:32:22.760Z"
   },
   {
    "duration": 154,
    "start_time": "2023-12-27T18:32:22.790Z"
   },
   {
    "duration": 259,
    "start_time": "2023-12-27T18:32:22.946Z"
   },
   {
    "duration": 146,
    "start_time": "2023-12-27T18:32:23.215Z"
   },
   {
    "duration": 8,
    "start_time": "2023-12-27T18:32:23.364Z"
   },
   {
    "duration": 165,
    "start_time": "2023-12-27T18:32:23.375Z"
   },
   {
    "duration": 3,
    "start_time": "2023-12-27T18:32:23.541Z"
   },
   {
    "duration": 46,
    "start_time": "2023-12-27T18:32:23.546Z"
   },
   {
    "duration": 50,
    "start_time": "2023-12-27T18:32:23.595Z"
   },
   {
    "duration": 5,
    "start_time": "2023-12-27T18:32:23.647Z"
   },
   {
    "duration": 21,
    "start_time": "2023-12-27T18:32:23.654Z"
   },
   {
    "duration": 12,
    "start_time": "2023-12-27T18:32:23.677Z"
   },
   {
    "duration": 17,
    "start_time": "2023-12-27T18:32:23.691Z"
   },
   {
    "duration": 18,
    "start_time": "2023-12-27T18:32:23.719Z"
   },
   {
    "duration": 5,
    "start_time": "2023-12-27T18:32:23.739Z"
   },
   {
    "duration": 9,
    "start_time": "2023-12-27T18:32:23.745Z"
   },
   {
    "duration": 5,
    "start_time": "2023-12-27T18:32:23.756Z"
   },
   {
    "duration": 8,
    "start_time": "2023-12-27T18:32:23.763Z"
   },
   {
    "duration": 810,
    "start_time": "2023-12-27T18:32:23.773Z"
   },
   {
    "duration": 464,
    "start_time": "2023-12-27T18:32:24.585Z"
   },
   {
    "duration": 19,
    "start_time": "2023-12-27T18:32:25.051Z"
   },
   {
    "duration": 14,
    "start_time": "2023-12-27T18:32:25.072Z"
   },
   {
    "duration": 5,
    "start_time": "2023-12-27T18:32:25.112Z"
   },
   {
    "duration": 47,
    "start_time": "2023-12-27T18:32:25.118Z"
   },
   {
    "duration": 21,
    "start_time": "2023-12-27T18:32:25.167Z"
   },
   {
    "duration": 31,
    "start_time": "2023-12-27T18:32:25.190Z"
   },
   {
    "duration": 151,
    "start_time": "2023-12-27T18:32:25.223Z"
   },
   {
    "duration": 13,
    "start_time": "2023-12-27T18:32:25.376Z"
   },
   {
    "duration": 20,
    "start_time": "2023-12-27T18:32:25.390Z"
   },
   {
    "duration": 17,
    "start_time": "2023-12-27T18:32:25.413Z"
   },
   {
    "duration": 5,
    "start_time": "2023-12-27T18:32:25.432Z"
   },
   {
    "duration": 31,
    "start_time": "2023-12-27T18:32:25.439Z"
   },
   {
    "duration": 48,
    "start_time": "2023-12-27T18:32:25.472Z"
   },
   {
    "duration": 19,
    "start_time": "2023-12-27T18:32:25.522Z"
   },
   {
    "duration": 5,
    "start_time": "2023-12-27T18:32:25.543Z"
   },
   {
    "duration": 6,
    "start_time": "2023-12-27T18:32:25.550Z"
   },
   {
    "duration": 4,
    "start_time": "2023-12-27T18:32:25.558Z"
   },
   {
    "duration": 4,
    "start_time": "2023-12-27T18:32:25.564Z"
   },
   {
    "duration": 36,
    "start_time": "2023-12-27T18:32:25.570Z"
   },
   {
    "duration": 68877,
    "start_time": "2023-12-27T18:32:25.612Z"
   },
   {
    "duration": 3,
    "start_time": "2023-12-27T18:33:34.491Z"
   },
   {
    "duration": 13,
    "start_time": "2023-12-27T18:33:34.500Z"
   },
   {
    "duration": 9,
    "start_time": "2023-12-27T18:33:34.515Z"
   },
   {
    "duration": 8,
    "start_time": "2023-12-27T18:33:34.526Z"
   },
   {
    "duration": 16,
    "start_time": "2023-12-27T18:33:34.536Z"
   },
   {
    "duration": 11,
    "start_time": "2023-12-27T18:33:34.554Z"
   },
   {
    "duration": 23,
    "start_time": "2023-12-27T18:33:34.566Z"
   },
   {
    "duration": 17,
    "start_time": "2023-12-27T18:33:34.591Z"
   },
   {
    "duration": 39,
    "start_time": "2023-12-27T18:33:34.610Z"
   },
   {
    "duration": 13,
    "start_time": "2023-12-27T18:33:34.651Z"
   },
   {
    "duration": 83,
    "start_time": "2023-12-27T18:33:34.666Z"
   },
   {
    "duration": 3,
    "start_time": "2023-12-27T18:33:34.751Z"
   },
   {
    "duration": 11,
    "start_time": "2023-12-27T18:33:34.756Z"
   },
   {
    "duration": 14,
    "start_time": "2023-12-27T18:33:34.768Z"
   },
   {
    "duration": 11,
    "start_time": "2023-12-27T18:33:34.784Z"
   },
   {
    "duration": 17,
    "start_time": "2023-12-27T18:33:34.798Z"
   },
   {
    "duration": 593114,
    "start_time": "2023-12-27T18:33:34.818Z"
   },
   {
    "duration": 4,
    "start_time": "2023-12-27T18:43:27.934Z"
   },
   {
    "duration": 10,
    "start_time": "2023-12-27T18:43:27.939Z"
   },
   {
    "duration": 45,
    "start_time": "2023-12-27T18:43:27.951Z"
   },
   {
    "duration": 12,
    "start_time": "2023-12-27T18:43:27.998Z"
   },
   {
    "duration": 45,
    "start_time": "2023-12-27T18:44:19.836Z"
   },
   {
    "duration": 6,
    "start_time": "2023-12-27T18:45:19.123Z"
   },
   {
    "duration": 5,
    "start_time": "2023-12-27T18:45:40.478Z"
   },
   {
    "duration": 4,
    "start_time": "2023-12-27T18:46:00.429Z"
   },
   {
    "duration": 81,
    "start_time": "2023-12-27T18:47:08.866Z"
   },
   {
    "duration": 44,
    "start_time": "2023-12-27T18:47:37.174Z"
   },
   {
    "duration": 47,
    "start_time": "2023-12-27T18:48:37.598Z"
   },
   {
    "duration": 54,
    "start_time": "2023-12-27T18:49:14.912Z"
   },
   {
    "duration": 4,
    "start_time": "2023-12-27T18:49:23.233Z"
   },
   {
    "duration": 56,
    "start_time": "2023-12-27T18:51:47.490Z"
   },
   {
    "duration": 162,
    "start_time": "2023-12-27T18:55:05.298Z"
   },
   {
    "duration": 23,
    "start_time": "2023-12-27T18:55:40.526Z"
   },
   {
    "duration": 5,
    "start_time": "2023-12-27T18:55:52.218Z"
   },
   {
    "duration": 32,
    "start_time": "2023-12-27T18:55:57.189Z"
   },
   {
    "duration": 5,
    "start_time": "2023-12-27T18:56:11.432Z"
   },
   {
    "duration": 40,
    "start_time": "2023-12-27T18:57:52.457Z"
   },
   {
    "duration": 5,
    "start_time": "2023-12-27T18:58:00.637Z"
   },
   {
    "duration": 207,
    "start_time": "2023-12-27T18:58:04.333Z"
   },
   {
    "duration": 8,
    "start_time": "2023-12-27T18:58:22.480Z"
   },
   {
    "duration": 6,
    "start_time": "2023-12-27T18:59:29.388Z"
   },
   {
    "duration": 40,
    "start_time": "2023-12-27T19:00:58.384Z"
   },
   {
    "duration": 5,
    "start_time": "2023-12-27T19:01:10.757Z"
   },
   {
    "duration": 167,
    "start_time": "2023-12-27T19:01:16.347Z"
   },
   {
    "duration": 12,
    "start_time": "2023-12-27T19:02:19.345Z"
   },
   {
    "duration": 19,
    "start_time": "2023-12-27T19:14:02.814Z"
   },
   {
    "duration": 15,
    "start_time": "2023-12-27T20:12:25.381Z"
   },
   {
    "duration": 13,
    "start_time": "2023-12-27T20:12:44.163Z"
   },
   {
    "duration": 1626,
    "start_time": "2023-12-27T20:13:18.720Z"
   },
   {
    "duration": 222,
    "start_time": "2023-12-27T20:13:20.348Z"
   },
   {
    "duration": 17,
    "start_time": "2023-12-27T20:13:20.572Z"
   },
   {
    "duration": 58,
    "start_time": "2023-12-27T20:13:20.591Z"
   },
   {
    "duration": 70,
    "start_time": "2023-12-27T20:13:20.651Z"
   },
   {
    "duration": 110,
    "start_time": "2023-12-27T20:13:20.723Z"
   },
   {
    "duration": 18,
    "start_time": "2023-12-27T20:13:20.835Z"
   },
   {
    "duration": 13,
    "start_time": "2023-12-27T20:13:20.854Z"
   },
   {
    "duration": 9,
    "start_time": "2023-12-27T20:13:20.869Z"
   },
   {
    "duration": 154,
    "start_time": "2023-12-27T20:13:20.906Z"
   },
   {
    "duration": 155,
    "start_time": "2023-12-27T20:13:21.062Z"
   },
   {
    "duration": 12,
    "start_time": "2023-12-27T20:13:21.219Z"
   },
   {
    "duration": 17,
    "start_time": "2023-12-27T20:13:21.234Z"
   },
   {
    "duration": 15,
    "start_time": "2023-12-27T20:13:21.253Z"
   },
   {
    "duration": 162,
    "start_time": "2023-12-27T20:13:21.270Z"
   },
   {
    "duration": 228,
    "start_time": "2023-12-27T20:13:21.434Z"
   },
   {
    "duration": 132,
    "start_time": "2023-12-27T20:13:21.664Z"
   },
   {
    "duration": 19,
    "start_time": "2023-12-27T20:13:21.798Z"
   },
   {
    "duration": 153,
    "start_time": "2023-12-27T20:13:21.819Z"
   },
   {
    "duration": 3,
    "start_time": "2023-12-27T20:13:21.973Z"
   },
   {
    "duration": 9,
    "start_time": "2023-12-27T20:13:21.977Z"
   },
   {
    "duration": 43,
    "start_time": "2023-12-27T20:13:21.987Z"
   },
   {
    "duration": 5,
    "start_time": "2023-12-27T20:13:22.032Z"
   },
   {
    "duration": 22,
    "start_time": "2023-12-27T20:13:22.039Z"
   },
   {
    "duration": 16,
    "start_time": "2023-12-27T20:13:22.063Z"
   },
   {
    "duration": 12,
    "start_time": "2023-12-27T20:13:22.080Z"
   },
   {
    "duration": 36,
    "start_time": "2023-12-27T20:13:22.093Z"
   },
   {
    "duration": 5,
    "start_time": "2023-12-27T20:13:22.133Z"
   },
   {
    "duration": 6,
    "start_time": "2023-12-27T20:13:22.140Z"
   },
   {
    "duration": 4,
    "start_time": "2023-12-27T20:13:22.148Z"
   },
   {
    "duration": 8,
    "start_time": "2023-12-27T20:13:22.153Z"
   },
   {
    "duration": 773,
    "start_time": "2023-12-27T20:13:22.162Z"
   },
   {
    "duration": 457,
    "start_time": "2023-12-27T20:13:22.937Z"
   },
   {
    "duration": 22,
    "start_time": "2023-12-27T20:13:23.400Z"
   },
   {
    "duration": 5,
    "start_time": "2023-12-27T20:13:23.424Z"
   },
   {
    "duration": 21,
    "start_time": "2023-12-27T20:13:23.430Z"
   },
   {
    "duration": 72,
    "start_time": "2023-12-27T20:13:23.453Z"
   },
   {
    "duration": 31,
    "start_time": "2023-12-27T20:13:23.527Z"
   },
   {
    "duration": 31,
    "start_time": "2023-12-27T20:13:23.560Z"
   },
   {
    "duration": 156,
    "start_time": "2023-12-27T20:13:23.593Z"
   },
   {
    "duration": 23,
    "start_time": "2023-12-27T20:13:23.751Z"
   },
   {
    "duration": 40,
    "start_time": "2023-12-27T20:13:23.775Z"
   },
   {
    "duration": 38,
    "start_time": "2023-12-27T20:13:23.816Z"
   },
   {
    "duration": 28,
    "start_time": "2023-12-27T20:13:23.856Z"
   },
   {
    "duration": 55,
    "start_time": "2023-12-27T20:13:23.886Z"
   },
   {
    "duration": 19,
    "start_time": "2023-12-27T20:13:23.942Z"
   },
   {
    "duration": 157,
    "start_time": "2023-12-27T20:13:23.963Z"
   },
   {
    "duration": 0,
    "start_time": "2023-12-27T20:13:24.121Z"
   },
   {
    "duration": 0,
    "start_time": "2023-12-27T20:13:24.123Z"
   },
   {
    "duration": 0,
    "start_time": "2023-12-27T20:13:24.124Z"
   },
   {
    "duration": 0,
    "start_time": "2023-12-27T20:13:24.125Z"
   },
   {
    "duration": 0,
    "start_time": "2023-12-27T20:13:24.126Z"
   },
   {
    "duration": 0,
    "start_time": "2023-12-27T20:13:24.127Z"
   },
   {
    "duration": 0,
    "start_time": "2023-12-27T20:13:24.128Z"
   },
   {
    "duration": 0,
    "start_time": "2023-12-27T20:13:24.129Z"
   },
   {
    "duration": 0,
    "start_time": "2023-12-27T20:13:24.130Z"
   },
   {
    "duration": 0,
    "start_time": "2023-12-27T20:13:24.131Z"
   },
   {
    "duration": 0,
    "start_time": "2023-12-27T20:13:24.132Z"
   },
   {
    "duration": 0,
    "start_time": "2023-12-27T20:13:24.133Z"
   },
   {
    "duration": 0,
    "start_time": "2023-12-27T20:13:24.134Z"
   },
   {
    "duration": 0,
    "start_time": "2023-12-27T20:13:24.135Z"
   },
   {
    "duration": 0,
    "start_time": "2023-12-27T20:13:24.136Z"
   },
   {
    "duration": 0,
    "start_time": "2023-12-27T20:13:24.138Z"
   },
   {
    "duration": 0,
    "start_time": "2023-12-27T20:13:24.139Z"
   },
   {
    "duration": 0,
    "start_time": "2023-12-27T20:13:24.140Z"
   },
   {
    "duration": 0,
    "start_time": "2023-12-27T20:13:24.141Z"
   },
   {
    "duration": 0,
    "start_time": "2023-12-27T20:13:24.142Z"
   },
   {
    "duration": 0,
    "start_time": "2023-12-27T20:13:24.143Z"
   },
   {
    "duration": 0,
    "start_time": "2023-12-27T20:13:24.144Z"
   },
   {
    "duration": 0,
    "start_time": "2023-12-27T20:13:24.145Z"
   },
   {
    "duration": 0,
    "start_time": "2023-12-27T20:13:24.145Z"
   },
   {
    "duration": 0,
    "start_time": "2023-12-27T20:13:24.146Z"
   },
   {
    "duration": 1,
    "start_time": "2023-12-27T20:13:24.147Z"
   },
   {
    "duration": 0,
    "start_time": "2023-12-27T20:13:24.149Z"
   },
   {
    "duration": 0,
    "start_time": "2023-12-27T20:13:24.150Z"
   },
   {
    "duration": 0,
    "start_time": "2023-12-27T20:13:24.200Z"
   },
   {
    "duration": 0,
    "start_time": "2023-12-27T20:13:24.200Z"
   },
   {
    "duration": 0,
    "start_time": "2023-12-27T20:13:24.201Z"
   },
   {
    "duration": 0,
    "start_time": "2023-12-27T20:13:24.202Z"
   },
   {
    "duration": 0,
    "start_time": "2023-12-27T20:13:24.207Z"
   },
   {
    "duration": 0,
    "start_time": "2023-12-27T20:13:24.208Z"
   },
   {
    "duration": 29,
    "start_time": "2023-12-27T20:13:34.085Z"
   },
   {
    "duration": 19,
    "start_time": "2023-12-27T20:13:45.680Z"
   },
   {
    "duration": 1602,
    "start_time": "2023-12-27T20:13:56.879Z"
   },
   {
    "duration": 207,
    "start_time": "2023-12-27T20:13:58.484Z"
   },
   {
    "duration": 21,
    "start_time": "2023-12-27T20:13:58.693Z"
   },
   {
    "duration": 14,
    "start_time": "2023-12-27T20:13:58.716Z"
   },
   {
    "duration": 14,
    "start_time": "2023-12-27T20:13:58.733Z"
   },
   {
    "duration": 125,
    "start_time": "2023-12-27T20:13:58.748Z"
   },
   {
    "duration": 40,
    "start_time": "2023-12-27T20:13:58.875Z"
   },
   {
    "duration": 12,
    "start_time": "2023-12-27T20:13:58.917Z"
   },
   {
    "duration": 10,
    "start_time": "2023-12-27T20:13:58.931Z"
   },
   {
    "duration": 144,
    "start_time": "2023-12-27T20:13:58.942Z"
   },
   {
    "duration": 143,
    "start_time": "2023-12-27T20:13:59.088Z"
   },
   {
    "duration": 11,
    "start_time": "2023-12-27T20:13:59.233Z"
   },
   {
    "duration": 16,
    "start_time": "2023-12-27T20:13:59.246Z"
   },
   {
    "duration": 47,
    "start_time": "2023-12-27T20:13:59.265Z"
   },
   {
    "duration": 140,
    "start_time": "2023-12-27T20:13:59.315Z"
   },
   {
    "duration": 224,
    "start_time": "2023-12-27T20:13:59.457Z"
   },
   {
    "duration": 158,
    "start_time": "2023-12-27T20:13:59.682Z"
   },
   {
    "duration": 10,
    "start_time": "2023-12-27T20:13:59.842Z"
   },
   {
    "duration": 181,
    "start_time": "2023-12-27T20:13:59.855Z"
   },
   {
    "duration": 4,
    "start_time": "2023-12-27T20:14:00.038Z"
   },
   {
    "duration": 37,
    "start_time": "2023-12-27T20:14:00.044Z"
   },
   {
    "duration": 69,
    "start_time": "2023-12-27T20:14:00.083Z"
   },
   {
    "duration": 4,
    "start_time": "2023-12-27T20:14:00.155Z"
   },
   {
    "duration": 28,
    "start_time": "2023-12-27T20:14:00.160Z"
   },
   {
    "duration": 57,
    "start_time": "2023-12-27T20:14:00.190Z"
   },
   {
    "duration": 36,
    "start_time": "2023-12-27T20:14:00.249Z"
   },
   {
    "duration": 41,
    "start_time": "2023-12-27T20:14:00.287Z"
   },
   {
    "duration": 38,
    "start_time": "2023-12-27T20:14:00.330Z"
   },
   {
    "duration": 46,
    "start_time": "2023-12-27T20:14:00.370Z"
   },
   {
    "duration": 114,
    "start_time": "2023-12-27T20:14:00.418Z"
   },
   {
    "duration": 62,
    "start_time": "2023-12-27T20:14:00.535Z"
   },
   {
    "duration": 950,
    "start_time": "2023-12-27T20:14:00.599Z"
   },
   {
    "duration": 469,
    "start_time": "2023-12-27T20:14:01.551Z"
   },
   {
    "duration": 18,
    "start_time": "2023-12-27T20:14:02.022Z"
   },
   {
    "duration": 33,
    "start_time": "2023-12-27T20:14:02.042Z"
   },
   {
    "duration": 55,
    "start_time": "2023-12-27T20:14:02.077Z"
   },
   {
    "duration": 145,
    "start_time": "2023-12-27T20:14:02.134Z"
   },
   {
    "duration": 32,
    "start_time": "2023-12-27T20:14:02.281Z"
   },
   {
    "duration": 48,
    "start_time": "2023-12-27T20:14:02.314Z"
   },
   {
    "duration": 147,
    "start_time": "2023-12-27T20:14:02.364Z"
   },
   {
    "duration": 60,
    "start_time": "2023-12-27T20:14:02.518Z"
   },
   {
    "duration": 136,
    "start_time": "2023-12-27T20:14:02.580Z"
   },
   {
    "duration": 55,
    "start_time": "2023-12-27T20:14:02.718Z"
   },
   {
    "duration": 11,
    "start_time": "2023-12-27T20:14:02.775Z"
   },
   {
    "duration": 142,
    "start_time": "2023-12-27T20:14:02.788Z"
   },
   {
    "duration": 40,
    "start_time": "2023-12-27T20:14:02.933Z"
   },
   {
    "duration": 138,
    "start_time": "2023-12-27T20:14:02.975Z"
   },
   {
    "duration": 0,
    "start_time": "2023-12-27T20:14:03.115Z"
   },
   {
    "duration": 0,
    "start_time": "2023-12-27T20:14:03.116Z"
   },
   {
    "duration": 0,
    "start_time": "2023-12-27T20:14:03.117Z"
   },
   {
    "duration": 0,
    "start_time": "2023-12-27T20:14:03.118Z"
   },
   {
    "duration": 0,
    "start_time": "2023-12-27T20:14:03.120Z"
   },
   {
    "duration": 0,
    "start_time": "2023-12-27T20:14:03.121Z"
   },
   {
    "duration": 0,
    "start_time": "2023-12-27T20:14:03.122Z"
   },
   {
    "duration": 0,
    "start_time": "2023-12-27T20:14:03.123Z"
   },
   {
    "duration": 0,
    "start_time": "2023-12-27T20:14:03.125Z"
   },
   {
    "duration": 0,
    "start_time": "2023-12-27T20:14:03.126Z"
   },
   {
    "duration": 0,
    "start_time": "2023-12-27T20:14:03.127Z"
   },
   {
    "duration": 0,
    "start_time": "2023-12-27T20:14:03.128Z"
   },
   {
    "duration": 0,
    "start_time": "2023-12-27T20:14:03.129Z"
   },
   {
    "duration": 0,
    "start_time": "2023-12-27T20:14:03.130Z"
   },
   {
    "duration": 0,
    "start_time": "2023-12-27T20:14:03.131Z"
   },
   {
    "duration": 0,
    "start_time": "2023-12-27T20:14:03.132Z"
   },
   {
    "duration": 0,
    "start_time": "2023-12-27T20:14:03.133Z"
   },
   {
    "duration": 0,
    "start_time": "2023-12-27T20:14:03.134Z"
   },
   {
    "duration": 0,
    "start_time": "2023-12-27T20:14:03.135Z"
   },
   {
    "duration": 0,
    "start_time": "2023-12-27T20:14:03.136Z"
   },
   {
    "duration": 0,
    "start_time": "2023-12-27T20:14:03.138Z"
   },
   {
    "duration": 0,
    "start_time": "2023-12-27T20:14:03.138Z"
   },
   {
    "duration": 0,
    "start_time": "2023-12-27T20:14:03.139Z"
   },
   {
    "duration": 0,
    "start_time": "2023-12-27T20:14:03.141Z"
   },
   {
    "duration": 0,
    "start_time": "2023-12-27T20:14:03.142Z"
   },
   {
    "duration": 0,
    "start_time": "2023-12-27T20:14:03.143Z"
   },
   {
    "duration": 0,
    "start_time": "2023-12-27T20:14:03.144Z"
   },
   {
    "duration": 0,
    "start_time": "2023-12-27T20:14:03.145Z"
   },
   {
    "duration": 0,
    "start_time": "2023-12-27T20:14:03.147Z"
   },
   {
    "duration": 0,
    "start_time": "2023-12-27T20:14:03.148Z"
   },
   {
    "duration": 0,
    "start_time": "2023-12-27T20:14:03.149Z"
   },
   {
    "duration": 1,
    "start_time": "2023-12-27T20:14:03.150Z"
   },
   {
    "duration": 0,
    "start_time": "2023-12-27T20:14:03.215Z"
   },
   {
    "duration": 0,
    "start_time": "2023-12-27T20:14:03.218Z"
   },
   {
    "duration": 11,
    "start_time": "2023-12-27T20:24:37.312Z"
   },
   {
    "duration": 1600,
    "start_time": "2023-12-27T20:36:17.785Z"
   },
   {
    "duration": 220,
    "start_time": "2023-12-27T20:36:19.387Z"
   },
   {
    "duration": 17,
    "start_time": "2023-12-27T20:36:19.608Z"
   },
   {
    "duration": 15,
    "start_time": "2023-12-27T20:36:19.626Z"
   },
   {
    "duration": 28,
    "start_time": "2023-12-27T20:36:19.643Z"
   },
   {
    "duration": 121,
    "start_time": "2023-12-27T20:36:19.672Z"
   },
   {
    "duration": 29,
    "start_time": "2023-12-27T20:36:19.795Z"
   },
   {
    "duration": 15,
    "start_time": "2023-12-27T20:36:19.825Z"
   },
   {
    "duration": 10,
    "start_time": "2023-12-27T20:36:19.842Z"
   },
   {
    "duration": 169,
    "start_time": "2023-12-27T20:36:19.854Z"
   },
   {
    "duration": 136,
    "start_time": "2023-12-27T20:36:20.025Z"
   },
   {
    "duration": 11,
    "start_time": "2023-12-27T20:36:20.163Z"
   },
   {
    "duration": 35,
    "start_time": "2023-12-27T20:36:20.176Z"
   },
   {
    "duration": 24,
    "start_time": "2023-12-27T20:36:20.215Z"
   },
   {
    "duration": 147,
    "start_time": "2023-12-27T20:36:20.240Z"
   },
   {
    "duration": 223,
    "start_time": "2023-12-27T20:36:20.388Z"
   },
   {
    "duration": 131,
    "start_time": "2023-12-27T20:36:20.619Z"
   },
   {
    "duration": 7,
    "start_time": "2023-12-27T20:36:20.752Z"
   },
   {
    "duration": 153,
    "start_time": "2023-12-27T20:36:20.761Z"
   },
   {
    "duration": 2,
    "start_time": "2023-12-27T20:36:20.916Z"
   },
   {
    "duration": 6,
    "start_time": "2023-12-27T20:36:20.920Z"
   },
   {
    "duration": 47,
    "start_time": "2023-12-27T20:36:20.928Z"
   },
   {
    "duration": 4,
    "start_time": "2023-12-27T20:36:20.977Z"
   },
   {
    "duration": 55,
    "start_time": "2023-12-27T20:36:20.983Z"
   },
   {
    "duration": 8,
    "start_time": "2023-12-27T20:36:21.040Z"
   },
   {
    "duration": 36,
    "start_time": "2023-12-27T20:36:21.050Z"
   },
   {
    "duration": 32,
    "start_time": "2023-12-27T20:36:21.088Z"
   },
   {
    "duration": 18,
    "start_time": "2023-12-27T20:36:21.121Z"
   },
   {
    "duration": 29,
    "start_time": "2023-12-27T20:36:21.140Z"
   },
   {
    "duration": 14,
    "start_time": "2023-12-27T20:36:21.171Z"
   },
   {
    "duration": 26,
    "start_time": "2023-12-27T20:36:21.187Z"
   },
   {
    "duration": 778,
    "start_time": "2023-12-27T20:36:21.220Z"
   },
   {
    "duration": 444,
    "start_time": "2023-12-27T20:36:22.000Z"
   },
   {
    "duration": 16,
    "start_time": "2023-12-27T20:36:22.446Z"
   },
   {
    "duration": 33,
    "start_time": "2023-12-27T20:36:22.464Z"
   },
   {
    "duration": 43,
    "start_time": "2023-12-27T20:36:22.499Z"
   },
   {
    "duration": 81,
    "start_time": "2023-12-27T20:36:22.544Z"
   },
   {
    "duration": 20,
    "start_time": "2023-12-27T20:36:22.627Z"
   },
   {
    "duration": 36,
    "start_time": "2023-12-27T20:36:22.648Z"
   },
   {
    "duration": 136,
    "start_time": "2023-12-27T20:36:22.685Z"
   },
   {
    "duration": 5,
    "start_time": "2023-12-27T20:36:22.826Z"
   },
   {
    "duration": 23,
    "start_time": "2023-12-27T20:36:22.833Z"
   },
   {
    "duration": 32,
    "start_time": "2023-12-27T20:36:22.858Z"
   },
   {
    "duration": 22,
    "start_time": "2023-12-27T20:36:22.892Z"
   },
   {
    "duration": 46,
    "start_time": "2023-12-27T20:36:22.916Z"
   },
   {
    "duration": 22,
    "start_time": "2023-12-27T20:36:22.964Z"
   },
   {
    "duration": 44,
    "start_time": "2023-12-27T20:36:22.988Z"
   },
   {
    "duration": 21,
    "start_time": "2023-12-27T20:36:23.034Z"
   },
   {
    "duration": 34,
    "start_time": "2023-12-27T20:36:23.057Z"
   },
   {
    "duration": 24,
    "start_time": "2023-12-27T20:36:23.093Z"
   },
   {
    "duration": 36,
    "start_time": "2023-12-27T20:36:23.119Z"
   },
   {
    "duration": 12,
    "start_time": "2023-12-27T20:36:23.157Z"
   },
   {
    "duration": 66172,
    "start_time": "2023-12-27T20:36:23.171Z"
   },
   {
    "duration": 3,
    "start_time": "2023-12-27T20:37:29.345Z"
   },
   {
    "duration": 6,
    "start_time": "2023-12-27T20:37:29.349Z"
   },
   {
    "duration": 7,
    "start_time": "2023-12-27T20:37:29.356Z"
   },
   {
    "duration": 4,
    "start_time": "2023-12-27T20:37:29.364Z"
   },
   {
    "duration": 42,
    "start_time": "2023-12-27T20:37:29.369Z"
   },
   {
    "duration": 8,
    "start_time": "2023-12-27T20:37:29.413Z"
   },
   {
    "duration": 125,
    "start_time": "2023-12-27T20:37:29.423Z"
   },
   {
    "duration": 0,
    "start_time": "2023-12-27T20:37:29.551Z"
   },
   {
    "duration": 0,
    "start_time": "2023-12-27T20:37:29.552Z"
   },
   {
    "duration": 0,
    "start_time": "2023-12-27T20:37:29.554Z"
   },
   {
    "duration": 0,
    "start_time": "2023-12-27T20:37:29.555Z"
   },
   {
    "duration": 0,
    "start_time": "2023-12-27T20:37:29.556Z"
   },
   {
    "duration": 0,
    "start_time": "2023-12-27T20:37:29.557Z"
   },
   {
    "duration": 0,
    "start_time": "2023-12-27T20:37:29.559Z"
   },
   {
    "duration": 0,
    "start_time": "2023-12-27T20:37:29.560Z"
   },
   {
    "duration": 0,
    "start_time": "2023-12-27T20:37:29.561Z"
   },
   {
    "duration": 0,
    "start_time": "2023-12-27T20:37:29.562Z"
   },
   {
    "duration": 0,
    "start_time": "2023-12-27T20:37:29.563Z"
   },
   {
    "duration": 0,
    "start_time": "2023-12-27T20:37:29.564Z"
   },
   {
    "duration": 0,
    "start_time": "2023-12-27T20:37:29.566Z"
   },
   {
    "duration": 0,
    "start_time": "2023-12-27T20:37:29.600Z"
   },
   {
    "duration": 0,
    "start_time": "2023-12-27T20:37:29.601Z"
   },
   {
    "duration": 0,
    "start_time": "2023-12-27T20:37:29.605Z"
   },
   {
    "duration": 0,
    "start_time": "2023-12-27T20:37:29.606Z"
   },
   {
    "duration": 0,
    "start_time": "2023-12-27T20:37:29.615Z"
   },
   {
    "duration": 0,
    "start_time": "2023-12-27T20:37:29.617Z"
   },
   {
    "duration": 0,
    "start_time": "2023-12-27T20:37:29.618Z"
   },
   {
    "duration": 1751,
    "start_time": "2023-12-27T20:39:26.374Z"
   },
   {
    "duration": 253,
    "start_time": "2023-12-27T20:39:28.128Z"
   },
   {
    "duration": 33,
    "start_time": "2023-12-27T20:39:28.383Z"
   },
   {
    "duration": 21,
    "start_time": "2023-12-27T20:39:28.420Z"
   },
   {
    "duration": 17,
    "start_time": "2023-12-27T20:39:28.444Z"
   },
   {
    "duration": 121,
    "start_time": "2023-12-27T20:39:28.462Z"
   },
   {
    "duration": 39,
    "start_time": "2023-12-27T20:39:28.584Z"
   },
   {
    "duration": 18,
    "start_time": "2023-12-27T20:39:28.626Z"
   },
   {
    "duration": 11,
    "start_time": "2023-12-27T20:39:28.646Z"
   },
   {
    "duration": 180,
    "start_time": "2023-12-27T20:39:28.659Z"
   },
   {
    "duration": 155,
    "start_time": "2023-12-27T20:39:28.840Z"
   },
   {
    "duration": 18,
    "start_time": "2023-12-27T20:39:29.000Z"
   },
   {
    "duration": 15,
    "start_time": "2023-12-27T20:39:29.020Z"
   },
   {
    "duration": 17,
    "start_time": "2023-12-27T20:39:29.039Z"
   },
   {
    "duration": 180,
    "start_time": "2023-12-27T20:39:29.058Z"
   },
   {
    "duration": 229,
    "start_time": "2023-12-27T20:39:29.240Z"
   },
   {
    "duration": 192,
    "start_time": "2023-12-27T20:39:29.471Z"
   },
   {
    "duration": 10,
    "start_time": "2023-12-27T20:39:29.665Z"
   },
   {
    "duration": 225,
    "start_time": "2023-12-27T20:39:29.677Z"
   },
   {
    "duration": 6,
    "start_time": "2023-12-27T20:39:29.904Z"
   },
   {
    "duration": 23,
    "start_time": "2023-12-27T20:39:29.918Z"
   },
   {
    "duration": 37,
    "start_time": "2023-12-27T20:39:29.945Z"
   },
   {
    "duration": 6,
    "start_time": "2023-12-27T20:39:29.984Z"
   },
   {
    "duration": 45,
    "start_time": "2023-12-27T20:39:29.993Z"
   },
   {
    "duration": 48,
    "start_time": "2023-12-27T20:39:30.047Z"
   },
   {
    "duration": 77,
    "start_time": "2023-12-27T20:39:30.097Z"
   },
   {
    "duration": 65,
    "start_time": "2023-12-27T20:39:30.176Z"
   },
   {
    "duration": 71,
    "start_time": "2023-12-27T20:39:30.244Z"
   },
   {
    "duration": 98,
    "start_time": "2023-12-27T20:39:30.317Z"
   },
   {
    "duration": 80,
    "start_time": "2023-12-27T20:39:30.417Z"
   },
   {
    "duration": 83,
    "start_time": "2023-12-27T20:39:30.499Z"
   },
   {
    "duration": 876,
    "start_time": "2023-12-27T20:39:30.584Z"
   },
   {
    "duration": 502,
    "start_time": "2023-12-27T20:39:31.462Z"
   },
   {
    "duration": 18,
    "start_time": "2023-12-27T20:39:31.965Z"
   },
   {
    "duration": 20,
    "start_time": "2023-12-27T20:39:31.984Z"
   },
   {
    "duration": 17,
    "start_time": "2023-12-27T20:39:32.006Z"
   },
   {
    "duration": 61,
    "start_time": "2023-12-27T20:39:32.028Z"
   },
   {
    "duration": 30,
    "start_time": "2023-12-27T20:39:32.090Z"
   },
   {
    "duration": 38,
    "start_time": "2023-12-27T20:39:32.122Z"
   },
   {
    "duration": 150,
    "start_time": "2023-12-27T20:39:32.163Z"
   },
   {
    "duration": 39,
    "start_time": "2023-12-27T20:39:32.320Z"
   },
   {
    "duration": 9,
    "start_time": "2023-12-27T20:39:32.360Z"
   },
   {
    "duration": 52,
    "start_time": "2023-12-27T20:39:32.371Z"
   },
   {
    "duration": 13,
    "start_time": "2023-12-27T20:39:32.426Z"
   },
   {
    "duration": 45,
    "start_time": "2023-12-27T20:39:32.442Z"
   },
   {
    "duration": 34,
    "start_time": "2023-12-27T20:39:32.489Z"
   },
   {
    "duration": 21,
    "start_time": "2023-12-27T20:39:32.524Z"
   },
   {
    "duration": 12,
    "start_time": "2023-12-27T20:39:32.549Z"
   },
   {
    "duration": 21,
    "start_time": "2023-12-27T20:39:32.563Z"
   },
   {
    "duration": 4,
    "start_time": "2023-12-27T20:39:32.586Z"
   },
   {
    "duration": 27,
    "start_time": "2023-12-27T20:39:32.592Z"
   },
   {
    "duration": 8,
    "start_time": "2023-12-27T20:39:32.621Z"
   },
   {
    "duration": 67655,
    "start_time": "2023-12-27T20:39:32.631Z"
   },
   {
    "duration": 4,
    "start_time": "2023-12-27T20:40:40.287Z"
   },
   {
    "duration": 15,
    "start_time": "2023-12-27T20:40:40.299Z"
   },
   {
    "duration": 8,
    "start_time": "2023-12-27T20:40:40.316Z"
   },
   {
    "duration": 4,
    "start_time": "2023-12-27T20:40:40.325Z"
   },
   {
    "duration": 11,
    "start_time": "2023-12-27T20:40:40.331Z"
   },
   {
    "duration": 7,
    "start_time": "2023-12-27T20:40:40.343Z"
   },
   {
    "duration": 11,
    "start_time": "2023-12-27T20:40:40.352Z"
   },
   {
    "duration": 10,
    "start_time": "2023-12-27T20:40:40.365Z"
   },
   {
    "duration": 54,
    "start_time": "2023-12-27T20:40:40.376Z"
   },
   {
    "duration": 12,
    "start_time": "2023-12-27T20:40:40.432Z"
   },
   {
    "duration": 64,
    "start_time": "2023-12-27T20:40:40.446Z"
   },
   {
    "duration": 3,
    "start_time": "2023-12-27T20:40:40.513Z"
   },
   {
    "duration": 8,
    "start_time": "2023-12-27T20:40:40.518Z"
   },
   {
    "duration": 16,
    "start_time": "2023-12-27T20:40:40.527Z"
   },
   {
    "duration": 7,
    "start_time": "2023-12-27T20:40:40.544Z"
   },
   {
    "duration": 6,
    "start_time": "2023-12-27T20:40:40.552Z"
   },
   {
    "duration": 580252,
    "start_time": "2023-12-27T20:40:40.559Z"
   },
   {
    "duration": 5,
    "start_time": "2023-12-27T20:50:20.813Z"
   },
   {
    "duration": 14,
    "start_time": "2023-12-27T20:50:20.819Z"
   },
   {
    "duration": 44,
    "start_time": "2023-12-27T20:50:20.835Z"
   },
   {
    "duration": 3,
    "start_time": "2023-12-27T20:50:20.881Z"
   },
   {
    "duration": 34,
    "start_time": "2023-12-27T20:50:20.886Z"
   },
   {
    "duration": 201,
    "start_time": "2023-12-27T20:50:20.922Z"
   },
   {
    "duration": 6,
    "start_time": "2023-12-27T20:50:21.125Z"
   },
   {
    "duration": 6,
    "start_time": "2023-12-27T20:50:21.132Z"
   },
   {
    "duration": 172,
    "start_time": "2023-12-27T20:50:21.140Z"
   },
   {
    "duration": 47,
    "start_time": "2023-12-27T20:50:21.314Z"
   },
   {
    "duration": 79,
    "start_time": "2023-12-28T17:13:26.375Z"
   },
   {
    "duration": 43,
    "start_time": "2023-12-28T17:16:04.507Z"
   },
   {
    "duration": 1660,
    "start_time": "2023-12-28T17:16:27.331Z"
   },
   {
    "duration": 196,
    "start_time": "2023-12-28T17:16:28.993Z"
   },
   {
    "duration": 15,
    "start_time": "2023-12-28T17:16:29.191Z"
   },
   {
    "duration": 14,
    "start_time": "2023-12-28T17:16:29.207Z"
   },
   {
    "duration": 27,
    "start_time": "2023-12-28T17:16:29.222Z"
   },
   {
    "duration": 111,
    "start_time": "2023-12-28T17:16:29.251Z"
   },
   {
    "duration": 15,
    "start_time": "2023-12-28T17:16:29.364Z"
   },
   {
    "duration": 11,
    "start_time": "2023-12-28T17:16:29.380Z"
   },
   {
    "duration": 11,
    "start_time": "2023-12-28T17:16:29.394Z"
   },
   {
    "duration": 139,
    "start_time": "2023-12-28T17:16:29.408Z"
   },
   {
    "duration": 115,
    "start_time": "2023-12-28T17:16:29.549Z"
   },
   {
    "duration": 10,
    "start_time": "2023-12-28T17:16:29.666Z"
   },
   {
    "duration": 13,
    "start_time": "2023-12-28T17:16:29.677Z"
   },
   {
    "duration": 11,
    "start_time": "2023-12-28T17:16:29.692Z"
   },
   {
    "duration": 150,
    "start_time": "2023-12-28T17:16:29.705Z"
   },
   {
    "duration": 197,
    "start_time": "2023-12-28T17:16:29.856Z"
   },
   {
    "duration": 121,
    "start_time": "2023-12-28T17:16:30.055Z"
   },
   {
    "duration": 7,
    "start_time": "2023-12-28T17:16:30.177Z"
   },
   {
    "duration": 142,
    "start_time": "2023-12-28T17:16:30.185Z"
   },
   {
    "duration": 2,
    "start_time": "2023-12-28T17:16:30.329Z"
   },
   {
    "duration": 33,
    "start_time": "2023-12-28T17:16:30.333Z"
   },
   {
    "duration": 55,
    "start_time": "2023-12-28T17:16:30.368Z"
   },
   {
    "duration": 10,
    "start_time": "2023-12-28T17:16:30.425Z"
   },
   {
    "duration": 35,
    "start_time": "2023-12-28T17:16:30.436Z"
   },
   {
    "duration": 30,
    "start_time": "2023-12-28T17:16:30.473Z"
   },
   {
    "duration": 27,
    "start_time": "2023-12-28T17:16:30.505Z"
   },
   {
    "duration": 27,
    "start_time": "2023-12-28T17:16:30.535Z"
   },
   {
    "duration": 23,
    "start_time": "2023-12-28T17:16:30.567Z"
   },
   {
    "duration": 43,
    "start_time": "2023-12-28T17:16:30.592Z"
   },
   {
    "duration": 38,
    "start_time": "2023-12-28T17:16:30.637Z"
   },
   {
    "duration": 21,
    "start_time": "2023-12-28T17:16:30.677Z"
   },
   {
    "duration": 645,
    "start_time": "2023-12-28T17:16:30.700Z"
   },
   {
    "duration": 365,
    "start_time": "2023-12-28T17:16:31.347Z"
   },
   {
    "duration": 14,
    "start_time": "2023-12-28T17:16:31.713Z"
   },
   {
    "duration": 19,
    "start_time": "2023-12-28T17:16:31.728Z"
   },
   {
    "duration": 3,
    "start_time": "2023-12-28T17:16:31.748Z"
   },
   {
    "duration": 54,
    "start_time": "2023-12-28T17:16:31.753Z"
   },
   {
    "duration": 20,
    "start_time": "2023-12-28T17:16:31.809Z"
   },
   {
    "duration": 16,
    "start_time": "2023-12-28T17:16:31.843Z"
   },
   {
    "duration": 128,
    "start_time": "2023-12-28T17:16:31.861Z"
   },
   {
    "duration": 4,
    "start_time": "2023-12-28T17:16:31.991Z"
   },
   {
    "duration": 58,
    "start_time": "2023-12-28T17:16:31.996Z"
   },
   {
    "duration": 83,
    "start_time": "2023-12-28T17:16:32.056Z"
   },
   {
    "duration": 4,
    "start_time": "2023-12-28T17:16:32.140Z"
   },
   {
    "duration": 25,
    "start_time": "2023-12-28T17:16:32.145Z"
   },
   {
    "duration": 17,
    "start_time": "2023-12-28T17:16:32.171Z"
   },
   {
    "duration": 14,
    "start_time": "2023-12-28T17:16:32.190Z"
   },
   {
    "duration": 4,
    "start_time": "2023-12-28T17:16:32.205Z"
   },
   {
    "duration": 6,
    "start_time": "2023-12-28T17:16:32.210Z"
   },
   {
    "duration": 8,
    "start_time": "2023-12-28T17:16:32.243Z"
   },
   {
    "duration": 3,
    "start_time": "2023-12-28T17:16:32.252Z"
   },
   {
    "duration": 4,
    "start_time": "2023-12-28T17:16:32.256Z"
   },
   {
    "duration": 56783,
    "start_time": "2023-12-28T17:16:32.261Z"
   },
   {
    "duration": 3,
    "start_time": "2023-12-28T17:17:29.046Z"
   },
   {
    "duration": 19,
    "start_time": "2023-12-28T17:17:29.051Z"
   },
   {
    "duration": 10,
    "start_time": "2023-12-28T17:17:29.072Z"
   },
   {
    "duration": 14,
    "start_time": "2023-12-28T17:17:29.083Z"
   },
   {
    "duration": 10,
    "start_time": "2023-12-28T17:17:29.099Z"
   },
   {
    "duration": 21,
    "start_time": "2023-12-28T17:17:29.111Z"
   },
   {
    "duration": 5,
    "start_time": "2023-12-28T17:17:29.133Z"
   },
   {
    "duration": 13,
    "start_time": "2023-12-28T17:17:29.140Z"
   },
   {
    "duration": 28,
    "start_time": "2023-12-28T17:17:29.154Z"
   },
   {
    "duration": 10,
    "start_time": "2023-12-28T17:17:29.184Z"
   },
   {
    "duration": 47,
    "start_time": "2023-12-28T17:17:29.196Z"
   },
   {
    "duration": 4,
    "start_time": "2023-12-28T17:17:29.245Z"
   },
   {
    "duration": 30,
    "start_time": "2023-12-28T17:17:29.250Z"
   },
   {
    "duration": 6,
    "start_time": "2023-12-28T17:17:29.281Z"
   },
   {
    "duration": 7,
    "start_time": "2023-12-28T17:17:29.288Z"
   },
   {
    "duration": 11,
    "start_time": "2023-12-28T17:17:29.296Z"
   },
   {
    "duration": 486547,
    "start_time": "2023-12-28T17:17:29.308Z"
   },
   {
    "duration": 4,
    "start_time": "2023-12-28T17:25:35.857Z"
   },
   {
    "duration": 4,
    "start_time": "2023-12-28T17:25:35.862Z"
   },
   {
    "duration": 36,
    "start_time": "2023-12-28T17:25:35.868Z"
   },
   {
    "duration": 4,
    "start_time": "2023-12-28T17:25:35.905Z"
   },
   {
    "duration": 16,
    "start_time": "2023-12-28T17:25:35.910Z"
   },
   {
    "duration": 152,
    "start_time": "2023-12-28T17:25:35.942Z"
   },
   {
    "duration": 5,
    "start_time": "2023-12-28T17:25:36.096Z"
   },
   {
    "duration": 5,
    "start_time": "2023-12-28T17:25:36.102Z"
   },
   {
    "duration": 142,
    "start_time": "2023-12-28T17:25:36.108Z"
   },
   {
    "duration": 77,
    "start_time": "2023-12-28T17:25:36.251Z"
   },
   {
    "duration": 14,
    "start_time": "2023-12-28T17:27:26.479Z"
   },
   {
    "duration": 380,
    "start_time": "2023-12-28T17:33:25.673Z"
   },
   {
    "duration": 1387,
    "start_time": "2023-12-28T17:34:35.662Z"
   },
   {
    "duration": 202,
    "start_time": "2023-12-28T17:34:37.051Z"
   },
   {
    "duration": 15,
    "start_time": "2023-12-28T17:34:37.255Z"
   },
   {
    "duration": 13,
    "start_time": "2023-12-28T17:34:37.271Z"
   },
   {
    "duration": 12,
    "start_time": "2023-12-28T17:34:37.286Z"
   },
   {
    "duration": 118,
    "start_time": "2023-12-28T17:34:37.300Z"
   },
   {
    "duration": 22,
    "start_time": "2023-12-28T17:34:37.420Z"
   },
   {
    "duration": 11,
    "start_time": "2023-12-28T17:34:37.444Z"
   },
   {
    "duration": 15,
    "start_time": "2023-12-28T17:34:37.456Z"
   },
   {
    "duration": 140,
    "start_time": "2023-12-28T17:34:37.473Z"
   },
   {
    "duration": 142,
    "start_time": "2023-12-28T17:34:37.615Z"
   },
   {
    "duration": 11,
    "start_time": "2023-12-28T17:34:37.759Z"
   },
   {
    "duration": 18,
    "start_time": "2023-12-28T17:34:37.773Z"
   },
   {
    "duration": 17,
    "start_time": "2023-12-28T17:34:37.794Z"
   },
   {
    "duration": 156,
    "start_time": "2023-12-28T17:34:37.813Z"
   },
   {
    "duration": 210,
    "start_time": "2023-12-28T17:34:37.971Z"
   },
   {
    "duration": 123,
    "start_time": "2023-12-28T17:34:38.183Z"
   },
   {
    "duration": 7,
    "start_time": "2023-12-28T17:34:38.308Z"
   },
   {
    "duration": 137,
    "start_time": "2023-12-28T17:34:38.317Z"
   },
   {
    "duration": 3,
    "start_time": "2023-12-28T17:34:38.456Z"
   },
   {
    "duration": 21,
    "start_time": "2023-12-28T17:34:38.460Z"
   },
   {
    "duration": 33,
    "start_time": "2023-12-28T17:34:38.483Z"
   },
   {
    "duration": 5,
    "start_time": "2023-12-28T17:34:38.518Z"
   },
   {
    "duration": 20,
    "start_time": "2023-12-28T17:34:38.542Z"
   },
   {
    "duration": 11,
    "start_time": "2023-12-28T17:34:38.565Z"
   },
   {
    "duration": 11,
    "start_time": "2023-12-28T17:34:38.578Z"
   },
   {
    "duration": 19,
    "start_time": "2023-12-28T17:34:38.591Z"
   },
   {
    "duration": 5,
    "start_time": "2023-12-28T17:34:38.643Z"
   },
   {
    "duration": 9,
    "start_time": "2023-12-28T17:34:38.650Z"
   },
   {
    "duration": 16,
    "start_time": "2023-12-28T17:34:38.661Z"
   },
   {
    "duration": 6,
    "start_time": "2023-12-28T17:34:38.680Z"
   },
   {
    "duration": 801,
    "start_time": "2023-12-28T17:34:38.688Z"
   },
   {
    "duration": 457,
    "start_time": "2023-12-28T17:34:39.491Z"
   },
   {
    "duration": 22,
    "start_time": "2023-12-28T17:34:39.950Z"
   },
   {
    "duration": 5,
    "start_time": "2023-12-28T17:34:39.974Z"
   },
   {
    "duration": 9,
    "start_time": "2023-12-28T17:34:39.981Z"
   },
   {
    "duration": 94,
    "start_time": "2023-12-28T17:34:39.992Z"
   },
   {
    "duration": 27,
    "start_time": "2023-12-28T17:34:40.088Z"
   },
   {
    "duration": 32,
    "start_time": "2023-12-28T17:34:40.117Z"
   },
   {
    "duration": 113,
    "start_time": "2023-12-28T17:34:40.151Z"
   },
   {
    "duration": 6,
    "start_time": "2023-12-28T17:34:40.268Z"
   },
   {
    "duration": 6,
    "start_time": "2023-12-28T17:34:40.276Z"
   },
   {
    "duration": 17,
    "start_time": "2023-12-28T17:34:40.283Z"
   },
   {
    "duration": 6,
    "start_time": "2023-12-28T17:34:40.302Z"
   },
   {
    "duration": 66,
    "start_time": "2023-12-28T17:34:40.309Z"
   },
   {
    "duration": 25,
    "start_time": "2023-12-28T17:34:40.376Z"
   },
   {
    "duration": 19,
    "start_time": "2023-12-28T17:34:40.403Z"
   },
   {
    "duration": 22,
    "start_time": "2023-12-28T17:34:40.423Z"
   },
   {
    "duration": 15,
    "start_time": "2023-12-28T17:34:40.446Z"
   },
   {
    "duration": 356,
    "start_time": "2023-12-28T17:34:40.462Z"
   },
   {
    "duration": 0,
    "start_time": "2023-12-28T17:34:40.820Z"
   },
   {
    "duration": 0,
    "start_time": "2023-12-28T17:34:40.821Z"
   },
   {
    "duration": 0,
    "start_time": "2023-12-28T17:34:40.822Z"
   },
   {
    "duration": 0,
    "start_time": "2023-12-28T17:34:40.824Z"
   },
   {
    "duration": 0,
    "start_time": "2023-12-28T17:34:40.825Z"
   },
   {
    "duration": 0,
    "start_time": "2023-12-28T17:34:40.826Z"
   },
   {
    "duration": 0,
    "start_time": "2023-12-28T17:34:40.827Z"
   },
   {
    "duration": 0,
    "start_time": "2023-12-28T17:34:40.828Z"
   },
   {
    "duration": 0,
    "start_time": "2023-12-28T17:34:40.829Z"
   },
   {
    "duration": 0,
    "start_time": "2023-12-28T17:34:40.830Z"
   },
   {
    "duration": 0,
    "start_time": "2023-12-28T17:34:40.831Z"
   },
   {
    "duration": 0,
    "start_time": "2023-12-28T17:34:40.832Z"
   },
   {
    "duration": 0,
    "start_time": "2023-12-28T17:34:40.833Z"
   },
   {
    "duration": 0,
    "start_time": "2023-12-28T17:34:40.834Z"
   },
   {
    "duration": 0,
    "start_time": "2023-12-28T17:34:40.835Z"
   },
   {
    "duration": 0,
    "start_time": "2023-12-28T17:34:40.836Z"
   },
   {
    "duration": 0,
    "start_time": "2023-12-28T17:34:40.838Z"
   },
   {
    "duration": 0,
    "start_time": "2023-12-28T17:34:40.838Z"
   },
   {
    "duration": 0,
    "start_time": "2023-12-28T17:34:40.839Z"
   },
   {
    "duration": 0,
    "start_time": "2023-12-28T17:34:40.840Z"
   },
   {
    "duration": 0,
    "start_time": "2023-12-28T17:34:40.841Z"
   },
   {
    "duration": 0,
    "start_time": "2023-12-28T17:34:40.842Z"
   },
   {
    "duration": 1,
    "start_time": "2023-12-28T17:34:40.843Z"
   },
   {
    "duration": 0,
    "start_time": "2023-12-28T17:34:40.845Z"
   },
   {
    "duration": 0,
    "start_time": "2023-12-28T17:34:40.847Z"
   },
   {
    "duration": 0,
    "start_time": "2023-12-28T17:34:40.848Z"
   },
   {
    "duration": 0,
    "start_time": "2023-12-28T17:34:40.849Z"
   },
   {
    "duration": 0,
    "start_time": "2023-12-28T17:34:40.850Z"
   },
   {
    "duration": 0,
    "start_time": "2023-12-28T17:34:40.852Z"
   },
   {
    "duration": 0,
    "start_time": "2023-12-28T17:34:40.853Z"
   },
   {
    "duration": 1133,
    "start_time": "2023-12-28T17:35:33.102Z"
   },
   {
    "duration": 678,
    "start_time": "2023-12-28T17:36:35.156Z"
   },
   {
    "duration": 618,
    "start_time": "2023-12-28T17:37:43.624Z"
   },
   {
    "duration": 6,
    "start_time": "2023-12-28T17:38:38.389Z"
   },
   {
    "duration": 1290,
    "start_time": "2023-12-28T17:51:07.262Z"
   },
   {
    "duration": 1534,
    "start_time": "2023-12-28T17:51:22.236Z"
   },
   {
    "duration": 208,
    "start_time": "2023-12-28T17:51:23.772Z"
   },
   {
    "duration": 16,
    "start_time": "2023-12-28T17:51:23.982Z"
   },
   {
    "duration": 12,
    "start_time": "2023-12-28T17:51:24.000Z"
   },
   {
    "duration": 13,
    "start_time": "2023-12-28T17:51:24.014Z"
   },
   {
    "duration": 101,
    "start_time": "2023-12-28T17:51:24.029Z"
   },
   {
    "duration": 25,
    "start_time": "2023-12-28T17:51:24.131Z"
   },
   {
    "duration": 12,
    "start_time": "2023-12-28T17:51:24.158Z"
   },
   {
    "duration": 10,
    "start_time": "2023-12-28T17:51:24.171Z"
   },
   {
    "duration": 147,
    "start_time": "2023-12-28T17:51:24.183Z"
   },
   {
    "duration": 138,
    "start_time": "2023-12-28T17:51:24.332Z"
   },
   {
    "duration": 11,
    "start_time": "2023-12-28T17:51:24.471Z"
   },
   {
    "duration": 17,
    "start_time": "2023-12-28T17:51:24.483Z"
   },
   {
    "duration": 11,
    "start_time": "2023-12-28T17:51:24.502Z"
   },
   {
    "duration": 188,
    "start_time": "2023-12-28T17:51:24.515Z"
   },
   {
    "duration": 318,
    "start_time": "2023-12-28T17:51:24.705Z"
   },
   {
    "duration": 143,
    "start_time": "2023-12-28T17:51:25.024Z"
   },
   {
    "duration": 9,
    "start_time": "2023-12-28T17:51:25.169Z"
   },
   {
    "duration": 142,
    "start_time": "2023-12-28T17:51:25.180Z"
   },
   {
    "duration": 3,
    "start_time": "2023-12-28T17:51:25.323Z"
   },
   {
    "duration": 25,
    "start_time": "2023-12-28T17:51:25.327Z"
   },
   {
    "duration": 28,
    "start_time": "2023-12-28T17:51:25.355Z"
   },
   {
    "duration": 5,
    "start_time": "2023-12-28T17:51:25.385Z"
   },
   {
    "duration": 19,
    "start_time": "2023-12-28T17:51:25.391Z"
   },
   {
    "duration": 11,
    "start_time": "2023-12-28T17:51:25.411Z"
   },
   {
    "duration": 28,
    "start_time": "2023-12-28T17:51:25.423Z"
   },
   {
    "duration": 17,
    "start_time": "2023-12-28T17:51:25.454Z"
   },
   {
    "duration": 4,
    "start_time": "2023-12-28T17:51:25.475Z"
   },
   {
    "duration": 7,
    "start_time": "2023-12-28T17:51:25.481Z"
   },
   {
    "duration": 12,
    "start_time": "2023-12-28T17:51:25.489Z"
   },
   {
    "duration": 9,
    "start_time": "2023-12-28T17:51:25.502Z"
   },
   {
    "duration": 701,
    "start_time": "2023-12-28T17:51:25.512Z"
   },
   {
    "duration": 408,
    "start_time": "2023-12-28T17:51:26.215Z"
   },
   {
    "duration": 20,
    "start_time": "2023-12-28T17:51:26.625Z"
   },
   {
    "duration": 6,
    "start_time": "2023-12-28T17:51:26.647Z"
   },
   {
    "duration": 8,
    "start_time": "2023-12-28T17:51:26.655Z"
   },
   {
    "duration": 44,
    "start_time": "2023-12-28T17:51:26.665Z"
   },
   {
    "duration": 44,
    "start_time": "2023-12-28T17:51:26.710Z"
   },
   {
    "duration": 18,
    "start_time": "2023-12-28T17:51:26.756Z"
   },
   {
    "duration": 133,
    "start_time": "2023-12-28T17:51:26.776Z"
   },
   {
    "duration": 15,
    "start_time": "2023-12-28T17:51:26.910Z"
   },
   {
    "duration": 24,
    "start_time": "2023-12-28T17:51:26.926Z"
   },
   {
    "duration": 16,
    "start_time": "2023-12-28T17:51:26.953Z"
   },
   {
    "duration": 4,
    "start_time": "2023-12-28T17:51:26.970Z"
   },
   {
    "duration": 38,
    "start_time": "2023-12-28T17:51:26.976Z"
   },
   {
    "duration": 19,
    "start_time": "2023-12-28T17:51:27.016Z"
   },
   {
    "duration": 28,
    "start_time": "2023-12-28T17:51:27.037Z"
   },
   {
    "duration": 4,
    "start_time": "2023-12-28T17:51:27.067Z"
   },
   {
    "duration": 8,
    "start_time": "2023-12-28T17:51:27.072Z"
   },
   {
    "duration": 1324,
    "start_time": "2023-12-28T17:51:27.082Z"
   },
   {
    "duration": 0,
    "start_time": "2023-12-28T17:51:28.408Z"
   },
   {
    "duration": 0,
    "start_time": "2023-12-28T17:51:28.409Z"
   },
   {
    "duration": 0,
    "start_time": "2023-12-28T17:51:28.410Z"
   },
   {
    "duration": 0,
    "start_time": "2023-12-28T17:51:28.411Z"
   },
   {
    "duration": 0,
    "start_time": "2023-12-28T17:51:28.412Z"
   },
   {
    "duration": 0,
    "start_time": "2023-12-28T17:51:28.413Z"
   },
   {
    "duration": 0,
    "start_time": "2023-12-28T17:51:28.414Z"
   },
   {
    "duration": 0,
    "start_time": "2023-12-28T17:51:28.415Z"
   },
   {
    "duration": 0,
    "start_time": "2023-12-28T17:51:28.417Z"
   },
   {
    "duration": 0,
    "start_time": "2023-12-28T17:51:28.418Z"
   },
   {
    "duration": 0,
    "start_time": "2023-12-28T17:51:28.419Z"
   },
   {
    "duration": 0,
    "start_time": "2023-12-28T17:51:28.419Z"
   },
   {
    "duration": 0,
    "start_time": "2023-12-28T17:51:28.420Z"
   },
   {
    "duration": 1,
    "start_time": "2023-12-28T17:51:28.421Z"
   },
   {
    "duration": 0,
    "start_time": "2023-12-28T17:51:28.422Z"
   },
   {
    "duration": 0,
    "start_time": "2023-12-28T17:51:28.423Z"
   },
   {
    "duration": 0,
    "start_time": "2023-12-28T17:51:28.424Z"
   },
   {
    "duration": 0,
    "start_time": "2023-12-28T17:51:28.425Z"
   },
   {
    "duration": 0,
    "start_time": "2023-12-28T17:51:28.426Z"
   },
   {
    "duration": 0,
    "start_time": "2023-12-28T17:51:28.427Z"
   },
   {
    "duration": 0,
    "start_time": "2023-12-28T17:51:28.428Z"
   },
   {
    "duration": 0,
    "start_time": "2023-12-28T17:51:28.429Z"
   },
   {
    "duration": 0,
    "start_time": "2023-12-28T17:51:28.430Z"
   },
   {
    "duration": 0,
    "start_time": "2023-12-28T17:51:28.431Z"
   },
   {
    "duration": 0,
    "start_time": "2023-12-28T17:51:28.432Z"
   },
   {
    "duration": 0,
    "start_time": "2023-12-28T17:51:28.433Z"
   },
   {
    "duration": 0,
    "start_time": "2023-12-28T17:51:28.434Z"
   },
   {
    "duration": 0,
    "start_time": "2023-12-28T17:51:28.435Z"
   },
   {
    "duration": 0,
    "start_time": "2023-12-28T17:51:28.436Z"
   },
   {
    "duration": 0,
    "start_time": "2023-12-28T17:51:28.437Z"
   },
   {
    "duration": 5,
    "start_time": "2023-12-28T17:54:15.428Z"
   },
   {
    "duration": 18,
    "start_time": "2023-12-28T17:54:17.836Z"
   },
   {
    "duration": 1476,
    "start_time": "2023-12-28T17:54:24.761Z"
   },
   {
    "duration": 224,
    "start_time": "2023-12-28T17:54:26.239Z"
   },
   {
    "duration": 14,
    "start_time": "2023-12-28T17:54:26.465Z"
   },
   {
    "duration": 31,
    "start_time": "2023-12-28T17:54:26.481Z"
   },
   {
    "duration": 42,
    "start_time": "2023-12-28T17:54:26.515Z"
   },
   {
    "duration": 124,
    "start_time": "2023-12-28T17:54:26.558Z"
   },
   {
    "duration": 16,
    "start_time": "2023-12-28T17:54:26.684Z"
   },
   {
    "duration": 20,
    "start_time": "2023-12-28T17:54:26.701Z"
   },
   {
    "duration": 37,
    "start_time": "2023-12-28T17:54:26.723Z"
   },
   {
    "duration": 159,
    "start_time": "2023-12-28T17:54:26.762Z"
   },
   {
    "duration": 129,
    "start_time": "2023-12-28T17:54:26.923Z"
   },
   {
    "duration": 13,
    "start_time": "2023-12-28T17:54:27.054Z"
   },
   {
    "duration": 44,
    "start_time": "2023-12-28T17:54:27.070Z"
   },
   {
    "duration": 37,
    "start_time": "2023-12-28T17:54:27.118Z"
   },
   {
    "duration": 152,
    "start_time": "2023-12-28T17:54:27.156Z"
   },
   {
    "duration": 208,
    "start_time": "2023-12-28T17:54:27.310Z"
   },
   {
    "duration": 121,
    "start_time": "2023-12-28T17:54:27.519Z"
   },
   {
    "duration": 10,
    "start_time": "2023-12-28T17:54:27.642Z"
   },
   {
    "duration": 140,
    "start_time": "2023-12-28T17:54:27.654Z"
   },
   {
    "duration": 3,
    "start_time": "2023-12-28T17:54:27.796Z"
   },
   {
    "duration": 6,
    "start_time": "2023-12-28T17:54:27.801Z"
   },
   {
    "duration": 56,
    "start_time": "2023-12-28T17:54:27.809Z"
   },
   {
    "duration": 4,
    "start_time": "2023-12-28T17:54:27.867Z"
   },
   {
    "duration": 26,
    "start_time": "2023-12-28T17:54:27.873Z"
   },
   {
    "duration": 13,
    "start_time": "2023-12-28T17:54:27.901Z"
   },
   {
    "duration": 43,
    "start_time": "2023-12-28T17:54:27.915Z"
   },
   {
    "duration": 20,
    "start_time": "2023-12-28T17:54:27.960Z"
   },
   {
    "duration": 5,
    "start_time": "2023-12-28T17:54:27.981Z"
   },
   {
    "duration": 14,
    "start_time": "2023-12-28T17:54:27.987Z"
   },
   {
    "duration": 4,
    "start_time": "2023-12-28T17:54:28.003Z"
   },
   {
    "duration": 5,
    "start_time": "2023-12-28T17:54:28.009Z"
   },
   {
    "duration": 740,
    "start_time": "2023-12-28T17:54:28.015Z"
   },
   {
    "duration": 404,
    "start_time": "2023-12-28T17:54:28.757Z"
   },
   {
    "duration": 14,
    "start_time": "2023-12-28T17:54:29.163Z"
   },
   {
    "duration": 4,
    "start_time": "2023-12-28T17:54:29.178Z"
   },
   {
    "duration": 6,
    "start_time": "2023-12-28T17:54:29.184Z"
   },
   {
    "duration": 61,
    "start_time": "2023-12-28T17:54:29.192Z"
   },
   {
    "duration": 19,
    "start_time": "2023-12-28T17:54:29.255Z"
   },
   {
    "duration": 20,
    "start_time": "2023-12-28T17:54:29.276Z"
   },
   {
    "duration": 143,
    "start_time": "2023-12-28T17:54:29.297Z"
   },
   {
    "duration": 16,
    "start_time": "2023-12-28T17:54:29.448Z"
   },
   {
    "duration": 11,
    "start_time": "2023-12-28T17:54:29.466Z"
   },
   {
    "duration": 14,
    "start_time": "2023-12-28T17:54:29.478Z"
   },
   {
    "duration": 4,
    "start_time": "2023-12-28T17:54:29.494Z"
   },
   {
    "duration": 7,
    "start_time": "2023-12-28T17:54:29.500Z"
   },
   {
    "duration": 53,
    "start_time": "2023-12-28T17:54:29.509Z"
   },
   {
    "duration": 24,
    "start_time": "2023-12-28T17:54:29.564Z"
   },
   {
    "duration": 5,
    "start_time": "2023-12-28T17:54:29.590Z"
   },
   {
    "duration": 6,
    "start_time": "2023-12-28T17:54:29.597Z"
   },
   {
    "duration": 1371,
    "start_time": "2023-12-28T17:54:29.605Z"
   },
   {
    "duration": 0,
    "start_time": "2023-12-28T17:54:30.978Z"
   },
   {
    "duration": 0,
    "start_time": "2023-12-28T17:54:30.980Z"
   },
   {
    "duration": 0,
    "start_time": "2023-12-28T17:54:30.982Z"
   },
   {
    "duration": 0,
    "start_time": "2023-12-28T17:54:30.983Z"
   },
   {
    "duration": 0,
    "start_time": "2023-12-28T17:54:30.984Z"
   },
   {
    "duration": 0,
    "start_time": "2023-12-28T17:54:30.986Z"
   },
   {
    "duration": 0,
    "start_time": "2023-12-28T17:54:30.987Z"
   },
   {
    "duration": 0,
    "start_time": "2023-12-28T17:54:30.989Z"
   },
   {
    "duration": 0,
    "start_time": "2023-12-28T17:54:30.990Z"
   },
   {
    "duration": 0,
    "start_time": "2023-12-28T17:54:30.991Z"
   },
   {
    "duration": 0,
    "start_time": "2023-12-28T17:54:30.992Z"
   },
   {
    "duration": 0,
    "start_time": "2023-12-28T17:54:30.994Z"
   },
   {
    "duration": 0,
    "start_time": "2023-12-28T17:54:30.995Z"
   },
   {
    "duration": 0,
    "start_time": "2023-12-28T17:54:30.997Z"
   },
   {
    "duration": 0,
    "start_time": "2023-12-28T17:54:30.998Z"
   },
   {
    "duration": 0,
    "start_time": "2023-12-28T17:54:31.000Z"
   },
   {
    "duration": 0,
    "start_time": "2023-12-28T17:54:31.003Z"
   },
   {
    "duration": 0,
    "start_time": "2023-12-28T17:54:31.005Z"
   },
   {
    "duration": 0,
    "start_time": "2023-12-28T17:54:31.006Z"
   },
   {
    "duration": 0,
    "start_time": "2023-12-28T17:54:31.008Z"
   },
   {
    "duration": 0,
    "start_time": "2023-12-28T17:54:31.009Z"
   },
   {
    "duration": 0,
    "start_time": "2023-12-28T17:54:31.011Z"
   },
   {
    "duration": 0,
    "start_time": "2023-12-28T17:54:31.012Z"
   },
   {
    "duration": 0,
    "start_time": "2023-12-28T17:54:31.014Z"
   },
   {
    "duration": 0,
    "start_time": "2023-12-28T17:54:31.042Z"
   },
   {
    "duration": 0,
    "start_time": "2023-12-28T17:54:31.044Z"
   },
   {
    "duration": 0,
    "start_time": "2023-12-28T17:54:31.045Z"
   },
   {
    "duration": 0,
    "start_time": "2023-12-28T17:54:31.047Z"
   },
   {
    "duration": 0,
    "start_time": "2023-12-28T17:54:31.048Z"
   },
   {
    "duration": 0,
    "start_time": "2023-12-28T17:54:31.049Z"
   },
   {
    "duration": 31,
    "start_time": "2023-12-28T17:55:38.904Z"
   },
   {
    "duration": 1446,
    "start_time": "2023-12-28T17:55:47.073Z"
   },
   {
    "duration": 384,
    "start_time": "2023-12-28T17:55:48.521Z"
   },
   {
    "duration": 15,
    "start_time": "2023-12-28T17:55:48.907Z"
   },
   {
    "duration": 14,
    "start_time": "2023-12-28T17:55:48.925Z"
   },
   {
    "duration": 13,
    "start_time": "2023-12-28T17:55:48.940Z"
   },
   {
    "duration": 103,
    "start_time": "2023-12-28T17:55:48.955Z"
   },
   {
    "duration": 14,
    "start_time": "2023-12-28T17:55:49.060Z"
   },
   {
    "duration": 12,
    "start_time": "2023-12-28T17:55:49.075Z"
   },
   {
    "duration": 14,
    "start_time": "2023-12-28T17:55:49.089Z"
   },
   {
    "duration": 134,
    "start_time": "2023-12-28T17:55:49.106Z"
   },
   {
    "duration": 153,
    "start_time": "2023-12-28T17:55:49.242Z"
   },
   {
    "duration": 10,
    "start_time": "2023-12-28T17:55:49.397Z"
   },
   {
    "duration": 34,
    "start_time": "2023-12-28T17:55:49.410Z"
   },
   {
    "duration": 12,
    "start_time": "2023-12-28T17:55:49.445Z"
   },
   {
    "duration": 125,
    "start_time": "2023-12-28T17:55:49.458Z"
   },
   {
    "duration": 198,
    "start_time": "2023-12-28T17:55:49.585Z"
   },
   {
    "duration": 120,
    "start_time": "2023-12-28T17:55:49.785Z"
   },
   {
    "duration": 6,
    "start_time": "2023-12-28T17:55:49.907Z"
   },
   {
    "duration": 118,
    "start_time": "2023-12-28T17:55:49.915Z"
   },
   {
    "duration": 8,
    "start_time": "2023-12-28T17:55:50.035Z"
   },
   {
    "duration": 22,
    "start_time": "2023-12-28T17:55:50.044Z"
   },
   {
    "duration": 39,
    "start_time": "2023-12-28T17:55:50.067Z"
   },
   {
    "duration": 23,
    "start_time": "2023-12-28T17:55:50.107Z"
   },
   {
    "duration": 21,
    "start_time": "2023-12-28T17:55:50.131Z"
   },
   {
    "duration": 7,
    "start_time": "2023-12-28T17:55:50.153Z"
   },
   {
    "duration": 19,
    "start_time": "2023-12-28T17:55:50.161Z"
   },
   {
    "duration": 16,
    "start_time": "2023-12-28T17:55:50.182Z"
   },
   {
    "duration": 4,
    "start_time": "2023-12-28T17:55:50.202Z"
   },
   {
    "duration": 6,
    "start_time": "2023-12-28T17:55:50.208Z"
   },
   {
    "duration": 16,
    "start_time": "2023-12-28T17:55:50.215Z"
   },
   {
    "duration": 13,
    "start_time": "2023-12-28T17:55:50.232Z"
   },
   {
    "duration": 697,
    "start_time": "2023-12-28T17:55:50.246Z"
   },
   {
    "duration": 397,
    "start_time": "2023-12-28T17:55:50.945Z"
   },
   {
    "duration": 16,
    "start_time": "2023-12-28T17:55:51.344Z"
   },
   {
    "duration": 4,
    "start_time": "2023-12-28T17:55:51.362Z"
   },
   {
    "duration": 4,
    "start_time": "2023-12-28T17:55:51.368Z"
   },
   {
    "duration": 70,
    "start_time": "2023-12-28T17:55:51.373Z"
   },
   {
    "duration": 20,
    "start_time": "2023-12-28T17:55:51.445Z"
   },
   {
    "duration": 35,
    "start_time": "2023-12-28T17:55:51.467Z"
   },
   {
    "duration": 114,
    "start_time": "2023-12-28T17:55:51.505Z"
   },
   {
    "duration": 4,
    "start_time": "2023-12-28T17:55:51.620Z"
   },
   {
    "duration": 12,
    "start_time": "2023-12-28T17:55:51.625Z"
   },
   {
    "duration": 12,
    "start_time": "2023-12-28T17:55:51.642Z"
   },
   {
    "duration": 4,
    "start_time": "2023-12-28T17:55:51.655Z"
   },
   {
    "duration": 29,
    "start_time": "2023-12-28T17:55:51.660Z"
   },
   {
    "duration": 16,
    "start_time": "2023-12-28T17:55:51.690Z"
   },
   {
    "duration": 37,
    "start_time": "2023-12-28T17:55:51.707Z"
   },
   {
    "duration": 10,
    "start_time": "2023-12-28T17:55:51.745Z"
   },
   {
    "duration": 10,
    "start_time": "2023-12-28T17:55:51.756Z"
   },
   {
    "duration": 1302,
    "start_time": "2023-12-28T17:55:51.768Z"
   },
   {
    "duration": 0,
    "start_time": "2023-12-28T17:55:53.078Z"
   },
   {
    "duration": 0,
    "start_time": "2023-12-28T17:55:53.080Z"
   },
   {
    "duration": 0,
    "start_time": "2023-12-28T17:55:53.081Z"
   },
   {
    "duration": 0,
    "start_time": "2023-12-28T17:55:53.082Z"
   },
   {
    "duration": 0,
    "start_time": "2023-12-28T17:55:53.083Z"
   },
   {
    "duration": 0,
    "start_time": "2023-12-28T17:55:53.084Z"
   },
   {
    "duration": 0,
    "start_time": "2023-12-28T17:55:53.086Z"
   },
   {
    "duration": 0,
    "start_time": "2023-12-28T17:55:53.087Z"
   },
   {
    "duration": 0,
    "start_time": "2023-12-28T17:55:53.088Z"
   },
   {
    "duration": 0,
    "start_time": "2023-12-28T17:55:53.090Z"
   },
   {
    "duration": 0,
    "start_time": "2023-12-28T17:55:53.091Z"
   },
   {
    "duration": 0,
    "start_time": "2023-12-28T17:55:53.093Z"
   },
   {
    "duration": 0,
    "start_time": "2023-12-28T17:55:53.094Z"
   },
   {
    "duration": 0,
    "start_time": "2023-12-28T17:55:53.095Z"
   },
   {
    "duration": 0,
    "start_time": "2023-12-28T17:55:53.096Z"
   },
   {
    "duration": 0,
    "start_time": "2023-12-28T17:55:53.102Z"
   },
   {
    "duration": 0,
    "start_time": "2023-12-28T17:55:53.104Z"
   },
   {
    "duration": 0,
    "start_time": "2023-12-28T17:55:53.105Z"
   },
   {
    "duration": 0,
    "start_time": "2023-12-28T17:55:53.106Z"
   },
   {
    "duration": 0,
    "start_time": "2023-12-28T17:55:53.107Z"
   },
   {
    "duration": 0,
    "start_time": "2023-12-28T17:55:53.107Z"
   },
   {
    "duration": 0,
    "start_time": "2023-12-28T17:55:53.109Z"
   },
   {
    "duration": 0,
    "start_time": "2023-12-28T17:55:53.110Z"
   },
   {
    "duration": 0,
    "start_time": "2023-12-28T17:55:53.111Z"
   },
   {
    "duration": 0,
    "start_time": "2023-12-28T17:55:53.112Z"
   },
   {
    "duration": 0,
    "start_time": "2023-12-28T17:55:53.113Z"
   },
   {
    "duration": 0,
    "start_time": "2023-12-28T17:55:53.114Z"
   },
   {
    "duration": 0,
    "start_time": "2023-12-28T17:55:53.115Z"
   },
   {
    "duration": 0,
    "start_time": "2023-12-28T17:55:53.116Z"
   },
   {
    "duration": 0,
    "start_time": "2023-12-28T17:55:53.118Z"
   },
   {
    "duration": 1449,
    "start_time": "2023-12-28T17:56:39.583Z"
   },
   {
    "duration": 204,
    "start_time": "2023-12-28T17:56:41.034Z"
   },
   {
    "duration": 14,
    "start_time": "2023-12-28T17:56:41.240Z"
   },
   {
    "duration": 19,
    "start_time": "2023-12-28T17:56:41.256Z"
   },
   {
    "duration": 13,
    "start_time": "2023-12-28T17:56:41.277Z"
   },
   {
    "duration": 122,
    "start_time": "2023-12-28T17:56:41.292Z"
   },
   {
    "duration": 14,
    "start_time": "2023-12-28T17:56:41.416Z"
   },
   {
    "duration": 11,
    "start_time": "2023-12-28T17:56:41.443Z"
   },
   {
    "duration": 8,
    "start_time": "2023-12-28T17:56:41.455Z"
   },
   {
    "duration": 131,
    "start_time": "2023-12-28T17:56:41.465Z"
   },
   {
    "duration": 117,
    "start_time": "2023-12-28T17:56:41.597Z"
   },
   {
    "duration": 10,
    "start_time": "2023-12-28T17:56:41.715Z"
   },
   {
    "duration": 25,
    "start_time": "2023-12-28T17:56:41.727Z"
   },
   {
    "duration": 18,
    "start_time": "2023-12-28T17:56:41.756Z"
   },
   {
    "duration": 157,
    "start_time": "2023-12-28T17:56:41.776Z"
   },
   {
    "duration": 211,
    "start_time": "2023-12-28T17:56:41.935Z"
   },
   {
    "duration": 126,
    "start_time": "2023-12-28T17:56:42.147Z"
   },
   {
    "duration": 6,
    "start_time": "2023-12-28T17:56:42.275Z"
   },
   {
    "duration": 131,
    "start_time": "2023-12-28T17:56:42.283Z"
   },
   {
    "duration": 3,
    "start_time": "2023-12-28T17:56:42.415Z"
   },
   {
    "duration": 6,
    "start_time": "2023-12-28T17:56:42.419Z"
   },
   {
    "duration": 39,
    "start_time": "2023-12-28T17:56:42.426Z"
   },
   {
    "duration": 4,
    "start_time": "2023-12-28T17:56:42.466Z"
   },
   {
    "duration": 17,
    "start_time": "2023-12-28T17:56:42.471Z"
   },
   {
    "duration": 6,
    "start_time": "2023-12-28T17:56:42.490Z"
   },
   {
    "duration": 16,
    "start_time": "2023-12-28T17:56:42.497Z"
   },
   {
    "duration": 15,
    "start_time": "2023-12-28T17:56:42.543Z"
   },
   {
    "duration": 4,
    "start_time": "2023-12-28T17:56:42.560Z"
   },
   {
    "duration": 8,
    "start_time": "2023-12-28T17:56:42.565Z"
   },
   {
    "duration": 3,
    "start_time": "2023-12-28T17:56:42.575Z"
   },
   {
    "duration": 4,
    "start_time": "2023-12-28T17:56:42.579Z"
   },
   {
    "duration": 692,
    "start_time": "2023-12-28T17:56:42.584Z"
   },
   {
    "duration": 381,
    "start_time": "2023-12-28T17:56:43.277Z"
   },
   {
    "duration": 16,
    "start_time": "2023-12-28T17:56:43.659Z"
   },
   {
    "duration": 7,
    "start_time": "2023-12-28T17:56:43.676Z"
   },
   {
    "duration": 18,
    "start_time": "2023-12-28T17:56:43.684Z"
   },
   {
    "duration": 54,
    "start_time": "2023-12-28T17:56:43.703Z"
   },
   {
    "duration": 29,
    "start_time": "2023-12-28T17:56:43.759Z"
   },
   {
    "duration": 19,
    "start_time": "2023-12-28T17:56:43.790Z"
   },
   {
    "duration": 121,
    "start_time": "2023-12-28T17:56:43.810Z"
   },
   {
    "duration": 31,
    "start_time": "2023-12-28T17:56:43.942Z"
   },
   {
    "duration": 12,
    "start_time": "2023-12-28T17:56:43.975Z"
   },
   {
    "duration": 20,
    "start_time": "2023-12-28T17:56:43.989Z"
   },
   {
    "duration": 44,
    "start_time": "2023-12-28T17:56:44.011Z"
   },
   {
    "duration": 18,
    "start_time": "2023-12-28T17:56:44.056Z"
   },
   {
    "duration": 16,
    "start_time": "2023-12-28T17:56:44.076Z"
   },
   {
    "duration": 4,
    "start_time": "2023-12-28T17:56:44.093Z"
   },
   {
    "duration": 6,
    "start_time": "2023-12-28T17:56:44.098Z"
   },
   {
    "duration": 6,
    "start_time": "2023-12-28T17:56:44.105Z"
   },
   {
    "duration": 113,
    "start_time": "2023-12-28T17:56:44.142Z"
   },
   {
    "duration": 0,
    "start_time": "2023-12-28T17:56:44.256Z"
   },
   {
    "duration": 0,
    "start_time": "2023-12-28T17:56:44.257Z"
   },
   {
    "duration": 0,
    "start_time": "2023-12-28T17:56:44.258Z"
   },
   {
    "duration": 0,
    "start_time": "2023-12-28T17:56:44.260Z"
   },
   {
    "duration": 0,
    "start_time": "2023-12-28T17:56:44.261Z"
   },
   {
    "duration": 0,
    "start_time": "2023-12-28T17:56:44.262Z"
   },
   {
    "duration": 0,
    "start_time": "2023-12-28T17:56:44.263Z"
   },
   {
    "duration": 0,
    "start_time": "2023-12-28T17:56:44.264Z"
   },
   {
    "duration": 0,
    "start_time": "2023-12-28T17:56:44.265Z"
   },
   {
    "duration": 0,
    "start_time": "2023-12-28T17:56:44.266Z"
   },
   {
    "duration": 0,
    "start_time": "2023-12-28T17:56:44.267Z"
   },
   {
    "duration": 0,
    "start_time": "2023-12-28T17:56:44.268Z"
   },
   {
    "duration": 0,
    "start_time": "2023-12-28T17:56:44.269Z"
   },
   {
    "duration": 0,
    "start_time": "2023-12-28T17:56:44.269Z"
   },
   {
    "duration": 0,
    "start_time": "2023-12-28T17:56:44.270Z"
   },
   {
    "duration": 0,
    "start_time": "2023-12-28T17:56:44.271Z"
   },
   {
    "duration": 0,
    "start_time": "2023-12-28T17:56:44.272Z"
   },
   {
    "duration": 0,
    "start_time": "2023-12-28T17:56:44.273Z"
   },
   {
    "duration": 0,
    "start_time": "2023-12-28T17:56:44.274Z"
   },
   {
    "duration": 0,
    "start_time": "2023-12-28T17:56:44.275Z"
   },
   {
    "duration": 0,
    "start_time": "2023-12-28T17:56:44.276Z"
   },
   {
    "duration": 0,
    "start_time": "2023-12-28T17:56:44.277Z"
   },
   {
    "duration": 0,
    "start_time": "2023-12-28T17:56:44.278Z"
   },
   {
    "duration": 0,
    "start_time": "2023-12-28T17:56:44.279Z"
   },
   {
    "duration": 0,
    "start_time": "2023-12-28T17:56:44.280Z"
   },
   {
    "duration": 0,
    "start_time": "2023-12-28T17:56:44.282Z"
   },
   {
    "duration": 0,
    "start_time": "2023-12-28T17:56:44.283Z"
   },
   {
    "duration": 0,
    "start_time": "2023-12-28T17:56:44.284Z"
   },
   {
    "duration": 0,
    "start_time": "2023-12-28T17:56:44.285Z"
   },
   {
    "duration": 100,
    "start_time": "2023-12-28T18:02:51.498Z"
   },
   {
    "duration": 7,
    "start_time": "2023-12-28T18:02:59.774Z"
   },
   {
    "duration": 6,
    "start_time": "2023-12-28T18:04:06.279Z"
   },
   {
    "duration": 1490,
    "start_time": "2023-12-28T18:08:43.609Z"
   },
   {
    "duration": 181,
    "start_time": "2023-12-28T18:08:45.100Z"
   },
   {
    "duration": 15,
    "start_time": "2023-12-28T18:08:45.282Z"
   },
   {
    "duration": 29,
    "start_time": "2023-12-28T18:08:45.299Z"
   },
   {
    "duration": 13,
    "start_time": "2023-12-28T18:08:45.330Z"
   },
   {
    "duration": 105,
    "start_time": "2023-12-28T18:08:45.344Z"
   },
   {
    "duration": 15,
    "start_time": "2023-12-28T18:08:45.451Z"
   },
   {
    "duration": 11,
    "start_time": "2023-12-28T18:08:45.468Z"
   },
   {
    "duration": 12,
    "start_time": "2023-12-28T18:08:45.481Z"
   },
   {
    "duration": 149,
    "start_time": "2023-12-28T18:08:45.495Z"
   },
   {
    "duration": 122,
    "start_time": "2023-12-28T18:08:45.645Z"
   },
   {
    "duration": 14,
    "start_time": "2023-12-28T18:08:45.769Z"
   },
   {
    "duration": 14,
    "start_time": "2023-12-28T18:08:45.785Z"
   },
   {
    "duration": 18,
    "start_time": "2023-12-28T18:08:45.800Z"
   },
   {
    "duration": 140,
    "start_time": "2023-12-28T18:08:45.820Z"
   },
   {
    "duration": 205,
    "start_time": "2023-12-28T18:08:45.962Z"
   },
   {
    "duration": 120,
    "start_time": "2023-12-28T18:08:46.169Z"
   },
   {
    "duration": 7,
    "start_time": "2023-12-28T18:08:46.291Z"
   },
   {
    "duration": 142,
    "start_time": "2023-12-28T18:08:46.300Z"
   },
   {
    "duration": 3,
    "start_time": "2023-12-28T18:08:46.444Z"
   },
   {
    "duration": 8,
    "start_time": "2023-12-28T18:08:46.448Z"
   },
   {
    "duration": 31,
    "start_time": "2023-12-28T18:08:46.457Z"
   },
   {
    "duration": 4,
    "start_time": "2023-12-28T18:08:46.490Z"
   },
   {
    "duration": 48,
    "start_time": "2023-12-28T18:08:46.496Z"
   },
   {
    "duration": 6,
    "start_time": "2023-12-28T18:08:46.546Z"
   },
   {
    "duration": 10,
    "start_time": "2023-12-28T18:08:46.554Z"
   },
   {
    "duration": 17,
    "start_time": "2023-12-28T18:08:46.565Z"
   },
   {
    "duration": 5,
    "start_time": "2023-12-28T18:08:46.586Z"
   },
   {
    "duration": 6,
    "start_time": "2023-12-28T18:08:46.592Z"
   },
   {
    "duration": 43,
    "start_time": "2023-12-28T18:08:46.600Z"
   },
   {
    "duration": 4,
    "start_time": "2023-12-28T18:08:46.645Z"
   },
   {
    "duration": 619,
    "start_time": "2023-12-28T18:08:46.650Z"
   },
   {
    "duration": 388,
    "start_time": "2023-12-28T18:08:47.270Z"
   },
   {
    "duration": 16,
    "start_time": "2023-12-28T18:08:47.659Z"
   },
   {
    "duration": 5,
    "start_time": "2023-12-28T18:08:47.676Z"
   },
   {
    "duration": 8,
    "start_time": "2023-12-28T18:08:47.682Z"
   },
   {
    "duration": 72,
    "start_time": "2023-12-28T18:08:47.691Z"
   },
   {
    "duration": 18,
    "start_time": "2023-12-28T18:08:47.765Z"
   },
   {
    "duration": 16,
    "start_time": "2023-12-28T18:08:47.785Z"
   },
   {
    "duration": 119,
    "start_time": "2023-12-28T18:08:47.802Z"
   },
   {
    "duration": 4,
    "start_time": "2023-12-28T18:08:47.922Z"
   },
   {
    "duration": 15,
    "start_time": "2023-12-28T18:08:47.927Z"
   },
   {
    "duration": 13,
    "start_time": "2023-12-28T18:08:47.944Z"
   },
   {
    "duration": 34,
    "start_time": "2023-12-28T18:08:47.958Z"
   },
   {
    "duration": 19,
    "start_time": "2023-12-28T18:08:47.994Z"
   },
   {
    "duration": 43,
    "start_time": "2023-12-28T18:08:48.014Z"
   },
   {
    "duration": 4,
    "start_time": "2023-12-28T18:08:48.059Z"
   },
   {
    "duration": 6,
    "start_time": "2023-12-28T18:08:48.064Z"
   },
   {
    "duration": 8,
    "start_time": "2023-12-28T18:08:48.071Z"
   },
   {
    "duration": 5,
    "start_time": "2023-12-28T18:08:48.081Z"
   },
   {
    "duration": 7,
    "start_time": "2023-12-28T18:08:48.088Z"
   },
   {
    "duration": 6,
    "start_time": "2023-12-28T18:08:48.096Z"
   },
   {
    "duration": 4,
    "start_time": "2023-12-28T18:08:48.103Z"
   },
   {
    "duration": 66365,
    "start_time": "2023-12-28T18:08:48.109Z"
   },
   {
    "duration": 3,
    "start_time": "2023-12-28T18:09:54.476Z"
   },
   {
    "duration": 12,
    "start_time": "2023-12-28T18:09:54.482Z"
   },
   {
    "duration": 6,
    "start_time": "2023-12-28T18:09:54.496Z"
   },
   {
    "duration": 3,
    "start_time": "2023-12-28T18:09:54.504Z"
   },
   {
    "duration": 12,
    "start_time": "2023-12-28T18:09:54.509Z"
   },
   {
    "duration": 24,
    "start_time": "2023-12-28T18:09:54.523Z"
   },
   {
    "duration": 4,
    "start_time": "2023-12-28T18:09:54.548Z"
   },
   {
    "duration": 8,
    "start_time": "2023-12-28T18:09:54.554Z"
   },
   {
    "duration": 46,
    "start_time": "2023-12-28T18:09:54.564Z"
   },
   {
    "duration": 32,
    "start_time": "2023-12-28T18:09:54.611Z"
   },
   {
    "duration": 30,
    "start_time": "2023-12-28T18:09:54.644Z"
   },
   {
    "duration": 130,
    "start_time": "2023-12-28T18:09:54.676Z"
   },
   {
    "duration": 0,
    "start_time": "2023-12-28T18:09:54.807Z"
   },
   {
    "duration": 0,
    "start_time": "2023-12-28T18:09:54.808Z"
   },
   {
    "duration": 0,
    "start_time": "2023-12-28T18:09:54.809Z"
   },
   {
    "duration": 0,
    "start_time": "2023-12-28T18:09:54.811Z"
   },
   {
    "duration": 0,
    "start_time": "2023-12-28T18:09:54.812Z"
   },
   {
    "duration": 0,
    "start_time": "2023-12-28T18:09:54.813Z"
   },
   {
    "duration": 0,
    "start_time": "2023-12-28T18:09:54.814Z"
   },
   {
    "duration": 0,
    "start_time": "2023-12-28T18:09:54.815Z"
   },
   {
    "duration": 0,
    "start_time": "2023-12-28T18:09:54.816Z"
   },
   {
    "duration": 0,
    "start_time": "2023-12-28T18:09:54.817Z"
   },
   {
    "duration": 0,
    "start_time": "2023-12-28T18:09:54.818Z"
   },
   {
    "duration": 0,
    "start_time": "2023-12-28T18:09:54.842Z"
   },
   {
    "duration": 0,
    "start_time": "2023-12-28T18:09:54.844Z"
   },
   {
    "duration": 1421,
    "start_time": "2023-12-28T18:10:57.803Z"
   },
   {
    "duration": 215,
    "start_time": "2023-12-28T18:10:59.226Z"
   },
   {
    "duration": 16,
    "start_time": "2023-12-28T18:10:59.443Z"
   },
   {
    "duration": 21,
    "start_time": "2023-12-28T18:10:59.462Z"
   },
   {
    "duration": 38,
    "start_time": "2023-12-28T18:10:59.485Z"
   },
   {
    "duration": 128,
    "start_time": "2023-12-28T18:10:59.525Z"
   },
   {
    "duration": 15,
    "start_time": "2023-12-28T18:10:59.655Z"
   },
   {
    "duration": 37,
    "start_time": "2023-12-28T18:10:59.671Z"
   },
   {
    "duration": 21,
    "start_time": "2023-12-28T18:10:59.710Z"
   },
   {
    "duration": 159,
    "start_time": "2023-12-28T18:10:59.734Z"
   },
   {
    "duration": 121,
    "start_time": "2023-12-28T18:10:59.894Z"
   },
   {
    "duration": 10,
    "start_time": "2023-12-28T18:11:00.017Z"
   },
   {
    "duration": 87,
    "start_time": "2023-12-28T18:11:00.029Z"
   },
   {
    "duration": 42,
    "start_time": "2023-12-28T18:11:00.118Z"
   },
   {
    "duration": 174,
    "start_time": "2023-12-28T18:11:00.162Z"
   },
   {
    "duration": 337,
    "start_time": "2023-12-28T18:11:00.338Z"
   },
   {
    "duration": 130,
    "start_time": "2023-12-28T18:11:00.677Z"
   },
   {
    "duration": 7,
    "start_time": "2023-12-28T18:11:00.808Z"
   },
   {
    "duration": 161,
    "start_time": "2023-12-28T18:11:00.816Z"
   },
   {
    "duration": 2,
    "start_time": "2023-12-28T18:11:00.979Z"
   },
   {
    "duration": 53,
    "start_time": "2023-12-28T18:11:00.983Z"
   },
   {
    "duration": 48,
    "start_time": "2023-12-28T18:11:01.038Z"
   },
   {
    "duration": 27,
    "start_time": "2023-12-28T18:11:01.088Z"
   },
   {
    "duration": 45,
    "start_time": "2023-12-28T18:11:01.117Z"
   },
   {
    "duration": 34,
    "start_time": "2023-12-28T18:11:01.163Z"
   },
   {
    "duration": 40,
    "start_time": "2023-12-28T18:11:01.200Z"
   },
   {
    "duration": 40,
    "start_time": "2023-12-28T18:11:01.242Z"
   },
   {
    "duration": 5,
    "start_time": "2023-12-28T18:11:01.287Z"
   },
   {
    "duration": 44,
    "start_time": "2023-12-28T18:11:01.293Z"
   },
   {
    "duration": 27,
    "start_time": "2023-12-28T18:11:01.339Z"
   },
   {
    "duration": 57,
    "start_time": "2023-12-28T18:11:01.367Z"
   },
   {
    "duration": 711,
    "start_time": "2023-12-28T18:11:01.426Z"
   },
   {
    "duration": 379,
    "start_time": "2023-12-28T18:11:02.139Z"
   },
   {
    "duration": 15,
    "start_time": "2023-12-28T18:11:02.520Z"
   },
   {
    "duration": 14,
    "start_time": "2023-12-28T18:11:02.543Z"
   },
   {
    "duration": 6,
    "start_time": "2023-12-28T18:11:02.559Z"
   },
   {
    "duration": 83,
    "start_time": "2023-12-28T18:11:02.567Z"
   },
   {
    "duration": 19,
    "start_time": "2023-12-28T18:11:02.652Z"
   },
   {
    "duration": 40,
    "start_time": "2023-12-28T18:11:02.672Z"
   },
   {
    "duration": 115,
    "start_time": "2023-12-28T18:11:02.714Z"
   },
   {
    "duration": 8,
    "start_time": "2023-12-28T18:11:02.831Z"
   },
   {
    "duration": 8,
    "start_time": "2023-12-28T18:11:02.841Z"
   },
   {
    "duration": 16,
    "start_time": "2023-12-28T18:11:02.850Z"
   },
   {
    "duration": 5,
    "start_time": "2023-12-28T18:11:02.868Z"
   },
   {
    "duration": 28,
    "start_time": "2023-12-28T18:11:02.874Z"
   },
   {
    "duration": 47,
    "start_time": "2023-12-28T18:11:02.904Z"
   },
   {
    "duration": 5,
    "start_time": "2023-12-28T18:11:02.953Z"
   },
   {
    "duration": 9,
    "start_time": "2023-12-28T18:11:02.960Z"
   },
   {
    "duration": 1371,
    "start_time": "2023-12-28T18:11:02.971Z"
   },
   {
    "duration": 0,
    "start_time": "2023-12-28T18:11:04.345Z"
   },
   {
    "duration": 0,
    "start_time": "2023-12-28T18:11:04.346Z"
   },
   {
    "duration": 0,
    "start_time": "2023-12-28T18:11:04.347Z"
   },
   {
    "duration": 1,
    "start_time": "2023-12-28T18:11:04.348Z"
   },
   {
    "duration": 0,
    "start_time": "2023-12-28T18:11:04.350Z"
   },
   {
    "duration": 0,
    "start_time": "2023-12-28T18:11:04.351Z"
   },
   {
    "duration": 0,
    "start_time": "2023-12-28T18:11:04.353Z"
   },
   {
    "duration": 0,
    "start_time": "2023-12-28T18:11:04.354Z"
   },
   {
    "duration": 0,
    "start_time": "2023-12-28T18:11:04.355Z"
   },
   {
    "duration": 0,
    "start_time": "2023-12-28T18:11:04.357Z"
   },
   {
    "duration": 0,
    "start_time": "2023-12-28T18:11:04.358Z"
   },
   {
    "duration": 0,
    "start_time": "2023-12-28T18:11:04.359Z"
   },
   {
    "duration": 0,
    "start_time": "2023-12-28T18:11:04.361Z"
   },
   {
    "duration": 0,
    "start_time": "2023-12-28T18:11:04.363Z"
   },
   {
    "duration": 0,
    "start_time": "2023-12-28T18:11:04.364Z"
   },
   {
    "duration": 0,
    "start_time": "2023-12-28T18:11:04.366Z"
   },
   {
    "duration": 0,
    "start_time": "2023-12-28T18:11:04.367Z"
   },
   {
    "duration": 0,
    "start_time": "2023-12-28T18:11:04.368Z"
   },
   {
    "duration": 0,
    "start_time": "2023-12-28T18:11:04.370Z"
   },
   {
    "duration": 0,
    "start_time": "2023-12-28T18:11:04.371Z"
   },
   {
    "duration": 0,
    "start_time": "2023-12-28T18:11:04.372Z"
   },
   {
    "duration": 0,
    "start_time": "2023-12-28T18:11:04.374Z"
   },
   {
    "duration": 0,
    "start_time": "2023-12-28T18:11:04.375Z"
   },
   {
    "duration": 0,
    "start_time": "2023-12-28T18:11:04.376Z"
   },
   {
    "duration": 0,
    "start_time": "2023-12-28T18:11:04.377Z"
   },
   {
    "duration": 0,
    "start_time": "2023-12-28T18:11:04.379Z"
   },
   {
    "duration": 0,
    "start_time": "2023-12-28T18:11:04.380Z"
   },
   {
    "duration": 0,
    "start_time": "2023-12-28T18:11:04.382Z"
   },
   {
    "duration": 0,
    "start_time": "2023-12-28T18:11:04.383Z"
   },
   {
    "duration": 0,
    "start_time": "2023-12-28T18:11:04.443Z"
   },
   {
    "duration": 1399,
    "start_time": "2023-12-28T18:12:23.095Z"
   },
   {
    "duration": 182,
    "start_time": "2023-12-28T18:12:24.495Z"
   },
   {
    "duration": 15,
    "start_time": "2023-12-28T18:12:24.679Z"
   },
   {
    "duration": 14,
    "start_time": "2023-12-28T18:12:24.696Z"
   },
   {
    "duration": 23,
    "start_time": "2023-12-28T18:12:24.711Z"
   },
   {
    "duration": 116,
    "start_time": "2023-12-28T18:12:24.736Z"
   },
   {
    "duration": 16,
    "start_time": "2023-12-28T18:12:24.854Z"
   },
   {
    "duration": 12,
    "start_time": "2023-12-28T18:12:24.871Z"
   },
   {
    "duration": 12,
    "start_time": "2023-12-28T18:12:24.884Z"
   },
   {
    "duration": 147,
    "start_time": "2023-12-28T18:12:24.898Z"
   },
   {
    "duration": 148,
    "start_time": "2023-12-28T18:12:25.047Z"
   },
   {
    "duration": 10,
    "start_time": "2023-12-28T18:12:25.197Z"
   },
   {
    "duration": 22,
    "start_time": "2023-12-28T18:12:25.208Z"
   },
   {
    "duration": 21,
    "start_time": "2023-12-28T18:12:25.232Z"
   },
   {
    "duration": 142,
    "start_time": "2023-12-28T18:12:25.254Z"
   },
   {
    "duration": 191,
    "start_time": "2023-12-28T18:12:25.397Z"
   },
   {
    "duration": 131,
    "start_time": "2023-12-28T18:12:25.590Z"
   },
   {
    "duration": 9,
    "start_time": "2023-12-28T18:12:25.723Z"
   },
   {
    "duration": 161,
    "start_time": "2023-12-28T18:12:25.742Z"
   },
   {
    "duration": 2,
    "start_time": "2023-12-28T18:12:25.904Z"
   },
   {
    "duration": 11,
    "start_time": "2023-12-28T18:12:25.908Z"
   },
   {
    "duration": 30,
    "start_time": "2023-12-28T18:12:25.920Z"
   },
   {
    "duration": 3,
    "start_time": "2023-12-28T18:12:25.952Z"
   },
   {
    "duration": 18,
    "start_time": "2023-12-28T18:12:25.957Z"
   },
   {
    "duration": 7,
    "start_time": "2023-12-28T18:12:25.976Z"
   },
   {
    "duration": 9,
    "start_time": "2023-12-28T18:12:25.984Z"
   },
   {
    "duration": 15,
    "start_time": "2023-12-28T18:12:25.995Z"
   },
   {
    "duration": 5,
    "start_time": "2023-12-28T18:12:26.042Z"
   },
   {
    "duration": 7,
    "start_time": "2023-12-28T18:12:26.048Z"
   },
   {
    "duration": 8,
    "start_time": "2023-12-28T18:12:26.057Z"
   },
   {
    "duration": 9,
    "start_time": "2023-12-28T18:12:26.066Z"
   },
   {
    "duration": 635,
    "start_time": "2023-12-28T18:12:26.076Z"
   },
   {
    "duration": 404,
    "start_time": "2023-12-28T18:12:26.713Z"
   },
   {
    "duration": 25,
    "start_time": "2023-12-28T18:12:27.119Z"
   },
   {
    "duration": 7,
    "start_time": "2023-12-28T18:12:27.146Z"
   },
   {
    "duration": 16,
    "start_time": "2023-12-28T18:12:27.154Z"
   },
   {
    "duration": 49,
    "start_time": "2023-12-28T18:12:27.172Z"
   },
   {
    "duration": 21,
    "start_time": "2023-12-28T18:12:27.222Z"
   },
   {
    "duration": 19,
    "start_time": "2023-12-28T18:12:27.245Z"
   },
   {
    "duration": 115,
    "start_time": "2023-12-28T18:12:27.266Z"
   },
   {
    "duration": 19,
    "start_time": "2023-12-28T18:12:27.382Z"
   },
   {
    "duration": 23,
    "start_time": "2023-12-28T18:12:27.402Z"
   },
   {
    "duration": 26,
    "start_time": "2023-12-28T18:12:27.427Z"
   },
   {
    "duration": 121,
    "start_time": "2023-12-28T18:12:27.454Z"
   },
   {
    "duration": 0,
    "start_time": "2023-12-28T18:12:27.577Z"
   },
   {
    "duration": 0,
    "start_time": "2023-12-28T18:12:27.578Z"
   },
   {
    "duration": 0,
    "start_time": "2023-12-28T18:12:27.579Z"
   },
   {
    "duration": 0,
    "start_time": "2023-12-28T18:12:27.580Z"
   },
   {
    "duration": 0,
    "start_time": "2023-12-28T18:12:27.581Z"
   },
   {
    "duration": 0,
    "start_time": "2023-12-28T18:12:27.582Z"
   },
   {
    "duration": 0,
    "start_time": "2023-12-28T18:12:27.583Z"
   },
   {
    "duration": 0,
    "start_time": "2023-12-28T18:12:27.585Z"
   },
   {
    "duration": 0,
    "start_time": "2023-12-28T18:12:27.586Z"
   },
   {
    "duration": 0,
    "start_time": "2023-12-28T18:12:27.587Z"
   },
   {
    "duration": 0,
    "start_time": "2023-12-28T18:12:27.588Z"
   },
   {
    "duration": 0,
    "start_time": "2023-12-28T18:12:27.589Z"
   },
   {
    "duration": 0,
    "start_time": "2023-12-28T18:12:27.590Z"
   },
   {
    "duration": 0,
    "start_time": "2023-12-28T18:12:27.591Z"
   },
   {
    "duration": 0,
    "start_time": "2023-12-28T18:12:27.592Z"
   },
   {
    "duration": 0,
    "start_time": "2023-12-28T18:12:27.593Z"
   },
   {
    "duration": 0,
    "start_time": "2023-12-28T18:12:27.594Z"
   },
   {
    "duration": 0,
    "start_time": "2023-12-28T18:12:27.595Z"
   },
   {
    "duration": 0,
    "start_time": "2023-12-28T18:12:27.605Z"
   },
   {
    "duration": 0,
    "start_time": "2023-12-28T18:12:27.606Z"
   },
   {
    "duration": 0,
    "start_time": "2023-12-28T18:12:27.607Z"
   },
   {
    "duration": 0,
    "start_time": "2023-12-28T18:12:27.608Z"
   },
   {
    "duration": 0,
    "start_time": "2023-12-28T18:12:27.609Z"
   },
   {
    "duration": 0,
    "start_time": "2023-12-28T18:12:27.610Z"
   },
   {
    "duration": 0,
    "start_time": "2023-12-28T18:12:27.610Z"
   },
   {
    "duration": 0,
    "start_time": "2023-12-28T18:12:27.611Z"
   },
   {
    "duration": 0,
    "start_time": "2023-12-28T18:12:27.612Z"
   },
   {
    "duration": 0,
    "start_time": "2023-12-28T18:12:27.612Z"
   },
   {
    "duration": 0,
    "start_time": "2023-12-28T18:12:27.642Z"
   },
   {
    "duration": 0,
    "start_time": "2023-12-28T18:12:27.644Z"
   },
   {
    "duration": 0,
    "start_time": "2023-12-28T18:12:27.645Z"
   },
   {
    "duration": 0,
    "start_time": "2023-12-28T18:12:27.646Z"
   },
   {
    "duration": 0,
    "start_time": "2023-12-28T18:12:27.647Z"
   },
   {
    "duration": 0,
    "start_time": "2023-12-28T18:12:27.649Z"
   },
   {
    "duration": 0,
    "start_time": "2023-12-28T18:12:27.650Z"
   },
   {
    "duration": 0,
    "start_time": "2023-12-28T18:12:27.651Z"
   },
   {
    "duration": 5,
    "start_time": "2023-12-28T18:12:39.083Z"
   },
   {
    "duration": 9,
    "start_time": "2023-12-28T18:12:40.812Z"
   },
   {
    "duration": 8,
    "start_time": "2023-12-28T18:12:48.092Z"
   },
   {
    "duration": 9,
    "start_time": "2023-12-28T18:12:59.824Z"
   },
   {
    "duration": 1451,
    "start_time": "2023-12-28T18:13:25.553Z"
   },
   {
    "duration": 202,
    "start_time": "2023-12-28T18:13:27.006Z"
   },
   {
    "duration": 15,
    "start_time": "2023-12-28T18:13:27.210Z"
   },
   {
    "duration": 14,
    "start_time": "2023-12-28T18:13:27.227Z"
   },
   {
    "duration": 27,
    "start_time": "2023-12-28T18:13:27.242Z"
   },
   {
    "duration": 105,
    "start_time": "2023-12-28T18:13:27.270Z"
   },
   {
    "duration": 15,
    "start_time": "2023-12-28T18:13:27.376Z"
   },
   {
    "duration": 11,
    "start_time": "2023-12-28T18:13:27.392Z"
   },
   {
    "duration": 10,
    "start_time": "2023-12-28T18:13:27.404Z"
   },
   {
    "duration": 137,
    "start_time": "2023-12-28T18:13:27.417Z"
   },
   {
    "duration": 122,
    "start_time": "2023-12-28T18:13:27.555Z"
   },
   {
    "duration": 9,
    "start_time": "2023-12-28T18:13:27.679Z"
   },
   {
    "duration": 12,
    "start_time": "2023-12-28T18:13:27.690Z"
   },
   {
    "duration": 23,
    "start_time": "2023-12-28T18:13:27.704Z"
   },
   {
    "duration": 159,
    "start_time": "2023-12-28T18:13:27.728Z"
   },
   {
    "duration": 209,
    "start_time": "2023-12-28T18:13:27.889Z"
   },
   {
    "duration": 122,
    "start_time": "2023-12-28T18:13:28.100Z"
   },
   {
    "duration": 7,
    "start_time": "2023-12-28T18:13:28.224Z"
   },
   {
    "duration": 131,
    "start_time": "2023-12-28T18:13:28.232Z"
   },
   {
    "duration": 3,
    "start_time": "2023-12-28T18:13:28.364Z"
   },
   {
    "duration": 15,
    "start_time": "2023-12-28T18:13:28.368Z"
   },
   {
    "duration": 28,
    "start_time": "2023-12-28T18:13:28.384Z"
   },
   {
    "duration": 4,
    "start_time": "2023-12-28T18:13:28.414Z"
   },
   {
    "duration": 35,
    "start_time": "2023-12-28T18:13:28.419Z"
   },
   {
    "duration": 12,
    "start_time": "2023-12-28T18:13:28.456Z"
   },
   {
    "duration": 12,
    "start_time": "2023-12-28T18:13:28.470Z"
   },
   {
    "duration": 16,
    "start_time": "2023-12-28T18:13:28.484Z"
   },
   {
    "duration": 5,
    "start_time": "2023-12-28T18:13:28.504Z"
   },
   {
    "duration": 35,
    "start_time": "2023-12-28T18:13:28.510Z"
   },
   {
    "duration": 4,
    "start_time": "2023-12-28T18:13:28.547Z"
   },
   {
    "duration": 15,
    "start_time": "2023-12-28T18:13:28.553Z"
   },
   {
    "duration": 680,
    "start_time": "2023-12-28T18:13:28.570Z"
   },
   {
    "duration": 393,
    "start_time": "2023-12-28T18:13:29.252Z"
   },
   {
    "duration": 15,
    "start_time": "2023-12-28T18:13:29.646Z"
   },
   {
    "duration": 4,
    "start_time": "2023-12-28T18:13:29.662Z"
   },
   {
    "duration": 4,
    "start_time": "2023-12-28T18:13:29.667Z"
   },
   {
    "duration": 70,
    "start_time": "2023-12-28T18:13:29.672Z"
   },
   {
    "duration": 23,
    "start_time": "2023-12-28T18:13:29.744Z"
   },
   {
    "duration": 22,
    "start_time": "2023-12-28T18:13:29.769Z"
   },
   {
    "duration": 120,
    "start_time": "2023-12-28T18:13:29.792Z"
   },
   {
    "duration": 4,
    "start_time": "2023-12-28T18:13:29.915Z"
   },
   {
    "duration": 21,
    "start_time": "2023-12-28T18:13:29.921Z"
   },
   {
    "duration": 14,
    "start_time": "2023-12-28T18:13:29.944Z"
   },
   {
    "duration": 4,
    "start_time": "2023-12-28T18:13:29.960Z"
   },
   {
    "duration": 138,
    "start_time": "2023-12-28T18:13:29.966Z"
   },
   {
    "duration": 0,
    "start_time": "2023-12-28T18:13:30.106Z"
   },
   {
    "duration": 0,
    "start_time": "2023-12-28T18:13:30.107Z"
   },
   {
    "duration": 0,
    "start_time": "2023-12-28T18:13:30.108Z"
   },
   {
    "duration": 0,
    "start_time": "2023-12-28T18:13:30.109Z"
   },
   {
    "duration": 0,
    "start_time": "2023-12-28T18:13:30.110Z"
   },
   {
    "duration": 0,
    "start_time": "2023-12-28T18:13:30.111Z"
   },
   {
    "duration": 0,
    "start_time": "2023-12-28T18:13:30.112Z"
   },
   {
    "duration": 0,
    "start_time": "2023-12-28T18:13:30.113Z"
   },
   {
    "duration": 0,
    "start_time": "2023-12-28T18:13:30.114Z"
   },
   {
    "duration": 0,
    "start_time": "2023-12-28T18:13:30.115Z"
   },
   {
    "duration": 0,
    "start_time": "2023-12-28T18:13:30.116Z"
   },
   {
    "duration": 0,
    "start_time": "2023-12-28T18:13:30.117Z"
   },
   {
    "duration": 0,
    "start_time": "2023-12-28T18:13:30.142Z"
   },
   {
    "duration": 0,
    "start_time": "2023-12-28T18:13:30.143Z"
   },
   {
    "duration": 0,
    "start_time": "2023-12-28T18:13:30.145Z"
   },
   {
    "duration": 0,
    "start_time": "2023-12-28T18:13:30.146Z"
   },
   {
    "duration": 0,
    "start_time": "2023-12-28T18:13:30.147Z"
   },
   {
    "duration": 0,
    "start_time": "2023-12-28T18:13:30.148Z"
   },
   {
    "duration": 0,
    "start_time": "2023-12-28T18:13:30.149Z"
   },
   {
    "duration": 0,
    "start_time": "2023-12-28T18:13:30.150Z"
   },
   {
    "duration": 0,
    "start_time": "2023-12-28T18:13:30.151Z"
   },
   {
    "duration": 0,
    "start_time": "2023-12-28T18:13:30.152Z"
   },
   {
    "duration": 0,
    "start_time": "2023-12-28T18:13:30.153Z"
   },
   {
    "duration": 0,
    "start_time": "2023-12-28T18:13:30.154Z"
   },
   {
    "duration": 0,
    "start_time": "2023-12-28T18:13:30.155Z"
   },
   {
    "duration": 0,
    "start_time": "2023-12-28T18:13:30.156Z"
   },
   {
    "duration": 0,
    "start_time": "2023-12-28T18:13:30.157Z"
   },
   {
    "duration": 0,
    "start_time": "2023-12-28T18:13:30.158Z"
   },
   {
    "duration": 0,
    "start_time": "2023-12-28T18:13:30.159Z"
   },
   {
    "duration": 0,
    "start_time": "2023-12-28T18:13:30.160Z"
   },
   {
    "duration": 0,
    "start_time": "2023-12-28T18:13:30.161Z"
   },
   {
    "duration": 0,
    "start_time": "2023-12-28T18:13:30.162Z"
   },
   {
    "duration": 0,
    "start_time": "2023-12-28T18:13:30.163Z"
   },
   {
    "duration": 0,
    "start_time": "2023-12-28T18:13:30.164Z"
   },
   {
    "duration": 0,
    "start_time": "2023-12-28T18:13:30.165Z"
   },
   {
    "duration": 1555,
    "start_time": "2023-12-28T18:15:02.498Z"
   },
   {
    "duration": 444,
    "start_time": "2023-12-28T18:15:04.055Z"
   },
   {
    "duration": 15,
    "start_time": "2023-12-28T18:15:04.500Z"
   },
   {
    "duration": 28,
    "start_time": "2023-12-28T18:15:04.516Z"
   },
   {
    "duration": 15,
    "start_time": "2023-12-28T18:15:04.546Z"
   },
   {
    "duration": 122,
    "start_time": "2023-12-28T18:15:04.562Z"
   },
   {
    "duration": 15,
    "start_time": "2023-12-28T18:15:04.685Z"
   },
   {
    "duration": 17,
    "start_time": "2023-12-28T18:15:04.703Z"
   },
   {
    "duration": 24,
    "start_time": "2023-12-28T18:15:04.723Z"
   },
   {
    "duration": 134,
    "start_time": "2023-12-28T18:15:04.749Z"
   },
   {
    "duration": 130,
    "start_time": "2023-12-28T18:15:04.885Z"
   },
   {
    "duration": 10,
    "start_time": "2023-12-28T18:15:05.017Z"
   },
   {
    "duration": 34,
    "start_time": "2023-12-28T18:15:05.028Z"
   },
   {
    "duration": 36,
    "start_time": "2023-12-28T18:15:05.066Z"
   },
   {
    "duration": 128,
    "start_time": "2023-12-28T18:15:05.104Z"
   },
   {
    "duration": 187,
    "start_time": "2023-12-28T18:15:05.234Z"
   },
   {
    "duration": 127,
    "start_time": "2023-12-28T18:15:05.423Z"
   },
   {
    "duration": 7,
    "start_time": "2023-12-28T18:15:05.552Z"
   },
   {
    "duration": 150,
    "start_time": "2023-12-28T18:15:05.560Z"
   },
   {
    "duration": 3,
    "start_time": "2023-12-28T18:15:05.711Z"
   },
   {
    "duration": 11,
    "start_time": "2023-12-28T18:15:05.716Z"
   },
   {
    "duration": 28,
    "start_time": "2023-12-28T18:15:05.728Z"
   },
   {
    "duration": 6,
    "start_time": "2023-12-28T18:15:05.758Z"
   },
   {
    "duration": 30,
    "start_time": "2023-12-28T18:15:05.765Z"
   },
   {
    "duration": 7,
    "start_time": "2023-12-28T18:15:05.797Z"
   },
   {
    "duration": 9,
    "start_time": "2023-12-28T18:15:05.805Z"
   },
   {
    "duration": 37,
    "start_time": "2023-12-28T18:15:05.816Z"
   },
   {
    "duration": 8,
    "start_time": "2023-12-28T18:15:05.854Z"
   },
   {
    "duration": 6,
    "start_time": "2023-12-28T18:15:05.863Z"
   },
   {
    "duration": 5,
    "start_time": "2023-12-28T18:15:05.870Z"
   },
   {
    "duration": 26,
    "start_time": "2023-12-28T18:15:05.876Z"
   },
   {
    "duration": 618,
    "start_time": "2023-12-28T18:15:05.904Z"
   },
   {
    "duration": 373,
    "start_time": "2023-12-28T18:15:06.523Z"
   },
   {
    "duration": 14,
    "start_time": "2023-12-28T18:15:06.897Z"
   },
   {
    "duration": 4,
    "start_time": "2023-12-28T18:15:06.913Z"
   },
   {
    "duration": 36,
    "start_time": "2023-12-28T18:15:06.919Z"
   },
   {
    "duration": 57,
    "start_time": "2023-12-28T18:15:06.956Z"
   },
   {
    "duration": 18,
    "start_time": "2023-12-28T18:15:07.015Z"
   },
   {
    "duration": 20,
    "start_time": "2023-12-28T18:15:07.035Z"
   },
   {
    "duration": 110,
    "start_time": "2023-12-28T18:15:07.057Z"
   },
   {
    "duration": 11,
    "start_time": "2023-12-28T18:15:07.171Z"
   },
   {
    "duration": 5,
    "start_time": "2023-12-28T18:15:07.183Z"
   },
   {
    "duration": 15,
    "start_time": "2023-12-28T18:15:07.189Z"
   },
   {
    "duration": 4,
    "start_time": "2023-12-28T18:15:07.206Z"
   },
   {
    "duration": 45,
    "start_time": "2023-12-28T18:15:07.211Z"
   },
   {
    "duration": 18,
    "start_time": "2023-12-28T18:15:07.258Z"
   },
   {
    "duration": 16,
    "start_time": "2023-12-28T18:15:07.277Z"
   },
   {
    "duration": 3,
    "start_time": "2023-12-28T18:15:07.295Z"
   },
   {
    "duration": 10,
    "start_time": "2023-12-28T18:15:07.300Z"
   },
   {
    "duration": 1487,
    "start_time": "2023-12-28T18:15:07.311Z"
   },
   {
    "duration": 0,
    "start_time": "2023-12-28T18:15:08.799Z"
   },
   {
    "duration": 0,
    "start_time": "2023-12-28T18:15:08.801Z"
   },
   {
    "duration": 0,
    "start_time": "2023-12-28T18:15:08.802Z"
   },
   {
    "duration": 0,
    "start_time": "2023-12-28T18:15:08.803Z"
   },
   {
    "duration": 0,
    "start_time": "2023-12-28T18:15:08.804Z"
   },
   {
    "duration": 0,
    "start_time": "2023-12-28T18:15:08.805Z"
   },
   {
    "duration": 0,
    "start_time": "2023-12-28T18:15:08.806Z"
   },
   {
    "duration": 0,
    "start_time": "2023-12-28T18:15:08.807Z"
   },
   {
    "duration": 0,
    "start_time": "2023-12-28T18:15:08.808Z"
   },
   {
    "duration": 0,
    "start_time": "2023-12-28T18:15:08.810Z"
   },
   {
    "duration": 0,
    "start_time": "2023-12-28T18:15:08.811Z"
   },
   {
    "duration": 0,
    "start_time": "2023-12-28T18:15:08.812Z"
   },
   {
    "duration": 0,
    "start_time": "2023-12-28T18:15:08.814Z"
   },
   {
    "duration": 0,
    "start_time": "2023-12-28T18:15:08.815Z"
   },
   {
    "duration": 0,
    "start_time": "2023-12-28T18:15:08.816Z"
   },
   {
    "duration": 0,
    "start_time": "2023-12-28T18:15:08.817Z"
   },
   {
    "duration": 0,
    "start_time": "2023-12-28T18:15:08.818Z"
   },
   {
    "duration": 0,
    "start_time": "2023-12-28T18:15:08.820Z"
   },
   {
    "duration": 0,
    "start_time": "2023-12-28T18:15:08.821Z"
   },
   {
    "duration": 0,
    "start_time": "2023-12-28T18:15:08.822Z"
   },
   {
    "duration": 0,
    "start_time": "2023-12-28T18:15:08.823Z"
   },
   {
    "duration": 0,
    "start_time": "2023-12-28T18:15:08.824Z"
   },
   {
    "duration": 0,
    "start_time": "2023-12-28T18:15:08.825Z"
   },
   {
    "duration": 0,
    "start_time": "2023-12-28T18:15:08.827Z"
   },
   {
    "duration": 1,
    "start_time": "2023-12-28T18:15:08.828Z"
   },
   {
    "duration": 0,
    "start_time": "2023-12-28T18:15:08.830Z"
   },
   {
    "duration": 0,
    "start_time": "2023-12-28T18:15:08.831Z"
   },
   {
    "duration": 0,
    "start_time": "2023-12-28T18:15:08.833Z"
   },
   {
    "duration": 0,
    "start_time": "2023-12-28T18:15:08.834Z"
   },
   {
    "duration": 0,
    "start_time": "2023-12-28T18:15:08.836Z"
   },
   {
    "duration": 1338,
    "start_time": "2023-12-28T18:16:26.093Z"
   },
   {
    "duration": 342,
    "start_time": "2023-12-28T18:16:27.433Z"
   },
   {
    "duration": 16,
    "start_time": "2023-12-28T18:16:27.777Z"
   },
   {
    "duration": 14,
    "start_time": "2023-12-28T18:16:27.795Z"
   },
   {
    "duration": 13,
    "start_time": "2023-12-28T18:16:27.811Z"
   },
   {
    "duration": 111,
    "start_time": "2023-12-28T18:16:27.826Z"
   },
   {
    "duration": 18,
    "start_time": "2023-12-28T18:16:27.938Z"
   },
   {
    "duration": 13,
    "start_time": "2023-12-28T18:16:27.957Z"
   },
   {
    "duration": 9,
    "start_time": "2023-12-28T18:16:27.972Z"
   },
   {
    "duration": 146,
    "start_time": "2023-12-28T18:16:27.984Z"
   },
   {
    "duration": 154,
    "start_time": "2023-12-28T18:16:28.132Z"
   },
   {
    "duration": 14,
    "start_time": "2023-12-28T18:16:28.288Z"
   },
   {
    "duration": 12,
    "start_time": "2023-12-28T18:16:28.304Z"
   },
   {
    "duration": 34,
    "start_time": "2023-12-28T18:16:28.318Z"
   },
   {
    "duration": 129,
    "start_time": "2023-12-28T18:16:28.354Z"
   },
   {
    "duration": 202,
    "start_time": "2023-12-28T18:16:28.485Z"
   },
   {
    "duration": 125,
    "start_time": "2023-12-28T18:16:28.688Z"
   },
   {
    "duration": 7,
    "start_time": "2023-12-28T18:16:28.814Z"
   },
   {
    "duration": 132,
    "start_time": "2023-12-28T18:16:28.822Z"
   },
   {
    "duration": 2,
    "start_time": "2023-12-28T18:16:28.956Z"
   },
   {
    "duration": 6,
    "start_time": "2023-12-28T18:16:28.959Z"
   },
   {
    "duration": 26,
    "start_time": "2023-12-28T18:16:28.966Z"
   },
   {
    "duration": 4,
    "start_time": "2023-12-28T18:16:28.994Z"
   },
   {
    "duration": 51,
    "start_time": "2023-12-28T18:16:29.000Z"
   },
   {
    "duration": 12,
    "start_time": "2023-12-28T18:16:29.052Z"
   },
   {
    "duration": 12,
    "start_time": "2023-12-28T18:16:29.066Z"
   },
   {
    "duration": 15,
    "start_time": "2023-12-28T18:16:29.080Z"
   },
   {
    "duration": 5,
    "start_time": "2023-12-28T18:16:29.100Z"
   },
   {
    "duration": 6,
    "start_time": "2023-12-28T18:16:29.107Z"
   },
   {
    "duration": 29,
    "start_time": "2023-12-28T18:16:29.114Z"
   },
   {
    "duration": 4,
    "start_time": "2023-12-28T18:16:29.145Z"
   },
   {
    "duration": 703,
    "start_time": "2023-12-28T18:16:29.150Z"
   },
   {
    "duration": 377,
    "start_time": "2023-12-28T18:16:29.854Z"
   },
   {
    "duration": 19,
    "start_time": "2023-12-28T18:16:30.232Z"
   },
   {
    "duration": 23,
    "start_time": "2023-12-28T18:16:30.253Z"
   },
   {
    "duration": 36,
    "start_time": "2023-12-28T18:16:30.277Z"
   },
   {
    "duration": 53,
    "start_time": "2023-12-28T18:16:30.315Z"
   },
   {
    "duration": 20,
    "start_time": "2023-12-28T18:16:30.370Z"
   },
   {
    "duration": 51,
    "start_time": "2023-12-28T18:16:30.391Z"
   },
   {
    "duration": 126,
    "start_time": "2023-12-28T18:16:30.444Z"
   },
   {
    "duration": 5,
    "start_time": "2023-12-28T18:16:30.571Z"
   },
   {
    "duration": 24,
    "start_time": "2023-12-28T18:16:30.578Z"
   },
   {
    "duration": 34,
    "start_time": "2023-12-28T18:16:30.603Z"
   },
   {
    "duration": 12,
    "start_time": "2023-12-28T18:16:30.639Z"
   },
   {
    "duration": 55,
    "start_time": "2023-12-28T18:16:30.653Z"
   },
   {
    "duration": 20,
    "start_time": "2023-12-28T18:16:30.710Z"
   },
   {
    "duration": 140,
    "start_time": "2023-12-28T18:16:30.732Z"
   },
   {
    "duration": 0,
    "start_time": "2023-12-28T18:16:30.874Z"
   },
   {
    "duration": 0,
    "start_time": "2023-12-28T18:16:30.876Z"
   },
   {
    "duration": 0,
    "start_time": "2023-12-28T18:16:30.877Z"
   },
   {
    "duration": 0,
    "start_time": "2023-12-28T18:16:30.879Z"
   },
   {
    "duration": 0,
    "start_time": "2023-12-28T18:16:30.880Z"
   },
   {
    "duration": 0,
    "start_time": "2023-12-28T18:16:30.882Z"
   },
   {
    "duration": 0,
    "start_time": "2023-12-28T18:16:30.883Z"
   },
   {
    "duration": 0,
    "start_time": "2023-12-28T18:16:30.885Z"
   },
   {
    "duration": 0,
    "start_time": "2023-12-28T18:16:30.886Z"
   },
   {
    "duration": 0,
    "start_time": "2023-12-28T18:16:30.888Z"
   },
   {
    "duration": 0,
    "start_time": "2023-12-28T18:16:30.889Z"
   },
   {
    "duration": 0,
    "start_time": "2023-12-28T18:16:30.891Z"
   },
   {
    "duration": 0,
    "start_time": "2023-12-28T18:16:30.893Z"
   },
   {
    "duration": 0,
    "start_time": "2023-12-28T18:16:30.895Z"
   },
   {
    "duration": 0,
    "start_time": "2023-12-28T18:16:30.896Z"
   },
   {
    "duration": 0,
    "start_time": "2023-12-28T18:16:30.898Z"
   },
   {
    "duration": 0,
    "start_time": "2023-12-28T18:16:30.899Z"
   },
   {
    "duration": 0,
    "start_time": "2023-12-28T18:16:30.943Z"
   },
   {
    "duration": 0,
    "start_time": "2023-12-28T18:16:30.946Z"
   },
   {
    "duration": 0,
    "start_time": "2023-12-28T18:16:30.947Z"
   },
   {
    "duration": 0,
    "start_time": "2023-12-28T18:16:30.948Z"
   },
   {
    "duration": 0,
    "start_time": "2023-12-28T18:16:30.950Z"
   },
   {
    "duration": 0,
    "start_time": "2023-12-28T18:16:30.952Z"
   },
   {
    "duration": 0,
    "start_time": "2023-12-28T18:16:30.954Z"
   },
   {
    "duration": 0,
    "start_time": "2023-12-28T18:16:30.955Z"
   },
   {
    "duration": 0,
    "start_time": "2023-12-28T18:16:30.956Z"
   },
   {
    "duration": 0,
    "start_time": "2023-12-28T18:16:30.958Z"
   },
   {
    "duration": 0,
    "start_time": "2023-12-28T18:16:30.959Z"
   },
   {
    "duration": 0,
    "start_time": "2023-12-28T18:16:30.961Z"
   },
   {
    "duration": 0,
    "start_time": "2023-12-28T18:16:30.963Z"
   },
   {
    "duration": 0,
    "start_time": "2023-12-28T18:16:30.964Z"
   },
   {
    "duration": 0,
    "start_time": "2023-12-28T18:16:30.965Z"
   },
   {
    "duration": 0,
    "start_time": "2023-12-28T18:16:30.967Z"
   },
   {
    "duration": 10,
    "start_time": "2023-12-28T18:18:31.052Z"
   },
   {
    "duration": 1506,
    "start_time": "2023-12-28T18:18:37.327Z"
   },
   {
    "duration": 204,
    "start_time": "2023-12-28T18:18:38.835Z"
   },
   {
    "duration": 15,
    "start_time": "2023-12-28T18:18:39.041Z"
   },
   {
    "duration": 31,
    "start_time": "2023-12-28T18:18:39.058Z"
   },
   {
    "duration": 31,
    "start_time": "2023-12-28T18:18:39.091Z"
   },
   {
    "duration": 118,
    "start_time": "2023-12-28T18:18:39.124Z"
   },
   {
    "duration": 15,
    "start_time": "2023-12-28T18:18:39.244Z"
   },
   {
    "duration": 22,
    "start_time": "2023-12-28T18:18:39.261Z"
   },
   {
    "duration": 23,
    "start_time": "2023-12-28T18:18:39.285Z"
   },
   {
    "duration": 129,
    "start_time": "2023-12-28T18:18:39.311Z"
   },
   {
    "duration": 132,
    "start_time": "2023-12-28T18:18:39.441Z"
   },
   {
    "duration": 11,
    "start_time": "2023-12-28T18:18:39.575Z"
   },
   {
    "duration": 28,
    "start_time": "2023-12-28T18:18:39.587Z"
   },
   {
    "duration": 35,
    "start_time": "2023-12-28T18:18:39.617Z"
   },
   {
    "duration": 152,
    "start_time": "2023-12-28T18:18:39.654Z"
   },
   {
    "duration": 198,
    "start_time": "2023-12-28T18:18:39.807Z"
   },
   {
    "duration": 117,
    "start_time": "2023-12-28T18:18:40.007Z"
   },
   {
    "duration": 7,
    "start_time": "2023-12-28T18:18:40.126Z"
   },
   {
    "duration": 126,
    "start_time": "2023-12-28T18:18:40.142Z"
   },
   {
    "duration": 3,
    "start_time": "2023-12-28T18:18:40.270Z"
   },
   {
    "duration": 23,
    "start_time": "2023-12-28T18:18:40.274Z"
   },
   {
    "duration": 57,
    "start_time": "2023-12-28T18:18:40.298Z"
   },
   {
    "duration": 15,
    "start_time": "2023-12-28T18:18:40.356Z"
   },
   {
    "duration": 53,
    "start_time": "2023-12-28T18:18:40.372Z"
   },
   {
    "duration": 58,
    "start_time": "2023-12-28T18:18:40.426Z"
   },
   {
    "duration": 41,
    "start_time": "2023-12-28T18:18:40.485Z"
   },
   {
    "duration": 43,
    "start_time": "2023-12-28T18:18:40.528Z"
   },
   {
    "duration": 20,
    "start_time": "2023-12-28T18:18:40.575Z"
   },
   {
    "duration": 27,
    "start_time": "2023-12-28T18:18:40.596Z"
   },
   {
    "duration": 51,
    "start_time": "2023-12-28T18:18:40.625Z"
   },
   {
    "duration": 13,
    "start_time": "2023-12-28T18:18:40.678Z"
   },
   {
    "duration": 719,
    "start_time": "2023-12-28T18:18:40.693Z"
   },
   {
    "duration": 380,
    "start_time": "2023-12-28T18:18:41.414Z"
   },
   {
    "duration": 24,
    "start_time": "2023-12-28T18:18:41.796Z"
   },
   {
    "duration": 19,
    "start_time": "2023-12-28T18:18:41.823Z"
   },
   {
    "duration": 6,
    "start_time": "2023-12-28T18:18:41.845Z"
   },
   {
    "duration": 71,
    "start_time": "2023-12-28T18:18:41.853Z"
   },
   {
    "duration": 19,
    "start_time": "2023-12-28T18:18:41.926Z"
   },
   {
    "duration": 41,
    "start_time": "2023-12-28T18:18:41.946Z"
   },
   {
    "duration": 46,
    "start_time": "2023-12-28T18:18:41.988Z"
   },
   {
    "duration": 27,
    "start_time": "2023-12-28T18:18:42.036Z"
   },
   {
    "duration": 121,
    "start_time": "2023-12-28T18:18:42.065Z"
   },
   {
    "duration": 37,
    "start_time": "2023-12-28T18:18:42.187Z"
   },
   {
    "duration": 16,
    "start_time": "2023-12-28T18:18:42.226Z"
   },
   {
    "duration": 64,
    "start_time": "2023-12-28T18:18:42.244Z"
   },
   {
    "duration": 22,
    "start_time": "2023-12-28T18:18:42.310Z"
   },
   {
    "duration": 16,
    "start_time": "2023-12-28T18:18:42.334Z"
   },
   {
    "duration": 17,
    "start_time": "2023-12-28T18:18:42.351Z"
   },
   {
    "duration": 11,
    "start_time": "2023-12-28T18:18:42.370Z"
   },
   {
    "duration": 1237,
    "start_time": "2023-12-28T18:18:42.382Z"
   },
   {
    "duration": 0,
    "start_time": "2023-12-28T18:18:43.621Z"
   },
   {
    "duration": 0,
    "start_time": "2023-12-28T18:18:43.622Z"
   },
   {
    "duration": 0,
    "start_time": "2023-12-28T18:18:43.624Z"
   },
   {
    "duration": 0,
    "start_time": "2023-12-28T18:18:43.625Z"
   },
   {
    "duration": 0,
    "start_time": "2023-12-28T18:18:43.626Z"
   },
   {
    "duration": 0,
    "start_time": "2023-12-28T18:18:43.627Z"
   },
   {
    "duration": 0,
    "start_time": "2023-12-28T18:18:43.627Z"
   },
   {
    "duration": 0,
    "start_time": "2023-12-28T18:18:43.628Z"
   },
   {
    "duration": 0,
    "start_time": "2023-12-28T18:18:43.629Z"
   },
   {
    "duration": 0,
    "start_time": "2023-12-28T18:18:43.631Z"
   },
   {
    "duration": 0,
    "start_time": "2023-12-28T18:18:43.632Z"
   },
   {
    "duration": 0,
    "start_time": "2023-12-28T18:18:43.633Z"
   },
   {
    "duration": 0,
    "start_time": "2023-12-28T18:18:43.634Z"
   },
   {
    "duration": 0,
    "start_time": "2023-12-28T18:18:43.635Z"
   },
   {
    "duration": 0,
    "start_time": "2023-12-28T18:18:43.636Z"
   },
   {
    "duration": 0,
    "start_time": "2023-12-28T18:18:43.637Z"
   },
   {
    "duration": 0,
    "start_time": "2023-12-28T18:18:43.638Z"
   },
   {
    "duration": 0,
    "start_time": "2023-12-28T18:18:43.639Z"
   },
   {
    "duration": 0,
    "start_time": "2023-12-28T18:18:43.641Z"
   },
   {
    "duration": 0,
    "start_time": "2023-12-28T18:18:43.642Z"
   },
   {
    "duration": 0,
    "start_time": "2023-12-28T18:18:43.643Z"
   },
   {
    "duration": 0,
    "start_time": "2023-12-28T18:18:43.644Z"
   },
   {
    "duration": 0,
    "start_time": "2023-12-28T18:18:43.645Z"
   },
   {
    "duration": 1,
    "start_time": "2023-12-28T18:18:43.646Z"
   },
   {
    "duration": 0,
    "start_time": "2023-12-28T18:18:43.647Z"
   },
   {
    "duration": 0,
    "start_time": "2023-12-28T18:18:43.648Z"
   },
   {
    "duration": 0,
    "start_time": "2023-12-28T18:18:43.649Z"
   },
   {
    "duration": 0,
    "start_time": "2023-12-28T18:18:43.651Z"
   },
   {
    "duration": 0,
    "start_time": "2023-12-28T18:18:43.652Z"
   },
   {
    "duration": 0,
    "start_time": "2023-12-28T18:18:43.653Z"
   },
   {
    "duration": 5,
    "start_time": "2023-12-28T18:19:36.527Z"
   },
   {
    "duration": 13,
    "start_time": "2023-12-28T18:19:39.826Z"
   },
   {
    "duration": 4,
    "start_time": "2023-12-28T18:20:03.888Z"
   },
   {
    "duration": 1478,
    "start_time": "2023-12-28T18:20:08.918Z"
   },
   {
    "duration": 196,
    "start_time": "2023-12-28T18:20:10.398Z"
   },
   {
    "duration": 15,
    "start_time": "2023-12-28T18:20:10.596Z"
   },
   {
    "duration": 25,
    "start_time": "2023-12-28T18:20:10.612Z"
   },
   {
    "duration": 19,
    "start_time": "2023-12-28T18:20:10.639Z"
   },
   {
    "duration": 108,
    "start_time": "2023-12-28T18:20:10.659Z"
   },
   {
    "duration": 15,
    "start_time": "2023-12-28T18:20:10.768Z"
   },
   {
    "duration": 21,
    "start_time": "2023-12-28T18:20:10.785Z"
   },
   {
    "duration": 25,
    "start_time": "2023-12-28T18:20:10.807Z"
   },
   {
    "duration": 121,
    "start_time": "2023-12-28T18:20:10.834Z"
   },
   {
    "duration": 143,
    "start_time": "2023-12-28T18:20:10.956Z"
   },
   {
    "duration": 15,
    "start_time": "2023-12-28T18:20:11.101Z"
   },
   {
    "duration": 33,
    "start_time": "2023-12-28T18:20:11.118Z"
   },
   {
    "duration": 20,
    "start_time": "2023-12-28T18:20:11.156Z"
   },
   {
    "duration": 147,
    "start_time": "2023-12-28T18:20:11.178Z"
   },
   {
    "duration": 205,
    "start_time": "2023-12-28T18:20:11.326Z"
   },
   {
    "duration": 128,
    "start_time": "2023-12-28T18:20:11.532Z"
   },
   {
    "duration": 7,
    "start_time": "2023-12-28T18:20:11.662Z"
   },
   {
    "duration": 140,
    "start_time": "2023-12-28T18:20:11.670Z"
   },
   {
    "duration": 2,
    "start_time": "2023-12-28T18:20:11.812Z"
   },
   {
    "duration": 27,
    "start_time": "2023-12-28T18:20:11.816Z"
   },
   {
    "duration": 43,
    "start_time": "2023-12-28T18:20:11.845Z"
   },
   {
    "duration": 4,
    "start_time": "2023-12-28T18:20:11.890Z"
   },
   {
    "duration": 32,
    "start_time": "2023-12-28T18:20:11.896Z"
   },
   {
    "duration": 67,
    "start_time": "2023-12-28T18:20:11.929Z"
   },
   {
    "duration": 62,
    "start_time": "2023-12-28T18:20:11.997Z"
   },
   {
    "duration": 15,
    "start_time": "2023-12-28T18:20:12.060Z"
   },
   {
    "duration": 6,
    "start_time": "2023-12-28T18:20:12.077Z"
   },
   {
    "duration": 7,
    "start_time": "2023-12-28T18:20:12.084Z"
   },
   {
    "duration": 4,
    "start_time": "2023-12-28T18:20:12.092Z"
   },
   {
    "duration": 5,
    "start_time": "2023-12-28T18:20:12.098Z"
   },
   {
    "duration": 620,
    "start_time": "2023-12-28T18:20:12.104Z"
   },
   {
    "duration": 417,
    "start_time": "2023-12-28T18:20:12.725Z"
   },
   {
    "duration": 15,
    "start_time": "2023-12-28T18:20:13.144Z"
   },
   {
    "duration": 7,
    "start_time": "2023-12-28T18:20:13.161Z"
   },
   {
    "duration": 4,
    "start_time": "2023-12-28T18:20:13.170Z"
   },
   {
    "duration": 44,
    "start_time": "2023-12-28T18:20:13.175Z"
   },
   {
    "duration": 35,
    "start_time": "2023-12-28T18:20:13.221Z"
   },
   {
    "duration": 22,
    "start_time": "2023-12-28T18:20:13.257Z"
   },
   {
    "duration": 108,
    "start_time": "2023-12-28T18:20:13.280Z"
   },
   {
    "duration": 3,
    "start_time": "2023-12-28T18:20:13.393Z"
   },
   {
    "duration": 18,
    "start_time": "2023-12-28T18:20:13.398Z"
   },
   {
    "duration": 14,
    "start_time": "2023-12-28T18:20:13.417Z"
   },
   {
    "duration": 12,
    "start_time": "2023-12-28T18:20:13.433Z"
   },
   {
    "duration": 6,
    "start_time": "2023-12-28T18:20:13.447Z"
   },
   {
    "duration": 20,
    "start_time": "2023-12-28T18:20:13.454Z"
   },
   {
    "duration": 18,
    "start_time": "2023-12-28T18:20:13.475Z"
   },
   {
    "duration": 4,
    "start_time": "2023-12-28T18:20:13.494Z"
   },
   {
    "duration": 6,
    "start_time": "2023-12-28T18:20:13.499Z"
   },
   {
    "duration": 37,
    "start_time": "2023-12-28T18:20:13.507Z"
   },
   {
    "duration": 5,
    "start_time": "2023-12-28T18:20:13.546Z"
   },
   {
    "duration": 7,
    "start_time": "2023-12-28T18:20:13.552Z"
   },
   {
    "duration": 4,
    "start_time": "2023-12-28T18:20:13.560Z"
   },
   {
    "duration": 4,
    "start_time": "2023-12-28T18:20:13.565Z"
   },
   {
    "duration": 65305,
    "start_time": "2023-12-28T18:20:13.570Z"
   },
   {
    "duration": 3,
    "start_time": "2023-12-28T18:21:18.877Z"
   },
   {
    "duration": 11,
    "start_time": "2023-12-28T18:21:18.881Z"
   },
   {
    "duration": 5,
    "start_time": "2023-12-28T18:21:18.893Z"
   },
   {
    "duration": 4,
    "start_time": "2023-12-28T18:21:18.899Z"
   },
   {
    "duration": 18,
    "start_time": "2023-12-28T18:21:18.904Z"
   },
   {
    "duration": 7,
    "start_time": "2023-12-28T18:21:18.924Z"
   },
   {
    "duration": 11,
    "start_time": "2023-12-28T18:21:18.933Z"
   },
   {
    "duration": 15,
    "start_time": "2023-12-28T18:21:18.946Z"
   },
   {
    "duration": 33,
    "start_time": "2023-12-28T18:21:18.962Z"
   },
   {
    "duration": 14,
    "start_time": "2023-12-28T18:21:18.996Z"
   },
   {
    "duration": 49,
    "start_time": "2023-12-28T18:21:19.012Z"
   },
   {
    "duration": 123,
    "start_time": "2023-12-28T18:21:19.062Z"
   },
   {
    "duration": 0,
    "start_time": "2023-12-28T18:21:19.186Z"
   },
   {
    "duration": 0,
    "start_time": "2023-12-28T18:21:19.187Z"
   },
   {
    "duration": 0,
    "start_time": "2023-12-28T18:21:19.189Z"
   },
   {
    "duration": 0,
    "start_time": "2023-12-28T18:21:19.190Z"
   },
   {
    "duration": 0,
    "start_time": "2023-12-28T18:21:19.192Z"
   },
   {
    "duration": 0,
    "start_time": "2023-12-28T18:21:19.193Z"
   },
   {
    "duration": 0,
    "start_time": "2023-12-28T18:21:19.194Z"
   },
   {
    "duration": 0,
    "start_time": "2023-12-28T18:21:19.195Z"
   },
   {
    "duration": 0,
    "start_time": "2023-12-28T18:21:19.196Z"
   },
   {
    "duration": 0,
    "start_time": "2023-12-28T18:21:19.198Z"
   },
   {
    "duration": 0,
    "start_time": "2023-12-28T18:21:19.199Z"
   },
   {
    "duration": 0,
    "start_time": "2023-12-28T18:21:19.199Z"
   },
   {
    "duration": 0,
    "start_time": "2023-12-28T18:21:19.201Z"
   },
   {
    "duration": 3,
    "start_time": "2023-12-28T18:22:27.050Z"
   },
   {
    "duration": 4,
    "start_time": "2023-12-28T18:22:28.884Z"
   },
   {
    "duration": 5,
    "start_time": "2023-12-28T18:22:29.832Z"
   },
   {
    "duration": 1418,
    "start_time": "2023-12-28T18:24:52.150Z"
   },
   {
    "duration": 220,
    "start_time": "2023-12-28T18:24:53.570Z"
   },
   {
    "duration": 17,
    "start_time": "2023-12-28T18:24:53.791Z"
   },
   {
    "duration": 38,
    "start_time": "2023-12-28T18:24:53.810Z"
   },
   {
    "duration": 19,
    "start_time": "2023-12-28T18:24:53.850Z"
   },
   {
    "duration": 132,
    "start_time": "2023-12-28T18:24:53.871Z"
   },
   {
    "duration": 16,
    "start_time": "2023-12-28T18:24:54.005Z"
   },
   {
    "duration": 26,
    "start_time": "2023-12-28T18:24:54.022Z"
   },
   {
    "duration": 15,
    "start_time": "2023-12-28T18:24:54.049Z"
   },
   {
    "duration": 137,
    "start_time": "2023-12-28T18:24:54.067Z"
   },
   {
    "duration": 123,
    "start_time": "2023-12-28T18:24:54.206Z"
   },
   {
    "duration": 16,
    "start_time": "2023-12-28T18:24:54.331Z"
   },
   {
    "duration": 22,
    "start_time": "2023-12-28T18:24:54.349Z"
   },
   {
    "duration": 33,
    "start_time": "2023-12-28T18:24:54.372Z"
   },
   {
    "duration": 135,
    "start_time": "2023-12-28T18:24:54.407Z"
   },
   {
    "duration": 198,
    "start_time": "2023-12-28T18:24:54.544Z"
   },
   {
    "duration": 119,
    "start_time": "2023-12-28T18:24:54.743Z"
   },
   {
    "duration": 6,
    "start_time": "2023-12-28T18:24:54.864Z"
   },
   {
    "duration": 127,
    "start_time": "2023-12-28T18:24:54.871Z"
   },
   {
    "duration": 3,
    "start_time": "2023-12-28T18:24:54.999Z"
   },
   {
    "duration": 26,
    "start_time": "2023-12-28T18:24:55.003Z"
   },
   {
    "duration": 35,
    "start_time": "2023-12-28T18:24:55.030Z"
   },
   {
    "duration": 9,
    "start_time": "2023-12-28T18:24:55.067Z"
   },
   {
    "duration": 45,
    "start_time": "2023-12-28T18:24:55.078Z"
   },
   {
    "duration": 34,
    "start_time": "2023-12-28T18:24:55.125Z"
   },
   {
    "duration": 16,
    "start_time": "2023-12-28T18:24:55.161Z"
   },
   {
    "duration": 28,
    "start_time": "2023-12-28T18:24:55.179Z"
   },
   {
    "duration": 5,
    "start_time": "2023-12-28T18:24:55.212Z"
   },
   {
    "duration": 27,
    "start_time": "2023-12-28T18:24:55.218Z"
   },
   {
    "duration": 24,
    "start_time": "2023-12-28T18:24:55.247Z"
   },
   {
    "duration": 25,
    "start_time": "2023-12-28T18:24:55.272Z"
   },
   {
    "duration": 679,
    "start_time": "2023-12-28T18:24:55.298Z"
   },
   {
    "duration": 402,
    "start_time": "2023-12-28T18:24:55.979Z"
   },
   {
    "duration": 14,
    "start_time": "2023-12-28T18:24:56.383Z"
   },
   {
    "duration": 11,
    "start_time": "2023-12-28T18:24:56.399Z"
   },
   {
    "duration": 10,
    "start_time": "2023-12-28T18:24:56.412Z"
   },
   {
    "duration": 53,
    "start_time": "2023-12-28T18:24:56.423Z"
   },
   {
    "duration": 20,
    "start_time": "2023-12-28T18:24:56.477Z"
   },
   {
    "duration": 16,
    "start_time": "2023-12-28T18:24:56.499Z"
   },
   {
    "duration": 125,
    "start_time": "2023-12-28T18:24:56.517Z"
   },
   {
    "duration": 20,
    "start_time": "2023-12-28T18:24:56.644Z"
   },
   {
    "duration": 11,
    "start_time": "2023-12-28T18:24:56.665Z"
   },
   {
    "duration": 24,
    "start_time": "2023-12-28T18:24:56.677Z"
   },
   {
    "duration": 4,
    "start_time": "2023-12-28T18:24:56.703Z"
   },
   {
    "duration": 23,
    "start_time": "2023-12-28T18:24:56.709Z"
   },
   {
    "duration": 26,
    "start_time": "2023-12-28T18:24:56.734Z"
   },
   {
    "duration": 18,
    "start_time": "2023-12-28T18:24:56.761Z"
   },
   {
    "duration": 4,
    "start_time": "2023-12-28T18:24:56.780Z"
   },
   {
    "duration": 7,
    "start_time": "2023-12-28T18:24:56.785Z"
   },
   {
    "duration": 18,
    "start_time": "2023-12-28T18:24:56.793Z"
   },
   {
    "duration": 31,
    "start_time": "2023-12-28T18:24:56.814Z"
   },
   {
    "duration": 3,
    "start_time": "2023-12-28T18:24:56.847Z"
   },
   {
    "duration": 7,
    "start_time": "2023-12-28T18:24:56.852Z"
   },
   {
    "duration": 14,
    "start_time": "2023-12-28T18:24:56.861Z"
   },
   {
    "duration": 65085,
    "start_time": "2023-12-28T18:24:56.877Z"
   },
   {
    "duration": 4,
    "start_time": "2023-12-28T18:26:01.964Z"
   },
   {
    "duration": 9,
    "start_time": "2023-12-28T18:26:01.970Z"
   },
   {
    "duration": 6,
    "start_time": "2023-12-28T18:26:01.980Z"
   },
   {
    "duration": 18,
    "start_time": "2023-12-28T18:26:01.987Z"
   },
   {
    "duration": 8,
    "start_time": "2023-12-28T18:26:02.006Z"
   },
   {
    "duration": 11,
    "start_time": "2023-12-28T18:26:02.016Z"
   },
   {
    "duration": 3,
    "start_time": "2023-12-28T18:26:02.029Z"
   },
   {
    "duration": 17,
    "start_time": "2023-12-28T18:26:02.034Z"
   },
   {
    "duration": 32,
    "start_time": "2023-12-28T18:26:02.052Z"
   },
   {
    "duration": 11,
    "start_time": "2023-12-28T18:26:02.086Z"
   },
   {
    "duration": 45,
    "start_time": "2023-12-28T18:26:02.099Z"
   },
   {
    "duration": 3,
    "start_time": "2023-12-28T18:26:02.146Z"
   },
   {
    "duration": 32,
    "start_time": "2023-12-28T18:26:02.150Z"
   },
   {
    "duration": 34,
    "start_time": "2023-12-28T18:26:02.184Z"
   },
   {
    "duration": 482474,
    "start_time": "2023-12-28T18:26:02.219Z"
   },
   {
    "duration": 5,
    "start_time": "2023-12-28T18:34:04.695Z"
   },
   {
    "duration": 4,
    "start_time": "2023-12-28T18:34:04.701Z"
   },
   {
    "duration": 44,
    "start_time": "2023-12-28T18:34:04.706Z"
   },
   {
    "duration": 4,
    "start_time": "2023-12-28T18:34:04.752Z"
   },
   {
    "duration": 19,
    "start_time": "2023-12-28T18:34:04.757Z"
   },
   {
    "duration": 164,
    "start_time": "2023-12-28T18:34:04.778Z"
   },
   {
    "duration": 4,
    "start_time": "2023-12-28T18:34:04.944Z"
   },
   {
    "duration": 4,
    "start_time": "2023-12-28T18:34:04.950Z"
   },
   {
    "duration": 135,
    "start_time": "2023-12-28T18:34:04.955Z"
   },
   {
    "duration": 8,
    "start_time": "2023-12-28T18:34:05.092Z"
   },
   {
    "duration": 118,
    "start_time": "2023-12-28T18:34:05.104Z"
   },
   {
    "duration": 16,
    "start_time": "2023-12-28T18:35:53.636Z"
   },
   {
    "duration": 1485,
    "start_time": "2023-12-28T18:38:57.042Z"
   },
   {
    "duration": 194,
    "start_time": "2023-12-28T18:38:58.529Z"
   },
   {
    "duration": 16,
    "start_time": "2023-12-28T18:38:58.725Z"
   },
   {
    "duration": 12,
    "start_time": "2023-12-28T18:38:58.742Z"
   },
   {
    "duration": 25,
    "start_time": "2023-12-28T18:38:58.756Z"
   },
   {
    "duration": 96,
    "start_time": "2023-12-28T18:38:58.783Z"
   },
   {
    "duration": 13,
    "start_time": "2023-12-28T18:38:58.881Z"
   },
   {
    "duration": 10,
    "start_time": "2023-12-28T18:38:58.896Z"
   },
   {
    "duration": 10,
    "start_time": "2023-12-28T18:38:58.907Z"
   },
   {
    "duration": 133,
    "start_time": "2023-12-28T18:38:58.918Z"
   },
   {
    "duration": 123,
    "start_time": "2023-12-28T18:38:59.053Z"
   },
   {
    "duration": 9,
    "start_time": "2023-12-28T18:38:59.178Z"
   },
   {
    "duration": 15,
    "start_time": "2023-12-28T18:38:59.189Z"
   },
   {
    "duration": 11,
    "start_time": "2023-12-28T18:38:59.207Z"
   },
   {
    "duration": 132,
    "start_time": "2023-12-28T18:38:59.219Z"
   },
   {
    "duration": 191,
    "start_time": "2023-12-28T18:38:59.352Z"
   },
   {
    "duration": 126,
    "start_time": "2023-12-28T18:38:59.545Z"
   },
   {
    "duration": 6,
    "start_time": "2023-12-28T18:38:59.673Z"
   },
   {
    "duration": 138,
    "start_time": "2023-12-28T18:38:59.681Z"
   },
   {
    "duration": 2,
    "start_time": "2023-12-28T18:38:59.821Z"
   },
   {
    "duration": 23,
    "start_time": "2023-12-28T18:38:59.824Z"
   },
   {
    "duration": 24,
    "start_time": "2023-12-28T18:38:59.848Z"
   },
   {
    "duration": 3,
    "start_time": "2023-12-28T18:38:59.873Z"
   },
   {
    "duration": 17,
    "start_time": "2023-12-28T18:38:59.878Z"
   },
   {
    "duration": 9,
    "start_time": "2023-12-28T18:38:59.896Z"
   },
   {
    "duration": 38,
    "start_time": "2023-12-28T18:38:59.906Z"
   },
   {
    "duration": 15,
    "start_time": "2023-12-28T18:38:59.945Z"
   },
   {
    "duration": 4,
    "start_time": "2023-12-28T18:38:59.961Z"
   },
   {
    "duration": 9,
    "start_time": "2023-12-28T18:38:59.966Z"
   },
   {
    "duration": 8,
    "start_time": "2023-12-28T18:38:59.976Z"
   },
   {
    "duration": 5,
    "start_time": "2023-12-28T18:38:59.985Z"
   },
   {
    "duration": 657,
    "start_time": "2023-12-28T18:38:59.991Z"
   },
   {
    "duration": 386,
    "start_time": "2023-12-28T18:39:00.650Z"
   },
   {
    "duration": 15,
    "start_time": "2023-12-28T18:39:01.042Z"
   },
   {
    "duration": 36,
    "start_time": "2023-12-28T18:39:01.059Z"
   },
   {
    "duration": 59,
    "start_time": "2023-12-28T18:39:01.097Z"
   },
   {
    "duration": 62,
    "start_time": "2023-12-28T18:39:01.158Z"
   },
   {
    "duration": 26,
    "start_time": "2023-12-28T18:39:01.222Z"
   },
   {
    "duration": 63,
    "start_time": "2023-12-28T18:39:01.250Z"
   },
   {
    "duration": 143,
    "start_time": "2023-12-28T18:39:01.315Z"
   },
   {
    "duration": 28,
    "start_time": "2023-12-28T18:39:01.462Z"
   },
   {
    "duration": 53,
    "start_time": "2023-12-28T18:39:01.491Z"
   },
   {
    "duration": 54,
    "start_time": "2023-12-28T18:39:01.546Z"
   },
   {
    "duration": 23,
    "start_time": "2023-12-28T18:39:01.602Z"
   },
   {
    "duration": 35,
    "start_time": "2023-12-28T18:39:01.626Z"
   },
   {
    "duration": 40,
    "start_time": "2023-12-28T18:39:01.662Z"
   },
   {
    "duration": 76,
    "start_time": "2023-12-28T18:39:01.703Z"
   },
   {
    "duration": 21,
    "start_time": "2023-12-28T18:39:01.782Z"
   },
   {
    "duration": 30,
    "start_time": "2023-12-28T18:39:01.805Z"
   },
   {
    "duration": 134,
    "start_time": "2023-12-28T18:39:01.837Z"
   },
   {
    "duration": 79,
    "start_time": "2023-12-28T18:39:01.973Z"
   },
   {
    "duration": 35,
    "start_time": "2023-12-28T18:39:02.054Z"
   },
   {
    "duration": 40,
    "start_time": "2023-12-28T18:39:02.091Z"
   },
   {
    "duration": 25,
    "start_time": "2023-12-28T18:39:02.132Z"
   },
   {
    "duration": 65157,
    "start_time": "2023-12-28T18:39:02.159Z"
   },
   {
    "duration": 5,
    "start_time": "2023-12-28T18:40:07.317Z"
   },
   {
    "duration": 21,
    "start_time": "2023-12-28T18:40:07.324Z"
   },
   {
    "duration": 14,
    "start_time": "2023-12-28T18:40:07.346Z"
   },
   {
    "duration": 23,
    "start_time": "2023-12-28T18:40:07.362Z"
   },
   {
    "duration": 18,
    "start_time": "2023-12-28T18:40:07.387Z"
   },
   {
    "duration": 22,
    "start_time": "2023-12-28T18:40:07.407Z"
   },
   {
    "duration": 36,
    "start_time": "2023-12-28T18:40:07.430Z"
   },
   {
    "duration": 22,
    "start_time": "2023-12-28T18:40:07.468Z"
   },
   {
    "duration": 73,
    "start_time": "2023-12-28T18:40:07.491Z"
   },
   {
    "duration": 12,
    "start_time": "2023-12-28T18:40:07.566Z"
   },
   {
    "duration": 55,
    "start_time": "2023-12-28T18:40:07.580Z"
   },
   {
    "duration": 12,
    "start_time": "2023-12-28T18:40:07.636Z"
   },
   {
    "duration": 31,
    "start_time": "2023-12-28T18:40:07.650Z"
   },
   {
    "duration": 35,
    "start_time": "2023-12-28T18:40:07.683Z"
   },
   {
    "duration": 486743,
    "start_time": "2023-12-28T18:40:07.720Z"
   },
   {
    "duration": 4,
    "start_time": "2023-12-28T18:48:14.465Z"
   },
   {
    "duration": 55,
    "start_time": "2023-12-28T18:48:14.470Z"
   },
   {
    "duration": 25,
    "start_time": "2023-12-28T18:48:14.526Z"
   },
   {
    "duration": 16,
    "start_time": "2023-12-28T18:48:14.553Z"
   },
   {
    "duration": 161,
    "start_time": "2023-12-28T18:48:14.571Z"
   },
   {
    "duration": 9,
    "start_time": "2023-12-28T18:48:14.734Z"
   },
   {
    "duration": 3,
    "start_time": "2023-12-28T18:48:14.744Z"
   },
   {
    "duration": 129,
    "start_time": "2023-12-28T18:48:14.749Z"
   },
   {
    "duration": 9,
    "start_time": "2023-12-28T18:48:14.879Z"
   },
   {
    "duration": 118,
    "start_time": "2023-12-28T18:57:20.040Z"
   },
   {
    "duration": 16,
    "start_time": "2023-12-28T18:57:39.039Z"
   },
   {
    "duration": 22,
    "start_time": "2023-12-28T18:58:01.379Z"
   },
   {
    "duration": 87,
    "start_time": "2023-12-28T19:05:14.846Z"
   },
   {
    "duration": 74,
    "start_time": "2023-12-28T19:05:20.725Z"
   },
   {
    "duration": 73,
    "start_time": "2023-12-28T19:05:23.619Z"
   },
   {
    "duration": 10,
    "start_time": "2023-12-28T19:05:32.283Z"
   },
   {
    "duration": 1458,
    "start_time": "2023-12-28T19:08:13.733Z"
   },
   {
    "duration": 266,
    "start_time": "2023-12-28T19:08:15.193Z"
   },
   {
    "duration": 14,
    "start_time": "2023-12-28T19:08:15.460Z"
   },
   {
    "duration": 20,
    "start_time": "2023-12-28T19:08:15.476Z"
   },
   {
    "duration": 13,
    "start_time": "2023-12-28T19:08:15.498Z"
   },
   {
    "duration": 123,
    "start_time": "2023-12-28T19:08:15.512Z"
   },
   {
    "duration": 19,
    "start_time": "2023-12-28T19:08:15.637Z"
   },
   {
    "duration": 11,
    "start_time": "2023-12-28T19:08:15.658Z"
   },
   {
    "duration": 8,
    "start_time": "2023-12-28T19:08:15.671Z"
   },
   {
    "duration": 141,
    "start_time": "2023-12-28T19:08:15.682Z"
   },
   {
    "duration": 124,
    "start_time": "2023-12-28T19:08:15.826Z"
   },
   {
    "duration": 10,
    "start_time": "2023-12-28T19:08:15.952Z"
   },
   {
    "duration": 12,
    "start_time": "2023-12-28T19:08:15.963Z"
   },
   {
    "duration": 14,
    "start_time": "2023-12-28T19:08:15.976Z"
   },
   {
    "duration": 142,
    "start_time": "2023-12-28T19:08:15.991Z"
   },
   {
    "duration": 196,
    "start_time": "2023-12-28T19:08:16.135Z"
   },
   {
    "duration": 121,
    "start_time": "2023-12-28T19:08:16.333Z"
   },
   {
    "duration": 6,
    "start_time": "2023-12-28T19:08:16.456Z"
   },
   {
    "duration": 132,
    "start_time": "2023-12-28T19:08:16.463Z"
   },
   {
    "duration": 2,
    "start_time": "2023-12-28T19:08:16.597Z"
   },
   {
    "duration": 24,
    "start_time": "2023-12-28T19:08:16.601Z"
   },
   {
    "duration": 40,
    "start_time": "2023-12-28T19:08:16.626Z"
   },
   {
    "duration": 8,
    "start_time": "2023-12-28T19:08:16.667Z"
   },
   {
    "duration": 38,
    "start_time": "2023-12-28T19:08:16.677Z"
   },
   {
    "duration": 31,
    "start_time": "2023-12-28T19:08:16.716Z"
   },
   {
    "duration": 44,
    "start_time": "2023-12-28T19:08:16.749Z"
   },
   {
    "duration": 50,
    "start_time": "2023-12-28T19:08:16.795Z"
   },
   {
    "duration": 18,
    "start_time": "2023-12-28T19:08:16.851Z"
   },
   {
    "duration": 26,
    "start_time": "2023-12-28T19:08:16.871Z"
   },
   {
    "duration": 56,
    "start_time": "2023-12-28T19:08:16.899Z"
   },
   {
    "duration": 47,
    "start_time": "2023-12-28T19:08:16.957Z"
   },
   {
    "duration": 628,
    "start_time": "2023-12-28T19:08:17.006Z"
   },
   {
    "duration": 384,
    "start_time": "2023-12-28T19:08:17.636Z"
   },
   {
    "duration": 20,
    "start_time": "2023-12-28T19:08:18.022Z"
   },
   {
    "duration": 19,
    "start_time": "2023-12-28T19:08:18.044Z"
   },
   {
    "duration": 44,
    "start_time": "2023-12-28T19:08:18.065Z"
   },
   {
    "duration": 66,
    "start_time": "2023-12-28T19:08:18.110Z"
   },
   {
    "duration": 18,
    "start_time": "2023-12-28T19:08:18.178Z"
   },
   {
    "duration": 135,
    "start_time": "2023-12-28T19:08:18.198Z"
   },
   {
    "duration": 0,
    "start_time": "2023-12-28T19:08:18.334Z"
   },
   {
    "duration": 0,
    "start_time": "2023-12-28T19:08:18.335Z"
   },
   {
    "duration": 0,
    "start_time": "2023-12-28T19:08:18.337Z"
   },
   {
    "duration": 0,
    "start_time": "2023-12-28T19:08:18.343Z"
   },
   {
    "duration": 0,
    "start_time": "2023-12-28T19:08:18.344Z"
   },
   {
    "duration": 0,
    "start_time": "2023-12-28T19:08:18.441Z"
   },
   {
    "duration": 0,
    "start_time": "2023-12-28T19:08:18.443Z"
   },
   {
    "duration": 0,
    "start_time": "2023-12-28T19:08:18.444Z"
   },
   {
    "duration": 0,
    "start_time": "2023-12-28T19:08:18.445Z"
   },
   {
    "duration": 0,
    "start_time": "2023-12-28T19:08:18.446Z"
   },
   {
    "duration": 0,
    "start_time": "2023-12-28T19:08:18.447Z"
   },
   {
    "duration": 0,
    "start_time": "2023-12-28T19:08:18.448Z"
   },
   {
    "duration": 0,
    "start_time": "2023-12-28T19:08:18.449Z"
   },
   {
    "duration": 0,
    "start_time": "2023-12-28T19:08:18.450Z"
   },
   {
    "duration": 0,
    "start_time": "2023-12-28T19:08:18.451Z"
   },
   {
    "duration": 0,
    "start_time": "2023-12-28T19:08:18.452Z"
   },
   {
    "duration": 0,
    "start_time": "2023-12-28T19:08:18.453Z"
   },
   {
    "duration": 0,
    "start_time": "2023-12-28T19:08:18.454Z"
   },
   {
    "duration": 0,
    "start_time": "2023-12-28T19:08:18.455Z"
   },
   {
    "duration": 0,
    "start_time": "2023-12-28T19:08:18.456Z"
   },
   {
    "duration": 0,
    "start_time": "2023-12-28T19:08:18.457Z"
   },
   {
    "duration": 0,
    "start_time": "2023-12-28T19:08:18.458Z"
   },
   {
    "duration": 0,
    "start_time": "2023-12-28T19:08:18.459Z"
   },
   {
    "duration": 0,
    "start_time": "2023-12-28T19:08:18.459Z"
   },
   {
    "duration": 0,
    "start_time": "2023-12-28T19:08:18.460Z"
   },
   {
    "duration": 0,
    "start_time": "2023-12-28T19:08:18.461Z"
   },
   {
    "duration": 0,
    "start_time": "2023-12-28T19:08:18.462Z"
   },
   {
    "duration": 0,
    "start_time": "2023-12-28T19:08:18.463Z"
   },
   {
    "duration": 0,
    "start_time": "2023-12-28T19:08:18.464Z"
   },
   {
    "duration": 0,
    "start_time": "2023-12-28T19:08:18.465Z"
   },
   {
    "duration": 0,
    "start_time": "2023-12-28T19:08:18.466Z"
   },
   {
    "duration": 0,
    "start_time": "2023-12-28T19:08:18.467Z"
   },
   {
    "duration": 0,
    "start_time": "2023-12-28T19:08:18.468Z"
   },
   {
    "duration": 0,
    "start_time": "2023-12-28T19:08:18.469Z"
   },
   {
    "duration": 0,
    "start_time": "2023-12-28T19:08:18.470Z"
   },
   {
    "duration": 0,
    "start_time": "2023-12-28T19:08:18.471Z"
   },
   {
    "duration": 0,
    "start_time": "2023-12-28T19:08:18.472Z"
   },
   {
    "duration": 0,
    "start_time": "2023-12-28T19:08:18.473Z"
   },
   {
    "duration": 0,
    "start_time": "2023-12-28T19:08:18.474Z"
   },
   {
    "duration": 0,
    "start_time": "2023-12-28T19:08:18.475Z"
   },
   {
    "duration": 16,
    "start_time": "2023-12-28T19:10:27.711Z"
   },
   {
    "duration": 10,
    "start_time": "2023-12-28T19:10:30.535Z"
   },
   {
    "duration": 11,
    "start_time": "2023-12-28T19:10:35.718Z"
   },
   {
    "duration": 5,
    "start_time": "2023-12-28T19:10:38.648Z"
   },
   {
    "duration": 9,
    "start_time": "2023-12-28T19:10:41.366Z"
   },
   {
    "duration": 5,
    "start_time": "2023-12-28T19:10:49.473Z"
   },
   {
    "duration": 12,
    "start_time": "2023-12-28T19:10:53.065Z"
   },
   {
    "duration": 13,
    "start_time": "2023-12-28T19:11:02.377Z"
   },
   {
    "duration": 5,
    "start_time": "2023-12-28T19:11:05.845Z"
   },
   {
    "duration": 10,
    "start_time": "2023-12-28T19:11:06.722Z"
   },
   {
    "duration": 7,
    "start_time": "2023-12-28T19:11:12.951Z"
   },
   {
    "duration": 20,
    "start_time": "2023-12-28T19:11:17.056Z"
   },
   {
    "duration": 18,
    "start_time": "2023-12-28T19:11:19.415Z"
   },
   {
    "duration": 4,
    "start_time": "2023-12-28T19:11:23.829Z"
   },
   {
    "duration": 4,
    "start_time": "2023-12-28T19:11:24.636Z"
   },
   {
    "duration": 11,
    "start_time": "2023-12-28T19:11:26.750Z"
   },
   {
    "duration": 6,
    "start_time": "2023-12-28T19:11:31.675Z"
   },
   {
    "duration": 1467,
    "start_time": "2023-12-28T19:11:38.377Z"
   },
   {
    "duration": 211,
    "start_time": "2023-12-28T19:11:39.847Z"
   },
   {
    "duration": 15,
    "start_time": "2023-12-28T19:11:40.059Z"
   },
   {
    "duration": 16,
    "start_time": "2023-12-28T19:11:40.075Z"
   },
   {
    "duration": 13,
    "start_time": "2023-12-28T19:11:40.093Z"
   },
   {
    "duration": 118,
    "start_time": "2023-12-28T19:11:40.107Z"
   },
   {
    "duration": 21,
    "start_time": "2023-12-28T19:11:40.226Z"
   },
   {
    "duration": 13,
    "start_time": "2023-12-28T19:11:40.249Z"
   },
   {
    "duration": 7,
    "start_time": "2023-12-28T19:11:40.264Z"
   },
   {
    "duration": 135,
    "start_time": "2023-12-28T19:11:40.273Z"
   },
   {
    "duration": 129,
    "start_time": "2023-12-28T19:11:40.410Z"
   },
   {
    "duration": 14,
    "start_time": "2023-12-28T19:11:40.540Z"
   },
   {
    "duration": 24,
    "start_time": "2023-12-28T19:11:40.556Z"
   },
   {
    "duration": 11,
    "start_time": "2023-12-28T19:11:40.583Z"
   },
   {
    "duration": 138,
    "start_time": "2023-12-28T19:11:40.595Z"
   },
   {
    "duration": 192,
    "start_time": "2023-12-28T19:11:40.734Z"
   },
   {
    "duration": 136,
    "start_time": "2023-12-28T19:11:40.927Z"
   },
   {
    "duration": 7,
    "start_time": "2023-12-28T19:11:41.064Z"
   },
   {
    "duration": 151,
    "start_time": "2023-12-28T19:11:41.072Z"
   },
   {
    "duration": 3,
    "start_time": "2023-12-28T19:11:41.225Z"
   },
   {
    "duration": 14,
    "start_time": "2023-12-28T19:11:41.249Z"
   },
   {
    "duration": 24,
    "start_time": "2023-12-28T19:11:41.264Z"
   },
   {
    "duration": 4,
    "start_time": "2023-12-28T19:11:41.289Z"
   },
   {
    "duration": 18,
    "start_time": "2023-12-28T19:11:41.294Z"
   },
   {
    "duration": 36,
    "start_time": "2023-12-28T19:11:41.313Z"
   },
   {
    "duration": 11,
    "start_time": "2023-12-28T19:11:41.351Z"
   },
   {
    "duration": 17,
    "start_time": "2023-12-28T19:11:41.363Z"
   },
   {
    "duration": 5,
    "start_time": "2023-12-28T19:11:41.381Z"
   },
   {
    "duration": 6,
    "start_time": "2023-12-28T19:11:41.387Z"
   },
   {
    "duration": 14,
    "start_time": "2023-12-28T19:11:41.394Z"
   },
   {
    "duration": 15,
    "start_time": "2023-12-28T19:11:41.410Z"
   },
   {
    "duration": 673,
    "start_time": "2023-12-28T19:11:41.442Z"
   },
   {
    "duration": 442,
    "start_time": "2023-12-28T19:11:42.117Z"
   },
   {
    "duration": 14,
    "start_time": "2023-12-28T19:11:42.561Z"
   },
   {
    "duration": 3,
    "start_time": "2023-12-28T19:11:42.577Z"
   },
   {
    "duration": 7,
    "start_time": "2023-12-28T19:11:42.581Z"
   },
   {
    "duration": 59,
    "start_time": "2023-12-28T19:11:42.589Z"
   },
   {
    "duration": 22,
    "start_time": "2023-12-28T19:11:42.651Z"
   },
   {
    "duration": 17,
    "start_time": "2023-12-28T19:11:42.675Z"
   },
   {
    "duration": 128,
    "start_time": "2023-12-28T19:11:42.694Z"
   },
   {
    "duration": 5,
    "start_time": "2023-12-28T19:11:42.828Z"
   },
   {
    "duration": 6,
    "start_time": "2023-12-28T19:11:42.843Z"
   },
   {
    "duration": 14,
    "start_time": "2023-12-28T19:11:42.851Z"
   },
   {
    "duration": 3,
    "start_time": "2023-12-28T19:11:42.867Z"
   },
   {
    "duration": 4,
    "start_time": "2023-12-28T19:11:42.872Z"
   },
   {
    "duration": 21,
    "start_time": "2023-12-28T19:11:42.877Z"
   },
   {
    "duration": 49,
    "start_time": "2023-12-28T19:11:42.899Z"
   },
   {
    "duration": 5,
    "start_time": "2023-12-28T19:11:42.950Z"
   },
   {
    "duration": 7,
    "start_time": "2023-12-28T19:11:42.958Z"
   },
   {
    "duration": 10,
    "start_time": "2023-12-28T19:11:42.966Z"
   },
   {
    "duration": 5,
    "start_time": "2023-12-28T19:11:42.978Z"
   },
   {
    "duration": 3,
    "start_time": "2023-12-28T19:11:42.984Z"
   },
   {
    "duration": 16,
    "start_time": "2023-12-28T19:11:42.989Z"
   },
   {
    "duration": 19,
    "start_time": "2023-12-28T19:11:43.006Z"
   },
   {
    "duration": 69351,
    "start_time": "2023-12-28T19:11:43.027Z"
   },
   {
    "duration": 5,
    "start_time": "2023-12-28T19:12:52.379Z"
   },
   {
    "duration": 5,
    "start_time": "2023-12-28T19:12:52.386Z"
   },
   {
    "duration": 6,
    "start_time": "2023-12-28T19:12:52.393Z"
   },
   {
    "duration": 4,
    "start_time": "2023-12-28T19:12:52.401Z"
   },
   {
    "duration": 15,
    "start_time": "2023-12-28T19:12:52.406Z"
   },
   {
    "duration": 12,
    "start_time": "2023-12-28T19:12:52.442Z"
   },
   {
    "duration": 5,
    "start_time": "2023-12-28T19:12:52.456Z"
   },
   {
    "duration": 9,
    "start_time": "2023-12-28T19:12:52.462Z"
   },
   {
    "duration": 26,
    "start_time": "2023-12-28T19:12:52.473Z"
   },
   {
    "duration": 11,
    "start_time": "2023-12-28T19:12:52.501Z"
   },
   {
    "duration": 34,
    "start_time": "2023-12-28T19:12:52.542Z"
   },
   {
    "duration": 3,
    "start_time": "2023-12-28T19:12:52.578Z"
   },
   {
    "duration": 7,
    "start_time": "2023-12-28T19:12:52.582Z"
   },
   {
    "duration": 4,
    "start_time": "2023-12-28T19:12:52.590Z"
   },
   {
    "duration": 505224,
    "start_time": "2023-12-28T19:12:52.596Z"
   },
   {
    "duration": 6,
    "start_time": "2023-12-28T19:21:17.822Z"
   },
   {
    "duration": 46,
    "start_time": "2023-12-28T19:21:17.830Z"
   },
   {
    "duration": 17,
    "start_time": "2023-12-28T19:21:17.878Z"
   },
   {
    "duration": 17,
    "start_time": "2023-12-28T19:21:17.897Z"
   },
   {
    "duration": 178,
    "start_time": "2023-12-28T19:21:17.916Z"
   },
   {
    "duration": 5,
    "start_time": "2023-12-28T19:21:18.096Z"
   },
   {
    "duration": 13,
    "start_time": "2023-12-28T19:21:18.103Z"
   },
   {
    "duration": 145,
    "start_time": "2023-12-28T19:21:18.118Z"
   },
   {
    "duration": 9,
    "start_time": "2023-12-28T19:21:18.265Z"
   },
   {
    "duration": 135,
    "start_time": "2023-12-28T19:28:33.012Z"
   },
   {
    "duration": 137,
    "start_time": "2023-12-28T19:28:53.016Z"
   },
   {
    "duration": 194,
    "start_time": "2023-12-28T19:29:24.117Z"
   },
   {
    "duration": 135,
    "start_time": "2023-12-28T19:29:50.366Z"
   },
   {
    "duration": 13,
    "start_time": "2023-12-28T19:30:32.141Z"
   },
   {
    "duration": 152,
    "start_time": "2023-12-28T19:30:44.628Z"
   },
   {
    "duration": 158,
    "start_time": "2023-12-28T19:31:01.859Z"
   },
   {
    "duration": 121,
    "start_time": "2023-12-28T19:31:54.630Z"
   },
   {
    "duration": 133,
    "start_time": "2023-12-28T19:32:08.103Z"
   },
   {
    "duration": 151,
    "start_time": "2023-12-28T19:33:20.287Z"
   },
   {
    "duration": 126,
    "start_time": "2023-12-28T19:35:31.383Z"
   },
   {
    "duration": 500762,
    "start_time": "2023-12-28T19:42:57.658Z"
   },
   {
    "duration": 7,
    "start_time": "2023-12-28T19:53:30.439Z"
   },
   {
    "duration": 39,
    "start_time": "2023-12-28T19:53:33.435Z"
   },
   {
    "duration": 17,
    "start_time": "2023-12-28T19:54:02.684Z"
   },
   {
    "duration": 15,
    "start_time": "2023-12-28T19:54:06.135Z"
   },
   {
    "duration": 159,
    "start_time": "2023-12-28T19:54:09.319Z"
   },
   {
    "duration": 1400,
    "start_time": "2023-12-28T19:54:25.870Z"
   },
   {
    "duration": 204,
    "start_time": "2023-12-28T19:54:27.271Z"
   },
   {
    "duration": 15,
    "start_time": "2023-12-28T19:54:27.476Z"
   },
   {
    "duration": 23,
    "start_time": "2023-12-28T19:54:27.492Z"
   },
   {
    "duration": 30,
    "start_time": "2023-12-28T19:54:27.517Z"
   },
   {
    "duration": 113,
    "start_time": "2023-12-28T19:54:27.548Z"
   },
   {
    "duration": 14,
    "start_time": "2023-12-28T19:54:27.663Z"
   },
   {
    "duration": 30,
    "start_time": "2023-12-28T19:54:27.678Z"
   },
   {
    "duration": 33,
    "start_time": "2023-12-28T19:54:27.710Z"
   },
   {
    "duration": 146,
    "start_time": "2023-12-28T19:54:27.745Z"
   },
   {
    "duration": 124,
    "start_time": "2023-12-28T19:54:27.893Z"
   },
   {
    "duration": 11,
    "start_time": "2023-12-28T19:54:28.019Z"
   },
   {
    "duration": 58,
    "start_time": "2023-12-28T19:54:28.032Z"
   },
   {
    "duration": 30,
    "start_time": "2023-12-28T19:54:28.091Z"
   },
   {
    "duration": 138,
    "start_time": "2023-12-28T19:54:28.123Z"
   },
   {
    "duration": 191,
    "start_time": "2023-12-28T19:54:28.263Z"
   },
   {
    "duration": 116,
    "start_time": "2023-12-28T19:54:28.456Z"
   },
   {
    "duration": 7,
    "start_time": "2023-12-28T19:54:28.574Z"
   },
   {
    "duration": 144,
    "start_time": "2023-12-28T19:54:28.583Z"
   },
   {
    "duration": 4,
    "start_time": "2023-12-28T19:54:28.729Z"
   },
   {
    "duration": 33,
    "start_time": "2023-12-28T19:54:28.742Z"
   },
   {
    "duration": 35,
    "start_time": "2023-12-28T19:54:28.776Z"
   },
   {
    "duration": 17,
    "start_time": "2023-12-28T19:54:28.812Z"
   },
   {
    "duration": 54,
    "start_time": "2023-12-28T19:54:28.831Z"
   },
   {
    "duration": 30,
    "start_time": "2023-12-28T19:54:28.887Z"
   },
   {
    "duration": 37,
    "start_time": "2023-12-28T19:54:28.918Z"
   },
   {
    "duration": 44,
    "start_time": "2023-12-28T19:54:28.956Z"
   },
   {
    "duration": 25,
    "start_time": "2023-12-28T19:54:29.004Z"
   },
   {
    "duration": 24,
    "start_time": "2023-12-28T19:54:29.031Z"
   },
   {
    "duration": 28,
    "start_time": "2023-12-28T19:54:29.057Z"
   },
   {
    "duration": 26,
    "start_time": "2023-12-28T19:54:29.086Z"
   },
   {
    "duration": 643,
    "start_time": "2023-12-28T19:54:29.114Z"
   },
   {
    "duration": 370,
    "start_time": "2023-12-28T19:54:29.759Z"
   },
   {
    "duration": 22,
    "start_time": "2023-12-28T19:54:30.131Z"
   },
   {
    "duration": 30,
    "start_time": "2023-12-28T19:54:30.154Z"
   },
   {
    "duration": 33,
    "start_time": "2023-12-28T19:54:30.186Z"
   },
   {
    "duration": 95,
    "start_time": "2023-12-28T19:54:30.220Z"
   },
   {
    "duration": 20,
    "start_time": "2023-12-28T19:54:30.317Z"
   },
   {
    "duration": 58,
    "start_time": "2023-12-28T19:54:30.339Z"
   },
   {
    "duration": 129,
    "start_time": "2023-12-28T19:54:30.399Z"
   },
   {
    "duration": 45,
    "start_time": "2023-12-28T19:54:30.530Z"
   },
   {
    "duration": 36,
    "start_time": "2023-12-28T19:54:30.577Z"
   },
   {
    "duration": 55,
    "start_time": "2023-12-28T19:54:30.614Z"
   },
   {
    "duration": 57,
    "start_time": "2023-12-28T19:54:30.671Z"
   },
   {
    "duration": 49,
    "start_time": "2023-12-28T19:54:30.730Z"
   },
   {
    "duration": 68,
    "start_time": "2023-12-28T19:54:30.780Z"
   },
   {
    "duration": 25,
    "start_time": "2023-12-28T19:54:30.850Z"
   },
   {
    "duration": 25,
    "start_time": "2023-12-28T19:54:30.877Z"
   },
   {
    "duration": 39,
    "start_time": "2023-12-28T19:54:30.904Z"
   },
   {
    "duration": 48,
    "start_time": "2023-12-28T19:54:30.945Z"
   },
   {
    "duration": 35,
    "start_time": "2023-12-28T19:54:30.995Z"
   },
   {
    "duration": 35,
    "start_time": "2023-12-28T19:54:31.032Z"
   },
   {
    "duration": 19,
    "start_time": "2023-12-28T19:54:31.068Z"
   },
   {
    "duration": 27,
    "start_time": "2023-12-28T19:54:31.088Z"
   },
   {
    "duration": 66961,
    "start_time": "2023-12-28T19:54:31.117Z"
   },
   {
    "duration": 7,
    "start_time": "2023-12-28T19:55:38.079Z"
   },
   {
    "duration": 6,
    "start_time": "2023-12-28T19:55:38.088Z"
   },
   {
    "duration": 7,
    "start_time": "2023-12-28T19:55:38.095Z"
   },
   {
    "duration": 3,
    "start_time": "2023-12-28T19:55:38.103Z"
   },
   {
    "duration": 35,
    "start_time": "2023-12-28T19:55:38.108Z"
   },
   {
    "duration": 7,
    "start_time": "2023-12-28T19:55:38.145Z"
   },
   {
    "duration": 4,
    "start_time": "2023-12-28T19:55:38.154Z"
   },
   {
    "duration": 8,
    "start_time": "2023-12-28T19:55:38.160Z"
   },
   {
    "duration": 28,
    "start_time": "2023-12-28T19:55:38.170Z"
   },
   {
    "duration": 49,
    "start_time": "2023-12-28T19:55:38.200Z"
   },
   {
    "duration": 32,
    "start_time": "2023-12-28T19:55:38.251Z"
   },
   {
    "duration": 3,
    "start_time": "2023-12-28T19:55:38.284Z"
   },
   {
    "duration": 12,
    "start_time": "2023-12-28T19:55:38.289Z"
   },
   {
    "duration": 39,
    "start_time": "2023-12-28T19:55:38.303Z"
   },
   {
    "duration": 500188,
    "start_time": "2023-12-28T19:55:38.344Z"
   },
   {
    "duration": 4,
    "start_time": "2023-12-28T20:03:58.534Z"
   },
   {
    "duration": 61,
    "start_time": "2023-12-28T20:03:58.540Z"
   },
   {
    "duration": 18,
    "start_time": "2023-12-28T20:03:58.602Z"
   },
   {
    "duration": 31,
    "start_time": "2023-12-28T20:03:58.622Z"
   },
   {
    "duration": 191,
    "start_time": "2023-12-28T20:03:58.655Z"
   },
   {
    "duration": 7,
    "start_time": "2023-12-28T20:03:58.848Z"
   },
   {
    "duration": 18,
    "start_time": "2023-12-28T20:03:58.857Z"
   },
   {
    "duration": 149,
    "start_time": "2023-12-28T20:03:58.877Z"
   },
   {
    "duration": 9,
    "start_time": "2023-12-28T20:03:59.028Z"
   },
   {
    "duration": 25,
    "start_time": "2023-12-28T20:07:26.639Z"
   },
   {
    "duration": 3,
    "start_time": "2023-12-28T20:07:48.538Z"
   },
   {
    "duration": 1423,
    "start_time": "2023-12-28T20:09:42.593Z"
   },
   {
    "duration": 197,
    "start_time": "2023-12-28T20:09:44.017Z"
   },
   {
    "duration": 15,
    "start_time": "2023-12-28T20:09:44.215Z"
   },
   {
    "duration": 13,
    "start_time": "2023-12-28T20:09:44.231Z"
   },
   {
    "duration": 13,
    "start_time": "2023-12-28T20:09:44.246Z"
   },
   {
    "duration": 100,
    "start_time": "2023-12-28T20:09:44.261Z"
   },
   {
    "duration": 14,
    "start_time": "2023-12-28T20:09:44.363Z"
   },
   {
    "duration": 11,
    "start_time": "2023-12-28T20:09:44.379Z"
   },
   {
    "duration": 8,
    "start_time": "2023-12-28T20:09:44.392Z"
   },
   {
    "duration": 144,
    "start_time": "2023-12-28T20:09:44.402Z"
   },
   {
    "duration": 130,
    "start_time": "2023-12-28T20:09:44.548Z"
   },
   {
    "duration": 10,
    "start_time": "2023-12-28T20:09:44.680Z"
   },
   {
    "duration": 11,
    "start_time": "2023-12-28T20:09:44.692Z"
   },
   {
    "duration": 36,
    "start_time": "2023-12-28T20:09:44.707Z"
   },
   {
    "duration": 126,
    "start_time": "2023-12-28T20:09:44.745Z"
   },
   {
    "duration": 216,
    "start_time": "2023-12-28T20:09:44.873Z"
   },
   {
    "duration": 128,
    "start_time": "2023-12-28T20:09:45.091Z"
   },
   {
    "duration": 7,
    "start_time": "2023-12-28T20:09:45.220Z"
   },
   {
    "duration": 133,
    "start_time": "2023-12-28T20:09:45.229Z"
   },
   {
    "duration": 3,
    "start_time": "2023-12-28T20:09:45.364Z"
   },
   {
    "duration": 29,
    "start_time": "2023-12-28T20:09:45.368Z"
   },
   {
    "duration": 29,
    "start_time": "2023-12-28T20:09:45.399Z"
   },
   {
    "duration": 4,
    "start_time": "2023-12-28T20:09:45.430Z"
   },
   {
    "duration": 34,
    "start_time": "2023-12-28T20:09:45.443Z"
   },
   {
    "duration": 41,
    "start_time": "2023-12-28T20:09:45.478Z"
   },
   {
    "duration": 40,
    "start_time": "2023-12-28T20:09:45.521Z"
   },
   {
    "duration": 29,
    "start_time": "2023-12-28T20:09:45.563Z"
   },
   {
    "duration": 29,
    "start_time": "2023-12-28T20:09:45.594Z"
   },
   {
    "duration": 17,
    "start_time": "2023-12-28T20:09:45.625Z"
   },
   {
    "duration": 20,
    "start_time": "2023-12-28T20:09:45.644Z"
   },
   {
    "duration": 31,
    "start_time": "2023-12-28T20:09:45.665Z"
   },
   {
    "duration": 792,
    "start_time": "2023-12-28T20:09:45.698Z"
   },
   {
    "duration": 477,
    "start_time": "2023-12-28T20:09:46.491Z"
   },
   {
    "duration": 18,
    "start_time": "2023-12-28T20:09:46.971Z"
   },
   {
    "duration": 15,
    "start_time": "2023-12-28T20:09:46.991Z"
   },
   {
    "duration": 24,
    "start_time": "2023-12-28T20:09:47.008Z"
   },
   {
    "duration": 87,
    "start_time": "2023-12-28T20:09:47.034Z"
   },
   {
    "duration": 25,
    "start_time": "2023-12-28T20:09:47.123Z"
   },
   {
    "duration": 36,
    "start_time": "2023-12-28T20:09:47.150Z"
   },
   {
    "duration": 131,
    "start_time": "2023-12-28T20:09:47.189Z"
   },
   {
    "duration": 13,
    "start_time": "2023-12-28T20:09:47.326Z"
   },
   {
    "duration": 30,
    "start_time": "2023-12-28T20:09:47.341Z"
   },
   {
    "duration": 29,
    "start_time": "2023-12-28T20:09:47.373Z"
   },
   {
    "duration": 12,
    "start_time": "2023-12-28T20:09:47.404Z"
   },
   {
    "duration": 18,
    "start_time": "2023-12-28T20:09:47.418Z"
   },
   {
    "duration": 39,
    "start_time": "2023-12-28T20:09:47.438Z"
   },
   {
    "duration": 24,
    "start_time": "2023-12-28T20:09:47.479Z"
   },
   {
    "duration": 13,
    "start_time": "2023-12-28T20:09:47.504Z"
   },
   {
    "duration": 29,
    "start_time": "2023-12-28T20:09:47.518Z"
   },
   {
    "duration": 33,
    "start_time": "2023-12-28T20:09:47.549Z"
   },
   {
    "duration": 14,
    "start_time": "2023-12-28T20:09:47.584Z"
   },
   {
    "duration": 32,
    "start_time": "2023-12-28T20:09:47.600Z"
   },
   {
    "duration": 15,
    "start_time": "2023-12-28T20:09:47.634Z"
   },
   {
    "duration": 34,
    "start_time": "2023-12-28T20:09:47.650Z"
   },
   {
    "duration": 67521,
    "start_time": "2023-12-28T20:09:47.686Z"
   },
   {
    "duration": 5,
    "start_time": "2023-12-28T20:10:55.208Z"
   },
   {
    "duration": 28,
    "start_time": "2023-12-28T20:10:55.214Z"
   },
   {
    "duration": 19,
    "start_time": "2023-12-28T20:10:55.244Z"
   },
   {
    "duration": 31,
    "start_time": "2023-12-28T20:10:55.264Z"
   },
   {
    "duration": 14,
    "start_time": "2023-12-28T20:10:55.296Z"
   },
   {
    "duration": 7,
    "start_time": "2023-12-28T20:10:55.311Z"
   },
   {
    "duration": 4,
    "start_time": "2023-12-28T20:10:55.319Z"
   },
   {
    "duration": 15,
    "start_time": "2023-12-28T20:10:55.324Z"
   },
   {
    "duration": 26,
    "start_time": "2023-12-28T20:10:55.341Z"
   },
   {
    "duration": 10,
    "start_time": "2023-12-28T20:10:55.369Z"
   },
   {
    "duration": 37,
    "start_time": "2023-12-28T20:10:55.380Z"
   },
   {
    "duration": 3,
    "start_time": "2023-12-28T20:10:55.418Z"
   },
   {
    "duration": 21,
    "start_time": "2023-12-28T20:10:55.422Z"
   },
   {
    "duration": 10,
    "start_time": "2023-12-28T20:10:55.445Z"
   },
   {
    "duration": 500163,
    "start_time": "2023-12-28T20:10:55.457Z"
   },
   {
    "duration": 9,
    "start_time": "2023-12-28T20:19:15.623Z"
   },
   {
    "duration": 41,
    "start_time": "2023-12-28T20:19:15.634Z"
   },
   {
    "duration": 17,
    "start_time": "2023-12-28T20:19:15.677Z"
   },
   {
    "duration": 16,
    "start_time": "2023-12-28T20:19:15.696Z"
   },
   {
    "duration": 200,
    "start_time": "2023-12-28T20:19:15.713Z"
   },
   {
    "duration": 5,
    "start_time": "2023-12-28T20:19:15.914Z"
   },
   {
    "duration": 10,
    "start_time": "2023-12-28T20:19:15.920Z"
   },
   {
    "duration": 140,
    "start_time": "2023-12-28T20:19:15.931Z"
   },
   {
    "duration": 10,
    "start_time": "2023-12-28T20:19:16.073Z"
   },
   {
    "duration": 1635,
    "start_time": "2023-12-29T07:36:54.613Z"
   },
   {
    "duration": 241,
    "start_time": "2023-12-29T07:36:56.250Z"
   },
   {
    "duration": 14,
    "start_time": "2023-12-29T07:36:56.493Z"
   },
   {
    "duration": 12,
    "start_time": "2023-12-29T07:36:56.509Z"
   },
   {
    "duration": 15,
    "start_time": "2023-12-29T07:36:56.523Z"
   },
   {
    "duration": 109,
    "start_time": "2023-12-29T07:36:56.540Z"
   },
   {
    "duration": 15,
    "start_time": "2023-12-29T07:36:56.651Z"
   },
   {
    "duration": 11,
    "start_time": "2023-12-29T07:36:56.668Z"
   },
   {
    "duration": 8,
    "start_time": "2023-12-29T07:36:56.681Z"
   },
   {
    "duration": 118,
    "start_time": "2023-12-29T07:36:56.716Z"
   },
   {
    "duration": 130,
    "start_time": "2023-12-29T07:36:56.836Z"
   },
   {
    "duration": 10,
    "start_time": "2023-12-29T07:36:56.967Z"
   },
   {
    "duration": 12,
    "start_time": "2023-12-29T07:36:56.978Z"
   },
   {
    "duration": 28,
    "start_time": "2023-12-29T07:36:56.992Z"
   },
   {
    "duration": 125,
    "start_time": "2023-12-29T07:36:57.022Z"
   },
   {
    "duration": 198,
    "start_time": "2023-12-29T07:36:57.149Z"
   },
   {
    "duration": 119,
    "start_time": "2023-12-29T07:36:57.348Z"
   },
   {
    "duration": 7,
    "start_time": "2023-12-29T07:36:57.468Z"
   },
   {
    "duration": 125,
    "start_time": "2023-12-29T07:36:57.476Z"
   },
   {
    "duration": 2,
    "start_time": "2023-12-29T07:36:57.603Z"
   },
   {
    "duration": 14,
    "start_time": "2023-12-29T07:36:57.614Z"
   },
   {
    "duration": 23,
    "start_time": "2023-12-29T07:36:57.630Z"
   },
   {
    "duration": 4,
    "start_time": "2023-12-29T07:36:57.654Z"
   },
   {
    "duration": 31,
    "start_time": "2023-12-29T07:36:57.659Z"
   },
   {
    "duration": 26,
    "start_time": "2023-12-29T07:36:57.692Z"
   },
   {
    "duration": 8,
    "start_time": "2023-12-29T07:36:57.720Z"
   },
   {
    "duration": 15,
    "start_time": "2023-12-29T07:36:57.730Z"
   },
   {
    "duration": 4,
    "start_time": "2023-12-29T07:36:57.749Z"
   },
   {
    "duration": 5,
    "start_time": "2023-12-29T07:36:57.754Z"
   },
   {
    "duration": 3,
    "start_time": "2023-12-29T07:36:57.761Z"
   },
   {
    "duration": 3,
    "start_time": "2023-12-29T07:36:57.765Z"
   },
   {
    "duration": 680,
    "start_time": "2023-12-29T07:36:57.770Z"
   },
   {
    "duration": 382,
    "start_time": "2023-12-29T07:36:58.451Z"
   },
   {
    "duration": 19,
    "start_time": "2023-12-29T07:36:58.834Z"
   },
   {
    "duration": 17,
    "start_time": "2023-12-29T07:36:58.855Z"
   },
   {
    "duration": 21,
    "start_time": "2023-12-29T07:36:58.874Z"
   },
   {
    "duration": 48,
    "start_time": "2023-12-29T07:36:58.896Z"
   },
   {
    "duration": 19,
    "start_time": "2023-12-29T07:36:58.945Z"
   },
   {
    "duration": 19,
    "start_time": "2023-12-29T07:36:58.965Z"
   },
   {
    "duration": 119,
    "start_time": "2023-12-29T07:36:58.986Z"
   },
   {
    "duration": 7,
    "start_time": "2023-12-29T07:36:59.107Z"
   },
   {
    "duration": 4,
    "start_time": "2023-12-29T07:36:59.116Z"
   },
   {
    "duration": 13,
    "start_time": "2023-12-29T07:36:59.121Z"
   },
   {
    "duration": 3,
    "start_time": "2023-12-29T07:36:59.135Z"
   },
   {
    "duration": 4,
    "start_time": "2023-12-29T07:36:59.139Z"
   },
   {
    "duration": 23,
    "start_time": "2023-12-29T07:36:59.144Z"
   },
   {
    "duration": 17,
    "start_time": "2023-12-29T07:36:59.169Z"
   },
   {
    "duration": 4,
    "start_time": "2023-12-29T07:36:59.214Z"
   },
   {
    "duration": 5,
    "start_time": "2023-12-29T07:36:59.220Z"
   },
   {
    "duration": 9,
    "start_time": "2023-12-29T07:36:59.227Z"
   },
   {
    "duration": 5,
    "start_time": "2023-12-29T07:36:59.237Z"
   },
   {
    "duration": 20,
    "start_time": "2023-12-29T07:36:59.243Z"
   },
   {
    "duration": 4,
    "start_time": "2023-12-29T07:36:59.265Z"
   },
   {
    "duration": 5,
    "start_time": "2023-12-29T07:36:59.271Z"
   },
   {
    "duration": 66781,
    "start_time": "2023-12-29T07:36:59.277Z"
   },
   {
    "duration": 6,
    "start_time": "2023-12-29T07:38:06.059Z"
   },
   {
    "duration": 6,
    "start_time": "2023-12-29T07:38:06.067Z"
   },
   {
    "duration": 12,
    "start_time": "2023-12-29T07:38:06.075Z"
   },
   {
    "duration": 3,
    "start_time": "2023-12-29T07:38:06.089Z"
   },
   {
    "duration": 8,
    "start_time": "2023-12-29T07:38:06.115Z"
   },
   {
    "duration": 17,
    "start_time": "2023-12-29T07:38:06.124Z"
   },
   {
    "duration": 8,
    "start_time": "2023-12-29T07:38:06.143Z"
   },
   {
    "duration": 25,
    "start_time": "2023-12-29T07:38:06.153Z"
   },
   {
    "duration": 37,
    "start_time": "2023-12-29T07:38:06.180Z"
   },
   {
    "duration": 13,
    "start_time": "2023-12-29T07:38:06.219Z"
   },
   {
    "duration": 35,
    "start_time": "2023-12-29T07:38:06.234Z"
   },
   {
    "duration": 5,
    "start_time": "2023-12-29T07:38:06.270Z"
   },
   {
    "duration": 10,
    "start_time": "2023-12-29T07:38:06.276Z"
   },
   {
    "duration": 27,
    "start_time": "2023-12-29T07:38:06.288Z"
   },
   {
    "duration": 480462,
    "start_time": "2023-12-29T07:38:06.317Z"
   },
   {
    "duration": 7,
    "start_time": "2023-12-29T07:46:06.781Z"
   },
   {
    "duration": 46,
    "start_time": "2023-12-29T07:46:06.790Z"
   },
   {
    "duration": 18,
    "start_time": "2023-12-29T07:46:06.838Z"
   },
   {
    "duration": 16,
    "start_time": "2023-12-29T07:46:06.858Z"
   },
   {
    "duration": 178,
    "start_time": "2023-12-29T07:46:06.876Z"
   },
   {
    "duration": 5,
    "start_time": "2023-12-29T07:46:07.056Z"
   },
   {
    "duration": 5,
    "start_time": "2023-12-29T07:46:07.063Z"
   },
   {
    "duration": 154,
    "start_time": "2023-12-29T07:46:07.070Z"
   },
   {
    "duration": 11,
    "start_time": "2023-12-29T07:46:07.227Z"
   },
   {
    "duration": 46,
    "start_time": "2023-12-29T13:30:22.394Z"
   },
   {
    "duration": 1567,
    "start_time": "2023-12-29T13:31:10.535Z"
   },
   {
    "duration": 284,
    "start_time": "2023-12-29T13:31:12.104Z"
   },
   {
    "duration": 14,
    "start_time": "2023-12-29T13:31:12.389Z"
   },
   {
    "duration": 15,
    "start_time": "2023-12-29T13:31:12.405Z"
   },
   {
    "duration": 12,
    "start_time": "2023-12-29T13:31:12.421Z"
   },
   {
    "duration": 102,
    "start_time": "2023-12-29T13:31:12.434Z"
   },
   {
    "duration": 14,
    "start_time": "2023-12-29T13:31:12.537Z"
   },
   {
    "duration": 10,
    "start_time": "2023-12-29T13:31:12.552Z"
   },
   {
    "duration": 7,
    "start_time": "2023-12-29T13:31:12.563Z"
   },
   {
    "duration": 125,
    "start_time": "2023-12-29T13:31:12.572Z"
   },
   {
    "duration": 124,
    "start_time": "2023-12-29T13:31:12.698Z"
   },
   {
    "duration": 10,
    "start_time": "2023-12-29T13:31:12.824Z"
   },
   {
    "duration": 16,
    "start_time": "2023-12-29T13:31:12.836Z"
   },
   {
    "duration": 15,
    "start_time": "2023-12-29T13:31:12.853Z"
   },
   {
    "duration": 130,
    "start_time": "2023-12-29T13:31:12.869Z"
   },
   {
    "duration": 178,
    "start_time": "2023-12-29T13:31:13.001Z"
   },
   {
    "duration": 118,
    "start_time": "2023-12-29T13:31:13.181Z"
   },
   {
    "duration": 6,
    "start_time": "2023-12-29T13:31:13.301Z"
   },
   {
    "duration": 116,
    "start_time": "2023-12-29T13:31:13.308Z"
   },
   {
    "duration": 2,
    "start_time": "2023-12-29T13:31:13.426Z"
   },
   {
    "duration": 13,
    "start_time": "2023-12-29T13:31:13.429Z"
   },
   {
    "duration": 23,
    "start_time": "2023-12-29T13:31:13.443Z"
   },
   {
    "duration": 4,
    "start_time": "2023-12-29T13:31:13.467Z"
   },
   {
    "duration": 48,
    "start_time": "2023-12-29T13:31:13.472Z"
   },
   {
    "duration": 9,
    "start_time": "2023-12-29T13:31:13.522Z"
   },
   {
    "duration": 8,
    "start_time": "2023-12-29T13:31:13.532Z"
   },
   {
    "duration": 16,
    "start_time": "2023-12-29T13:31:13.541Z"
   },
   {
    "duration": 5,
    "start_time": "2023-12-29T13:31:13.563Z"
   },
   {
    "duration": 5,
    "start_time": "2023-12-29T13:31:13.570Z"
   },
   {
    "duration": 6,
    "start_time": "2023-12-29T13:31:13.576Z"
   },
   {
    "duration": 32,
    "start_time": "2023-12-29T13:31:13.583Z"
   },
   {
    "duration": 605,
    "start_time": "2023-12-29T13:31:13.617Z"
   },
   {
    "duration": 368,
    "start_time": "2023-12-29T13:31:14.223Z"
   },
   {
    "duration": 23,
    "start_time": "2023-12-29T13:31:14.593Z"
   },
   {
    "duration": 4,
    "start_time": "2023-12-29T13:31:14.617Z"
   },
   {
    "duration": 37,
    "start_time": "2023-12-29T13:31:14.623Z"
   },
   {
    "duration": 44,
    "start_time": "2023-12-29T13:31:14.662Z"
   },
   {
    "duration": 24,
    "start_time": "2023-12-29T13:31:14.707Z"
   },
   {
    "duration": 119,
    "start_time": "2023-12-29T13:31:14.732Z"
   },
   {
    "duration": 0,
    "start_time": "2023-12-29T13:31:14.852Z"
   },
   {
    "duration": 0,
    "start_time": "2023-12-29T13:31:14.853Z"
   },
   {
    "duration": 0,
    "start_time": "2023-12-29T13:31:14.854Z"
   },
   {
    "duration": 0,
    "start_time": "2023-12-29T13:31:14.855Z"
   },
   {
    "duration": 0,
    "start_time": "2023-12-29T13:31:14.856Z"
   },
   {
    "duration": 0,
    "start_time": "2023-12-29T13:31:14.965Z"
   },
   {
    "duration": 0,
    "start_time": "2023-12-29T13:31:14.966Z"
   },
   {
    "duration": 0,
    "start_time": "2023-12-29T13:31:14.967Z"
   },
   {
    "duration": 0,
    "start_time": "2023-12-29T13:31:14.968Z"
   },
   {
    "duration": 0,
    "start_time": "2023-12-29T13:31:14.969Z"
   },
   {
    "duration": 0,
    "start_time": "2023-12-29T13:31:14.970Z"
   },
   {
    "duration": 0,
    "start_time": "2023-12-29T13:31:14.971Z"
   },
   {
    "duration": 0,
    "start_time": "2023-12-29T13:31:14.972Z"
   },
   {
    "duration": 0,
    "start_time": "2023-12-29T13:31:14.973Z"
   },
   {
    "duration": 0,
    "start_time": "2023-12-29T13:31:14.974Z"
   },
   {
    "duration": 0,
    "start_time": "2023-12-29T13:31:14.975Z"
   },
   {
    "duration": 0,
    "start_time": "2023-12-29T13:31:14.975Z"
   },
   {
    "duration": 0,
    "start_time": "2023-12-29T13:31:14.977Z"
   },
   {
    "duration": 0,
    "start_time": "2023-12-29T13:31:14.978Z"
   },
   {
    "duration": 0,
    "start_time": "2023-12-29T13:31:14.979Z"
   },
   {
    "duration": 0,
    "start_time": "2023-12-29T13:31:14.980Z"
   },
   {
    "duration": 0,
    "start_time": "2023-12-29T13:31:14.980Z"
   },
   {
    "duration": 0,
    "start_time": "2023-12-29T13:31:14.982Z"
   },
   {
    "duration": 0,
    "start_time": "2023-12-29T13:31:14.983Z"
   },
   {
    "duration": 0,
    "start_time": "2023-12-29T13:31:14.983Z"
   },
   {
    "duration": 0,
    "start_time": "2023-12-29T13:31:15.015Z"
   },
   {
    "duration": 0,
    "start_time": "2023-12-29T13:31:15.016Z"
   },
   {
    "duration": 0,
    "start_time": "2023-12-29T13:31:15.017Z"
   },
   {
    "duration": 0,
    "start_time": "2023-12-29T13:31:15.018Z"
   },
   {
    "duration": 0,
    "start_time": "2023-12-29T13:31:15.019Z"
   },
   {
    "duration": 0,
    "start_time": "2023-12-29T13:31:15.020Z"
   },
   {
    "duration": 0,
    "start_time": "2023-12-29T13:31:15.021Z"
   },
   {
    "duration": 0,
    "start_time": "2023-12-29T13:31:15.022Z"
   },
   {
    "duration": 0,
    "start_time": "2023-12-29T13:31:15.023Z"
   },
   {
    "duration": 0,
    "start_time": "2023-12-29T13:31:15.024Z"
   },
   {
    "duration": 0,
    "start_time": "2023-12-29T13:31:15.025Z"
   },
   {
    "duration": 0,
    "start_time": "2023-12-29T13:31:15.026Z"
   },
   {
    "duration": 0,
    "start_time": "2023-12-29T13:31:15.027Z"
   },
   {
    "duration": 0,
    "start_time": "2023-12-29T13:31:15.028Z"
   },
   {
    "duration": 0,
    "start_time": "2023-12-29T13:31:15.030Z"
   },
   {
    "duration": 1391,
    "start_time": "2023-12-29T13:33:39.143Z"
   },
   {
    "duration": 190,
    "start_time": "2023-12-29T13:33:40.536Z"
   },
   {
    "duration": 14,
    "start_time": "2023-12-29T13:33:40.727Z"
   },
   {
    "duration": 22,
    "start_time": "2023-12-29T13:33:40.742Z"
   },
   {
    "duration": 12,
    "start_time": "2023-12-29T13:33:40.766Z"
   },
   {
    "duration": 104,
    "start_time": "2023-12-29T13:33:40.779Z"
   },
   {
    "duration": 14,
    "start_time": "2023-12-29T13:33:40.885Z"
   },
   {
    "duration": 20,
    "start_time": "2023-12-29T13:33:40.901Z"
   },
   {
    "duration": 7,
    "start_time": "2023-12-29T13:33:40.923Z"
   },
   {
    "duration": 123,
    "start_time": "2023-12-29T13:33:40.934Z"
   },
   {
    "duration": 128,
    "start_time": "2023-12-29T13:33:41.058Z"
   },
   {
    "duration": 11,
    "start_time": "2023-12-29T13:33:41.189Z"
   },
   {
    "duration": 14,
    "start_time": "2023-12-29T13:33:41.214Z"
   },
   {
    "duration": 17,
    "start_time": "2023-12-29T13:33:41.230Z"
   },
   {
    "duration": 135,
    "start_time": "2023-12-29T13:33:41.251Z"
   },
   {
    "duration": 190,
    "start_time": "2023-12-29T13:33:41.388Z"
   },
   {
    "duration": 120,
    "start_time": "2023-12-29T13:33:41.579Z"
   },
   {
    "duration": 7,
    "start_time": "2023-12-29T13:33:41.700Z"
   },
   {
    "duration": 123,
    "start_time": "2023-12-29T13:33:41.708Z"
   },
   {
    "duration": 2,
    "start_time": "2023-12-29T13:33:41.833Z"
   },
   {
    "duration": 16,
    "start_time": "2023-12-29T13:33:41.837Z"
   },
   {
    "duration": 23,
    "start_time": "2023-12-29T13:33:41.855Z"
   },
   {
    "duration": 4,
    "start_time": "2023-12-29T13:33:41.879Z"
   },
   {
    "duration": 43,
    "start_time": "2023-12-29T13:33:41.884Z"
   },
   {
    "duration": 7,
    "start_time": "2023-12-29T13:33:41.929Z"
   },
   {
    "duration": 10,
    "start_time": "2023-12-29T13:33:41.937Z"
   },
   {
    "duration": 15,
    "start_time": "2023-12-29T13:33:41.949Z"
   },
   {
    "duration": 4,
    "start_time": "2023-12-29T13:33:41.967Z"
   },
   {
    "duration": 8,
    "start_time": "2023-12-29T13:33:41.973Z"
   },
   {
    "duration": 32,
    "start_time": "2023-12-29T13:33:41.982Z"
   },
   {
    "duration": 3,
    "start_time": "2023-12-29T13:33:42.016Z"
   },
   {
    "duration": 620,
    "start_time": "2023-12-29T13:33:42.020Z"
   },
   {
    "duration": 376,
    "start_time": "2023-12-29T13:33:42.641Z"
   },
   {
    "duration": 14,
    "start_time": "2023-12-29T13:33:43.018Z"
   },
   {
    "duration": 3,
    "start_time": "2023-12-29T13:33:43.034Z"
   },
   {
    "duration": 26,
    "start_time": "2023-12-29T13:33:43.039Z"
   },
   {
    "duration": 3,
    "start_time": "2023-12-29T13:33:43.066Z"
   },
   {
    "duration": 19,
    "start_time": "2023-12-29T13:33:43.070Z"
   },
   {
    "duration": 142,
    "start_time": "2023-12-29T13:33:43.091Z"
   },
   {
    "duration": 0,
    "start_time": "2023-12-29T13:33:43.234Z"
   },
   {
    "duration": 0,
    "start_time": "2023-12-29T13:33:43.235Z"
   },
   {
    "duration": 0,
    "start_time": "2023-12-29T13:33:43.236Z"
   },
   {
    "duration": 0,
    "start_time": "2023-12-29T13:33:43.237Z"
   },
   {
    "duration": 0,
    "start_time": "2023-12-29T13:33:43.237Z"
   },
   {
    "duration": 0,
    "start_time": "2023-12-29T13:33:43.238Z"
   },
   {
    "duration": 0,
    "start_time": "2023-12-29T13:33:43.239Z"
   },
   {
    "duration": 0,
    "start_time": "2023-12-29T13:33:43.240Z"
   },
   {
    "duration": 0,
    "start_time": "2023-12-29T13:33:43.340Z"
   },
   {
    "duration": 0,
    "start_time": "2023-12-29T13:33:43.342Z"
   },
   {
    "duration": 0,
    "start_time": "2023-12-29T13:33:43.342Z"
   },
   {
    "duration": 0,
    "start_time": "2023-12-29T13:33:43.343Z"
   },
   {
    "duration": 0,
    "start_time": "2023-12-29T13:33:43.344Z"
   },
   {
    "duration": 0,
    "start_time": "2023-12-29T13:33:43.345Z"
   },
   {
    "duration": 0,
    "start_time": "2023-12-29T13:33:43.346Z"
   },
   {
    "duration": 0,
    "start_time": "2023-12-29T13:33:43.347Z"
   },
   {
    "duration": 0,
    "start_time": "2023-12-29T13:33:43.348Z"
   },
   {
    "duration": 0,
    "start_time": "2023-12-29T13:33:43.349Z"
   },
   {
    "duration": 0,
    "start_time": "2023-12-29T13:33:43.351Z"
   },
   {
    "duration": 0,
    "start_time": "2023-12-29T13:33:43.352Z"
   },
   {
    "duration": 0,
    "start_time": "2023-12-29T13:33:43.353Z"
   },
   {
    "duration": 0,
    "start_time": "2023-12-29T13:33:43.354Z"
   },
   {
    "duration": 0,
    "start_time": "2023-12-29T13:33:43.355Z"
   },
   {
    "duration": 0,
    "start_time": "2023-12-29T13:33:43.355Z"
   },
   {
    "duration": 0,
    "start_time": "2023-12-29T13:33:43.357Z"
   },
   {
    "duration": 0,
    "start_time": "2023-12-29T13:33:43.358Z"
   },
   {
    "duration": 0,
    "start_time": "2023-12-29T13:33:43.359Z"
   },
   {
    "duration": 0,
    "start_time": "2023-12-29T13:33:43.360Z"
   },
   {
    "duration": 0,
    "start_time": "2023-12-29T13:33:43.361Z"
   },
   {
    "duration": 0,
    "start_time": "2023-12-29T13:33:43.362Z"
   },
   {
    "duration": 0,
    "start_time": "2023-12-29T13:33:43.363Z"
   },
   {
    "duration": 0,
    "start_time": "2023-12-29T13:33:43.363Z"
   },
   {
    "duration": 0,
    "start_time": "2023-12-29T13:33:43.365Z"
   },
   {
    "duration": 0,
    "start_time": "2023-12-29T13:33:43.366Z"
   },
   {
    "duration": 0,
    "start_time": "2023-12-29T13:33:43.367Z"
   },
   {
    "duration": 0,
    "start_time": "2023-12-29T13:33:43.369Z"
   },
   {
    "duration": 0,
    "start_time": "2023-12-29T13:33:43.370Z"
   },
   {
    "duration": 0,
    "start_time": "2023-12-29T13:33:43.414Z"
   },
   {
    "duration": 0,
    "start_time": "2023-12-29T13:33:43.415Z"
   },
   {
    "duration": 0,
    "start_time": "2023-12-29T13:33:43.416Z"
   },
   {
    "duration": 49,
    "start_time": "2023-12-29T13:36:39.013Z"
   },
   {
    "duration": 8,
    "start_time": "2023-12-29T13:36:42.816Z"
   },
   {
    "duration": 8,
    "start_time": "2023-12-29T13:36:55.388Z"
   },
   {
    "duration": 27,
    "start_time": "2023-12-29T13:37:11.312Z"
   },
   {
    "duration": 1436,
    "start_time": "2023-12-29T13:38:10.873Z"
   },
   {
    "duration": 216,
    "start_time": "2023-12-29T13:38:12.311Z"
   },
   {
    "duration": 14,
    "start_time": "2023-12-29T13:38:12.529Z"
   },
   {
    "duration": 12,
    "start_time": "2023-12-29T13:38:12.545Z"
   },
   {
    "duration": 18,
    "start_time": "2023-12-29T13:38:12.558Z"
   },
   {
    "duration": 103,
    "start_time": "2023-12-29T13:38:12.577Z"
   },
   {
    "duration": 15,
    "start_time": "2023-12-29T13:38:12.682Z"
   },
   {
    "duration": 23,
    "start_time": "2023-12-29T13:38:12.698Z"
   },
   {
    "duration": 7,
    "start_time": "2023-12-29T13:38:12.723Z"
   },
   {
    "duration": 135,
    "start_time": "2023-12-29T13:38:12.733Z"
   },
   {
    "duration": 122,
    "start_time": "2023-12-29T13:38:12.869Z"
   },
   {
    "duration": 10,
    "start_time": "2023-12-29T13:38:12.993Z"
   },
   {
    "duration": 20,
    "start_time": "2023-12-29T13:38:13.005Z"
   },
   {
    "duration": 35,
    "start_time": "2023-12-29T13:38:13.027Z"
   },
   {
    "duration": 121,
    "start_time": "2023-12-29T13:38:13.064Z"
   },
   {
    "duration": 183,
    "start_time": "2023-12-29T13:38:13.186Z"
   },
   {
    "duration": 125,
    "start_time": "2023-12-29T13:38:13.371Z"
   },
   {
    "duration": 7,
    "start_time": "2023-12-29T13:38:13.497Z"
   },
   {
    "duration": 141,
    "start_time": "2023-12-29T13:38:13.515Z"
   },
   {
    "duration": 3,
    "start_time": "2023-12-29T13:38:13.657Z"
   },
   {
    "duration": 30,
    "start_time": "2023-12-29T13:38:13.661Z"
   },
   {
    "duration": 29,
    "start_time": "2023-12-29T13:38:13.693Z"
   },
   {
    "duration": 3,
    "start_time": "2023-12-29T13:38:13.724Z"
   },
   {
    "duration": 24,
    "start_time": "2023-12-29T13:38:13.729Z"
   },
   {
    "duration": 12,
    "start_time": "2023-12-29T13:38:13.754Z"
   },
   {
    "duration": 32,
    "start_time": "2023-12-29T13:38:13.768Z"
   },
   {
    "duration": 16,
    "start_time": "2023-12-29T13:38:13.802Z"
   },
   {
    "duration": 4,
    "start_time": "2023-12-29T13:38:13.822Z"
   },
   {
    "duration": 21,
    "start_time": "2023-12-29T13:38:13.827Z"
   },
   {
    "duration": 21,
    "start_time": "2023-12-29T13:38:13.849Z"
   },
   {
    "duration": 15,
    "start_time": "2023-12-29T13:38:13.871Z"
   },
   {
    "duration": 645,
    "start_time": "2023-12-29T13:38:13.887Z"
   },
   {
    "duration": 413,
    "start_time": "2023-12-29T13:38:14.534Z"
   },
   {
    "duration": 15,
    "start_time": "2023-12-29T13:38:14.948Z"
   },
   {
    "duration": 11,
    "start_time": "2023-12-29T13:38:14.964Z"
   },
   {
    "duration": 28,
    "start_time": "2023-12-29T13:38:14.976Z"
   },
   {
    "duration": 9,
    "start_time": "2023-12-29T13:38:15.006Z"
   },
   {
    "duration": 65,
    "start_time": "2023-12-29T13:38:15.016Z"
   },
   {
    "duration": 178,
    "start_time": "2023-12-29T13:38:15.083Z"
   },
   {
    "duration": 9,
    "start_time": "2023-12-29T13:38:15.262Z"
   },
   {
    "duration": 30,
    "start_time": "2023-12-29T13:38:15.272Z"
   },
   {
    "duration": 30,
    "start_time": "2023-12-29T13:38:15.303Z"
   },
   {
    "duration": 11,
    "start_time": "2023-12-29T13:38:15.334Z"
   },
   {
    "duration": 20,
    "start_time": "2023-12-29T13:38:15.347Z"
   },
   {
    "duration": 4,
    "start_time": "2023-12-29T13:38:15.368Z"
   },
   {
    "duration": 11,
    "start_time": "2023-12-29T13:38:15.374Z"
   },
   {
    "duration": 24,
    "start_time": "2023-12-29T13:38:15.387Z"
   },
   {
    "duration": 17,
    "start_time": "2023-12-29T13:38:15.412Z"
   },
   {
    "duration": 4,
    "start_time": "2023-12-29T13:38:15.430Z"
   },
   {
    "duration": 11,
    "start_time": "2023-12-29T13:38:15.436Z"
   },
   {
    "duration": 24,
    "start_time": "2023-12-29T13:38:15.449Z"
   },
   {
    "duration": 21,
    "start_time": "2023-12-29T13:38:15.475Z"
   },
   {
    "duration": 10,
    "start_time": "2023-12-29T13:38:15.498Z"
   },
   {
    "duration": 12,
    "start_time": "2023-12-29T13:38:15.509Z"
   },
   {
    "duration": 9,
    "start_time": "2023-12-29T13:38:15.522Z"
   },
   {
    "duration": 462,
    "start_time": "2023-12-29T13:38:15.533Z"
   },
   {
    "duration": 0,
    "start_time": "2023-12-29T13:38:15.997Z"
   },
   {
    "duration": 0,
    "start_time": "2023-12-29T13:38:15.998Z"
   },
   {
    "duration": 0,
    "start_time": "2023-12-29T13:38:15.999Z"
   },
   {
    "duration": 0,
    "start_time": "2023-12-29T13:38:16.000Z"
   },
   {
    "duration": 0,
    "start_time": "2023-12-29T13:38:16.001Z"
   },
   {
    "duration": 0,
    "start_time": "2023-12-29T13:38:16.002Z"
   },
   {
    "duration": 0,
    "start_time": "2023-12-29T13:38:16.014Z"
   },
   {
    "duration": 0,
    "start_time": "2023-12-29T13:38:16.015Z"
   },
   {
    "duration": 0,
    "start_time": "2023-12-29T13:38:16.017Z"
   },
   {
    "duration": 0,
    "start_time": "2023-12-29T13:38:16.018Z"
   },
   {
    "duration": 0,
    "start_time": "2023-12-29T13:38:16.019Z"
   },
   {
    "duration": 0,
    "start_time": "2023-12-29T13:38:16.020Z"
   },
   {
    "duration": 0,
    "start_time": "2023-12-29T13:38:16.020Z"
   },
   {
    "duration": 0,
    "start_time": "2023-12-29T13:38:16.022Z"
   },
   {
    "duration": 0,
    "start_time": "2023-12-29T13:38:16.023Z"
   },
   {
    "duration": 0,
    "start_time": "2023-12-29T13:38:16.024Z"
   },
   {
    "duration": 0,
    "start_time": "2023-12-29T13:38:16.025Z"
   },
   {
    "duration": 0,
    "start_time": "2023-12-29T13:38:16.026Z"
   },
   {
    "duration": 0,
    "start_time": "2023-12-29T13:38:16.027Z"
   },
   {
    "duration": 0,
    "start_time": "2023-12-29T13:38:16.028Z"
   },
   {
    "duration": 0,
    "start_time": "2023-12-29T13:38:16.029Z"
   },
   {
    "duration": 0,
    "start_time": "2023-12-29T13:38:16.030Z"
   },
   {
    "duration": 0,
    "start_time": "2023-12-29T13:38:16.031Z"
   },
   {
    "duration": 0,
    "start_time": "2023-12-29T13:38:16.032Z"
   },
   {
    "duration": 1360,
    "start_time": "2023-12-29T13:39:18.246Z"
   },
   {
    "duration": 189,
    "start_time": "2023-12-29T13:39:19.607Z"
   },
   {
    "duration": 15,
    "start_time": "2023-12-29T13:39:19.798Z"
   },
   {
    "duration": 11,
    "start_time": "2023-12-29T13:39:19.815Z"
   },
   {
    "duration": 16,
    "start_time": "2023-12-29T13:39:19.828Z"
   },
   {
    "duration": 103,
    "start_time": "2023-12-29T13:39:19.846Z"
   },
   {
    "duration": 14,
    "start_time": "2023-12-29T13:39:19.951Z"
   },
   {
    "duration": 10,
    "start_time": "2023-12-29T13:39:19.967Z"
   },
   {
    "duration": 7,
    "start_time": "2023-12-29T13:39:19.979Z"
   },
   {
    "duration": 135,
    "start_time": "2023-12-29T13:39:19.988Z"
   },
   {
    "duration": 122,
    "start_time": "2023-12-29T13:39:20.124Z"
   },
   {
    "duration": 10,
    "start_time": "2023-12-29T13:39:20.248Z"
   },
   {
    "duration": 14,
    "start_time": "2023-12-29T13:39:20.259Z"
   },
   {
    "duration": 14,
    "start_time": "2023-12-29T13:39:20.276Z"
   },
   {
    "duration": 138,
    "start_time": "2023-12-29T13:39:20.292Z"
   },
   {
    "duration": 194,
    "start_time": "2023-12-29T13:39:20.432Z"
   },
   {
    "duration": 114,
    "start_time": "2023-12-29T13:39:20.627Z"
   },
   {
    "duration": 6,
    "start_time": "2023-12-29T13:39:20.742Z"
   },
   {
    "duration": 130,
    "start_time": "2023-12-29T13:39:20.750Z"
   },
   {
    "duration": 2,
    "start_time": "2023-12-29T13:39:20.881Z"
   },
   {
    "duration": 32,
    "start_time": "2023-12-29T13:39:20.885Z"
   },
   {
    "duration": 35,
    "start_time": "2023-12-29T13:39:20.919Z"
   },
   {
    "duration": 3,
    "start_time": "2023-12-29T13:39:20.956Z"
   },
   {
    "duration": 30,
    "start_time": "2023-12-29T13:39:20.961Z"
   },
   {
    "duration": 25,
    "start_time": "2023-12-29T13:39:20.993Z"
   },
   {
    "duration": 22,
    "start_time": "2023-12-29T13:39:21.020Z"
   },
   {
    "duration": 15,
    "start_time": "2023-12-29T13:39:21.044Z"
   },
   {
    "duration": 4,
    "start_time": "2023-12-29T13:39:21.061Z"
   },
   {
    "duration": 6,
    "start_time": "2023-12-29T13:39:21.066Z"
   },
   {
    "duration": 5,
    "start_time": "2023-12-29T13:39:21.073Z"
   },
   {
    "duration": 6,
    "start_time": "2023-12-29T13:39:21.079Z"
   },
   {
    "duration": 631,
    "start_time": "2023-12-29T13:39:21.087Z"
   },
   {
    "duration": 394,
    "start_time": "2023-12-29T13:39:21.720Z"
   },
   {
    "duration": 15,
    "start_time": "2023-12-29T13:39:22.116Z"
   },
   {
    "duration": 13,
    "start_time": "2023-12-29T13:39:22.132Z"
   },
   {
    "duration": 20,
    "start_time": "2023-12-29T13:39:22.147Z"
   },
   {
    "duration": 3,
    "start_time": "2023-12-29T13:39:22.168Z"
   },
   {
    "duration": 19,
    "start_time": "2023-12-29T13:39:22.172Z"
   },
   {
    "duration": 171,
    "start_time": "2023-12-29T13:39:22.192Z"
   },
   {
    "duration": 10,
    "start_time": "2023-12-29T13:39:22.364Z"
   },
   {
    "duration": 7,
    "start_time": "2023-12-29T13:39:22.378Z"
   },
   {
    "duration": 53,
    "start_time": "2023-12-29T13:39:22.387Z"
   },
   {
    "duration": 5,
    "start_time": "2023-12-29T13:39:22.441Z"
   },
   {
    "duration": 26,
    "start_time": "2023-12-29T13:39:22.447Z"
   },
   {
    "duration": 5,
    "start_time": "2023-12-29T13:39:22.474Z"
   },
   {
    "duration": 17,
    "start_time": "2023-12-29T13:39:22.480Z"
   },
   {
    "duration": 28,
    "start_time": "2023-12-29T13:39:22.499Z"
   },
   {
    "duration": 24,
    "start_time": "2023-12-29T13:39:22.528Z"
   },
   {
    "duration": 3,
    "start_time": "2023-12-29T13:39:22.554Z"
   },
   {
    "duration": 6,
    "start_time": "2023-12-29T13:39:22.559Z"
   },
   {
    "duration": 30,
    "start_time": "2023-12-29T13:39:22.567Z"
   },
   {
    "duration": 18,
    "start_time": "2023-12-29T13:39:22.599Z"
   },
   {
    "duration": 29,
    "start_time": "2023-12-29T13:39:22.619Z"
   },
   {
    "duration": 7,
    "start_time": "2023-12-29T13:39:22.650Z"
   },
   {
    "duration": 19,
    "start_time": "2023-12-29T13:39:22.659Z"
   },
   {
    "duration": 687,
    "start_time": "2023-12-29T13:39:22.679Z"
   },
   {
    "duration": 0,
    "start_time": "2023-12-29T13:39:23.368Z"
   },
   {
    "duration": 0,
    "start_time": "2023-12-29T13:39:23.369Z"
   },
   {
    "duration": 0,
    "start_time": "2023-12-29T13:39:23.370Z"
   },
   {
    "duration": 0,
    "start_time": "2023-12-29T13:39:23.371Z"
   },
   {
    "duration": 0,
    "start_time": "2023-12-29T13:39:23.372Z"
   },
   {
    "duration": 0,
    "start_time": "2023-12-29T13:39:23.373Z"
   },
   {
    "duration": 0,
    "start_time": "2023-12-29T13:39:23.374Z"
   },
   {
    "duration": 0,
    "start_time": "2023-12-29T13:39:23.375Z"
   },
   {
    "duration": 0,
    "start_time": "2023-12-29T13:39:23.376Z"
   },
   {
    "duration": 0,
    "start_time": "2023-12-29T13:39:23.378Z"
   },
   {
    "duration": 0,
    "start_time": "2023-12-29T13:39:23.379Z"
   },
   {
    "duration": 0,
    "start_time": "2023-12-29T13:39:23.380Z"
   },
   {
    "duration": 0,
    "start_time": "2023-12-29T13:39:23.381Z"
   },
   {
    "duration": 0,
    "start_time": "2023-12-29T13:39:23.415Z"
   },
   {
    "duration": 0,
    "start_time": "2023-12-29T13:39:23.416Z"
   },
   {
    "duration": 0,
    "start_time": "2023-12-29T13:39:23.417Z"
   },
   {
    "duration": 0,
    "start_time": "2023-12-29T13:39:23.418Z"
   },
   {
    "duration": 0,
    "start_time": "2023-12-29T13:39:23.419Z"
   },
   {
    "duration": 0,
    "start_time": "2023-12-29T13:39:23.420Z"
   },
   {
    "duration": 0,
    "start_time": "2023-12-29T13:39:23.422Z"
   },
   {
    "duration": 0,
    "start_time": "2023-12-29T13:39:23.423Z"
   },
   {
    "duration": 0,
    "start_time": "2023-12-29T13:39:23.424Z"
   },
   {
    "duration": 0,
    "start_time": "2023-12-29T13:39:23.425Z"
   },
   {
    "duration": 0,
    "start_time": "2023-12-29T13:39:23.426Z"
   },
   {
    "duration": 1361,
    "start_time": "2023-12-29T13:40:57.559Z"
   },
   {
    "duration": 199,
    "start_time": "2023-12-29T13:40:58.921Z"
   },
   {
    "duration": 14,
    "start_time": "2023-12-29T13:40:59.122Z"
   },
   {
    "duration": 13,
    "start_time": "2023-12-29T13:40:59.137Z"
   },
   {
    "duration": 12,
    "start_time": "2023-12-29T13:40:59.151Z"
   },
   {
    "duration": 112,
    "start_time": "2023-12-29T13:40:59.165Z"
   },
   {
    "duration": 14,
    "start_time": "2023-12-29T13:40:59.278Z"
   },
   {
    "duration": 24,
    "start_time": "2023-12-29T13:40:59.294Z"
   },
   {
    "duration": 17,
    "start_time": "2023-12-29T13:40:59.319Z"
   },
   {
    "duration": 113,
    "start_time": "2023-12-29T13:40:59.338Z"
   },
   {
    "duration": 120,
    "start_time": "2023-12-29T13:40:59.453Z"
   },
   {
    "duration": 11,
    "start_time": "2023-12-29T13:40:59.575Z"
   },
   {
    "duration": 10,
    "start_time": "2023-12-29T13:40:59.587Z"
   },
   {
    "duration": 12,
    "start_time": "2023-12-29T13:40:59.614Z"
   },
   {
    "duration": 125,
    "start_time": "2023-12-29T13:40:59.627Z"
   },
   {
    "duration": 183,
    "start_time": "2023-12-29T13:40:59.754Z"
   },
   {
    "duration": 109,
    "start_time": "2023-12-29T13:40:59.939Z"
   },
   {
    "duration": 7,
    "start_time": "2023-12-29T13:41:00.049Z"
   },
   {
    "duration": 160,
    "start_time": "2023-12-29T13:41:00.057Z"
   },
   {
    "duration": 2,
    "start_time": "2023-12-29T13:41:00.219Z"
   },
   {
    "duration": 50,
    "start_time": "2023-12-29T13:41:00.222Z"
   },
   {
    "duration": 47,
    "start_time": "2023-12-29T13:41:00.273Z"
   },
   {
    "duration": 17,
    "start_time": "2023-12-29T13:41:00.322Z"
   },
   {
    "duration": 38,
    "start_time": "2023-12-29T13:41:00.340Z"
   },
   {
    "duration": 38,
    "start_time": "2023-12-29T13:41:00.380Z"
   },
   {
    "duration": 37,
    "start_time": "2023-12-29T13:41:00.419Z"
   },
   {
    "duration": 29,
    "start_time": "2023-12-29T13:41:00.458Z"
   },
   {
    "duration": 22,
    "start_time": "2023-12-29T13:41:00.492Z"
   },
   {
    "duration": 36,
    "start_time": "2023-12-29T13:41:00.516Z"
   },
   {
    "duration": 29,
    "start_time": "2023-12-29T13:41:00.554Z"
   },
   {
    "duration": 20,
    "start_time": "2023-12-29T13:41:00.585Z"
   },
   {
    "duration": 653,
    "start_time": "2023-12-29T13:41:00.607Z"
   },
   {
    "duration": 379,
    "start_time": "2023-12-29T13:41:01.262Z"
   },
   {
    "duration": 15,
    "start_time": "2023-12-29T13:41:01.643Z"
   },
   {
    "duration": 54,
    "start_time": "2023-12-29T13:41:01.660Z"
   },
   {
    "duration": 77,
    "start_time": "2023-12-29T13:41:01.715Z"
   },
   {
    "duration": 37,
    "start_time": "2023-12-29T13:41:01.794Z"
   },
   {
    "duration": 51,
    "start_time": "2023-12-29T13:41:01.833Z"
   },
   {
    "duration": 168,
    "start_time": "2023-12-29T13:41:01.886Z"
   },
   {
    "duration": 9,
    "start_time": "2023-12-29T13:41:02.055Z"
   },
   {
    "duration": 17,
    "start_time": "2023-12-29T13:41:02.066Z"
   },
   {
    "duration": 43,
    "start_time": "2023-12-29T13:41:02.084Z"
   },
   {
    "duration": 20,
    "start_time": "2023-12-29T13:41:02.129Z"
   },
   {
    "duration": 41,
    "start_time": "2023-12-29T13:41:02.150Z"
   },
   {
    "duration": 20,
    "start_time": "2023-12-29T13:41:02.192Z"
   },
   {
    "duration": 34,
    "start_time": "2023-12-29T13:41:02.214Z"
   },
   {
    "duration": 41,
    "start_time": "2023-12-29T13:41:02.249Z"
   },
   {
    "duration": 43,
    "start_time": "2023-12-29T13:41:02.292Z"
   },
   {
    "duration": 4,
    "start_time": "2023-12-29T13:41:02.338Z"
   },
   {
    "duration": 25,
    "start_time": "2023-12-29T13:41:02.344Z"
   },
   {
    "duration": 39,
    "start_time": "2023-12-29T13:41:02.371Z"
   },
   {
    "duration": 14,
    "start_time": "2023-12-29T13:41:02.411Z"
   },
   {
    "duration": 32,
    "start_time": "2023-12-29T13:41:02.427Z"
   },
   {
    "duration": 18,
    "start_time": "2023-12-29T13:41:02.460Z"
   },
   {
    "duration": 19,
    "start_time": "2023-12-29T13:41:02.479Z"
   },
   {
    "duration": 59445,
    "start_time": "2023-12-29T13:41:02.499Z"
   },
   {
    "duration": 5,
    "start_time": "2023-12-29T13:42:01.945Z"
   },
   {
    "duration": 14,
    "start_time": "2023-12-29T13:42:01.951Z"
   },
   {
    "duration": 26,
    "start_time": "2023-12-29T13:42:01.966Z"
   },
   {
    "duration": 27,
    "start_time": "2023-12-29T13:42:01.994Z"
   },
   {
    "duration": 50,
    "start_time": "2023-12-29T13:42:02.022Z"
   },
   {
    "duration": 16,
    "start_time": "2023-12-29T13:42:02.074Z"
   },
   {
    "duration": 20,
    "start_time": "2023-12-29T13:42:02.092Z"
   },
   {
    "duration": 47,
    "start_time": "2023-12-29T13:42:02.113Z"
   },
   {
    "duration": 35,
    "start_time": "2023-12-29T13:42:02.161Z"
   },
   {
    "duration": 14,
    "start_time": "2023-12-29T13:42:02.197Z"
   },
   {
    "duration": 56,
    "start_time": "2023-12-29T13:42:02.212Z"
   },
   {
    "duration": 3,
    "start_time": "2023-12-29T13:42:02.270Z"
   },
   {
    "duration": 20,
    "start_time": "2023-12-29T13:42:02.274Z"
   },
   {
    "duration": 75,
    "start_time": "2023-12-29T13:42:02.295Z"
   },
   {
    "duration": 1409,
    "start_time": "2023-12-29T13:43:47.495Z"
   },
   {
    "duration": 218,
    "start_time": "2023-12-29T13:43:48.906Z"
   },
   {
    "duration": 14,
    "start_time": "2023-12-29T13:43:49.125Z"
   },
   {
    "duration": 12,
    "start_time": "2023-12-29T13:43:49.140Z"
   },
   {
    "duration": 11,
    "start_time": "2023-12-29T13:43:49.154Z"
   },
   {
    "duration": 113,
    "start_time": "2023-12-29T13:43:49.167Z"
   },
   {
    "duration": 14,
    "start_time": "2023-12-29T13:43:49.282Z"
   },
   {
    "duration": 24,
    "start_time": "2023-12-29T13:43:49.298Z"
   },
   {
    "duration": 17,
    "start_time": "2023-12-29T13:43:49.324Z"
   },
   {
    "duration": 119,
    "start_time": "2023-12-29T13:43:49.344Z"
   },
   {
    "duration": 112,
    "start_time": "2023-12-29T13:43:49.464Z"
   },
   {
    "duration": 10,
    "start_time": "2023-12-29T13:43:49.577Z"
   },
   {
    "duration": 19,
    "start_time": "2023-12-29T13:43:49.588Z"
   },
   {
    "duration": 14,
    "start_time": "2023-12-29T13:43:49.615Z"
   },
   {
    "duration": 119,
    "start_time": "2023-12-29T13:43:49.630Z"
   },
   {
    "duration": 186,
    "start_time": "2023-12-29T13:43:49.750Z"
   },
   {
    "duration": 118,
    "start_time": "2023-12-29T13:43:49.938Z"
   },
   {
    "duration": 6,
    "start_time": "2023-12-29T13:43:50.058Z"
   },
   {
    "duration": 126,
    "start_time": "2023-12-29T13:43:50.066Z"
   },
   {
    "duration": 3,
    "start_time": "2023-12-29T13:43:50.194Z"
   },
   {
    "duration": 25,
    "start_time": "2023-12-29T13:43:50.198Z"
   },
   {
    "duration": 23,
    "start_time": "2023-12-29T13:43:50.225Z"
   },
   {
    "duration": 3,
    "start_time": "2023-12-29T13:43:50.250Z"
   },
   {
    "duration": 18,
    "start_time": "2023-12-29T13:43:50.254Z"
   },
   {
    "duration": 14,
    "start_time": "2023-12-29T13:43:50.274Z"
   },
   {
    "duration": 9,
    "start_time": "2023-12-29T13:43:50.314Z"
   },
   {
    "duration": 17,
    "start_time": "2023-12-29T13:43:50.325Z"
   },
   {
    "duration": 5,
    "start_time": "2023-12-29T13:43:50.343Z"
   },
   {
    "duration": 13,
    "start_time": "2023-12-29T13:43:50.350Z"
   },
   {
    "duration": 4,
    "start_time": "2023-12-29T13:43:50.364Z"
   },
   {
    "duration": 5,
    "start_time": "2023-12-29T13:43:50.369Z"
   },
   {
    "duration": 660,
    "start_time": "2023-12-29T13:43:50.376Z"
   },
   {
    "duration": 388,
    "start_time": "2023-12-29T13:43:51.038Z"
   },
   {
    "duration": 14,
    "start_time": "2023-12-29T13:43:51.427Z"
   },
   {
    "duration": 6,
    "start_time": "2023-12-29T13:43:51.443Z"
   },
   {
    "duration": 19,
    "start_time": "2023-12-29T13:43:51.451Z"
   },
   {
    "duration": 2,
    "start_time": "2023-12-29T13:43:51.471Z"
   },
   {
    "duration": 40,
    "start_time": "2023-12-29T13:43:51.475Z"
   },
   {
    "duration": 152,
    "start_time": "2023-12-29T13:43:51.517Z"
   },
   {
    "duration": 9,
    "start_time": "2023-12-29T13:43:51.670Z"
   },
   {
    "duration": 114,
    "start_time": "2023-12-29T13:43:51.681Z"
   },
   {
    "duration": 0,
    "start_time": "2023-12-29T13:43:51.798Z"
   },
   {
    "duration": 0,
    "start_time": "2023-12-29T13:43:51.799Z"
   },
   {
    "duration": 0,
    "start_time": "2023-12-29T13:43:51.800Z"
   },
   {
    "duration": 0,
    "start_time": "2023-12-29T13:43:51.801Z"
   },
   {
    "duration": 0,
    "start_time": "2023-12-29T13:43:51.815Z"
   },
   {
    "duration": 0,
    "start_time": "2023-12-29T13:43:51.816Z"
   },
   {
    "duration": 0,
    "start_time": "2023-12-29T13:43:51.817Z"
   },
   {
    "duration": 0,
    "start_time": "2023-12-29T13:43:51.818Z"
   },
   {
    "duration": 0,
    "start_time": "2023-12-29T13:43:51.819Z"
   },
   {
    "duration": 0,
    "start_time": "2023-12-29T13:43:51.820Z"
   },
   {
    "duration": 0,
    "start_time": "2023-12-29T13:43:51.821Z"
   },
   {
    "duration": 0,
    "start_time": "2023-12-29T13:43:51.822Z"
   },
   {
    "duration": 0,
    "start_time": "2023-12-29T13:43:51.823Z"
   },
   {
    "duration": 1,
    "start_time": "2023-12-29T13:43:51.823Z"
   },
   {
    "duration": 0,
    "start_time": "2023-12-29T13:43:51.825Z"
   },
   {
    "duration": 0,
    "start_time": "2023-12-29T13:43:51.825Z"
   },
   {
    "duration": 0,
    "start_time": "2023-12-29T13:43:51.826Z"
   },
   {
    "duration": 0,
    "start_time": "2023-12-29T13:43:51.827Z"
   },
   {
    "duration": 0,
    "start_time": "2023-12-29T13:43:51.828Z"
   },
   {
    "duration": 0,
    "start_time": "2023-12-29T13:43:51.829Z"
   },
   {
    "duration": 0,
    "start_time": "2023-12-29T13:43:51.830Z"
   },
   {
    "duration": 0,
    "start_time": "2023-12-29T13:43:51.831Z"
   },
   {
    "duration": 0,
    "start_time": "2023-12-29T13:43:51.832Z"
   },
   {
    "duration": 0,
    "start_time": "2023-12-29T13:43:51.833Z"
   },
   {
    "duration": 0,
    "start_time": "2023-12-29T13:43:51.834Z"
   },
   {
    "duration": 0,
    "start_time": "2023-12-29T13:43:51.835Z"
   },
   {
    "duration": 0,
    "start_time": "2023-12-29T13:43:51.835Z"
   },
   {
    "duration": 0,
    "start_time": "2023-12-29T13:43:51.836Z"
   },
   {
    "duration": 0,
    "start_time": "2023-12-29T13:43:51.837Z"
   },
   {
    "duration": 10,
    "start_time": "2023-12-29T13:43:52.060Z"
   },
   {
    "duration": 0,
    "start_time": "2023-12-29T13:43:52.071Z"
   },
   {
    "duration": 0,
    "start_time": "2023-12-29T13:43:52.072Z"
   },
   {
    "duration": 1,
    "start_time": "2023-12-29T13:43:52.073Z"
   },
   {
    "duration": 0,
    "start_time": "2023-12-29T13:43:52.074Z"
   },
   {
    "duration": 0,
    "start_time": "2023-12-29T13:43:52.075Z"
   },
   {
    "duration": 8,
    "start_time": "2023-12-29T13:43:53.251Z"
   },
   {
    "duration": 0,
    "start_time": "2023-12-29T13:43:53.261Z"
   },
   {
    "duration": 0,
    "start_time": "2023-12-29T13:43:53.262Z"
   },
   {
    "duration": 0,
    "start_time": "2023-12-29T13:43:53.263Z"
   },
   {
    "duration": 10,
    "start_time": "2023-12-29T13:44:11.335Z"
   },
   {
    "duration": 1395,
    "start_time": "2023-12-29T13:45:07.467Z"
   },
   {
    "duration": 202,
    "start_time": "2023-12-29T13:45:08.863Z"
   },
   {
    "duration": 14,
    "start_time": "2023-12-29T13:45:09.067Z"
   },
   {
    "duration": 11,
    "start_time": "2023-12-29T13:45:09.083Z"
   },
   {
    "duration": 20,
    "start_time": "2023-12-29T13:45:09.095Z"
   },
   {
    "duration": 100,
    "start_time": "2023-12-29T13:45:09.116Z"
   },
   {
    "duration": 13,
    "start_time": "2023-12-29T13:45:09.218Z"
   },
   {
    "duration": 18,
    "start_time": "2023-12-29T13:45:09.232Z"
   },
   {
    "duration": 14,
    "start_time": "2023-12-29T13:45:09.252Z"
   },
   {
    "duration": 115,
    "start_time": "2023-12-29T13:45:09.269Z"
   },
   {
    "duration": 125,
    "start_time": "2023-12-29T13:45:09.386Z"
   },
   {
    "duration": 11,
    "start_time": "2023-12-29T13:45:09.513Z"
   },
   {
    "duration": 33,
    "start_time": "2023-12-29T13:45:09.525Z"
   },
   {
    "duration": 27,
    "start_time": "2023-12-29T13:45:09.559Z"
   },
   {
    "duration": 129,
    "start_time": "2023-12-29T13:45:09.588Z"
   },
   {
    "duration": 182,
    "start_time": "2023-12-29T13:45:09.719Z"
   },
   {
    "duration": 118,
    "start_time": "2023-12-29T13:45:09.902Z"
   },
   {
    "duration": 7,
    "start_time": "2023-12-29T13:45:10.022Z"
   },
   {
    "duration": 150,
    "start_time": "2023-12-29T13:45:10.031Z"
   },
   {
    "duration": 2,
    "start_time": "2023-12-29T13:45:10.183Z"
   },
   {
    "duration": 38,
    "start_time": "2023-12-29T13:45:10.186Z"
   },
   {
    "duration": 27,
    "start_time": "2023-12-29T13:45:10.226Z"
   },
   {
    "duration": 5,
    "start_time": "2023-12-29T13:45:10.254Z"
   },
   {
    "duration": 46,
    "start_time": "2023-12-29T13:45:10.261Z"
   },
   {
    "duration": 15,
    "start_time": "2023-12-29T13:45:10.309Z"
   },
   {
    "duration": 20,
    "start_time": "2023-12-29T13:45:10.325Z"
   },
   {
    "duration": 15,
    "start_time": "2023-12-29T13:45:10.347Z"
   },
   {
    "duration": 4,
    "start_time": "2023-12-29T13:45:10.367Z"
   },
   {
    "duration": 16,
    "start_time": "2023-12-29T13:45:10.372Z"
   },
   {
    "duration": 4,
    "start_time": "2023-12-29T13:45:10.390Z"
   },
   {
    "duration": 7,
    "start_time": "2023-12-29T13:45:10.396Z"
   },
   {
    "duration": 627,
    "start_time": "2023-12-29T13:45:10.405Z"
   },
   {
    "duration": 367,
    "start_time": "2023-12-29T13:45:11.033Z"
   },
   {
    "duration": 24,
    "start_time": "2023-12-29T13:45:11.402Z"
   },
   {
    "duration": 5,
    "start_time": "2023-12-29T13:45:11.427Z"
   },
   {
    "duration": 20,
    "start_time": "2023-12-29T13:45:11.433Z"
   },
   {
    "duration": 3,
    "start_time": "2023-12-29T13:45:11.455Z"
   },
   {
    "duration": 26,
    "start_time": "2023-12-29T13:45:11.459Z"
   },
   {
    "duration": 158,
    "start_time": "2023-12-29T13:45:11.487Z"
   },
   {
    "duration": 9,
    "start_time": "2023-12-29T13:45:11.647Z"
   },
   {
    "duration": 12,
    "start_time": "2023-12-29T13:45:11.657Z"
   },
   {
    "duration": 32,
    "start_time": "2023-12-29T13:45:11.671Z"
   },
   {
    "duration": 13,
    "start_time": "2023-12-29T13:45:11.704Z"
   },
   {
    "duration": 25,
    "start_time": "2023-12-29T13:45:11.718Z"
   },
   {
    "duration": 7,
    "start_time": "2023-12-29T13:45:11.744Z"
   },
   {
    "duration": 10,
    "start_time": "2023-12-29T13:45:11.752Z"
   },
   {
    "duration": 43,
    "start_time": "2023-12-29T13:45:11.763Z"
   },
   {
    "duration": 22,
    "start_time": "2023-12-29T13:45:11.808Z"
   },
   {
    "duration": 3,
    "start_time": "2023-12-29T13:45:11.832Z"
   },
   {
    "duration": 8,
    "start_time": "2023-12-29T13:45:11.836Z"
   },
   {
    "duration": 9,
    "start_time": "2023-12-29T13:45:11.845Z"
   },
   {
    "duration": 17,
    "start_time": "2023-12-29T13:45:11.855Z"
   },
   {
    "duration": 15,
    "start_time": "2023-12-29T13:45:11.874Z"
   },
   {
    "duration": 6,
    "start_time": "2023-12-29T13:45:11.890Z"
   },
   {
    "duration": 24,
    "start_time": "2023-12-29T13:45:11.897Z"
   },
   {
    "duration": 60213,
    "start_time": "2023-12-29T13:45:11.922Z"
   },
   {
    "duration": 5,
    "start_time": "2023-12-29T13:46:12.137Z"
   },
   {
    "duration": 13,
    "start_time": "2023-12-29T13:46:12.144Z"
   },
   {
    "duration": 8,
    "start_time": "2023-12-29T13:46:12.159Z"
   },
   {
    "duration": 9,
    "start_time": "2023-12-29T13:46:12.168Z"
   },
   {
    "duration": 18,
    "start_time": "2023-12-29T13:46:12.179Z"
   },
   {
    "duration": 17,
    "start_time": "2023-12-29T13:46:12.199Z"
   },
   {
    "duration": 4,
    "start_time": "2023-12-29T13:46:12.218Z"
   },
   {
    "duration": 17,
    "start_time": "2023-12-29T13:46:12.225Z"
   },
   {
    "duration": 30,
    "start_time": "2023-12-29T13:46:12.244Z"
   },
   {
    "duration": 12,
    "start_time": "2023-12-29T13:46:12.276Z"
   },
   {
    "duration": 43,
    "start_time": "2023-12-29T13:46:12.289Z"
   },
   {
    "duration": 3,
    "start_time": "2023-12-29T13:46:12.333Z"
   },
   {
    "duration": 14,
    "start_time": "2023-12-29T13:46:12.337Z"
   },
   {
    "duration": 7,
    "start_time": "2023-12-29T13:46:12.352Z"
   },
   {
    "duration": 1391,
    "start_time": "2023-12-29T13:46:54.395Z"
   },
   {
    "duration": 674,
    "start_time": "2023-12-29T13:46:55.788Z"
   },
   {
    "duration": 16,
    "start_time": "2023-12-29T13:46:56.463Z"
   },
   {
    "duration": 13,
    "start_time": "2023-12-29T13:46:56.480Z"
   },
   {
    "duration": 13,
    "start_time": "2023-12-29T13:46:56.494Z"
   },
   {
    "duration": 111,
    "start_time": "2023-12-29T13:46:56.508Z"
   },
   {
    "duration": 15,
    "start_time": "2023-12-29T13:46:56.620Z"
   },
   {
    "duration": 11,
    "start_time": "2023-12-29T13:46:56.636Z"
   },
   {
    "duration": 8,
    "start_time": "2023-12-29T13:46:56.648Z"
   },
   {
    "duration": 135,
    "start_time": "2023-12-29T13:46:56.658Z"
   },
   {
    "duration": 136,
    "start_time": "2023-12-29T13:46:56.795Z"
   },
   {
    "duration": 10,
    "start_time": "2023-12-29T13:46:56.932Z"
   },
   {
    "duration": 48,
    "start_time": "2023-12-29T13:46:56.943Z"
   },
   {
    "duration": 45,
    "start_time": "2023-12-29T13:46:56.992Z"
   },
   {
    "duration": 113,
    "start_time": "2023-12-29T13:46:57.039Z"
   },
   {
    "duration": 196,
    "start_time": "2023-12-29T13:46:57.154Z"
   },
   {
    "duration": 119,
    "start_time": "2023-12-29T13:46:57.352Z"
   },
   {
    "duration": 6,
    "start_time": "2023-12-29T13:46:57.473Z"
   },
   {
    "duration": 122,
    "start_time": "2023-12-29T13:46:57.480Z"
   },
   {
    "duration": 2,
    "start_time": "2023-12-29T13:46:57.604Z"
   },
   {
    "duration": 17,
    "start_time": "2023-12-29T13:46:57.607Z"
   },
   {
    "duration": 23,
    "start_time": "2023-12-29T13:46:57.625Z"
   },
   {
    "duration": 4,
    "start_time": "2023-12-29T13:46:57.649Z"
   },
   {
    "duration": 18,
    "start_time": "2023-12-29T13:46:57.654Z"
   },
   {
    "duration": 15,
    "start_time": "2023-12-29T13:46:57.673Z"
   },
   {
    "duration": 33,
    "start_time": "2023-12-29T13:46:57.690Z"
   },
   {
    "duration": 16,
    "start_time": "2023-12-29T13:46:57.724Z"
   },
   {
    "duration": 4,
    "start_time": "2023-12-29T13:46:57.745Z"
   },
   {
    "duration": 10,
    "start_time": "2023-12-29T13:46:57.750Z"
   },
   {
    "duration": 3,
    "start_time": "2023-12-29T13:46:57.761Z"
   },
   {
    "duration": 4,
    "start_time": "2023-12-29T13:46:57.766Z"
   },
   {
    "duration": 679,
    "start_time": "2023-12-29T13:46:57.772Z"
   },
   {
    "duration": 368,
    "start_time": "2023-12-29T13:46:58.453Z"
   },
   {
    "duration": 17,
    "start_time": "2023-12-29T13:46:58.823Z"
   },
   {
    "duration": 4,
    "start_time": "2023-12-29T13:46:58.842Z"
   },
   {
    "duration": 19,
    "start_time": "2023-12-29T13:46:58.848Z"
   },
   {
    "duration": 3,
    "start_time": "2023-12-29T13:46:58.868Z"
   },
   {
    "duration": 56,
    "start_time": "2023-12-29T13:46:58.872Z"
   },
   {
    "duration": 150,
    "start_time": "2023-12-29T13:46:58.930Z"
   },
   {
    "duration": 9,
    "start_time": "2023-12-29T13:46:59.082Z"
   },
   {
    "duration": 4,
    "start_time": "2023-12-29T13:46:59.092Z"
   },
   {
    "duration": 18,
    "start_time": "2023-12-29T13:46:59.097Z"
   },
   {
    "duration": 15,
    "start_time": "2023-12-29T13:46:59.116Z"
   },
   {
    "duration": 4,
    "start_time": "2023-12-29T13:46:59.133Z"
   },
   {
    "duration": 5,
    "start_time": "2023-12-29T13:46:59.138Z"
   },
   {
    "duration": 22,
    "start_time": "2023-12-29T13:46:59.144Z"
   },
   {
    "duration": 22,
    "start_time": "2023-12-29T13:46:59.167Z"
   },
   {
    "duration": 4,
    "start_time": "2023-12-29T13:46:59.215Z"
   },
   {
    "duration": 6,
    "start_time": "2023-12-29T13:46:59.220Z"
   },
   {
    "duration": 8,
    "start_time": "2023-12-29T13:46:59.227Z"
   },
   {
    "duration": 4,
    "start_time": "2023-12-29T13:46:59.237Z"
   },
   {
    "duration": 5,
    "start_time": "2023-12-29T13:46:59.242Z"
   },
   {
    "duration": 4,
    "start_time": "2023-12-29T13:46:59.248Z"
   },
   {
    "duration": 18,
    "start_time": "2023-12-29T13:46:59.253Z"
   },
   {
    "duration": 59676,
    "start_time": "2023-12-29T13:46:59.272Z"
   },
   {
    "duration": 5,
    "start_time": "2023-12-29T13:47:58.950Z"
   },
   {
    "duration": 5,
    "start_time": "2023-12-29T13:47:58.957Z"
   },
   {
    "duration": 5,
    "start_time": "2023-12-29T13:47:58.964Z"
   },
   {
    "duration": 3,
    "start_time": "2023-12-29T13:47:58.971Z"
   },
   {
    "duration": 12,
    "start_time": "2023-12-29T13:47:58.975Z"
   },
   {
    "duration": 8,
    "start_time": "2023-12-29T13:47:59.015Z"
   },
   {
    "duration": 5,
    "start_time": "2023-12-29T13:47:59.024Z"
   },
   {
    "duration": 8,
    "start_time": "2023-12-29T13:47:59.031Z"
   },
   {
    "duration": 27,
    "start_time": "2023-12-29T13:47:59.040Z"
   },
   {
    "duration": 10,
    "start_time": "2023-12-29T13:47:59.069Z"
   },
   {
    "duration": 60,
    "start_time": "2023-12-29T13:47:59.081Z"
   },
   {
    "duration": 3,
    "start_time": "2023-12-29T13:47:59.142Z"
   },
   {
    "duration": 5,
    "start_time": "2023-12-29T13:47:59.146Z"
   },
   {
    "duration": 8,
    "start_time": "2023-12-29T13:47:59.152Z"
   },
   {
    "duration": 470284,
    "start_time": "2023-12-29T13:47:59.161Z"
   },
   {
    "duration": 8,
    "start_time": "2023-12-29T13:55:49.446Z"
   },
   {
    "duration": 46,
    "start_time": "2023-12-29T13:55:49.455Z"
   },
   {
    "duration": 18,
    "start_time": "2023-12-29T13:55:49.502Z"
   },
   {
    "duration": 24,
    "start_time": "2023-12-29T13:55:49.522Z"
   },
   {
    "duration": 162,
    "start_time": "2023-12-29T13:55:49.548Z"
   },
   {
    "duration": 4,
    "start_time": "2023-12-29T13:55:49.714Z"
   },
   {
    "duration": 5,
    "start_time": "2023-12-29T13:55:49.719Z"
   },
   {
    "duration": 141,
    "start_time": "2023-12-29T13:55:49.726Z"
   },
   {
    "duration": 9,
    "start_time": "2023-12-29T13:55:49.872Z"
   },
   {
    "duration": 4,
    "start_time": "2023-12-29T14:00:16.588Z"
   },
   {
    "duration": 112,
    "start_time": "2023-12-29T14:02:47.724Z"
   },
   {
    "duration": 9,
    "start_time": "2023-12-29T14:03:03.973Z"
   },
   {
    "duration": 84,
    "start_time": "2023-12-29T14:03:10.221Z"
   },
   {
    "duration": 3123,
    "start_time": "2023-12-29T14:03:48.031Z"
   },
   {
    "duration": 2253,
    "start_time": "2023-12-29T14:04:40.147Z"
   },
   {
    "duration": 13,
    "start_time": "2023-12-29T14:05:43.170Z"
   },
   {
    "duration": 12,
    "start_time": "2023-12-29T14:07:02.888Z"
   },
   {
    "duration": 1460,
    "start_time": "2023-12-29T14:07:23.483Z"
   },
   {
    "duration": 242,
    "start_time": "2023-12-29T14:07:24.944Z"
   },
   {
    "duration": 14,
    "start_time": "2023-12-29T14:07:25.188Z"
   },
   {
    "duration": 25,
    "start_time": "2023-12-29T14:07:25.204Z"
   },
   {
    "duration": 19,
    "start_time": "2023-12-29T14:07:25.231Z"
   },
   {
    "duration": 103,
    "start_time": "2023-12-29T14:07:25.252Z"
   },
   {
    "duration": 15,
    "start_time": "2023-12-29T14:07:25.356Z"
   },
   {
    "duration": 10,
    "start_time": "2023-12-29T14:07:25.373Z"
   },
   {
    "duration": 7,
    "start_time": "2023-12-29T14:07:25.384Z"
   },
   {
    "duration": 116,
    "start_time": "2023-12-29T14:07:25.414Z"
   },
   {
    "duration": 120,
    "start_time": "2023-12-29T14:07:25.532Z"
   },
   {
    "duration": 11,
    "start_time": "2023-12-29T14:07:25.653Z"
   },
   {
    "duration": 31,
    "start_time": "2023-12-29T14:07:25.666Z"
   },
   {
    "duration": 16,
    "start_time": "2023-12-29T14:07:25.699Z"
   },
   {
    "duration": 131,
    "start_time": "2023-12-29T14:07:25.717Z"
   },
   {
    "duration": 183,
    "start_time": "2023-12-29T14:07:25.850Z"
   },
   {
    "duration": 117,
    "start_time": "2023-12-29T14:07:26.034Z"
   },
   {
    "duration": 6,
    "start_time": "2023-12-29T14:07:26.153Z"
   },
   {
    "duration": 128,
    "start_time": "2023-12-29T14:07:26.160Z"
   },
   {
    "duration": 3,
    "start_time": "2023-12-29T14:07:26.290Z"
   },
   {
    "duration": 26,
    "start_time": "2023-12-29T14:07:26.294Z"
   },
   {
    "duration": 27,
    "start_time": "2023-12-29T14:07:26.322Z"
   },
   {
    "duration": 4,
    "start_time": "2023-12-29T14:07:26.350Z"
   },
   {
    "duration": 21,
    "start_time": "2023-12-29T14:07:26.355Z"
   },
   {
    "duration": 5,
    "start_time": "2023-12-29T14:07:26.378Z"
   },
   {
    "duration": 36,
    "start_time": "2023-12-29T14:07:26.385Z"
   },
   {
    "duration": 15,
    "start_time": "2023-12-29T14:07:26.422Z"
   },
   {
    "duration": 4,
    "start_time": "2023-12-29T14:07:26.441Z"
   },
   {
    "duration": 14,
    "start_time": "2023-12-29T14:07:26.446Z"
   },
   {
    "duration": 3,
    "start_time": "2023-12-29T14:07:26.462Z"
   },
   {
    "duration": 14,
    "start_time": "2023-12-29T14:07:26.466Z"
   },
   {
    "duration": 621,
    "start_time": "2023-12-29T14:07:26.482Z"
   },
   {
    "duration": 383,
    "start_time": "2023-12-29T14:07:27.106Z"
   },
   {
    "duration": 23,
    "start_time": "2023-12-29T14:07:27.491Z"
   },
   {
    "duration": 5,
    "start_time": "2023-12-29T14:07:27.516Z"
   },
   {
    "duration": 17,
    "start_time": "2023-12-29T14:07:27.523Z"
   },
   {
    "duration": 2,
    "start_time": "2023-12-29T14:07:27.542Z"
   },
   {
    "duration": 20,
    "start_time": "2023-12-29T14:07:27.546Z"
   },
   {
    "duration": 165,
    "start_time": "2023-12-29T14:07:27.567Z"
   },
   {
    "duration": 9,
    "start_time": "2023-12-29T14:07:27.734Z"
   },
   {
    "duration": 5,
    "start_time": "2023-12-29T14:07:27.744Z"
   },
   {
    "duration": 4,
    "start_time": "2023-12-29T14:07:27.750Z"
   },
   {
    "duration": 13,
    "start_time": "2023-12-29T14:07:27.756Z"
   },
   {
    "duration": 3,
    "start_time": "2023-12-29T14:07:27.770Z"
   },
   {
    "duration": 6,
    "start_time": "2023-12-29T14:07:27.775Z"
   },
   {
    "duration": 44,
    "start_time": "2023-12-29T14:07:27.782Z"
   },
   {
    "duration": 21,
    "start_time": "2023-12-29T14:07:27.827Z"
   },
   {
    "duration": 4,
    "start_time": "2023-12-29T14:07:27.849Z"
   },
   {
    "duration": 6,
    "start_time": "2023-12-29T14:07:27.854Z"
   },
   {
    "duration": 10,
    "start_time": "2023-12-29T14:07:27.861Z"
   },
   {
    "duration": 132,
    "start_time": "2023-12-29T14:07:27.872Z"
   },
   {
    "duration": 0,
    "start_time": "2023-12-29T14:07:28.005Z"
   },
   {
    "duration": 0,
    "start_time": "2023-12-29T14:07:28.014Z"
   },
   {
    "duration": 0,
    "start_time": "2023-12-29T14:07:28.016Z"
   },
   {
    "duration": 0,
    "start_time": "2023-12-29T14:07:28.017Z"
   },
   {
    "duration": 0,
    "start_time": "2023-12-29T14:07:28.019Z"
   },
   {
    "duration": 0,
    "start_time": "2023-12-29T14:07:28.020Z"
   },
   {
    "duration": 0,
    "start_time": "2023-12-29T14:07:28.021Z"
   },
   {
    "duration": 0,
    "start_time": "2023-12-29T14:07:28.022Z"
   },
   {
    "duration": 0,
    "start_time": "2023-12-29T14:07:28.023Z"
   },
   {
    "duration": 0,
    "start_time": "2023-12-29T14:07:28.024Z"
   },
   {
    "duration": 0,
    "start_time": "2023-12-29T14:07:28.025Z"
   },
   {
    "duration": 0,
    "start_time": "2023-12-29T14:07:28.026Z"
   },
   {
    "duration": 0,
    "start_time": "2023-12-29T14:07:28.027Z"
   },
   {
    "duration": 0,
    "start_time": "2023-12-29T14:07:28.028Z"
   },
   {
    "duration": 0,
    "start_time": "2023-12-29T14:07:28.029Z"
   },
   {
    "duration": 0,
    "start_time": "2023-12-29T14:07:28.030Z"
   },
   {
    "duration": 0,
    "start_time": "2023-12-29T14:07:28.031Z"
   },
   {
    "duration": 0,
    "start_time": "2023-12-29T14:07:28.032Z"
   },
   {
    "duration": 0,
    "start_time": "2023-12-29T14:07:28.033Z"
   },
   {
    "duration": 0,
    "start_time": "2023-12-29T14:07:28.034Z"
   },
   {
    "duration": 0,
    "start_time": "2023-12-29T14:07:28.036Z"
   },
   {
    "duration": 0,
    "start_time": "2023-12-29T14:07:28.037Z"
   },
   {
    "duration": 0,
    "start_time": "2023-12-29T14:07:28.038Z"
   },
   {
    "duration": 0,
    "start_time": "2023-12-29T14:07:28.039Z"
   },
   {
    "duration": 0,
    "start_time": "2023-12-29T14:07:28.040Z"
   },
   {
    "duration": 0,
    "start_time": "2023-12-29T14:07:28.041Z"
   },
   {
    "duration": 0,
    "start_time": "2023-12-29T14:07:28.042Z"
   },
   {
    "duration": 0,
    "start_time": "2023-12-29T14:07:28.043Z"
   },
   {
    "duration": 0,
    "start_time": "2023-12-29T14:07:28.044Z"
   },
   {
    "duration": 0,
    "start_time": "2023-12-29T14:07:28.045Z"
   },
   {
    "duration": 0,
    "start_time": "2023-12-29T14:07:28.046Z"
   },
   {
    "duration": 37,
    "start_time": "2023-12-29T14:08:02.963Z"
   },
   {
    "duration": 6664,
    "start_time": "2023-12-29T14:08:23.370Z"
   },
   {
    "duration": 16389,
    "start_time": "2023-12-29T14:09:35.265Z"
   },
   {
    "duration": 13,
    "start_time": "2023-12-29T14:13:54.087Z"
   },
   {
    "duration": 1368,
    "start_time": "2023-12-29T14:14:06.328Z"
   },
   {
    "duration": 350,
    "start_time": "2023-12-29T14:14:07.698Z"
   },
   {
    "duration": 23,
    "start_time": "2023-12-29T14:14:08.050Z"
   },
   {
    "duration": 15,
    "start_time": "2023-12-29T14:14:08.076Z"
   },
   {
    "duration": 21,
    "start_time": "2023-12-29T14:14:08.093Z"
   },
   {
    "duration": 109,
    "start_time": "2023-12-29T14:14:08.116Z"
   },
   {
    "duration": 14,
    "start_time": "2023-12-29T14:14:08.226Z"
   },
   {
    "duration": 22,
    "start_time": "2023-12-29T14:14:08.242Z"
   },
   {
    "duration": 10,
    "start_time": "2023-12-29T14:14:08.266Z"
   },
   {
    "duration": 116,
    "start_time": "2023-12-29T14:14:08.278Z"
   },
   {
    "duration": 124,
    "start_time": "2023-12-29T14:14:08.396Z"
   },
   {
    "duration": 10,
    "start_time": "2023-12-29T14:14:08.521Z"
   },
   {
    "duration": 11,
    "start_time": "2023-12-29T14:14:08.532Z"
   },
   {
    "duration": 10,
    "start_time": "2023-12-29T14:14:08.544Z"
   },
   {
    "duration": 125,
    "start_time": "2023-12-29T14:14:08.555Z"
   },
   {
    "duration": 213,
    "start_time": "2023-12-29T14:14:08.682Z"
   },
   {
    "duration": 110,
    "start_time": "2023-12-29T14:14:08.897Z"
   },
   {
    "duration": 6,
    "start_time": "2023-12-29T14:14:09.014Z"
   },
   {
    "duration": 123,
    "start_time": "2023-12-29T14:14:09.022Z"
   },
   {
    "duration": 3,
    "start_time": "2023-12-29T14:14:09.146Z"
   },
   {
    "duration": 22,
    "start_time": "2023-12-29T14:14:09.150Z"
   },
   {
    "duration": 41,
    "start_time": "2023-12-29T14:14:09.174Z"
   },
   {
    "duration": 4,
    "start_time": "2023-12-29T14:14:09.216Z"
   },
   {
    "duration": 29,
    "start_time": "2023-12-29T14:14:09.222Z"
   },
   {
    "duration": 9,
    "start_time": "2023-12-29T14:14:09.253Z"
   },
   {
    "duration": 17,
    "start_time": "2023-12-29T14:14:09.263Z"
   },
   {
    "duration": 19,
    "start_time": "2023-12-29T14:14:09.281Z"
   },
   {
    "duration": 11,
    "start_time": "2023-12-29T14:14:09.304Z"
   },
   {
    "duration": 17,
    "start_time": "2023-12-29T14:14:09.317Z"
   },
   {
    "duration": 11,
    "start_time": "2023-12-29T14:14:09.336Z"
   },
   {
    "duration": 8,
    "start_time": "2023-12-29T14:14:09.349Z"
   },
   {
    "duration": 628,
    "start_time": "2023-12-29T14:14:09.359Z"
   },
   {
    "duration": 397,
    "start_time": "2023-12-29T14:14:09.989Z"
   },
   {
    "duration": 14,
    "start_time": "2023-12-29T14:14:10.388Z"
   },
   {
    "duration": 13,
    "start_time": "2023-12-29T14:14:10.403Z"
   },
   {
    "duration": 17,
    "start_time": "2023-12-29T14:14:10.417Z"
   },
   {
    "duration": 6,
    "start_time": "2023-12-29T14:14:10.435Z"
   },
   {
    "duration": 24,
    "start_time": "2023-12-29T14:14:10.442Z"
   },
   {
    "duration": 146,
    "start_time": "2023-12-29T14:14:10.468Z"
   },
   {
    "duration": 111,
    "start_time": "2023-12-29T14:14:10.616Z"
   },
   {
    "duration": 0,
    "start_time": "2023-12-29T14:14:10.729Z"
   },
   {
    "duration": 0,
    "start_time": "2023-12-29T14:14:10.730Z"
   },
   {
    "duration": 0,
    "start_time": "2023-12-29T14:14:10.731Z"
   },
   {
    "duration": 0,
    "start_time": "2023-12-29T14:14:10.731Z"
   },
   {
    "duration": 0,
    "start_time": "2023-12-29T14:14:10.733Z"
   },
   {
    "duration": 0,
    "start_time": "2023-12-29T14:14:10.733Z"
   },
   {
    "duration": 0,
    "start_time": "2023-12-29T14:14:10.734Z"
   },
   {
    "duration": 0,
    "start_time": "2023-12-29T14:14:10.735Z"
   },
   {
    "duration": 0,
    "start_time": "2023-12-29T14:14:10.736Z"
   },
   {
    "duration": 0,
    "start_time": "2023-12-29T14:14:10.737Z"
   },
   {
    "duration": 0,
    "start_time": "2023-12-29T14:14:10.738Z"
   },
   {
    "duration": 0,
    "start_time": "2023-12-29T14:14:10.739Z"
   },
   {
    "duration": 0,
    "start_time": "2023-12-29T14:14:10.740Z"
   },
   {
    "duration": 0,
    "start_time": "2023-12-29T14:14:10.741Z"
   },
   {
    "duration": 0,
    "start_time": "2023-12-29T14:14:10.742Z"
   },
   {
    "duration": 0,
    "start_time": "2023-12-29T14:14:10.743Z"
   },
   {
    "duration": 0,
    "start_time": "2023-12-29T14:14:10.744Z"
   },
   {
    "duration": 0,
    "start_time": "2023-12-29T14:14:10.745Z"
   },
   {
    "duration": 0,
    "start_time": "2023-12-29T14:14:10.746Z"
   },
   {
    "duration": 0,
    "start_time": "2023-12-29T14:14:10.747Z"
   },
   {
    "duration": 0,
    "start_time": "2023-12-29T14:14:10.747Z"
   },
   {
    "duration": 0,
    "start_time": "2023-12-29T14:14:10.749Z"
   },
   {
    "duration": 0,
    "start_time": "2023-12-29T14:14:10.749Z"
   },
   {
    "duration": 0,
    "start_time": "2023-12-29T14:14:10.750Z"
   },
   {
    "duration": 0,
    "start_time": "2023-12-29T14:14:10.751Z"
   },
   {
    "duration": 0,
    "start_time": "2023-12-29T14:14:10.752Z"
   },
   {
    "duration": 0,
    "start_time": "2023-12-29T14:14:10.753Z"
   },
   {
    "duration": 0,
    "start_time": "2023-12-29T14:14:10.754Z"
   },
   {
    "duration": 0,
    "start_time": "2023-12-29T14:14:10.755Z"
   },
   {
    "duration": 0,
    "start_time": "2023-12-29T14:14:10.756Z"
   },
   {
    "duration": 0,
    "start_time": "2023-12-29T14:14:10.757Z"
   },
   {
    "duration": 0,
    "start_time": "2023-12-29T14:14:10.758Z"
   },
   {
    "duration": 0,
    "start_time": "2023-12-29T14:14:10.759Z"
   },
   {
    "duration": 0,
    "start_time": "2023-12-29T14:14:10.760Z"
   },
   {
    "duration": 0,
    "start_time": "2023-12-29T14:14:10.761Z"
   },
   {
    "duration": 0,
    "start_time": "2023-12-29T14:14:10.815Z"
   },
   {
    "duration": 0,
    "start_time": "2023-12-29T14:14:10.816Z"
   },
   {
    "duration": 0,
    "start_time": "2023-12-29T14:14:10.817Z"
   },
   {
    "duration": 0,
    "start_time": "2023-12-29T14:14:10.819Z"
   },
   {
    "duration": 0,
    "start_time": "2023-12-29T14:14:10.820Z"
   },
   {
    "duration": 0,
    "start_time": "2023-12-29T14:14:10.821Z"
   },
   {
    "duration": 0,
    "start_time": "2023-12-29T14:14:10.823Z"
   },
   {
    "duration": 0,
    "start_time": "2023-12-29T14:14:10.824Z"
   },
   {
    "duration": 1399,
    "start_time": "2023-12-29T14:17:35.172Z"
   },
   {
    "duration": 209,
    "start_time": "2023-12-29T14:17:36.573Z"
   },
   {
    "duration": 14,
    "start_time": "2023-12-29T14:17:36.784Z"
   },
   {
    "duration": 46,
    "start_time": "2023-12-29T14:17:36.801Z"
   },
   {
    "duration": 17,
    "start_time": "2023-12-29T14:17:36.849Z"
   },
   {
    "duration": 99,
    "start_time": "2023-12-29T14:17:36.867Z"
   },
   {
    "duration": 13,
    "start_time": "2023-12-29T14:17:36.968Z"
   },
   {
    "duration": 9,
    "start_time": "2023-12-29T14:17:36.983Z"
   },
   {
    "duration": 22,
    "start_time": "2023-12-29T14:17:36.994Z"
   },
   {
    "duration": 120,
    "start_time": "2023-12-29T14:17:37.018Z"
   },
   {
    "duration": 132,
    "start_time": "2023-12-29T14:17:37.139Z"
   },
   {
    "duration": 12,
    "start_time": "2023-12-29T14:17:37.273Z"
   },
   {
    "duration": 30,
    "start_time": "2023-12-29T14:17:37.286Z"
   },
   {
    "duration": 11,
    "start_time": "2023-12-29T14:17:37.317Z"
   },
   {
    "duration": 129,
    "start_time": "2023-12-29T14:17:37.330Z"
   },
   {
    "duration": 185,
    "start_time": "2023-12-29T14:17:37.460Z"
   },
   {
    "duration": 124,
    "start_time": "2023-12-29T14:17:37.647Z"
   },
   {
    "duration": 8,
    "start_time": "2023-12-29T14:17:37.773Z"
   },
   {
    "duration": 134,
    "start_time": "2023-12-29T14:17:37.782Z"
   },
   {
    "duration": 2,
    "start_time": "2023-12-29T14:17:37.918Z"
   },
   {
    "duration": 13,
    "start_time": "2023-12-29T14:17:37.922Z"
   },
   {
    "duration": 25,
    "start_time": "2023-12-29T14:17:37.936Z"
   },
   {
    "duration": 3,
    "start_time": "2023-12-29T14:17:37.963Z"
   },
   {
    "duration": 55,
    "start_time": "2023-12-29T14:17:37.967Z"
   },
   {
    "duration": 15,
    "start_time": "2023-12-29T14:17:38.023Z"
   },
   {
    "duration": 8,
    "start_time": "2023-12-29T14:17:38.040Z"
   },
   {
    "duration": 15,
    "start_time": "2023-12-29T14:17:38.050Z"
   },
   {
    "duration": 5,
    "start_time": "2023-12-29T14:17:38.069Z"
   },
   {
    "duration": 7,
    "start_time": "2023-12-29T14:17:38.075Z"
   },
   {
    "duration": 6,
    "start_time": "2023-12-29T14:17:38.084Z"
   },
   {
    "duration": 8,
    "start_time": "2023-12-29T14:17:38.115Z"
   },
   {
    "duration": 656,
    "start_time": "2023-12-29T14:17:38.125Z"
   },
   {
    "duration": 379,
    "start_time": "2023-12-29T14:17:38.783Z"
   },
   {
    "duration": 17,
    "start_time": "2023-12-29T14:17:39.164Z"
   },
   {
    "duration": 4,
    "start_time": "2023-12-29T14:17:39.182Z"
   },
   {
    "duration": 40,
    "start_time": "2023-12-29T14:17:39.187Z"
   },
   {
    "duration": 3,
    "start_time": "2023-12-29T14:17:39.228Z"
   },
   {
    "duration": 19,
    "start_time": "2023-12-29T14:17:39.233Z"
   },
   {
    "duration": 150,
    "start_time": "2023-12-29T14:17:39.254Z"
   },
   {
    "duration": 22,
    "start_time": "2023-12-29T14:17:39.406Z"
   },
   {
    "duration": 8,
    "start_time": "2023-12-29T14:17:39.430Z"
   },
   {
    "duration": 4,
    "start_time": "2023-12-29T14:17:39.439Z"
   },
   {
    "duration": 6,
    "start_time": "2023-12-29T14:17:39.445Z"
   },
   {
    "duration": 21,
    "start_time": "2023-12-29T14:17:39.452Z"
   },
   {
    "duration": 3,
    "start_time": "2023-12-29T14:17:39.475Z"
   },
   {
    "duration": 4,
    "start_time": "2023-12-29T14:17:39.480Z"
   },
   {
    "duration": 52,
    "start_time": "2023-12-29T14:17:39.486Z"
   },
   {
    "duration": 18,
    "start_time": "2023-12-29T14:17:39.539Z"
   },
   {
    "duration": 4,
    "start_time": "2023-12-29T14:17:39.558Z"
   },
   {
    "duration": 13,
    "start_time": "2023-12-29T14:17:39.563Z"
   },
   {
    "duration": 9,
    "start_time": "2023-12-29T14:17:39.577Z"
   },
   {
    "duration": 131,
    "start_time": "2023-12-29T14:17:39.587Z"
   },
   {
    "duration": 0,
    "start_time": "2023-12-29T14:17:39.720Z"
   },
   {
    "duration": 0,
    "start_time": "2023-12-29T14:17:39.721Z"
   },
   {
    "duration": 0,
    "start_time": "2023-12-29T14:17:39.722Z"
   },
   {
    "duration": 0,
    "start_time": "2023-12-29T14:17:39.723Z"
   },
   {
    "duration": 0,
    "start_time": "2023-12-29T14:17:39.725Z"
   },
   {
    "duration": 0,
    "start_time": "2023-12-29T14:17:39.726Z"
   },
   {
    "duration": 0,
    "start_time": "2023-12-29T14:17:39.727Z"
   },
   {
    "duration": 0,
    "start_time": "2023-12-29T14:17:39.729Z"
   },
   {
    "duration": 0,
    "start_time": "2023-12-29T14:17:39.730Z"
   },
   {
    "duration": 0,
    "start_time": "2023-12-29T14:17:39.731Z"
   },
   {
    "duration": 0,
    "start_time": "2023-12-29T14:17:39.732Z"
   },
   {
    "duration": 0,
    "start_time": "2023-12-29T14:17:39.733Z"
   },
   {
    "duration": 0,
    "start_time": "2023-12-29T14:17:39.734Z"
   },
   {
    "duration": 0,
    "start_time": "2023-12-29T14:17:39.735Z"
   },
   {
    "duration": 0,
    "start_time": "2023-12-29T14:17:39.736Z"
   },
   {
    "duration": 0,
    "start_time": "2023-12-29T14:17:39.737Z"
   },
   {
    "duration": 0,
    "start_time": "2023-12-29T14:17:39.738Z"
   },
   {
    "duration": 0,
    "start_time": "2023-12-29T14:17:39.739Z"
   },
   {
    "duration": 0,
    "start_time": "2023-12-29T14:17:39.740Z"
   },
   {
    "duration": 0,
    "start_time": "2023-12-29T14:17:39.741Z"
   },
   {
    "duration": 0,
    "start_time": "2023-12-29T14:17:39.742Z"
   },
   {
    "duration": 0,
    "start_time": "2023-12-29T14:17:39.743Z"
   },
   {
    "duration": 0,
    "start_time": "2023-12-29T14:17:39.744Z"
   },
   {
    "duration": 0,
    "start_time": "2023-12-29T14:17:39.744Z"
   },
   {
    "duration": 0,
    "start_time": "2023-12-29T14:17:39.746Z"
   },
   {
    "duration": 0,
    "start_time": "2023-12-29T14:17:39.747Z"
   },
   {
    "duration": 0,
    "start_time": "2023-12-29T14:17:39.748Z"
   },
   {
    "duration": 0,
    "start_time": "2023-12-29T14:17:39.749Z"
   },
   {
    "duration": 0,
    "start_time": "2023-12-29T14:17:39.750Z"
   },
   {
    "duration": 0,
    "start_time": "2023-12-29T14:17:39.751Z"
   },
   {
    "duration": 0,
    "start_time": "2023-12-29T14:17:39.752Z"
   },
   {
    "duration": 16571,
    "start_time": "2023-12-29T14:19:40.449Z"
   },
   {
    "duration": 9020,
    "start_time": "2023-12-29T14:20:59.246Z"
   },
   {
    "duration": 3064,
    "start_time": "2023-12-29T14:21:53.272Z"
   },
   {
    "duration": 30,
    "start_time": "2023-12-29T14:22:14.623Z"
   },
   {
    "duration": 3088,
    "start_time": "2023-12-29T14:23:14.094Z"
   },
   {
    "duration": 2993,
    "start_time": "2023-12-29T14:23:54.642Z"
   },
   {
    "duration": 18,
    "start_time": "2023-12-29T14:25:19.410Z"
   },
   {
    "duration": 16476,
    "start_time": "2023-12-29T14:25:28.022Z"
   },
   {
    "duration": 9003,
    "start_time": "2023-12-29T14:25:57.408Z"
   },
   {
    "duration": 13,
    "start_time": "2023-12-29T14:26:23.795Z"
   },
   {
    "duration": 12,
    "start_time": "2023-12-29T14:26:40.748Z"
   },
   {
    "duration": 3029,
    "start_time": "2023-12-29T14:29:51.804Z"
   },
   {
    "duration": 2338,
    "start_time": "2023-12-29T14:37:28.266Z"
   },
   {
    "duration": 1447,
    "start_time": "2023-12-29T14:37:30.607Z"
   },
   {
    "duration": 341,
    "start_time": "2023-12-29T14:37:32.055Z"
   },
   {
    "duration": 14,
    "start_time": "2023-12-29T14:37:32.398Z"
   },
   {
    "duration": 26,
    "start_time": "2023-12-29T14:37:32.413Z"
   },
   {
    "duration": 17,
    "start_time": "2023-12-29T14:37:32.441Z"
   },
   {
    "duration": 93,
    "start_time": "2023-12-29T14:37:32.459Z"
   },
   {
    "duration": 14,
    "start_time": "2023-12-29T14:37:32.554Z"
   },
   {
    "duration": 10,
    "start_time": "2023-12-29T14:37:32.569Z"
   },
   {
    "duration": 7,
    "start_time": "2023-12-29T14:37:32.581Z"
   },
   {
    "duration": 126,
    "start_time": "2023-12-29T14:37:32.590Z"
   },
   {
    "duration": 128,
    "start_time": "2023-12-29T14:37:32.718Z"
   },
   {
    "duration": 12,
    "start_time": "2023-12-29T14:37:32.849Z"
   },
   {
    "duration": 13,
    "start_time": "2023-12-29T14:37:32.863Z"
   },
   {
    "duration": 16,
    "start_time": "2023-12-29T14:37:32.877Z"
   },
   {
    "duration": 121,
    "start_time": "2023-12-29T14:37:32.895Z"
   },
   {
    "duration": 189,
    "start_time": "2023-12-29T14:37:33.017Z"
   },
   {
    "duration": 113,
    "start_time": "2023-12-29T14:37:33.207Z"
   },
   {
    "duration": 7,
    "start_time": "2023-12-29T14:37:33.321Z"
   },
   {
    "duration": 121,
    "start_time": "2023-12-29T14:37:33.329Z"
   },
   {
    "duration": 2,
    "start_time": "2023-12-29T14:37:33.451Z"
   },
   {
    "duration": 12,
    "start_time": "2023-12-29T14:37:33.455Z"
   },
   {
    "duration": 48,
    "start_time": "2023-12-29T14:37:33.468Z"
   },
   {
    "duration": 3,
    "start_time": "2023-12-29T14:37:33.517Z"
   },
   {
    "duration": 25,
    "start_time": "2023-12-29T14:37:33.522Z"
   },
   {
    "duration": 27,
    "start_time": "2023-12-29T14:37:33.549Z"
   },
   {
    "duration": 12,
    "start_time": "2023-12-29T14:37:33.578Z"
   },
   {
    "duration": 14,
    "start_time": "2023-12-29T14:37:33.594Z"
   },
   {
    "duration": 10,
    "start_time": "2023-12-29T14:37:33.610Z"
   },
   {
    "duration": 17,
    "start_time": "2023-12-29T14:37:33.621Z"
   },
   {
    "duration": 3,
    "start_time": "2023-12-29T14:37:33.640Z"
   },
   {
    "duration": 13,
    "start_time": "2023-12-29T14:37:33.645Z"
   },
   {
    "duration": 624,
    "start_time": "2023-12-29T14:37:33.659Z"
   },
   {
    "duration": 379,
    "start_time": "2023-12-29T14:37:34.285Z"
   },
   {
    "duration": 14,
    "start_time": "2023-12-29T14:37:34.666Z"
   },
   {
    "duration": 4,
    "start_time": "2023-12-29T14:37:34.682Z"
   },
   {
    "duration": 36,
    "start_time": "2023-12-29T14:37:34.687Z"
   },
   {
    "duration": 3,
    "start_time": "2023-12-29T14:37:34.724Z"
   },
   {
    "duration": 24,
    "start_time": "2023-12-29T14:37:34.728Z"
   },
   {
    "duration": 152,
    "start_time": "2023-12-29T14:37:34.754Z"
   },
   {
    "duration": 114,
    "start_time": "2023-12-29T14:37:34.908Z"
   },
   {
    "duration": 0,
    "start_time": "2023-12-29T14:37:35.024Z"
   },
   {
    "duration": 0,
    "start_time": "2023-12-29T14:37:35.026Z"
   },
   {
    "duration": 0,
    "start_time": "2023-12-29T14:37:35.027Z"
   },
   {
    "duration": 0,
    "start_time": "2023-12-29T14:37:35.029Z"
   },
   {
    "duration": 0,
    "start_time": "2023-12-29T14:37:35.030Z"
   },
   {
    "duration": 0,
    "start_time": "2023-12-29T14:37:35.031Z"
   },
   {
    "duration": 0,
    "start_time": "2023-12-29T14:37:35.032Z"
   },
   {
    "duration": 0,
    "start_time": "2023-12-29T14:37:35.034Z"
   },
   {
    "duration": 0,
    "start_time": "2023-12-29T14:37:35.035Z"
   },
   {
    "duration": 0,
    "start_time": "2023-12-29T14:37:35.036Z"
   },
   {
    "duration": 0,
    "start_time": "2023-12-29T14:37:35.038Z"
   },
   {
    "duration": 0,
    "start_time": "2023-12-29T14:37:35.039Z"
   },
   {
    "duration": 0,
    "start_time": "2023-12-29T14:37:35.040Z"
   },
   {
    "duration": 0,
    "start_time": "2023-12-29T14:37:35.042Z"
   },
   {
    "duration": 0,
    "start_time": "2023-12-29T14:37:35.044Z"
   },
   {
    "duration": 0,
    "start_time": "2023-12-29T14:37:35.045Z"
   },
   {
    "duration": 0,
    "start_time": "2023-12-29T14:37:35.046Z"
   },
   {
    "duration": 0,
    "start_time": "2023-12-29T14:37:35.047Z"
   },
   {
    "duration": 0,
    "start_time": "2023-12-29T14:37:35.049Z"
   },
   {
    "duration": 0,
    "start_time": "2023-12-29T14:37:35.050Z"
   },
   {
    "duration": 0,
    "start_time": "2023-12-29T14:37:35.051Z"
   },
   {
    "duration": 0,
    "start_time": "2023-12-29T14:37:35.052Z"
   },
   {
    "duration": 0,
    "start_time": "2023-12-29T14:37:35.054Z"
   },
   {
    "duration": 0,
    "start_time": "2023-12-29T14:37:35.055Z"
   },
   {
    "duration": 0,
    "start_time": "2023-12-29T14:37:35.056Z"
   },
   {
    "duration": 0,
    "start_time": "2023-12-29T14:37:35.057Z"
   },
   {
    "duration": 0,
    "start_time": "2023-12-29T14:37:35.058Z"
   },
   {
    "duration": 0,
    "start_time": "2023-12-29T14:37:35.059Z"
   },
   {
    "duration": 0,
    "start_time": "2023-12-29T14:37:35.115Z"
   },
   {
    "duration": 0,
    "start_time": "2023-12-29T14:37:35.116Z"
   },
   {
    "duration": 0,
    "start_time": "2023-12-29T14:37:35.117Z"
   },
   {
    "duration": 0,
    "start_time": "2023-12-29T14:37:35.119Z"
   },
   {
    "duration": 0,
    "start_time": "2023-12-29T14:37:35.119Z"
   },
   {
    "duration": 0,
    "start_time": "2023-12-29T14:37:35.120Z"
   },
   {
    "duration": 0,
    "start_time": "2023-12-29T14:37:35.121Z"
   },
   {
    "duration": 0,
    "start_time": "2023-12-29T14:37:35.122Z"
   },
   {
    "duration": 0,
    "start_time": "2023-12-29T14:37:35.123Z"
   },
   {
    "duration": 0,
    "start_time": "2023-12-29T14:37:35.124Z"
   },
   {
    "duration": 0,
    "start_time": "2023-12-29T14:37:35.125Z"
   },
   {
    "duration": 0,
    "start_time": "2023-12-29T14:37:35.126Z"
   },
   {
    "duration": 0,
    "start_time": "2023-12-29T14:37:35.127Z"
   },
   {
    "duration": 2345,
    "start_time": "2023-12-29T14:37:56.140Z"
   },
   {
    "duration": 1377,
    "start_time": "2023-12-29T14:37:58.487Z"
   },
   {
    "duration": 206,
    "start_time": "2023-12-29T14:37:59.865Z"
   },
   {
    "duration": 16,
    "start_time": "2023-12-29T14:38:00.073Z"
   },
   {
    "duration": 53,
    "start_time": "2023-12-29T14:38:00.091Z"
   },
   {
    "duration": 85,
    "start_time": "2023-12-29T14:38:00.146Z"
   },
   {
    "duration": 145,
    "start_time": "2023-12-29T14:38:00.233Z"
   },
   {
    "duration": 15,
    "start_time": "2023-12-29T14:38:00.380Z"
   },
   {
    "duration": 18,
    "start_time": "2023-12-29T14:38:00.397Z"
   },
   {
    "duration": 46,
    "start_time": "2023-12-29T14:38:00.418Z"
   },
   {
    "duration": 116,
    "start_time": "2023-12-29T14:38:00.466Z"
   },
   {
    "duration": 117,
    "start_time": "2023-12-29T14:38:00.584Z"
   },
   {
    "duration": 15,
    "start_time": "2023-12-29T14:38:00.703Z"
   },
   {
    "duration": 40,
    "start_time": "2023-12-29T14:38:00.719Z"
   },
   {
    "duration": 30,
    "start_time": "2023-12-29T14:38:00.760Z"
   },
   {
    "duration": 148,
    "start_time": "2023-12-29T14:38:00.792Z"
   },
   {
    "duration": 187,
    "start_time": "2023-12-29T14:38:00.942Z"
   },
   {
    "duration": 116,
    "start_time": "2023-12-29T14:38:01.131Z"
   },
   {
    "duration": 7,
    "start_time": "2023-12-29T14:38:01.248Z"
   },
   {
    "duration": 150,
    "start_time": "2023-12-29T14:38:01.256Z"
   },
   {
    "duration": 8,
    "start_time": "2023-12-29T14:38:01.407Z"
   },
   {
    "duration": 73,
    "start_time": "2023-12-29T14:38:01.416Z"
   },
   {
    "duration": 67,
    "start_time": "2023-12-29T14:38:01.490Z"
   },
   {
    "duration": 40,
    "start_time": "2023-12-29T14:38:01.559Z"
   },
   {
    "duration": 75,
    "start_time": "2023-12-29T14:38:01.601Z"
   },
   {
    "duration": 35,
    "start_time": "2023-12-29T14:38:01.678Z"
   },
   {
    "duration": 29,
    "start_time": "2023-12-29T14:38:01.714Z"
   },
   {
    "duration": 40,
    "start_time": "2023-12-29T14:38:01.747Z"
   },
   {
    "duration": 19,
    "start_time": "2023-12-29T14:38:01.789Z"
   },
   {
    "duration": 26,
    "start_time": "2023-12-29T14:38:01.810Z"
   },
   {
    "duration": 27,
    "start_time": "2023-12-29T14:38:01.837Z"
   },
   {
    "duration": 42,
    "start_time": "2023-12-29T14:38:01.865Z"
   },
   {
    "duration": 669,
    "start_time": "2023-12-29T14:38:01.908Z"
   },
   {
    "duration": 377,
    "start_time": "2023-12-29T14:38:02.579Z"
   },
   {
    "duration": 14,
    "start_time": "2023-12-29T14:38:02.958Z"
   },
   {
    "duration": 4,
    "start_time": "2023-12-29T14:38:02.974Z"
   },
   {
    "duration": 38,
    "start_time": "2023-12-29T14:38:02.980Z"
   },
   {
    "duration": 3,
    "start_time": "2023-12-29T14:38:03.019Z"
   },
   {
    "duration": 22,
    "start_time": "2023-12-29T14:38:03.023Z"
   },
   {
    "duration": 3,
    "start_time": "2023-12-29T14:38:03.046Z"
   },
   {
    "duration": 0,
    "start_time": "2023-12-29T14:38:03.050Z"
   },
   {
    "duration": 0,
    "start_time": "2023-12-29T14:38:03.051Z"
   },
   {
    "duration": 0,
    "start_time": "2023-12-29T14:38:03.052Z"
   },
   {
    "duration": 0,
    "start_time": "2023-12-29T14:38:03.053Z"
   },
   {
    "duration": 0,
    "start_time": "2023-12-29T14:38:03.054Z"
   },
   {
    "duration": 0,
    "start_time": "2023-12-29T14:38:03.055Z"
   },
   {
    "duration": 0,
    "start_time": "2023-12-29T14:38:03.056Z"
   },
   {
    "duration": 0,
    "start_time": "2023-12-29T14:38:03.057Z"
   },
   {
    "duration": 0,
    "start_time": "2023-12-29T14:38:03.058Z"
   },
   {
    "duration": 0,
    "start_time": "2023-12-29T14:38:03.186Z"
   },
   {
    "duration": 0,
    "start_time": "2023-12-29T14:38:03.186Z"
   },
   {
    "duration": 0,
    "start_time": "2023-12-29T14:38:03.187Z"
   },
   {
    "duration": 0,
    "start_time": "2023-12-29T14:38:03.188Z"
   },
   {
    "duration": 0,
    "start_time": "2023-12-29T14:38:03.190Z"
   },
   {
    "duration": 0,
    "start_time": "2023-12-29T14:38:03.190Z"
   },
   {
    "duration": 0,
    "start_time": "2023-12-29T14:38:03.191Z"
   },
   {
    "duration": 0,
    "start_time": "2023-12-29T14:38:03.192Z"
   },
   {
    "duration": 0,
    "start_time": "2023-12-29T14:38:03.193Z"
   },
   {
    "duration": 0,
    "start_time": "2023-12-29T14:38:03.194Z"
   },
   {
    "duration": 0,
    "start_time": "2023-12-29T14:38:03.195Z"
   },
   {
    "duration": 0,
    "start_time": "2023-12-29T14:38:03.196Z"
   },
   {
    "duration": 0,
    "start_time": "2023-12-29T14:38:03.197Z"
   },
   {
    "duration": 0,
    "start_time": "2023-12-29T14:38:03.214Z"
   },
   {
    "duration": 0,
    "start_time": "2023-12-29T14:38:03.215Z"
   },
   {
    "duration": 0,
    "start_time": "2023-12-29T14:38:03.216Z"
   },
   {
    "duration": 0,
    "start_time": "2023-12-29T14:38:03.217Z"
   },
   {
    "duration": 0,
    "start_time": "2023-12-29T14:38:03.218Z"
   },
   {
    "duration": 0,
    "start_time": "2023-12-29T14:38:03.219Z"
   },
   {
    "duration": 0,
    "start_time": "2023-12-29T14:38:03.219Z"
   },
   {
    "duration": 0,
    "start_time": "2023-12-29T14:38:03.220Z"
   },
   {
    "duration": 0,
    "start_time": "2023-12-29T14:38:03.221Z"
   },
   {
    "duration": 0,
    "start_time": "2023-12-29T14:38:03.222Z"
   },
   {
    "duration": 0,
    "start_time": "2023-12-29T14:38:03.223Z"
   },
   {
    "duration": 0,
    "start_time": "2023-12-29T14:38:03.224Z"
   },
   {
    "duration": 0,
    "start_time": "2023-12-29T14:38:03.224Z"
   },
   {
    "duration": 0,
    "start_time": "2023-12-29T14:38:03.226Z"
   },
   {
    "duration": 0,
    "start_time": "2023-12-29T14:38:03.227Z"
   },
   {
    "duration": 0,
    "start_time": "2023-12-29T14:38:03.227Z"
   },
   {
    "duration": 0,
    "start_time": "2023-12-29T14:38:03.228Z"
   },
   {
    "duration": 0,
    "start_time": "2023-12-29T14:38:03.229Z"
   },
   {
    "duration": 0,
    "start_time": "2023-12-29T14:38:03.230Z"
   },
   {
    "duration": 0,
    "start_time": "2023-12-29T14:38:03.231Z"
   },
   {
    "duration": 52,
    "start_time": "2023-12-29T14:38:09.851Z"
   },
   {
    "duration": 10,
    "start_time": "2023-12-29T14:38:18.471Z"
   },
   {
    "duration": 8,
    "start_time": "2023-12-29T14:38:20.516Z"
   },
   {
    "duration": 4,
    "start_time": "2023-12-29T14:38:22.768Z"
   },
   {
    "duration": 14,
    "start_time": "2023-12-29T14:38:24.279Z"
   },
   {
    "duration": 4,
    "start_time": "2023-12-29T14:38:25.615Z"
   },
   {
    "duration": 6,
    "start_time": "2023-12-29T14:38:26.341Z"
   },
   {
    "duration": 24,
    "start_time": "2023-12-29T14:38:27.026Z"
   },
   {
    "duration": 22,
    "start_time": "2023-12-29T14:38:29.246Z"
   },
   {
    "duration": 6,
    "start_time": "2023-12-29T14:38:29.680Z"
   },
   {
    "duration": 2407,
    "start_time": "2023-12-29T14:39:21.104Z"
   },
   {
    "duration": 1373,
    "start_time": "2023-12-29T14:39:23.513Z"
   },
   {
    "duration": 208,
    "start_time": "2023-12-29T14:39:24.888Z"
   },
   {
    "duration": 14,
    "start_time": "2023-12-29T14:39:25.097Z"
   },
   {
    "duration": 11,
    "start_time": "2023-12-29T14:39:25.113Z"
   },
   {
    "duration": 27,
    "start_time": "2023-12-29T14:39:25.125Z"
   },
   {
    "duration": 95,
    "start_time": "2023-12-29T14:39:25.154Z"
   },
   {
    "duration": 15,
    "start_time": "2023-12-29T14:39:25.251Z"
   },
   {
    "duration": 10,
    "start_time": "2023-12-29T14:39:25.267Z"
   },
   {
    "duration": 8,
    "start_time": "2023-12-29T14:39:25.280Z"
   },
   {
    "duration": 137,
    "start_time": "2023-12-29T14:39:25.290Z"
   },
   {
    "duration": 122,
    "start_time": "2023-12-29T14:39:25.429Z"
   },
   {
    "duration": 10,
    "start_time": "2023-12-29T14:39:25.553Z"
   },
   {
    "duration": 11,
    "start_time": "2023-12-29T14:39:25.564Z"
   },
   {
    "duration": 16,
    "start_time": "2023-12-29T14:39:25.576Z"
   },
   {
    "duration": 141,
    "start_time": "2023-12-29T14:39:25.594Z"
   },
   {
    "duration": 215,
    "start_time": "2023-12-29T14:39:25.737Z"
   },
   {
    "duration": 113,
    "start_time": "2023-12-29T14:39:25.954Z"
   },
   {
    "duration": 8,
    "start_time": "2023-12-29T14:39:26.068Z"
   },
   {
    "duration": 124,
    "start_time": "2023-12-29T14:39:26.077Z"
   },
   {
    "duration": 3,
    "start_time": "2023-12-29T14:39:26.203Z"
   },
   {
    "duration": 13,
    "start_time": "2023-12-29T14:39:26.215Z"
   },
   {
    "duration": 25,
    "start_time": "2023-12-29T14:39:26.229Z"
   },
   {
    "duration": 4,
    "start_time": "2023-12-29T14:39:26.255Z"
   },
   {
    "duration": 17,
    "start_time": "2023-12-29T14:39:26.260Z"
   },
   {
    "duration": 41,
    "start_time": "2023-12-29T14:39:26.279Z"
   },
   {
    "duration": 21,
    "start_time": "2023-12-29T14:39:26.322Z"
   },
   {
    "duration": 15,
    "start_time": "2023-12-29T14:39:26.349Z"
   },
   {
    "duration": 5,
    "start_time": "2023-12-29T14:39:26.366Z"
   },
   {
    "duration": 8,
    "start_time": "2023-12-29T14:39:26.372Z"
   },
   {
    "duration": 5,
    "start_time": "2023-12-29T14:39:26.382Z"
   },
   {
    "duration": 4,
    "start_time": "2023-12-29T14:39:26.414Z"
   },
   {
    "duration": 630,
    "start_time": "2023-12-29T14:39:26.420Z"
   },
   {
    "duration": 391,
    "start_time": "2023-12-29T14:39:27.052Z"
   },
   {
    "duration": 14,
    "start_time": "2023-12-29T14:39:27.445Z"
   },
   {
    "duration": 3,
    "start_time": "2023-12-29T14:39:27.461Z"
   },
   {
    "duration": 22,
    "start_time": "2023-12-29T14:39:27.466Z"
   },
   {
    "duration": 2,
    "start_time": "2023-12-29T14:39:27.490Z"
   },
   {
    "duration": 18,
    "start_time": "2023-12-29T14:39:27.514Z"
   },
   {
    "duration": 3,
    "start_time": "2023-12-29T14:39:27.533Z"
   },
   {
    "duration": 151,
    "start_time": "2023-12-29T14:39:27.537Z"
   },
   {
    "duration": 9,
    "start_time": "2023-12-29T14:39:27.689Z"
   },
   {
    "duration": 16,
    "start_time": "2023-12-29T14:39:27.700Z"
   },
   {
    "duration": 5,
    "start_time": "2023-12-29T14:39:27.717Z"
   },
   {
    "duration": 13,
    "start_time": "2023-12-29T14:39:27.723Z"
   },
   {
    "duration": 4,
    "start_time": "2023-12-29T14:39:27.737Z"
   },
   {
    "duration": 5,
    "start_time": "2023-12-29T14:39:27.742Z"
   },
   {
    "duration": 21,
    "start_time": "2023-12-29T14:39:27.748Z"
   },
   {
    "duration": 45,
    "start_time": "2023-12-29T14:39:27.770Z"
   },
   {
    "duration": 3,
    "start_time": "2023-12-29T14:39:27.817Z"
   },
   {
    "duration": 12,
    "start_time": "2023-12-29T14:39:27.822Z"
   },
   {
    "duration": 2261,
    "start_time": "2023-12-29T14:39:27.835Z"
   },
   {
    "duration": 6,
    "start_time": "2023-12-29T14:39:30.097Z"
   },
   {
    "duration": 29,
    "start_time": "2023-12-29T14:39:30.105Z"
   },
   {
    "duration": 26,
    "start_time": "2023-12-29T14:39:30.136Z"
   },
   {
    "duration": 74,
    "start_time": "2023-12-29T14:39:30.163Z"
   },
   {
    "duration": 59230,
    "start_time": "2023-12-29T14:39:30.239Z"
   },
   {
    "duration": 4,
    "start_time": "2023-12-29T14:40:29.470Z"
   },
   {
    "duration": 12,
    "start_time": "2023-12-29T14:40:29.476Z"
   },
   {
    "duration": 6,
    "start_time": "2023-12-29T14:40:29.490Z"
   },
   {
    "duration": 16,
    "start_time": "2023-12-29T14:40:29.497Z"
   },
   {
    "duration": 8,
    "start_time": "2023-12-29T14:40:29.515Z"
   },
   {
    "duration": 16,
    "start_time": "2023-12-29T14:40:29.525Z"
   },
   {
    "duration": 4,
    "start_time": "2023-12-29T14:40:29.543Z"
   },
   {
    "duration": 8,
    "start_time": "2023-12-29T14:40:29.549Z"
   },
   {
    "duration": 25,
    "start_time": "2023-12-29T14:40:29.559Z"
   },
   {
    "duration": 10,
    "start_time": "2023-12-29T14:40:29.586Z"
   },
   {
    "duration": 26,
    "start_time": "2023-12-29T14:40:29.614Z"
   },
   {
    "duration": 2,
    "start_time": "2023-12-29T14:40:29.642Z"
   },
   {
    "duration": 5,
    "start_time": "2023-12-29T14:40:29.645Z"
   },
   {
    "duration": 12,
    "start_time": "2023-12-29T14:40:29.651Z"
   },
   {
    "duration": 2389,
    "start_time": "2023-12-29T14:40:36.012Z"
   },
   {
    "duration": 1377,
    "start_time": "2023-12-29T14:40:38.403Z"
   },
   {
    "duration": 430,
    "start_time": "2023-12-29T14:40:39.782Z"
   },
   {
    "duration": 15,
    "start_time": "2023-12-29T14:40:40.214Z"
   },
   {
    "duration": 12,
    "start_time": "2023-12-29T14:40:40.231Z"
   },
   {
    "duration": 14,
    "start_time": "2023-12-29T14:40:40.245Z"
   },
   {
    "duration": 125,
    "start_time": "2023-12-29T14:40:40.261Z"
   },
   {
    "duration": 15,
    "start_time": "2023-12-29T14:40:40.387Z"
   },
   {
    "duration": 19,
    "start_time": "2023-12-29T14:40:40.403Z"
   },
   {
    "duration": 8,
    "start_time": "2023-12-29T14:40:40.424Z"
   },
   {
    "duration": 124,
    "start_time": "2023-12-29T14:40:40.433Z"
   },
   {
    "duration": 132,
    "start_time": "2023-12-29T14:40:40.559Z"
   },
   {
    "duration": 10,
    "start_time": "2023-12-29T14:40:40.693Z"
   },
   {
    "duration": 20,
    "start_time": "2023-12-29T14:40:40.705Z"
   },
   {
    "duration": 12,
    "start_time": "2023-12-29T14:40:40.726Z"
   },
   {
    "duration": 127,
    "start_time": "2023-12-29T14:40:40.740Z"
   },
   {
    "duration": 186,
    "start_time": "2023-12-29T14:40:40.868Z"
   },
   {
    "duration": 116,
    "start_time": "2023-12-29T14:40:41.055Z"
   },
   {
    "duration": 6,
    "start_time": "2023-12-29T14:40:41.172Z"
   },
   {
    "duration": 123,
    "start_time": "2023-12-29T14:40:41.180Z"
   },
   {
    "duration": 11,
    "start_time": "2023-12-29T14:40:41.304Z"
   },
   {
    "duration": 17,
    "start_time": "2023-12-29T14:40:41.316Z"
   },
   {
    "duration": 42,
    "start_time": "2023-12-29T14:40:41.335Z"
   },
   {
    "duration": 4,
    "start_time": "2023-12-29T14:40:41.378Z"
   },
   {
    "duration": 20,
    "start_time": "2023-12-29T14:40:41.383Z"
   },
   {
    "duration": 11,
    "start_time": "2023-12-29T14:40:41.404Z"
   },
   {
    "duration": 8,
    "start_time": "2023-12-29T14:40:41.416Z"
   },
   {
    "duration": 14,
    "start_time": "2023-12-29T14:40:41.428Z"
   },
   {
    "duration": 9,
    "start_time": "2023-12-29T14:40:41.443Z"
   },
   {
    "duration": 10,
    "start_time": "2023-12-29T14:40:41.453Z"
   },
   {
    "duration": 5,
    "start_time": "2023-12-29T14:40:41.464Z"
   },
   {
    "duration": 9,
    "start_time": "2023-12-29T14:40:41.470Z"
   },
   {
    "duration": 624,
    "start_time": "2023-12-29T14:40:41.480Z"
   },
   {
    "duration": 368,
    "start_time": "2023-12-29T14:40:42.106Z"
   },
   {
    "duration": 15,
    "start_time": "2023-12-29T14:40:42.475Z"
   },
   {
    "duration": 11,
    "start_time": "2023-12-29T14:40:42.491Z"
   },
   {
    "duration": 23,
    "start_time": "2023-12-29T14:40:42.504Z"
   },
   {
    "duration": 3,
    "start_time": "2023-12-29T14:40:42.528Z"
   },
   {
    "duration": 19,
    "start_time": "2023-12-29T14:40:42.532Z"
   },
   {
    "duration": 161,
    "start_time": "2023-12-29T14:40:42.552Z"
   },
   {
    "duration": 17,
    "start_time": "2023-12-29T14:40:42.714Z"
   },
   {
    "duration": 8,
    "start_time": "2023-12-29T14:40:42.732Z"
   },
   {
    "duration": 4,
    "start_time": "2023-12-29T14:40:42.741Z"
   },
   {
    "duration": 5,
    "start_time": "2023-12-29T14:40:42.747Z"
   },
   {
    "duration": 12,
    "start_time": "2023-12-29T14:40:42.754Z"
   },
   {
    "duration": 3,
    "start_time": "2023-12-29T14:40:42.768Z"
   },
   {
    "duration": 16,
    "start_time": "2023-12-29T14:40:42.772Z"
   },
   {
    "duration": 20,
    "start_time": "2023-12-29T14:40:42.815Z"
   },
   {
    "duration": 18,
    "start_time": "2023-12-29T14:40:42.837Z"
   },
   {
    "duration": 4,
    "start_time": "2023-12-29T14:40:42.857Z"
   },
   {
    "duration": 5,
    "start_time": "2023-12-29T14:40:42.863Z"
   },
   {
    "duration": 3110,
    "start_time": "2023-12-29T14:40:42.869Z"
   },
   {
    "duration": 6,
    "start_time": "2023-12-29T14:40:45.981Z"
   },
   {
    "duration": 5,
    "start_time": "2023-12-29T14:40:45.989Z"
   },
   {
    "duration": 20,
    "start_time": "2023-12-29T14:40:45.995Z"
   },
   {
    "duration": 4,
    "start_time": "2023-12-29T14:40:46.016Z"
   },
   {
    "duration": 59904,
    "start_time": "2023-12-29T14:40:46.022Z"
   },
   {
    "duration": 5,
    "start_time": "2023-12-29T14:41:45.928Z"
   },
   {
    "duration": 5,
    "start_time": "2023-12-29T14:41:45.935Z"
   },
   {
    "duration": 4,
    "start_time": "2023-12-29T14:41:45.942Z"
   },
   {
    "duration": 3,
    "start_time": "2023-12-29T14:41:45.948Z"
   },
   {
    "duration": 9,
    "start_time": "2023-12-29T14:41:45.952Z"
   },
   {
    "duration": 9,
    "start_time": "2023-12-29T14:41:45.963Z"
   },
   {
    "duration": 4,
    "start_time": "2023-12-29T14:41:45.973Z"
   },
   {
    "duration": 37,
    "start_time": "2023-12-29T14:41:45.978Z"
   },
   {
    "duration": 27,
    "start_time": "2023-12-29T14:41:46.016Z"
   },
   {
    "duration": 10,
    "start_time": "2023-12-29T14:41:46.044Z"
   },
   {
    "duration": 28,
    "start_time": "2023-12-29T14:41:46.055Z"
   },
   {
    "duration": 31,
    "start_time": "2023-12-29T14:41:46.085Z"
   },
   {
    "duration": 6,
    "start_time": "2023-12-29T14:41:46.118Z"
   },
   {
    "duration": 10,
    "start_time": "2023-12-29T14:41:46.126Z"
   },
   {
    "duration": 473336,
    "start_time": "2023-12-29T14:41:46.138Z"
   },
   {
    "duration": 5,
    "start_time": "2023-12-29T14:49:39.475Z"
   },
   {
    "duration": 38,
    "start_time": "2023-12-29T14:49:39.481Z"
   },
   {
    "duration": 3,
    "start_time": "2023-12-29T14:49:39.520Z"
   },
   {
    "duration": 29,
    "start_time": "2023-12-29T14:49:39.525Z"
   },
   {
    "duration": 13,
    "start_time": "2023-12-29T14:49:39.556Z"
   },
   {
    "duration": 145,
    "start_time": "2023-12-29T14:49:39.571Z"
   },
   {
    "duration": 5,
    "start_time": "2023-12-29T14:49:39.717Z"
   },
   {
    "duration": 6,
    "start_time": "2023-12-29T14:49:39.723Z"
   },
   {
    "duration": 143,
    "start_time": "2023-12-29T14:49:39.731Z"
   },
   {
    "duration": 9,
    "start_time": "2023-12-29T14:49:39.879Z"
   },
   {
    "duration": 3,
    "start_time": "2023-12-29T14:51:21.544Z"
   },
   {
    "duration": 2329,
    "start_time": "2023-12-29T14:51:40.147Z"
   },
   {
    "duration": 1290,
    "start_time": "2023-12-29T14:51:42.478Z"
   },
   {
    "duration": 225,
    "start_time": "2023-12-29T14:51:43.769Z"
   },
   {
    "duration": 14,
    "start_time": "2023-12-29T14:51:43.995Z"
   },
   {
    "duration": 11,
    "start_time": "2023-12-29T14:51:44.011Z"
   },
   {
    "duration": 11,
    "start_time": "2023-12-29T14:51:44.024Z"
   },
   {
    "duration": 107,
    "start_time": "2023-12-29T14:51:44.037Z"
   },
   {
    "duration": 14,
    "start_time": "2023-12-29T14:51:44.146Z"
   },
   {
    "duration": 10,
    "start_time": "2023-12-29T14:51:44.161Z"
   },
   {
    "duration": 7,
    "start_time": "2023-12-29T14:51:44.172Z"
   },
   {
    "duration": 143,
    "start_time": "2023-12-29T14:51:44.180Z"
   },
   {
    "duration": 121,
    "start_time": "2023-12-29T14:51:44.325Z"
   },
   {
    "duration": 9,
    "start_time": "2023-12-29T14:51:44.448Z"
   },
   {
    "duration": 11,
    "start_time": "2023-12-29T14:51:44.460Z"
   },
   {
    "duration": 13,
    "start_time": "2023-12-29T14:51:44.473Z"
   },
   {
    "duration": 129,
    "start_time": "2023-12-29T14:51:44.487Z"
   },
   {
    "duration": 201,
    "start_time": "2023-12-29T14:51:44.618Z"
   },
   {
    "duration": 119,
    "start_time": "2023-12-29T14:51:44.820Z"
   },
   {
    "duration": 7,
    "start_time": "2023-12-29T14:51:44.941Z"
   },
   {
    "duration": 135,
    "start_time": "2023-12-29T14:51:44.950Z"
   },
   {
    "duration": 2,
    "start_time": "2023-12-29T14:51:45.087Z"
   },
   {
    "duration": 36,
    "start_time": "2023-12-29T14:51:45.091Z"
   },
   {
    "duration": 57,
    "start_time": "2023-12-29T14:51:45.128Z"
   },
   {
    "duration": 51,
    "start_time": "2023-12-29T14:51:45.187Z"
   },
   {
    "duration": 47,
    "start_time": "2023-12-29T14:51:45.239Z"
   },
   {
    "duration": 52,
    "start_time": "2023-12-29T14:51:45.287Z"
   },
   {
    "duration": 49,
    "start_time": "2023-12-29T14:51:45.341Z"
   },
   {
    "duration": 41,
    "start_time": "2023-12-29T14:51:45.392Z"
   },
   {
    "duration": 17,
    "start_time": "2023-12-29T14:51:45.434Z"
   },
   {
    "duration": 24,
    "start_time": "2023-12-29T14:51:45.453Z"
   },
   {
    "duration": 9,
    "start_time": "2023-12-29T14:51:45.479Z"
   },
   {
    "duration": 18,
    "start_time": "2023-12-29T14:51:45.490Z"
   },
   {
    "duration": 665,
    "start_time": "2023-12-29T14:51:45.510Z"
   },
   {
    "duration": 373,
    "start_time": "2023-12-29T14:51:46.176Z"
   },
   {
    "duration": 15,
    "start_time": "2023-12-29T14:51:46.551Z"
   },
   {
    "duration": 5,
    "start_time": "2023-12-29T14:51:46.568Z"
   },
   {
    "duration": 41,
    "start_time": "2023-12-29T14:51:46.575Z"
   },
   {
    "duration": 3,
    "start_time": "2023-12-29T14:51:46.618Z"
   },
   {
    "duration": 123,
    "start_time": "2023-12-29T14:51:46.623Z"
   },
   {
    "duration": 19,
    "start_time": "2023-12-29T14:51:46.748Z"
   },
   {
    "duration": 17,
    "start_time": "2023-12-29T14:51:46.772Z"
   },
   {
    "duration": 27,
    "start_time": "2023-12-29T14:51:46.791Z"
   },
   {
    "duration": 4,
    "start_time": "2023-12-29T14:51:46.820Z"
   },
   {
    "duration": 7,
    "start_time": "2023-12-29T14:51:46.826Z"
   },
   {
    "duration": 16,
    "start_time": "2023-12-29T14:51:46.834Z"
   },
   {
    "duration": 4,
    "start_time": "2023-12-29T14:51:46.851Z"
   },
   {
    "duration": 6,
    "start_time": "2023-12-29T14:51:46.857Z"
   },
   {
    "duration": 35,
    "start_time": "2023-12-29T14:51:46.864Z"
   },
   {
    "duration": 19,
    "start_time": "2023-12-29T14:51:46.914Z"
   },
   {
    "duration": 4,
    "start_time": "2023-12-29T14:51:46.934Z"
   },
   {
    "duration": 8,
    "start_time": "2023-12-29T14:51:46.939Z"
   },
   {
    "duration": 3056,
    "start_time": "2023-12-29T14:51:46.948Z"
   },
   {
    "duration": 10,
    "start_time": "2023-12-29T14:51:50.005Z"
   },
   {
    "duration": 64,
    "start_time": "2023-12-29T14:51:50.017Z"
   },
   {
    "duration": 47,
    "start_time": "2023-12-29T14:51:50.082Z"
   },
   {
    "duration": 28,
    "start_time": "2023-12-29T14:51:50.131Z"
   },
   {
    "duration": 59745,
    "start_time": "2023-12-29T14:51:50.160Z"
   },
   {
    "duration": 9,
    "start_time": "2023-12-29T14:52:49.907Z"
   },
   {
    "duration": 13,
    "start_time": "2023-12-29T14:52:49.918Z"
   },
   {
    "duration": 4,
    "start_time": "2023-12-29T14:52:49.933Z"
   },
   {
    "duration": 5,
    "start_time": "2023-12-29T14:52:49.939Z"
   },
   {
    "duration": 14,
    "start_time": "2023-12-29T14:52:49.945Z"
   },
   {
    "duration": 17,
    "start_time": "2023-12-29T14:52:49.960Z"
   },
   {
    "duration": 6,
    "start_time": "2023-12-29T14:52:49.978Z"
   },
   {
    "duration": 9,
    "start_time": "2023-12-29T14:52:49.986Z"
   },
   {
    "duration": 35,
    "start_time": "2023-12-29T14:52:49.996Z"
   },
   {
    "duration": 10,
    "start_time": "2023-12-29T14:52:50.032Z"
   },
   {
    "duration": 35,
    "start_time": "2023-12-29T14:52:50.043Z"
   },
   {
    "duration": 5,
    "start_time": "2023-12-29T14:52:50.080Z"
   },
   {
    "duration": 14,
    "start_time": "2023-12-29T14:52:50.087Z"
   },
   {
    "duration": 12,
    "start_time": "2023-12-29T14:52:50.103Z"
   },
   {
    "duration": 475543,
    "start_time": "2023-12-29T14:52:50.117Z"
   },
   {
    "duration": 5,
    "start_time": "2023-12-29T15:00:45.662Z"
   },
   {
    "duration": 50,
    "start_time": "2023-12-29T15:00:45.668Z"
   },
   {
    "duration": 6,
    "start_time": "2023-12-29T15:00:45.720Z"
   },
   {
    "duration": 24,
    "start_time": "2023-12-29T15:00:45.727Z"
   },
   {
    "duration": 17,
    "start_time": "2023-12-29T15:00:45.753Z"
   },
   {
    "duration": 173,
    "start_time": "2023-12-29T15:00:45.772Z"
   },
   {
    "duration": 6,
    "start_time": "2023-12-29T15:00:45.946Z"
   },
   {
    "duration": 8,
    "start_time": "2023-12-29T15:00:45.953Z"
   },
   {
    "duration": 155,
    "start_time": "2023-12-29T15:00:45.962Z"
   },
   {
    "duration": 9,
    "start_time": "2023-12-29T15:00:46.118Z"
   }
  ],
  "kernelspec": {
   "display_name": "Python 3 (ipykernel)",
   "language": "python",
   "name": "python3"
  },
  "language_info": {
   "codemirror_mode": {
    "name": "ipython",
    "version": 3
   },
   "file_extension": ".py",
   "mimetype": "text/x-python",
   "name": "python",
   "nbconvert_exporter": "python",
   "pygments_lexer": "ipython3",
   "version": "3.11.3"
  },
  "toc": {
   "base_numbering": 1,
   "nav_menu": {},
   "number_sections": true,
   "sideBar": true,
   "skip_h1_title": true,
   "title_cell": "Table of Contents",
   "title_sidebar": "Contents",
   "toc_cell": false,
   "toc_position": {},
   "toc_section_display": true,
   "toc_window_display": false
  }
 },
 "nbformat": 4,
 "nbformat_minor": 5
}
